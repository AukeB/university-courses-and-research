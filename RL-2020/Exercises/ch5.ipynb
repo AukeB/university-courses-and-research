{
 "cells": [
  {
   "cell_type": "markdown",
   "metadata": {},
   "source": [
    "# Chapter 5: Adaptive Sampling - Questions"
   ]
  },
  {
   "cell_type": "markdown",
   "metadata": {},
   "source": [
    "### 1. How are go players ranked?"
   ]
  },
  {
   "cell_type": "markdown",
   "metadata": {},
   "source": [
    "**Answer**: There is a traditional system of dan and kyu ranks. Kyu ranks are considered student ranks, Dan ranks are considered master ranks. Beginners who just started the game are 30 kyu. If someone reaches 1 kyu, and advances 1 more level, he/she will be 1 dan, and from then on will go upwards. See https://en.wikipedia.org/wiki/Go_ranks_and_ratings for more information."
   ]
  },
  {
   "cell_type": "markdown",
   "metadata": {},
   "source": [
    "### 2. What is the difference between tactics and strategy in games?"
   ]
  },
  {
   "cell_type": "markdown",
   "metadata": {},
   "source": [
    "**Answer**: Strategy defines your long-term goal and how you're planning to achieve them (long-term). Tactics describes the specific actions you will take to reach that goal (short-term)."
   ]
  },
  {
   "cell_type": "markdown",
   "metadata": {},
   "source": [
    "### 3. What is the difference between exponential and polynomial time complexity? Can you name an algorithm for each?"
   ]
  },
  {
   "cell_type": "markdown",
   "metadata": {},
   "source": [
    "**Answer**: \n",
    "\n",
    "Exponential: Alpha-beta\n",
    "Polynomial: MCTS"
   ]
  },
  {
   "cell_type": "markdown",
   "metadata": {},
   "source": [
    "### 4. What are the four steps in MCTS?"
   ]
  },
  {
   "cell_type": "markdown",
   "metadata": {},
   "source": [
    "**Answer**:\n",
    "\n",
    "1. Select\n",
    "2. Expand\n",
    "3. Playout. Sometimes goes by the names rollout and simulation.\n",
    "4. Back-propagate. Sometimes called backup."
   ]
  },
  {
   "cell_type": "markdown",
   "metadata": {},
   "source": [
    "### 5. Describe two advantages of MCTS over rigid heuristic planning."
   ]
  },
  {
   "cell_type": "markdown",
   "metadata": {},
   "source": [
    "**Answer**:\n",
    "\n",
    "1. The state space is traversed iteratively, the tree data structure is built in a step by step fashion, node by node.\n",
    "2. It is not exponential in its time complexity."
   ]
  },
  {
   "cell_type": "markdown",
   "metadata": {},
   "source": [
    "### 6. How is MCTS recursive?"
   ]
  },
  {
   "cell_type": "markdown",
   "metadata": {},
   "source": [
    "**Answer**: It constantly goes through the 4 steps. So after the backpropogation it starts with select again. While in this process the win rate $w$ and visit rate $v$ are constantly updated and the selection rule decides the exploration/exploitation question."
   ]
  },
  {
   "cell_type": "markdown",
   "metadata": {},
   "source": [
    "### 7. Describe the function of each of the four operations of MCTS"
   ]
  },
  {
   "cell_type": "markdown",
   "metadata": {},
   "source": [
    "**Answer**:\n",
    "\n",
    "- **Select**: A new child node is selected. It starts at the root and traverse the tree down until a new node is reached which is not part of the tree yet. At each node a selection rule is followed.\n",
    "\n",
    "- **Expand**: A child is added to the tree.\n",
    "\n",
    "- **Playout**: Moves are played until the end of the game is reached. A win means $+1$ and a loss means $-1$ and a draw means $0$.\n",
    "\n",
    "- **Back-progagate**: The reward $r$ is propagated back upwards in the tree. Two counts are updated: the win count $w$ and the visit count $v$."
   ]
  },
  {
   "cell_type": "markdown",
   "metadata": {},
   "source": [
    "### 8. Give the UCT formula."
   ]
  },
  {
   "cell_type": "markdown",
   "metadata": {},
   "source": [
    "**Answer**:\n",
    "\n",
    "$$ \\text{UCT}(j) = \\frac{w_j}{n_j} + C_p \\sqrt{\\frac{\\ln n}{n_j}} $$"
   ]
  },
  {
   "cell_type": "markdown",
   "metadata": {},
   "source": [
    "### 9. How does UCT achieve trading off exploration and exploitation, which inputs does it use?"
   ]
  },
  {
   "cell_type": "markdown",
   "metadata": {},
   "source": [
    "**Answer**: It has as input the win rate $w$ and visit rate $v$ of the child and the father. The first term, $\\frac{w_j}{n_j}$ is the winrate and is for exploitation. The second term, $\\sqrt{\\frac{\\ln n}{n_j}}$, is the newness term and is for exploration. The parameter $C_p$ is the tuneable exploration/exploitation parameter. The selection rule then is to select the child with the hightest UCT value. This can then either be a node which has a high winrate or a high newness value. So the 'goodness' value of a node can be determine by either a good exploration or exploitation value and the important thing is that there is a well adjusted balance between the two."
   ]
  },
  {
   "cell_type": "markdown",
   "metadata": {},
   "source": [
    "### 10. When $C_p$ is small, does MCTS explore more or exploit more?"
   ]
  },
  {
   "cell_type": "markdown",
   "metadata": {},
   "source": [
    "**Answer**: A low $C_p$ does little exploration, a high $C_p$ has more exploration."
   ]
  },
  {
   "cell_type": "markdown",
   "metadata": {},
   "source": [
    "### 11. For small numbers of node expansions, would you prefer more exploration or more exploitation?"
   ]
  },
  {
   "cell_type": "markdown",
   "metadata": {},
   "source": [
    "**Answer**: If a small amount of nodes are expanded, it means that $C_p$ is lwo and that the selection rule favors exploitation. So exploration is preferred."
   ]
  },
  {
   "cell_type": "markdown",
   "metadata": {},
   "source": [
    "### 12. What does RAVE do?"
   ]
  },
  {
   "cell_type": "markdown",
   "metadata": {},
   "source": [
    "**Answer**: It allows for the node statistics (wint count and visit count) to be updated quicker. In the beginning of the search all visit and winrate counts are zero, so the early partof MCTS progresses in the dark, this is something that can be improved with RAVE."
   ]
  },
  {
   "cell_type": "markdown",
   "metadata": {},
   "source": [
    "### 13. What is the role of pattern databases in the play-out phase?"
   ]
  },
  {
   "cell_type": "markdown",
   "metadata": {},
   "source": [
    "**Answer**: Pattern databases use quick heuristics of 3x3 patterns, because that is better than random moves in the play-out phase. The patterns are learned by neural nets of grandmaster games. So the role is the make up for the lack of precision of random dicision making in the begin phase of the game."
   ]
  },
  {
   "cell_type": "markdown",
   "metadata": {},
   "source": [
    "### 14. Give three ways in which the performance of MCTS can be enhanced."
   ]
  },
  {
   "cell_type": "markdown",
   "metadata": {},
   "source": [
    "**Answer**:\n",
    "\n",
    "1. Choose a better $C_p$ value for the number of iterations you perform, or use adaptive parameters so $C_p$ will change over time/iterations.\n",
    "2. Use AMAF/RAVE.\n",
    "3. Use pattern databases.\n",
    "4. Ensembles and parallelism."
   ]
  },
  {
   "cell_type": "markdown",
   "metadata": {},
   "source": [
    "### 15. What is a roll out algorithm?"
   ]
  },
  {
   "cell_type": "markdown",
   "metadata": {},
   "source": [
    "**Answer**: The sort of roll the tree out. In roll out algorithms the starting point is a policy, the base policy, whose performance is evaluated in some way, possibly by simulation. Based on that evaluation, an improved policy\n",
    "is obtained by one-step look-ahead.p"
   ]
  }
 ],
 "metadata": {
  "kernelspec": {
   "display_name": "Python 3",
   "language": "python",
   "name": "python3"
  },
  "language_info": {
   "codemirror_mode": {
    "name": "ipython",
    "version": 3
   },
   "file_extension": ".py",
   "mimetype": "text/x-python",
   "name": "python",
   "nbconvert_exporter": "python",
   "pygments_lexer": "ipython3",
   "version": "3.6.5"
  }
 },
 "nbformat": 4,
 "nbformat_minor": 2
}
