{
 "cells": [
  {
   "cell_type": "markdown",
   "metadata": {},
   "source": [
    "# Important concepts"
   ]
  },
  {
   "cell_type": "markdown",
   "metadata": {},
   "source": [
    "# 1 - Introduction: Ecology of the Interstellar Medium\n",
    "\n",
    "• **What does the ISM consist of?**\n",
    "\n",
    "\n",
    "• **Phases of the ISM and their global properties (including approximate densities, temperatures, volume filling factors)**\n",
    "\n",
    "\n",
    "• **What are the sources of energy in the ISM, plus the fact that they all have similar energy densities.**"
   ]
  },
  {
   "cell_type": "markdown",
   "metadata": {},
   "source": [
    "# 2 - Review of radiative processes\n",
    "\n",
    "## 2.1 - Radiation quantities and fundamental equilibrium conditions\n",
    "\n",
    "• Radiation quantities: you should know the definitions, understand and be able to work with\n",
    "specific intensity (Iν), flux density (Fν), specific energy density (uν), photon occupation\n",
    "number (nγ) and luminosity (L), all in the appropriate units. Equations will be provided\n",
    "on the formula sheet.\n",
    "• You should of course be able to work with the Planck function. Equations will be provided.\n",
    "• Rayleigh-Jeans (RJ) approximation and brightness temperature (Tb); you should be able\n",
    "to derive brightness temperature from the Planck function using the RJ approximation.\n",
    "• Lack of thermodynamic equilibrium in the ISM (give arguments why this is the case).\n",
    "Instead we use statistical equilibrium. You should be able to explain what this is, and the\n",
    "difference with thermodynamic equilibrium.\n",
    "1\n",
    "• Kinetic temperature (Tkin) and the Maxwell distribution (equation will be provided).\n",
    "• Boltzmann distribution (equation will be provided)\n",
    "• definition of excitation temperature (Tex)\n",
    "\n",
    "## 2.2 - Interaction of radiation with matter\n",
    "\n",
    "• **Einstein coefficients: you should know their definitions and be able to work with these. Equations relating these will be provided.**\n",
    "\n",
    "$$ - \\frac{\\text{d}n_u}{\\text{d}t} = \\frac{\\text{d}n_l}{\\text{d}t}= A_{ul}n_u $$\n",
    "\n",
    "$$ \\frac{\\text{d}n_u}{\\text{d}t} = - \\frac{\\text{d}n_l}{\\text{d}t}= B_{lu}n_l \\int u_\\nu \\phi_\\nu \\text{d}\\nu $$\n",
    "\n",
    "$$ \\frac{\\text{d}n_l}{\\text{d}t} = - \\frac{\\text{d}n_u}{\\text{d}t}= B_{ul}n_u \\int u_\\nu \\phi_\\nu \\text{d}\\nu $$\n",
    "\n",
    "In the spontaneous emission you are taking the density of the upper level, because that level is doing the spontaneious emission. In the absorption equation you are taking the lower level, because that level is doing the absorption. In the stimulated emission equation the density for the upper level is considered, because the upper level is doing the stimulated emission.\n",
    "\n",
    "• **Understand and explain absorption, spontaneous emission and stimulated emission.**\n",
    "\n",
    "- **Spontaneous emission**: The process in which a quantum mechanical system transits from an excited energy state to a lower energy state (e.g. its ground state) and emits a quantized amount of energy in the form of a photon.\n",
    "- **Absorption**: Matter taking up a photon's energy and transforms is into internal energy (for example, thermal energy).\n",
    "- **Stimulated emission**: The process by which an incoming photon of a specific frequency can interact with an excited atomic electron, causing it to drop to a lower energy level.\n",
    "\n",
    "• **You should know when stimulated emission is (un)important, based on comparing $h\\nu$ and $kT$.**\n",
    "\n",
    "First write the definitions of the Einstein coefficients in terms of the photon occupation number:\n",
    "\n",
    "$$ n_\\gamma(\\nu, \\hat{n}, \\vec{r}, t) = \\frac{c^2}{2h\\nu^3} I_\\nu(\\nu, \\hat{n}, \\vec{r}, t) $$\n",
    "\n",
    "This results in two equations describing the three radiative processes:\n",
    "\n",
    "$$ \\bigg( \\frac{dn_l}{dt} \\bigg)_{u \\rightarrow l} = n_u A_{ul} (1 + \\bar{n_\\gamma}) $$\n",
    "\n",
    "$$ \\bigg( \\frac{dn_u}{dt} \\bigg)_{l \\rightarrow u} = n_l \\frac{g_u}{g_l} A_{ul} \\bar{n_\\gamma} $$\n",
    "\n",
    "In the first equation, the 1 is the spontaneous emission, the $\\bar{n_\\gamma}$ is the stimulated emission and in the second equation the $\\bar{n_\\gamma}$ is the absorption. In the first equation it is now easy to see when stimulated emission is dominant and when it is neglectable.\n",
    "\n",
    "In local thermodynamic equilbrium, the expression for the photon occupation number equals:\n",
    "\n",
    "$$ n_\\gamma = \\frac{1}{e^{h\\nu/kT}-1} $$\n",
    "\n",
    "- If $ h\\nu >> kT $ (optical, UV, x-ray) stimulated emission neglectable.\n",
    "- If $ h\\nu << kT $ (radio) stimulated emission dominant.\n",
    "\n",
    "• **Line profile: definition and normalization**\n",
    "\n",
    "The line profile is a combination of \n",
    "\n",
    "1. Natural linewidth (quantum uncertainty). This gives a Lorentz profile with wings falling of as $v^{-2}$\n",
    "2. Doppler motions (thermal + bulk motion). Thermal motions give a Gaussian profile with wings falling of as $e^-v^2$.\n",
    "\n",
    "Their convolution is a Voigt profile\n",
    "\n",
    "• **Doppler broadening, Gaussian line profile and velocity dispersion (equations will be provided)**\n",
    "\n",
    "These equations are given in the slides. Doppler broadening refers to the doppler shift of the wavelengths of light absorbed or emitted by the atoms in a gas. A Gaussian line profile is just a Aaxwell distribution. The velocity dispersion results from a Gaussian distribution."
   ]
  },
  {
   "cell_type": "markdown",
   "metadata": {},
   "source": []
  }
 ],
 "metadata": {
  "kernelspec": {
   "display_name": "Python 3",
   "language": "python",
   "name": "python3"
  },
  "language_info": {
   "codemirror_mode": {
    "name": "ipython",
    "version": 3
   },
   "file_extension": ".py",
   "mimetype": "text/x-python",
   "name": "python",
   "nbconvert_exporter": "python",
   "pygments_lexer": "ipython3",
   "version": "3.6.5"
  }
 },
 "nbformat": 4,
 "nbformat_minor": 2
}
