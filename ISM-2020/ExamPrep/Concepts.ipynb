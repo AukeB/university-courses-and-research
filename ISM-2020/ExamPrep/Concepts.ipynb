{
 "cells": [
  {
   "cell_type": "markdown",
   "metadata": {},
   "source": [
    "# Concepts"
   ]
  },
  {
   "cell_type": "markdown",
   "metadata": {},
   "source": [
    "**Nebulae** (1.2): To think of the ISM in terms of nebulae is a kind of old way. Here is this nebula, and there is that dark cloud and finding things out of those visually distinct objects is old-fasioned. It is also the way it is presented in amateur books. There are 4 classical distinct classical objects: HII regions (including Planetary Nebulae), reflection nebulae, dark (molecular) clouds and supernova remnants.\n",
    "\n",
    "- **HII regions**: Gas clouds that are photoionized. There are young stars that produce UV-photons that are able to photoionize atoms and molecules in a gas cloud surrounding the young hot star. Associated with massive star-formation regions. Their spectra is dominated by H and He recombination lines and collisiionally excited lines. Strong thermal emission (free-free) + IR emission.\n",
    "\n",
    "- **Reflection Nebulae**: There are not nebulae that are self-luminous, like HII-regions; they just reflect like. Importnat thing to relize is that light is not reflected by atoms or molecules but by dust grains. Simply by looking at a pictures, it is not distinguisable from HII regions. We can tell the difference by looking at the spectra.\n",
    "\n",
    "- **Dark clouds**: You can see them with the naked eye, even from Holland. You can see dark patches in the Milky Way. Again, what is important, is that the dust is doing the absorption. Dust reradiates the absorbed photons in the IR.\n",
    "\n",
    "- **Supernova remnants**: Ejecta + swept-up gas from supernova explosion. They fade away, currently there about 100 SNRs visible in the MW. Filamentary and shell-like structures. They are not photo-ionized by a hot central star, because there is not one. They are ionized by collisionally excited lines."
   ]
  },
  {
   "cell_type": "markdown",
   "metadata": {},
   "source": [
    "**Interstellar Medium** (1.2): It is not the volume between the stars, since the heliosphere extends to about 200 AU. Stars occupy $3 \\cdot 10^{-10}$ of volume, the remaining volume is interstellar and intergalactic space. ISM consists mostly of hydrogen, helium and traces of metals. All of the material can be ionized, neutral or molecular. It can also be in the gas phase or in solid state (dust, ice). Usually, ice sits on top of the dust grains. And then there are magnetic fields and cosmic rays (relativistic particles). The modern of thinking of the ISM (contrary to thinking of the ISM in terms of objects) is in terms of phases.\n",
    "\n",
    "Phases of the galactic interstellar medium:\n",
    "\n",
    "- Hot ionized medium\n",
    "- Warm ionized medium\n",
    "- HII regions\n",
    "- Warm neutral medium\n",
    "- Cold neutral medium\n",
    "- Molecular clouds\n",
    "\n",
    "The CNM can be viewed as the outer layer (skin) of molecular clouds. HII regions can also be viewed as the densest parts of the WIM. Dust is mixed with all phases, with $M_\\text{gas}/M_\\text{dust} \\sim 100 $ in the Milky Way.  "
   ]
  },
  {
   "cell_type": "markdown",
   "metadata": {},
   "source": [
    "**Dust** (1.2): Dust is build from the heavy elements in the solid state. Mostly carbon and silicon. Dust will also contain things like oxygen, iron, magnesium and heavier elements."
   ]
  },
  {
   "cell_type": "markdown",
   "metadata": {},
   "source": [
    "**Detailed balance** (2.1): Every process is balanced exactly by its counterprocess. This is not the case for the ISM. It is also not true locally. "
   ]
  },
  {
   "cell_type": "markdown",
   "metadata": {},
   "source": [
    "**Boltzmann distribution** (2.1): Describes level energies in a particle that has energy levels. The distribution is given by:\n",
    "\n",
    "$$ n_i = \\frac{g_i e^{-\\frac{E_i}{kT}}}{Z(T)} $$\n",
    "\n",
    "The level populations are given by $n_i$, $g_i$ is the level degeneracy or the statistical weight. The number of different states corresponding to a particular energy level is known as the degree of degeneracy of th level. $Z(T)$ is the partition function that normalises the boltzmann factor $g_i e^{-\\frac{E_i}{kT}}$\n",
    "\n",
    "This probability distribution gives the probability that a system will be in a certain states as a function of that state's energy and the temperature of the system.\n",
    "\n",
    "This is generally not valid in the ISM. Because of that, the excitation temperature is defined."
   ]
  },
  {
   "cell_type": "markdown",
   "metadata": {},
   "source": [
    "**Excitation temperature** (2.1): This is a fictitious temperature, defined according to the equation:\n",
    "\n",
    "$$ \\frac{n_u}{n_l} = \\frac{g_u}{g_l} e^{-(E_u-E_l)/kT_\\text{ex}} $$\n",
    "\n",
    "It is defined per transition. So a molecule has different excitation temperatures for each internal transition. This concept will be used all the time throughout the course.\n",
    "\n",
    "$$ T_\\text{ex} = T_\\text{kin} \\quad \\text{Thermalized} $$\n",
    "\n",
    "$$ T_\\text{ex} < T_\\text{kin} \\quad \\text{Subthermal excitation} $$"
   ]
  },
  {
   "cell_type": "markdown",
   "metadata": {},
   "source": [
    "**Statistical equilibrium** (2.1): Sum of the rates of all processes populating level $i$ equals the sum of rates of all processes depopulating the level $i$. This is a weaker version of TE, and this principle is true for each energy level.\n",
    "\n",
    "$$ \\frac{n_i}{\\text{d}t} = 0 $$"
   ]
  },
  {
   "cell_type": "markdown",
   "metadata": {},
   "source": [
    "**Radiation quantities** (2.1): There are multiple ways to describe the radiation field in IS space.\n",
    "\n",
    " - **Specific intensity $I_\\nu$**: The amount of energy, per unit of time, per unit of frequency, per unit of area, per unit of solid angle. Units: erg cm-2 s-1 Hz-1 sr-1, or something equivalent.\n",
    "\n",
    "$$ dE_\\nu = I_\\nu \\text{d}\\nu \\text{d}\\Omega \\text{d}A \\text{d}t $$\n",
    "\n",
    "$$ I_\\nu(\\nu, \\hat{n}, \\vec{r}, t) $$\n",
    "\n",
    "- **Photon occupation number**: This is an alternative to specific intensity. It is just a number. It is simply intensity with a prefactor. Its only practical use is making equations simpler.\n",
    "\n",
    "$$ n_\\gamma(\\nu, \\hat{n}, \\vec{r}, t) = \\frac{c^2}{2h\\nu^3} I_\\nu(\\nu, \\hat{n}, \\vec{r}, t) $$\n",
    "\n",
    "- **(Rayleigh-Jeans) Brightness temperature**: Also equivalent to specific intensity. Also specific intensity with a prefactor. In the radio regime ($ h\\nu << kT $) this is actually a temperature with the Planck curve.\n",
    "\n",
    "$$ T_b(\\nu) = \\frac{c^2}{2k\\nu^2} I_\\nu $$\n",
    "\n",
    "- **Flux density**: Flux density has units erg s-1 cm-2 Hz-1, or Jy. So this is not equivalent to specific intensity.\n",
    "\n",
    "$$ F_\\nu = \\int I_\\nu d\\Omega $$\n",
    "\n",
    "- **Luminosity**: The total energy radiated by an object, it is measured in units of energy per time, such as erg/s\n",
    "\n",
    "$$ L_\\nu = 4 \\pi D_L^2 F_\\nu $$\n",
    "\n",
    "$$ L = \\int L_\\nu d\\nu $$\n",
    "\n",
    "-  **Specific energy density**: First define the direction-averaged specific intensity, from we you easily derive the specific energy density. It has units erg cm-3 Hz-1.\n",
    "\n",
    "$$ \\bar{I_\\nu} = \\frac{1}{4\\pi} \\int I_\\nu d\\Omega = \\frac{1}{4\\pi} F_\\nu $$\n",
    "\n",
    "$$ u_\\nu = \\frac{1}{c} \\int I_\\nu d\\Omega = \\frac{4\\pi}{c} \\bar{I_\\nu} = \\frac{1}{c} F_\\nu $$\n",
    "\n",
    "$I_\\nu$ is an intrinsic property of the source, $F_\\nu$ is not.\n"
   ]
  },
  {
   "cell_type": "markdown",
   "metadata": {},
   "source": [
    "**Two interesting limiting cases** (2.1):\n",
    "\n",
    "- $ h\\nu >> kT $: High frequencies (X-ray regime, optical, UV). Photon occupation number much smaller than one. Number of photons is very low. More appropriate to speak of photons.\n",
    "\n",
    "- $ h\\nu << kT $: Low frequencies (Radio regime). Photon occupation number much larger than one. Number of photons is very high. More appropriate to speak of waves."
   ]
  },
  {
   "cell_type": "markdown",
   "metadata": {},
   "source": [
    "**Continuum emission and spectral line emission** (2.1): Continuum means over a wide range of frequency while spectral line is only a small fraction of frequency range."
   ]
  },
  {
   "cell_type": "markdown",
   "metadata": {},
   "source": [
    "**Beam** (2.1): The solid angle of the telescope."
   ]
  },
  {
   "cell_type": "markdown",
   "metadata": {},
   "source": [
    "**Absorption lines**"
   ]
  },
  {
   "cell_type": "markdown",
   "metadata": {},
   "source": [
    "**Column density**: "
   ]
  },
  {
   "cell_type": "markdown",
   "metadata": {},
   "source": [
    "**Line profile**:"
   ]
  },
  {
   "cell_type": "markdown",
   "metadata": {},
   "source": [
    "**Wings**:"
   ]
  },
  {
   "cell_type": "markdown",
   "metadata": {},
   "source": [
    "**Lorentz wings**"
   ]
  },
  {
   "cell_type": "markdown",
   "metadata": {},
   "source": [
    "**Voigt profile**:"
   ]
  },
  {
   "cell_type": "markdown",
   "metadata": {},
   "source": [
    "**Optical depth**"
   ]
  },
  {
   "cell_type": "markdown",
   "metadata": {},
   "source": [
    "**Optically thin & optically thick**:"
   ]
  },
  {
   "cell_type": "markdown",
   "metadata": {},
   "source": [
    "**Recombination line**: After a molecules gets ionized, it wants to recombine again. It will want to capture an electron again."
   ]
  },
  {
   "cell_type": "markdown",
   "metadata": {},
   "source": [
    "**Collisional excitation**: When the temperature of IS gas becomes so hot, the collisions between atoms become so strong that they are able to ionized each other. This is called collisional excitation."
   ]
  },
  {
   "cell_type": "markdown",
   "metadata": {},
   "source": [
    "**Halpha emission (beta, gamma etc.)**"
   ]
  },
  {
   "cell_type": "markdown",
   "metadata": {},
   "source": [
    "**Critical density**: The density at which the spontaneous decay and the collisional deexcitation are equally important (Lecture 7, hour 1)."
   ]
  },
  {
   "cell_type": "markdown",
   "metadata": {},
   "source": [
    "**Heteronuclear molecules**: Molecules of which the nuclei are not the same element. CO is an example, but H2 not."
   ]
  },
  {
   "cell_type": "markdown",
   "metadata": {},
   "source": [
    "**Co-spatial (Lecture 8, hour 2)**:"
   ]
  },
  {
   "cell_type": "markdown",
   "metadata": {},
   "source": [
    "**Line process and continuum process**:"
   ]
  }
 ],
 "metadata": {
  "kernelspec": {
   "display_name": "Python 3",
   "language": "python",
   "name": "python3"
  },
  "language_info": {
   "codemirror_mode": {
    "name": "ipython",
    "version": 3
   },
   "file_extension": ".py",
   "mimetype": "text/x-python",
   "name": "python",
   "nbconvert_exporter": "python",
   "pygments_lexer": "ipython3",
   "version": "3.6.5"
  }
 },
 "nbformat": 4,
 "nbformat_minor": 2
}
