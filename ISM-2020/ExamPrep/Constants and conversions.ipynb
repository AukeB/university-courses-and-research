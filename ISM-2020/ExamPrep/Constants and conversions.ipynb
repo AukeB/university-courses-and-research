{
 "cells": [
  {
   "cell_type": "markdown",
   "metadata": {},
   "source": [
    "## Conversions"
   ]
  },
  {
   "cell_type": "markdown",
   "metadata": {},
   "source": [
    "1 sr equals $\\frac{129600^2}{4\\pi^2}$ square arcseconds  \n",
    "1 Joule equals $10^7$ erg  \n",
    "1 Jansky equals $10^{-23}$ erg cm-2 s-1 Hz-1  \n",
    "1 solar luminosity equals $3.8 \\cdot 10^{33}$ erg s-1"
   ]
  },
  {
   "cell_type": "markdown",
   "metadata": {},
   "source": [
    "## Constants"
   ]
  },
  {
   "cell_type": "code",
   "execution_count": 3,
   "metadata": {},
   "outputs": [],
   "source": [
    "c_cgs = 2.99792458e10 # Speed of light [cm/s]\n",
    "k_cgs = 1.380649e-16 # Boltzmann constant [erg K-1]"
   ]
  },
  {
   "cell_type": "code",
   "execution_count": 4,
   "metadata": {},
   "outputs": [],
   "source": [
    "# Imports\n",
    "import numpy as np"
   ]
  },
  {
   "cell_type": "markdown",
   "metadata": {},
   "source": [
    "## Functions"
   ]
  },
  {
   "cell_type": "code",
   "execution_count": 15,
   "metadata": {},
   "outputs": [],
   "source": [
    "# Converts squared arcseconds to steradian.\n",
    "def arcsec_squared2steradian(x):\n",
    "    sec_squared = x / 60**2\n",
    "    deg_squared = sec_squared / 60**2\n",
    "    steradian = (4*np.pi**2)/(360**2) * deg_squared\n",
    "    print(f'{x} arcsec squared equals {steradian} steradian.')\n",
    "\n",
    "# Converts Janksy to cgs units.\n",
    "def jansky2cgs(x):\n",
    "    print(f'{x} Jansky equals {x *1e-23} erg cm-2 s-1 Hz-1.')\n",
    "\n",
    "# Converts cgs units to Jansky.\n",
    "def cgs2jansky(x):\n",
    "    print(f'{x} erg cm-2 s-1 Hz-1 equals {x * 1e23} Jy.')\n",
    "    \n",
    "# Converts frequency to wavelength.\n",
    "def freq2wav(x):\n",
    "    lam = c_cgs / x\n",
    "    print(f'{x} Hz equals {lam} cm')\n",
    "\n",
    "# Converts wavelength to frequency.\n",
    "def wav2freq(x):\n",
    "    nu = c_cgs / x\n",
    "    print(f'{x} cm equals {nu} Hz')"
   ]
  },
  {
   "cell_type": "markdown",
   "metadata": {},
   "source": [
    "## Computations"
   ]
  },
  {
   "cell_type": "code",
   "execution_count": 16,
   "metadata": {},
   "outputs": [
    {
     "name": "stdout",
     "output_type": "stream",
     "text": [
      "46.5 arcsec squared equals 1.0929560200680515e-09 steradian.\n",
      "0.35 Jansky equals 3.5e-24 erg cm-2 s-1 Hz-1.\n",
      "3.5e-24 erg cm-2 s-1 Hz-1 equals 0.3499999999999999 Jy.\n",
      "1420000000.0 Hz equals 21.112144929577465 cm\n",
      "21.11 cm equals 1420144282.3306491 Hz\n"
     ]
    }
   ],
   "source": [
    "arcsec_squared2steradian(46.5)\n",
    "jansky2cgs(350e-3)\n",
    "cgs2jansky(3.5e-24)\n",
    "freq2wav(1420e6)\n",
    "wav2freq(21.11)"
   ]
  },
  {
   "cell_type": "code",
   "execution_count": null,
   "metadata": {},
   "outputs": [],
   "source": []
  }
 ],
 "metadata": {
  "kernelspec": {
   "display_name": "Python 3",
   "language": "python",
   "name": "python3"
  },
  "language_info": {
   "codemirror_mode": {
    "name": "ipython",
    "version": 3
   },
   "file_extension": ".py",
   "mimetype": "text/x-python",
   "name": "python",
   "nbconvert_exporter": "python",
   "pygments_lexer": "ipython3",
   "version": "3.6.5"
  }
 },
 "nbformat": 4,
 "nbformat_minor": 2
}
