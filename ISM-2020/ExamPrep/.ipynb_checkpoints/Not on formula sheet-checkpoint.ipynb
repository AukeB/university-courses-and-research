{
 "cells": [
  {
   "cell_type": "markdown",
   "metadata": {},
   "source": [
    "# Not on formula sheet\n",
    "This is a list of equations, formulas and definitions that will not be given on the exam."
   ]
  },
  {
   "cell_type": "markdown",
   "metadata": {},
   "source": [
    "**Definition of the excitation temperature $T_\\text{ex}$**\n",
    "\n",
    "$$ \\frac{n_u}{n_l} = \\frac{g_u}{g_l} e^{-\\frac{E_u-E_l}{kT_\\text{ex}}} $$"
   ]
  },
  {
   "cell_type": "markdown",
   "metadata": {},
   "source": [
    "**Einstein coefficients**\n",
    "\n",
    "$$ - \\frac{\\text{d}n_u}{\\text{d}t} = \\frac{\\text{d}n_l}{\\text{d}t}= A_{ul}n_u $$\n",
    "\n",
    "$$ \\frac{\\text{d}n_u}{\\text{d}t} = - \\frac{\\text{d}n_l}{\\text{d}t}= B_{lu}n_l \\int u_\\nu \\phi_\\nu \\text{d}\\nu $$\n",
    "\n",
    "$$ \\frac{\\text{d}n_l}{\\text{d}t} = - \\frac{\\text{d}n_u}{\\text{d}t}= B_{ul}n_u \\int u_\\nu \\phi_\\nu \\text{d}\\nu $$"
   ]
  },
  {
   "cell_type": "markdown",
   "metadata": {},
   "source": [
    "**Equation of transfer**\n",
    "\n",
    "$$ I_\\nu = I_\\nu(0) e^{-\\tau_\\nu} + B_\\nu (T_\\text{ex}) (1-e^{-\\tau_\\nu}) $$\n",
    "\n",
    "$$ T_b = T_c e^{-\\tau_\\nu} + T_\\text{ex} (1-e^{-\\tau_\\nu}) $$"
   ]
  }
 ],
 "metadata": {
  "kernelspec": {
   "display_name": "Python 3",
   "language": "python",
   "name": "python3"
  },
  "language_info": {
   "codemirror_mode": {
    "name": "ipython",
    "version": 3
   },
   "file_extension": ".py",
   "mimetype": "text/x-python",
   "name": "python",
   "nbconvert_exporter": "python",
   "pygments_lexer": "ipython3",
   "version": "3.6.5"
  }
 },
 "nbformat": 4,
 "nbformat_minor": 2
}
