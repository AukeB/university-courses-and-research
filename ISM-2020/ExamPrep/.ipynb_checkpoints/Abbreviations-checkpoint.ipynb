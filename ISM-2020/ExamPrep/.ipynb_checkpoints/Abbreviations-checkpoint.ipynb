{
 "cells": [
  {
   "cell_type": "markdown",
   "metadata": {},
   "source": [
    "# Abbreviations"
   ]
  },
  {
   "cell_type": "markdown",
   "metadata": {},
   "source": [
    "|**Abbrevation**|**Meaning**|\n",
    "|---|---|\n",
    "|ISM|Interstellar medium|\n",
    "|IGM|Intergalactic medium|\n",
    "|HIM|Hot ionized medium|\n",
    "|WIM|Warm ionized medium|\n",
    "|CIM|Cold interstellar medium|\n",
    "|WNM|Warm neutral medium|\n",
    "|CNM|Cold neutral medium|\n",
    "|SNR|Supernova remnant|\n",
    "|pi|Photoionization|\n",
    "|rr|Recombination rate|\n",
    "|SFR|Star formation rate|\n",
    "|EM|Emission measure|\n",
    "|UCHR|Ultra compact HII region|\n",
    "|PDR|Photodissiociation (or photon dominated) region|\n",
    "|DF|Disassociation front|\n",
    "|ISRF|Interstellar radiation field|\n",
    "|SED|Spectral energy distribution|\n",
    "|ULIRG|Ultra-luminious infrared galaxy|\n",
    "|PAH|Polycyclic aromatric hydrocarbon|\n",
    "|LVG|Large velocity gradient|\n",
    "|IR|Infrared|\n",
    "|MW|Milky Way|"
   ]
  },
  {
   "cell_type": "code",
   "execution_count": null,
   "metadata": {},
   "outputs": [],
   "source": []
  }
 ],
 "metadata": {
  "kernelspec": {
   "display_name": "Python 3",
   "language": "python",
   "name": "python3"
  },
  "language_info": {
   "codemirror_mode": {
    "name": "ipython",
    "version": 3
   },
   "file_extension": ".py",
   "mimetype": "text/x-python",
   "name": "python",
   "nbconvert_exporter": "python",
   "pygments_lexer": "ipython3",
   "version": "3.6.5"
  }
 },
 "nbformat": 4,
 "nbformat_minor": 2
}
