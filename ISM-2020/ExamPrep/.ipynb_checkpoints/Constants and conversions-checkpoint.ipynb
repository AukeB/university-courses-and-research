{
 "cells": [
  {
   "cell_type": "markdown",
   "metadata": {},
   "source": [
    "## Conversions"
   ]
  },
  {
   "cell_type": "markdown",
   "metadata": {},
   "source": [
    "1 sr equals $\\frac{129600^2}{4\\pi^2}$ square arcseconds  \n",
    "1 Joule equals $10^7$ erg  \n",
    "1 Jansky equals $10^{-23}$ erg cm-2 s-1 Hz-1"
   ]
  },
  {
   "cell_type": "markdown",
   "metadata": {},
   "source": [
    "## Constants"
   ]
  },
  {
   "cell_type": "code",
   "execution_count": 25,
   "metadata": {},
   "outputs": [],
   "source": [
    "c_cgs = 2.99792458e10 # Speed of light [cm/s]\n",
    "k_cgs = 1.380649e-16 # Boltzmann constant [erg K-1]"
   ]
  },
  {
   "cell_type": "code",
   "execution_count": 1,
   "metadata": {},
   "outputs": [],
   "source": [
    "# Imports\n",
    "import numpy as np"
   ]
  },
  {
   "cell_type": "markdown",
   "metadata": {},
   "source": [
    "## Functions"
   ]
  },
  {
   "cell_type": "code",
   "execution_count": 28,
   "metadata": {},
   "outputs": [],
   "source": [
    "# Converts squared arcseconds to steradian.\n",
    "def arcsec_squared2steradian(x):\n",
    "    sec_squared = x / 60**2\n",
    "    deg_squared = sec_squared / 60**2\n",
    "    steradian = (4*np.pi**2)/(360**2) * deg_squared\n",
    "    print(f'{x} arcsec squared equals {steradian} steradian.')\n",
    "\n",
    "# Converts Janksy to cgs units.\n",
    "def jansky2cgs(x):\n",
    "    print(f'{x} Jansky equals {x *1e-23} erg cm-2 s-1 Hz-1.')\n",
    "    \n",
    "# Converts frequency to wavelength.\n",
    "def freq2wav(x):\n",
    "    lam = c_cgs / x\n",
    "    print(f'{x} Hz equals {lam} cm')"
   ]
  },
  {
   "cell_type": "markdown",
   "metadata": {},
   "source": [
    "## Computations"
   ]
  },
  {
   "cell_type": "code",
   "execution_count": 17,
   "metadata": {},
   "outputs": [
    {
     "name": "stdout",
     "output_type": "stream",
     "text": [
      "46.5 arcsec squared equals 1.0929560200680515e-09 steradian.\n"
     ]
    }
   ],
   "source": [
    "arcsec_squared2steradian(46.5)"
   ]
  },
  {
   "cell_type": "code",
   "execution_count": 23,
   "metadata": {},
   "outputs": [
    {
     "name": "stdout",
     "output_type": "stream",
     "text": [
      "0.35 Jansky equals 3.5e-24 erg cm-2 s-1 Hz-1.\n"
     ]
    }
   ],
   "source": [
    "jansky2cgs(350e-3)"
   ]
  },
  {
   "cell_type": "code",
   "execution_count": 34,
   "metadata": {},
   "outputs": [
    {
     "name": "stdout",
     "output_type": "stream",
     "text": [
      "5183.1074283326025\n"
     ]
    }
   ],
   "source": [
    "print(21.1121**2/(2*1.380648*10**-16)*3.211*10**-15)"
   ]
  },
  {
   "cell_type": "code",
   "execution_count": 36,
   "metadata": {},
   "outputs": [
    {
     "data": {
      "text/plain": [
       "0.9557495686147028"
      ]
     },
     "execution_count": 36,
     "metadata": {},
     "output_type": "execute_result"
    }
   ],
   "source": [
    "-1*np.log(1-(5170/8400))"
   ]
  },
  {
   "cell_type": "code",
   "execution_count": 30,
   "metadata": {},
   "outputs": [
    {
     "name": "stdout",
     "output_type": "stream",
     "text": [
      "1420000000.0 Hz equals 21.112144929577465 cm\n"
     ]
    }
   ],
   "source": [
    "freq2wav(1420e6)"
   ]
  }
 ],
 "metadata": {
  "kernelspec": {
   "display_name": "Python 3",
   "language": "python",
   "name": "python3"
  },
  "language_info": {
   "codemirror_mode": {
    "name": "ipython",
    "version": 3
   },
   "file_extension": ".py",
   "mimetype": "text/x-python",
   "name": "python",
   "nbconvert_exporter": "python",
   "pygments_lexer": "ipython3",
   "version": "3.6.5"
  }
 },
 "nbformat": 4,
 "nbformat_minor": 2
}
