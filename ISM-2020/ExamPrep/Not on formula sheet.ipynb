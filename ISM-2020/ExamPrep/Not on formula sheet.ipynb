{
 "cells": [
  {
   "cell_type": "markdown",
   "metadata": {},
   "source": [
    "# Not on formula sheet\n",
    "This is a list of equations, formulas and definitions that will not be given on the exam."
   ]
  },
  {
   "cell_type": "markdown",
   "metadata": {},
   "source": [
    "**Definition of the excitation temperature $T_\\text{ex}$**\n",
    "\n",
    "$$ \\frac{n_u}{n_l} = \\frac{g_u}{g_l} e^{-\\frac{E_u-E_l}{kT_\\text{ex}}} $$"
   ]
  },
  {
   "cell_type": "markdown",
   "metadata": {},
   "source": [
    "**Einstein coefficients**\n",
    "\n",
    "$$ - \\frac{\\text{d}n_u}{\\text{d}t} = \\frac{\\text{d}n_l}{\\text{d}t}= A_{ul}n_u $$\n",
    "\n",
    "$$ \\frac{\\text{d}n_u}{\\text{d}t} = - \\frac{\\text{d}n_l}{\\text{d}t}= B_{lu}n_l \\int u_\\nu \\phi_\\nu \\text{d}\\nu $$\n",
    "\n",
    "$$ \\frac{\\text{d}n_l}{\\text{d}t} = - \\frac{\\text{d}n_u}{\\text{d}t}= B_{ul}n_u \\int u_\\nu \\phi_\\nu \\text{d}\\nu $$"
   ]
  },
  {
   "cell_type": "markdown",
   "metadata": {},
   "source": [
    "**Equation of transfer**\n",
    "\n",
    "$$ I_\\nu = I_\\nu(0) e^{-\\tau_\\nu} + B_\\nu (T_\\text{ex}) (1-e^{-\\tau_\\nu}) $$\n",
    "\n",
    "$$ T_b = T_c e^{-\\tau_\\nu} + T_\\text{ex} (1-e^{-\\tau_\\nu}) $$"
   ]
  },
  {
   "cell_type": "markdown",
   "metadata": {},
   "source": [
    "**Critical density**\n",
    "\n",
    "The critical density is defined as the ratio of the Einstein $A$ coefficient and the collisional deexcitation coefficient. It is the density at which the spontaneous decay and collisional deexcitation are equally important.\n",
    "\n",
    "$$ n_\\text{crit} = \\frac{A_{10}}{k_{10}} $$\n",
    "\n",
    "The important implications form this are the low and high density limits. The high density limit is:\n",
    "\n",
    "$$ n_c >> n_\\text{crit} $$\n",
    "\n",
    "$$ T_\\text{ex} = T_\\text{kin} \\rightarrow \\text{ Thermalized levels & independent of density} $$\n",
    "\n",
    "In the low density limit:\n",
    "\n",
    "$$ n_c << n_\\text{crit} $$\n",
    "\n",
    "$$ \\frac{n_1}{n_0} = \\frac{n_c}{n_\\text{crit}} \\frac{g_i}{g_0} e^{-\\frac{E_{10}}{kT_\\text{kin}}} \\rightarrow \\text{ Subthermal excitation & dependent on density} $$"
   ]
  }
 ],
 "metadata": {
  "kernelspec": {
   "display_name": "Python 3",
   "language": "python",
   "name": "python3"
  },
  "language_info": {
   "codemirror_mode": {
    "name": "ipython",
    "version": 3
   },
   "file_extension": ".py",
   "mimetype": "text/x-python",
   "name": "python",
   "nbconvert_exporter": "python",
   "pygments_lexer": "ipython3",
   "version": "3.6.5"
  }
 },
 "nbformat": 4,
 "nbformat_minor": 2
}
