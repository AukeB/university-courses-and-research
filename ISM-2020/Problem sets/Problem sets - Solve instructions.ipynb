{
 "cells": [
  {
   "cell_type": "markdown",
   "metadata": {},
   "source": [
    "# Instructions on how to solve the problem sets.\n",
    "In total there are 16 problems divided over 5 problem sets."
   ]
  },
  {
   "cell_type": "markdown",
   "metadata": {},
   "source": [
    "## Problem set 1\n",
    "\n",
    "**Problem 1.1**: Start with equation of transfer written in terms of the brightness temperature (this equation won't be given on the exam). Fill everything and you find the brightness temperature.\n",
    "\n",
    "To find the intensity, write the equation of transfer in terms of the specific intensity, make the Rayleigh-Jeans approximation, and convert to the required units.\n",
    "\n",
    "**Problem 1.2**: To go from column density to mass, integrate over the area and multiply by the hydrogen atom mass. Apply the definition of the solid angle in terms of the distance and area. Make the Rayleigh-Jeans approximation and integrate over the specific intensity to find the flux density. Convert units to find the answer in the required output.\n",
    "\n",
    "**Problem 1.3**: Remember that you can't simply multiply to find the beam, apply the FWHM formula. This will give a beam solid angle in steradian. Read off the highest peak specific intensity, convert to brightness temperature. From the brightness temperature you can find the optical depth.\n",
    "\n",
    "**Problem 1.4**: Remember the conditions for maser to exist. From this it follows the a maser can only be observed in emission.\n",
    "\n",
    "**Problem 1.5**:\n",
    "\n",
    "a)"
   ]
  },
  {
   "cell_type": "markdown",
   "metadata": {},
   "source": [
    "## Problem set 2\n",
    "\n",
    "**Problem 2.1**:\n",
    "\n",
    "**Problem 2.2**:\n",
    "\n",
    "a)\n",
    "\n",
    "b)\n",
    "\n",
    "**Problem 2.3**:\n",
    "\n",
    "a)\n",
    "\n",
    "b)"
   ]
  },
  {
   "cell_type": "markdown",
   "metadata": {},
   "source": [
    "## Problem set 3\n",
    "\n",
    "**Problem 3.1**:\n",
    "\n",
    "**Problem 3.2**:\n",
    "\n",
    "a)\n",
    "\n",
    "b)\n",
    "\n",
    "c)\n",
    "\n",
    "**Problem 3.3**:\n",
    "\n",
    "a)\n",
    "\n",
    "b)"
   ]
  },
  {
   "cell_type": "markdown",
   "metadata": {},
   "source": [
    "## Problem set 4\n",
    "\n",
    "**Problem 4.1**:\n",
    "\n",
    "a)\n",
    "\n",
    "b)\n",
    "\n",
    "c)\n",
    "\n",
    "d)\n",
    "\n",
    "**Problem 4.2**:\n",
    "\n",
    "a)\n",
    "\n",
    "b)\n",
    "\n",
    "c)\n",
    "\n",
    "d)\n",
    "\n",
    "e)"
   ]
  },
  {
   "cell_type": "markdown",
   "metadata": {},
   "source": [
    "## Problem set 5\n",
    "\n",
    "**Problem 5.1**:\n",
    "\n",
    "**Problem 5.2**:\n",
    "\n",
    "a)\n",
    "\n",
    "b) Invuloefening\n",
    "\n",
    "**Problem 5.3**:"
   ]
  }
 ],
 "metadata": {
  "kernelspec": {
   "display_name": "Python 3",
   "language": "python",
   "name": "python3"
  },
  "language_info": {
   "codemirror_mode": {
    "name": "ipython",
    "version": 3
   },
   "file_extension": ".py",
   "mimetype": "text/x-python",
   "name": "python",
   "nbconvert_exporter": "python",
   "pygments_lexer": "ipython3",
   "version": "3.6.5"
  }
 },
 "nbformat": 4,
 "nbformat_minor": 2
}
