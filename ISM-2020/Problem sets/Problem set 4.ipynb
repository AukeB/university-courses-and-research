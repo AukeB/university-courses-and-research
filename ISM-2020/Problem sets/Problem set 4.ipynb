{
 "cells": [
  {
   "cell_type": "markdown",
   "metadata": {},
   "source": [
    "# Interstellar Medium Fall 2020\n",
    "# Problem set 4"
   ]
  },
  {
   "cell_type": "markdown",
   "metadata": {},
   "source": [
    "## Problem 4.1 - [OIII] optical line ratio"
   ]
  },
  {
   "cell_type": "markdown",
   "metadata": {},
   "source": [
    "In this problem we are going to analyse the [OIII] λ4364.4 Å/λ5008.2 ˚A line ratio, observed from an HII region. The energy level diagram is given in Draine, Fig. 18.1 (right-hand panel). As you can see, this is treated as a 5-level system here (levels labeled from 0 to 4), but  fortunately we will be able to make some useful simplifications.\n",
    "\n",
    "![](figs/fig_4.2.png)"
   ]
  },
  {
   "cell_type": "markdown",
   "metadata": {},
   "source": [
    "(a) Discuss the sensitivity of this line ratio to temperature and density."
   ]
  },
  {
   "cell_type": "markdown",
   "metadata": {},
   "source": [
    "**Answer**: $g_4$ has temperature $E/k = 61206 \\text{ K}$ and $g_3$ has $29169 \\text{ K}$. Because these temperatures are significantly different then an HII-region, the line ratios are temperature dependent.\n",
    "\n",
    "The density dependence drops out in the low-density and high-density limit, because then the density is much lower/higher than the critical density of the line ratios."
   ]
  },
  {
   "cell_type": "markdown",
   "metadata": {},
   "source": [
    "(b) Now make the following (good) approximations: (i) the only important spontaneous transitions are the transitions indicated by arrows in Draine Fig. 18.1 (right-hand panel); these are 4→3, 4→1, 3→2 and 3→1; all other spontaneous transitions can be ignored; (ii) the large majority of the ions is in the ground-state (level 0); (iii) we are in the low-density limit. With these approximations, write down expressions for the rate of change of the populations of levels 4 and 3 (so for dn4/dt and dn3/dt)."
   ]
  },
  {
   "cell_type": "markdown",
   "metadata": {},
   "source": [
    "**Answer**\n",
    "\n",
    "The approximations and their implications\n",
    "(i) The only important spontaneious transitions are the transitions drawn in the figure. All other spontaneous transitions can be ignored.\n",
    "(ii) The large majority of the ions is in the ground-state. This means collisional excitation is only significant from the ground state.\n",
    "(iii) We are in the low-density limit. This means $n << n_\\text{crit}$, so collisional deexcitation can be ignored. **Why?**\n",
    "\n",
    "The expressions become:\n",
    "\n",
    "$$ \\frac{dn_4}{dt} = - A_{43}n_4 - A_{41}n_4 + k_{04}n_0n_e $$\n",
    "\n",
    "$$ \\frac{dn_3}{dt} = - A_{32}n_3 - A_{31}n_3 + k_{03}n_0n_e + A_{43}n_4 $$"
   ]
  },
  {
   "cell_type": "markdown",
   "metadata": {},
   "source": [
    "(c) Using statistical equilibrium, show that the population ratio $\\frac{n_4}{n_3}$ is independent of density.\n",
    "\n",
    "**Answer**: Statistical equilibrium means that the sum of the rates of all processes populating level $i$ equals the sum of rates of all processes depopulating the level $i$. This is a weaker version of TE, and this principle is true for each energy level.\n",
    "\n",
    "$$ \\frac{n_i}{\\text{d}t} = 0 $$\n",
    "\n",
    "This means:\n",
    "\n",
    "$$ \\frac{dn_4}{dt} = - A_{43}n_4 - A_{41}n_4 + k_{04}n_0n_e = 0 $$\n",
    "\n",
    "$$  n_4(- A_{43} - A_{41}) = - k_{04}n_0n_e $$\n",
    "\n",
    "$$  n_4 = \\frac{- k_{04}n_0n_e}{(- A_{43} - A_{41})} $$\n",
    "\n",
    "$$ \\frac{dn_3}{dt} = - A_{32}n_3 - A_{31}n_3 + k_{03}n_0n_e + A_{43}n_4 = 0 $$\n",
    "\n",
    "$$ n_3(- A_{32} - A_{31}) = - k_{03}n_0n_e - A_{43}n_4 $$\n",
    "\n",
    "$$ n_3 = \\frac{- k_{03}n_0n_e - A_{43}n_4}{(- A_{32} - A_{31})} $$\n",
    "\n",
    "$$ n_3 = \\frac{- k_{03}n_0n_e}{(- A_{32} - A_{31})} + \\frac{ - A_{43}}{(- A_{32} - A_{31})} \\frac{- k_{04}n_0n_e}{(- A_{43} - A_{41})} $$\n",
    "\n",
    "$$ \\frac{n_4}{n_3} = \\frac{\\frac{- k_{04}n_0n_e}{(- A_{43} - A_{41})}}{\\frac{- k_{03}n_0n_e}{(- A_{32} - A_{31})} + \\frac{ - A_{43}}{(- A_{32} - A_{31})} \\frac{- k_{04}n_0n_e}{(- A_{43} - A_{41})}} $$\n",
    "\n",
    "You can see that $n_e$ drops out, so the ratio is independent of density."
   ]
  },
  {
   "cell_type": "markdown",
   "metadata": {},
   "source": [
    "![](figs/fig_4.1.png)"
   ]
  },
  {
   "cell_type": "markdown",
   "metadata": {},
   "source": [
    "**Answer**"
   ]
  },
  {
   "cell_type": "markdown",
   "metadata": {},
   "source": [
    "## Problem 4.2 - Cooling with the [CII] 158 $\\mu m$ line"
   ]
  },
  {
   "cell_type": "markdown",
   "metadata": {},
   "source": [
    "One of the most important coolants of the ISM is the [CII] 158 µm line. This is a fine-structure line in the ground state $^2P_{3/2}-^2P_{1/2}$, with an Einstein $A$ coefficient of $A_{10} = 2.4 \\cdot 10^{-6} \\text{ cm}^{-3}$ and an upper level with (E1 − E0)/k = 91.2 K."
   ]
  },
  {
   "cell_type": "markdown",
   "metadata": {},
   "source": [
    "(a) Write down expressions for the number density of C$^+$ ions in the upper $(n1)$ and lower state $(n0)$, in terms of the total number density of ions $n_{C^+}$. Assume that the effect of absorption and stimulated emission can be ignored."
   ]
  },
  {
   "cell_type": "markdown",
   "metadata": {},
   "source": [
    "**Answer**"
   ]
  },
  {
   "cell_type": "markdown",
   "metadata": {},
   "source": [
    "(b) We now assume that collisional excitation of the upper state is primarily due to electrons, and the collisional deexcitation coefficient for this process is $k_{10} = 3.9 \\cdot 10^{-7} (T/100 \\text{ K})^{-1/2} \\text{ cm}^3 \\text{s}^{-1}$. Calculate the critical density of the transition for this process."
   ]
  },
  {
   "cell_type": "markdown",
   "metadata": {},
   "source": [
    "**Answer**"
   ]
  },
  {
   "cell_type": "markdown",
   "metadata": {},
   "source": [
    "(c) Assume that $n_e << n_\\text{crit}$ and write down an expression for the cooling rate $\\Lambda_{C^+}$ (in units erg cm−3 s−1), in terms of the densities of electrons and C$^+$ ions."
   ]
  },
  {
   "cell_type": "markdown",
   "metadata": {},
   "source": [
    "**Answer**"
   ]
  },
  {
   "cell_type": "markdown",
   "metadata": {},
   "source": [
    "(d) Do the same thing for the case $n_e >> n_\\text{crit}$"
   ]
  },
  {
   "cell_type": "markdown",
   "metadata": {},
   "source": [
    "**Answer**"
   ]
  },
  {
   "cell_type": "markdown",
   "metadata": {},
   "source": [
    "(e) Now assume that there is heating rate from the photoelectric effect that is given by\n",
    "\n",
    "$$ \\Gamma_\\text{pe} = 5 \\cdot 10^{-26} n_\\text{H} \\text{ erg s}^{-1} \\text{cm}^{-3} $$\n",
    "\n",
    "where $n_\\text{H}$ is the density of hydrogen nuclei. Assume that the carbon abundance is 3 · 10−4 and that all carbon is in the form of C$^+$. Furthermore, assume that $n_e$ = 50 cm−3. What is the resulting temperature in this medium?"
   ]
  },
  {
   "cell_type": "markdown",
   "metadata": {},
   "source": [
    "**Answer**"
   ]
  }
 ],
 "metadata": {
  "kernelspec": {
   "display_name": "Python 3",
   "language": "python",
   "name": "python3"
  },
  "language_info": {
   "codemirror_mode": {
    "name": "ipython",
    "version": 3
   },
   "file_extension": ".py",
   "mimetype": "text/x-python",
   "name": "python",
   "nbconvert_exporter": "python",
   "pygments_lexer": "ipython3",
   "version": "3.6.5"
  }
 },
 "nbformat": 4,
 "nbformat_minor": 2
}
