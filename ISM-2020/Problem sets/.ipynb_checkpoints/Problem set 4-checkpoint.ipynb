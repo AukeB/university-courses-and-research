{
 "cells": [
  {
   "cell_type": "markdown",
   "metadata": {},
   "source": [
    "# Interstellar Medium Fall 2020\n",
    "# Problem set 4"
   ]
  },
  {
   "cell_type": "markdown",
   "metadata": {},
   "source": [
    "## Problem 4.1 - [OIII] optical line ratio"
   ]
  },
  {
   "cell_type": "markdown",
   "metadata": {},
   "source": [
    "In this problem we are going to analyse the [OIII] λ4364.4 Å/λ5008.2 ˚A line ratio, observed from an HII region. The energy level diagram is given in Draine, Fig. 18.1 (right-hand panel). As you can see, this is treated as a 5-level system here (levels labeled from 0 to 4), but  fortunately we will be able to make some useful simplifications."
   ]
  },
  {
   "cell_type": "markdown",
   "metadata": {},
   "source": [
    "(a) Discuss the sensitivity of this line ratio to temperature and density."
   ]
  },
  {
   "cell_type": "markdown",
   "metadata": {},
   "source": [
    "**Answer**"
   ]
  },
  {
   "cell_type": "markdown",
   "metadata": {},
   "source": [
    "(b) Now make the following (good) approximations: (i) the only important spontaneous transitions are the transitions indicated by arrows in Draine Fig. 18.1 (right-hand panel); these are 4→3, 4→1, 3→2 and 3→1; all other spontaneous transitions can be ignored; (ii) the large majority of the ions is in the ground-state (level 0); (iii) we are in the low-density limit. With these approximations, write down expressions for the rate of change of the populations of levels 4 and 3 (so for dn4/dt and dn3/dt)."
   ]
  },
  {
   "cell_type": "markdown",
   "metadata": {},
   "source": [
    "**Answer**"
   ]
  },
  {
   "cell_type": "markdown",
   "metadata": {},
   "source": [
    "(c) Using statistical equilibrium, show that the population ratio n4/n3 is independent of density."
   ]
  },
  {
   "cell_type": "markdown",
   "metadata": {},
   "source": [
    "**Answer**"
   ]
  },
  {
   "cell_type": "markdown",
   "metadata": {},
   "source": [
    "![](figs/fig_1.png)"
   ]
  },
  {
   "cell_type": "markdown",
   "metadata": {},
   "source": [
    "**Answer**"
   ]
  },
  {
   "cell_type": "markdown",
   "metadata": {},
   "source": [
    "# Problem 3.2 - Collisional mixing of ortho- and para-H2"
   ]
  },
  {
   "cell_type": "markdown",
   "metadata": {},
   "source": [
    "In class we discussed the properties of the H$_2$ molecule. When the proton spins in H$_2$ are parallel, we have para-H$_2$ which can have rotational quantum numbers J = 0, 2, 4, .... If the spins are antiparallel, we have ortho-H$_2$ for which only odd values of J are possible. Radiative transitions between ortho- and para-H$_2$ are strongly forbidden; however, transitions between ortho- and para-H$_2$ may occur by collisions (at a low rate). Here we are going to estimate if this process is sufficiently effective that significant mixing between the ortho- and para-species occurs. Let H$_2$(J) denote H$_2$ with rotational quantum number J. The rate coefficient for the collisional process\n",
    "\n",
    "$$ \\text{H}_2(1) + \\text{H}_2(0) \\rightarrow \\text{H}_2(0) + \\text{H}_2(0) $$\n",
    "\n",
    "is estimated to be $k_{10} = 1.56 \\cdot 10^{-28} \\text{ cm}^3\\text{s}^{-1} $. The energy difference between the $J = 1$ and $J = 0$ states is $\\Delta E/k = 170.5 \\text{ K} $."
   ]
  },
  {
   "cell_type": "markdown",
   "metadata": {},
   "source": [
    "a) Calculate the rate coefficient $k_{01}$ for the process\n",
    "\n",
    "$$ \\text{H}_2(0) + \\text{H}_2(0) \\rightarrow \\text{H}_2(1) + \\text{H}_2(0) $$\n",
    "\n",
    "keeping the kinetic temperature $T$ a a free parameter. *Careful*: there are two factors to consider for the statistical weight: the angular momentum quantum number of the entire molecule and the total spin of the 2 nuclei."
   ]
  },
  {
   "cell_type": "markdown",
   "metadata": {},
   "source": [
    "**Answer**:"
   ]
  },
  {
   "cell_type": "markdown",
   "metadata": {},
   "source": [
    "b) In a molecular cloud with $T = 50 \\text{ K}$, what is the equilibrium ratio $n(J=1)/n(J+0)$ if only collisions with H$_2$ are acting?"
   ]
  },
  {
   "cell_type": "markdown",
   "metadata": {},
   "source": [
    "**Answer**:"
   ]
  },
  {
   "cell_type": "markdown",
   "metadata": {},
   "source": [
    "c) If the ortho-para ratio at $t = 0$ differs from the equilibrium value, the deviation from equilibrium will decay exponentially with an $e$-folding time $\\tau$, where\n",
    "\n",
    "\n",
    "$$ \\tau = \\frac{1}{n(\\text{H}_2)(k_{01} + k_{10})} $$\n",
    "\n",
    "Calculate $\\tau$ for $n(\\text{H}_2) = 10^6 \\text{cm}^{−3}$ and $T = 50 \\text{ K}$, assuming that the only processes causing ortho-para conversion are collision-induced transitions between the $J = 1$ and $J = 0$ states, with $\\text{H}_2(0)$ as the collision partner. What do you conclude?"
   ]
  },
  {
   "cell_type": "markdown",
   "metadata": {},
   "source": [
    "**Answer**:"
   ]
  },
  {
   "cell_type": "markdown",
   "metadata": {},
   "source": [
    "### Problem 3.3 - Temperature and density in an HII region"
   ]
  },
  {
   "cell_type": "markdown",
   "metadata": {},
   "source": [
    "The observed spectrum of an HII region has\n",
    "\n",
    "$$ \\frac{I([\\text{OIII}]4364.4 \\text{ Å})}{I([\\text{OIII}]5008.2 \\text{ Å})} = 0.003 $$\n",
    "\n",
    "$$ \\frac{I([\\text{OII}]3729.9 \\text{ Å})}{I([\\text{OII}]3727.1 \\text{ Å})} = 1.2$$"
   ]
  },
  {
   "cell_type": "markdown",
   "metadata": {},
   "source": [
    "a) Ignoring the effects of interstellar dust, estimate the electron temperature $T_e$ and the electron\n",
    "density $n_e$ of the HII region. (*Hint*: use the diagrams in Draine Chapter 18, taking into\n",
    "account that in these diagrams $T_4 = T_e/104 \\text{ K}$."
   ]
  },
  {
   "cell_type": "markdown",
   "metadata": {},
   "source": [
    "**Answer**:"
   ]
  },
  {
   "cell_type": "markdown",
   "metadata": {},
   "source": [
    "b) Now suppose it is discovered that there is foreground dust, absorbing more strongly at shorter wavelengths, such that A(4364.4 Å) − A(5008.2 Å) = 0.31, where $A(\\lambda)$ is the extinction at wavelength $\\lambda$, in magnitudes. Calculate again $T_e$ and $n_e$."
   ]
  },
  {
   "cell_type": "markdown",
   "metadata": {},
   "source": [
    "**Answer**:"
   ]
  }
 ],
 "metadata": {
  "kernelspec": {
   "display_name": "Python 3",
   "language": "python",
   "name": "python3"
  },
  "language_info": {
   "codemirror_mode": {
    "name": "ipython",
    "version": 3
   },
   "file_extension": ".py",
   "mimetype": "text/x-python",
   "name": "python",
   "nbconvert_exporter": "python",
   "pygments_lexer": "ipython3",
   "version": "3.6.5"
  }
 },
 "nbformat": 4,
 "nbformat_minor": 2
}
