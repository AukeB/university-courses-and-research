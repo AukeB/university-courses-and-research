{
 "cells": [
  {
   "cell_type": "markdown",
   "metadata": {},
   "source": [
    "# Interstellar Medium Fall 2020\n",
    "# Problem set 1"
   ]
  },
  {
   "cell_type": "markdown",
   "metadata": {},
   "source": [
    "## Problem 1.1 - Observing HI emission"
   ]
  },
  {
   "cell_type": "markdown",
   "metadata": {},
   "source": [
    "An extended local atomic hydrogen cloud is located between us and the cosmic microwave background with temperature $T_\\text{CMB} = 2.7255 \\text{ K}$. We observe the cloud with a radiotelescope in the HI 21 cm line. Suppose that the HI in the cloud has spin temperature $T_s = 50 K$, and that the optical depth in the centre of the line is $\\tau_0 = 0.1$. What will be the Rayleigh-Jeans brightness temperature (expressed in K) and intensity (expressed in Jansky per steradian) at the centre of the line?"
   ]
  },
  {
   "cell_type": "code",
   "execution_count": 97,
   "metadata": {},
   "outputs": [],
   "source": [
    "import numpy as np"
   ]
  },
  {
   "cell_type": "code",
   "execution_count": 98,
   "metadata": {},
   "outputs": [],
   "source": [
    "T_CMB = 2.7255 # Cosmic microwave background temperature [K].\n",
    "T_s = 50 # Spin themperature of the HI cloud.\n",
    "tau_0 = 0.1 # Optical depth in the centre of the line."
   ]
  },
  {
   "cell_type": "markdown",
   "metadata": {},
   "source": [
    "**Answer**\n",
    "\n",
    "$$ T_b = T_c e^{-\\tau_\\nu} + T_{ex}(1 - e^{-\\tau_\\nu}) $$"
   ]
  },
  {
   "cell_type": "code",
   "execution_count": 99,
   "metadata": {},
   "outputs": [
    {
     "name": "stdout",
     "output_type": "stream",
     "text": [
      "Rayleigh-Jeans brightness temperature equals 7.224 K\n"
     ]
    }
   ],
   "source": [
    "T_b = T_CMB * np.exp(-1*tau_0) + T_s * (1 - np.exp(-1*tau_0))\n",
    "print(f'Rayleigh-Jeans brightness temperature equals {T_b:.3f} K')"
   ]
  },
  {
   "cell_type": "markdown",
   "metadata": {},
   "source": [
    "$$ I_\\nu = I_\\nu(0)e^{-\\tau_\\nu} + B_\\nu(T_{ex})(1-e^{-\\tau_\\nu}) $$\n",
    "\n",
    "Because of the Rayleigh-Jeans regime you can write this equation as:\n",
    "\n",
    "$$ I_\\nu = \\frac{2k}{\\lambda^2} \\Big[ T_\\text{CMB} e^{-\\tau_\\nu} + T_s (1 - e^{-\\tau_\\nu}) \\Big] $$"
   ]
  },
  {
   "cell_type": "code",
   "execution_count": 100,
   "metadata": {},
   "outputs": [],
   "source": [
    "k_cgs = 1.380649e-16 # Boltzmann constant [erg K-1]\n",
    "lam = 21 # H1 21 cm line [cm]."
   ]
  },
  {
   "cell_type": "code",
   "execution_count": 101,
   "metadata": {},
   "outputs": [
    {
     "name": "stdout",
     "output_type": "stream",
     "text": [
      "Intensity equals 4.52343408202298e-18 erg cm-2 s-1 Hz-1 sr-1\n"
     ]
    }
   ],
   "source": [
    "I_nu = 2*k_cgs/lam**2 * ( T_CMB * np.exp(-1*tau_0) + T_s * ( 1-np.exp(-1*tau_0) ) )\n",
    "print(f'Intensity equals {I_nu} erg cm-2 s-1 Hz-1 sr-1')"
   ]
  },
  {
   "cell_type": "code",
   "execution_count": 102,
   "metadata": {},
   "outputs": [],
   "source": [
    "# Converts cgs units to Jansky.\n",
    "def cgs2jansky(x):\n",
    "    jansky = x * 1e23\n",
    "    print(f'{x:.3e} erg cm-2 s-1 Hz-1 sr-1 equals {jansky:.3e} Jy sr-1.')\n",
    "    return jansky"
   ]
  },
  {
   "cell_type": "code",
   "execution_count": 103,
   "metadata": {},
   "outputs": [
    {
     "name": "stdout",
     "output_type": "stream",
     "text": [
      "4.523e-18 erg cm-2 s-1 Hz-1 sr-1 equals 4.523e+05 Jy sr-1.\n"
     ]
    }
   ],
   "source": [
    "I_nu_jansky = cgs2jansky(I_nu)"
   ]
  },
  {
   "cell_type": "markdown",
   "metadata": {},
   "source": [
    "# Problem 1.2 - Calculating HI Mass"
   ]
  },
  {
   "cell_type": "markdown",
   "metadata": {},
   "source": [
    "In class, the following expression was derived for calculating HI mass from optically thin HI 21 cm line emission:\n",
    "\n",
    "$$ M(HI) = \\frac{2.343 \\cdot 10^5}{M_\\odot} \\Big( \\frac{D}{\\text{Mpc}} \\Big)^2 \\Big( \\frac{\\int F_\\nu \\text{d}\\nu}{\\text{Jy km s}^{-1}} \\Big) $$\n",
    "\n",
    "Derive this relation, starting from the expression for calculating column density for optically thin HI emission:\n",
    "\n",
    "$$ \\frac{N(\\text{HI})}{\\text{cm}^{-2}} = 1.813 \\cdot 10^{18} \\frac{\\int T_b \\text{d}\\nu}{\\text{K km s}^{-1}} $$"
   ]
  },
  {
   "cell_type": "markdown",
   "metadata": {},
   "source": [
    "**Answer**:"
   ]
  },
  {
   "cell_type": "markdown",
   "metadata": {},
   "source": [
    "![](figs/fig1.2.jpeg)"
   ]
  },
  {
   "cell_type": "code",
   "execution_count": 104,
   "metadata": {},
   "outputs": [],
   "source": [
    "M_sun = 1.98847e33 # Solar mass [g].\n",
    "M_HI = 1.67262158e-24 # Proton mass [g].\n",
    "M_HI_M_sun = M_HI / M_sun # Proton mass in terms of solar mass [M_sun].\n",
    "pc = 3.084e18 # Parsec expressed in centimers [cm].\n",
    "Mpc = pc * 1e6 # Megaparsec expressed in centimers [cm].\n",
    "lam_HI = 21.106 # Wavelength of the HI line."
   ]
  },
  {
   "cell_type": "code",
   "execution_count": 105,
   "metadata": {},
   "outputs": [
    {
     "name": "stdout",
     "output_type": "stream",
     "text": [
      "2.3399e+05\n"
     ]
    }
   ],
   "source": [
    "M_HI = (Mpc)**2 * M_HI_M_sun * 1.813e18 * lam_HI**2 / (2 * k_cgs) / 1e23\n",
    "print(f'{M_HI:.4e}')"
   ]
  },
  {
   "cell_type": "markdown",
   "metadata": {},
   "source": [
    "This means the expression works out to:\n",
    "\n",
    "$$ M(HI) = \\frac{2.3399 \\cdot 10^5}{M_\\odot} \\Big( \\frac{D}{\\text{Mpc}} \\Big)^2 \\Big( \\frac{\\int F_\\nu \\text{d}\\nu}{\\text{Jy km s}^{-1}} \\Big) $$"
   ]
  },
  {
   "cell_type": "markdown",
   "metadata": {},
   "source": [
    "# Problem 1.3 - Radio continuum optical depth"
   ]
  },
  {
   "cell_type": "markdown",
   "metadata": {},
   "source": [
    "![](figs/fig1.3.png)"
   ]
  },
  {
   "cell_type": "markdown",
   "metadata": {},
   "source": [
    "Figure 1 shows a 1420.4 MHz radio continuum image of the Orion Nebula, observed with the JVLA (from Van der Werf et al., 2013, ApJ, 762, 101). The temperature of the Orion Nebula is about 8400 K (this is also the excitation temperature). Use the information in the caption and derive the 1420.4 MHz continuum optical depth of the Orion Nebula at the brightest position. Note that the synthesized beam indicated in the caption is a 2-dimensional Gaussian. You need to take this into account."
   ]
  },
  {
   "cell_type": "markdown",
   "metadata": {},
   "source": [
    "**Answer**:"
   ]
  },
  {
   "cell_type": "code",
   "execution_count": 106,
   "metadata": {},
   "outputs": [],
   "source": [
    "fwhm_x = 7.2 # [arcsec]\n",
    "fwhm_y = 5.7 # [arcsec]\n",
    "peak_contour = 350 # [mJy]\n",
    "T_e = 8400 # Excitation temperature [K]."
   ]
  },
  {
   "cell_type": "markdown",
   "metadata": {},
   "source": [
    "$$ \\text{FWHM} = \\sqrt{ 8 \\ln 2 } \\sigma $$\n",
    "\n",
    "$$ \\Omega_b = 2\\pi \\sigma_x \\sigma_y $$"
   ]
  },
  {
   "cell_type": "code",
   "execution_count": 107,
   "metadata": {},
   "outputs": [
    {
     "name": "stdout",
     "output_type": "stream",
     "text": [
      "Omega_b equals 46.502 arcseconds squared.\n"
     ]
    }
   ],
   "source": [
    "Omega_b = 2 * np.pi / (8 * np.log(2)) * fwhm_x * fwhm_y\n",
    "print(f'Omega_b equals {Omega_b:.3f} arcseconds squared.')"
   ]
  },
  {
   "cell_type": "code",
   "execution_count": 108,
   "metadata": {},
   "outputs": [],
   "source": [
    "def arcsec_squared2steradian(x):\n",
    "    sec_squared = x / 60**2\n",
    "    deg_squared = sec_squared / 60**2\n",
    "    steradian = (4*np.pi**2)/(360**2) * deg_squared\n",
    "    return steradian"
   ]
  },
  {
   "cell_type": "code",
   "execution_count": 109,
   "metadata": {},
   "outputs": [
    {
     "name": "stdout",
     "output_type": "stream",
     "text": [
      "Omega_b equals 1.093e-09 steradian.\n"
     ]
    }
   ],
   "source": [
    "Omega_b_ster = arcsec_squared2steradian(Omega_b)\n",
    "print(f'Omega_b equals {Omega_b_ster:.3e} steradian.')"
   ]
  },
  {
   "cell_type": "code",
   "execution_count": 110,
   "metadata": {},
   "outputs": [
    {
     "name": "stdout",
     "output_type": "stream",
     "text": [
      "5166 K\n"
     ]
    }
   ],
   "source": [
    "T_b = (peak_contour * 1e-3 / 1e23) / (Omega_b_ster) * (lam_HI**2/(2*k_cgs))\n",
    "print(f'{T_b:.0f} K')"
   ]
  },
  {
   "cell_type": "markdown",
   "metadata": {},
   "source": [
    "$$ T_b = T_e (1 - \\exp^{-\\tau}) $$\n",
    "$$ 1 - \\frac{T_b}{T_e} = \\exp^{-\\tau} $$\n",
    "$$ \\tau = - \\ln \\Big( 1 - \\frac{T_b}{T_e} \\Big) $$"
   ]
  },
  {
   "cell_type": "code",
   "execution_count": 111,
   "metadata": {},
   "outputs": [
    {
     "name": "stdout",
     "output_type": "stream",
     "text": [
      "Optical depth equals 0.954\n"
     ]
    }
   ],
   "source": [
    "tau = -1 * np.log(1 - T_b/T_e)\n",
    "print(f'Optical depth equals {tau:.3f}')"
   ]
  },
  {
   "cell_type": "markdown",
   "metadata": {},
   "source": [
    "# Problem 1.4 - Masers"
   ]
  },
  {
   "cell_type": "markdown",
   "metadata": {},
   "source": [
    "In class we discussed maser emission. Can a maser also be seen in absorption? Prove your answer"
   ]
  },
  {
   "cell_type": "markdown",
   "metadata": {},
   "source": [
    "**Answer**: The conditions for a maser is $T_\\text{ex} < 0$ and $\\tau_\\nu < 0$."
   ]
  },
  {
   "cell_type": "markdown",
   "metadata": {},
   "source": [
    "You can look at emission and aborption by subtracting the continuum level ($T_c$) from the spectrum:\n",
    "\n",
    "$$ T_\\text{sub} = T_b - T_c = (T_\\text{ex} - T_c)(1 - \\exp^{-\\tau_\\nu}) $$\n",
    "\n",
    "$ T_\\text{sub} $ will be postive, so a maser can only be obseved in emission."
   ]
  },
  {
   "cell_type": "markdown",
   "metadata": {},
   "source": [
    "# Problem 1.5 - Conditions for maser emission"
   ]
  },
  {
   "cell_type": "markdown",
   "metadata": {},
   "source": [
    "Maser emission can occur when the process of populating a certain energy level is easier than\n",
    "that of other, lower levels. Here we will consider an idealized molecule to illustrate how this\n",
    "works. Our molecule will have three levels, denoted 0, 1 and 2, ordered according to increasing\n",
    "energy, E0 < E1 < E2. The degeneracies of these levels will be g0, g1 and g2. Now suppose\n",
    "that there is a radiation field at energy hν20 = E2 − E0, consisting of radiation from an external\n",
    "source plus any emission in the 2→0 transition.\n",
    "Let ζ02 be the absorption probability per unit time for a molecule in level 0, with a transition\n",
    "to level 2. Let A20, A21 and A10 be the Einstein A coefficients for decays 2→0, 2→1 and 1→0.\n",
    "Ignore collisions."
   ]
  },
  {
   "cell_type": "markdown",
   "metadata": {},
   "source": [
    "a) Ignoring possible absorption or stimulated emission in the 2→1 and 1→0 transitions, obtain\n",
    "an expression for the ratio n1/n0, where ni\n",
    "is the number density of molecules in level i."
   ]
  },
  {
   "cell_type": "markdown",
   "metadata": {},
   "source": [
    "**Answer**:"
   ]
  },
  {
   "cell_type": "markdown",
   "metadata": {},
   "source": [
    "b) How large must ζ02 be for this molecule to act as a maser in the 1→0 transition?"
   ]
  },
  {
   "cell_type": "markdown",
   "metadata": {},
   "source": [
    "**Answer**:"
   ]
  },
  {
   "cell_type": "markdown",
   "metadata": {},
   "source": [
    "c) Is it possible to have maser emission in the 2→1 transition? If so, what condition(s) must\n",
    "be satisfied?"
   ]
  },
  {
   "cell_type": "markdown",
   "metadata": {},
   "source": [
    "**Answer**:"
   ]
  }
 ],
 "metadata": {
  "kernelspec": {
   "display_name": "Python 3",
   "language": "python",
   "name": "python3"
  },
  "language_info": {
   "codemirror_mode": {
    "name": "ipython",
    "version": 3
   },
   "file_extension": ".py",
   "mimetype": "text/x-python",
   "name": "python",
   "nbconvert_exporter": "python",
   "pygments_lexer": "ipython3",
   "version": "3.6.5"
  }
 },
 "nbformat": 4,
 "nbformat_minor": 2
}
