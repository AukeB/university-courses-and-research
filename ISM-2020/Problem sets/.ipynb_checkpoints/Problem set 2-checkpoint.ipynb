{
 "cells": [
  {
   "cell_type": "markdown",
   "metadata": {},
   "source": [
    "# Interstellar Medium Fall 2020\n",
    "# Problem set 2"
   ]
  },
  {
   "cell_type": "markdown",
   "metadata": {},
   "source": [
    "# Problem 2.1 - Radii of Strömgren spheres"
   ]
  },
  {
   "cell_type": "markdown",
   "metadata": {},
   "source": [
    "Consider a spherical HII region ionized by an O9V star. Relevant  parameters for a star of this type are given in Draine, Table 15.1. Assume that the He/H abundance ratio is 10% by number. What will be the ratio $R_\\text{HeII}/R_\\text{HII}$, where $R_\\text{HII}$ is the radius out to which hydrogen is ionized and $R_\\text{HeII}$ is the radius out to which helium is singly ionized? An answer to ∼ 10% accuracy is OK.\n",
    "You will also need Draine Table 14.7. Don’t worry over details but do state your assumptions."
   ]
  },
  {
   "cell_type": "markdown",
   "metadata": {},
   "source": [
    "**Answer**"
   ]
  },
  {
   "cell_type": "markdown",
   "metadata": {},
   "source": [
    "# Problem 2.2 - Radio recombination lines"
   ]
  },
  {
   "cell_type": "markdown",
   "metadata": {},
   "source": [
    "In class we briefly discussed radio recombination lines. The interpretation of these lines is compli-\n",
    "cated by stimulated emission. However, if you take line ratios such as for instance He166α/H166α\n",
    "(which we use in this problem), the interpretation becomes very simple. This is because in this\n",
    "line ratio, all complicating factors cancel out. The only difference between the hydrogen line and\n",
    "the corresponding helium line is then a small frequency difference, resulting from the more mas-\n",
    "sive nucleus of the He atom. We will now use such a line ratio to estimate the temperature of the\n",
    "central star of an H ii region. To be specific, we assume that we use a radio telescope to observe\n",
    "the H166α and He166α recombination lines from an H ii region. The line ratio (integrated over\n",
    "the H ii region) is found to be He166α/H166α=0.032."
   ]
  },
  {
   "cell_type": "markdown",
   "metadata": {},
   "source": [
    "(a) Use Draine Tables 14.7 and 15.1 to estimate the temperature of the exciting star of the H ii\n",
    "region, assuming it to be of luminosity class V. Assume that all photons above the ionization\n",
    "edge of helium are absorbed by helium. Assume case B recombination at a temperature T e =\n",
    "10 4 K. Since in the line ratio all complicating factors (resulting from stimulated emission,\n",
    "etc.) cancel out, you can simply use the expressions for recombination line fluxes/intensities\n",
    "derived in class. Note also that the line emissivity coefficients for these high-n lines are to\n",
    "good accuracy the same for hydrogen and helium."
   ]
  },
  {
   "cell_type": "markdown",
   "metadata": {},
   "source": [
    "**Answer**:"
   ]
  },
  {
   "cell_type": "markdown",
   "metadata": {},
   "source": [
    "(b) The observed emission lines are measured to have Gaussian line profiles with a full width at\n",
    "half maximum (FWHM) of 23.5 and 15.3 km s −1 for H and He respectively. The spectrometer\n",
    "with which the lines are detected has a instrumental line width (FWHM) of 5.0 km s −1 .\n",
    "Assume that the only motions are thermal motions due to the temperature of the gas,\n",
    "and turbulence (constant throughout the H ii region) with an unknown velocity dispersion.\n",
    "Assume that instrumental line profile of the spectrograph and the thermal and turbulent\n",
    "velocity distributions are all Gaussians. What is the one-dimensional turbulent velocity\n",
    "dispersion in the nebula? What is the kinetic temperature T kin in the nebula?"
   ]
  },
  {
   "cell_type": "markdown",
   "metadata": {},
   "source": [
    "**Answer**:"
   ]
  },
  {
   "cell_type": "markdown",
   "metadata": {},
   "source": [
    "# Problem 2.3 - An obscured HII region"
   ]
  },
  {
   "cell_type": "markdown",
   "metadata": {},
   "source": [
    "We observe Hα (λ = 6563 Å) and Hβ (λ = 4861 Å) emission from an H ii region with T e =\n",
    "10 4 K at a distance of D = 450 pc. The observed flux densities integrated over the lines are:\n",
    "F (Hα) = 1.0 · 10 −7 erg s −1 cm −2 and F (Hβ) = 2.0 · 10 −8 erg s −1 cm −2 . The H ii region is\n",
    "observed through a foreground H i cloud, which may be dusty in which case it obscures Hβ more\n",
    "strongly than Hα, with τ Hβ /τ Hα = 1.60."
   ]
  },
  {
   "cell_type": "markdown",
   "metadata": {},
   "source": [
    "(a) What is the spectral type of the ionizing star (assumed to be of luminosity class V) of this\n",
    "H ii region?"
   ]
  },
  {
   "cell_type": "markdown",
   "metadata": {},
   "source": [
    "**Answer**:"
   ]
  },
  {
   "cell_type": "markdown",
   "metadata": {},
   "source": [
    "(b) Now you also carry out a measurement in the Brγ line and you find F (Brγ) = 4.3 ·\n",
    "10 −9 erg s −1 cm −2 . How can you reconcile this with the Hα and Hβ fluxes given before,\n",
    "given that the extinction curve has the property τ Hα /τ Brγ = 6.80?"
   ]
  },
  {
   "cell_type": "markdown",
   "metadata": {},
   "source": [
    "**Answer**:"
   ]
  }
 ],
 "metadata": {
  "kernelspec": {
   "display_name": "Python 3",
   "language": "python",
   "name": "python3"
  },
  "language_info": {
   "codemirror_mode": {
    "name": "ipython",
    "version": 3
   },
   "file_extension": ".py",
   "mimetype": "text/x-python",
   "name": "python",
   "nbconvert_exporter": "python",
   "pygments_lexer": "ipython3",
   "version": "3.6.5"
  }
 },
 "nbformat": 4,
 "nbformat_minor": 2
}
