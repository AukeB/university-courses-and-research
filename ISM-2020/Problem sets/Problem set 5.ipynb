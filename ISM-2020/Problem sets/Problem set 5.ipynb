{
 "cells": [
  {
   "cell_type": "markdown",
   "metadata": {},
   "source": [
    "# Interstellar Medium Fall 2020\n",
    "# Problem set 5"
   ]
  },
  {
   "cell_type": "markdown",
   "metadata": {},
   "source": [
    "# Problem 5.1 - Behaviour of population ratios in the optically thick case"
   ]
  },
  {
   "cell_type": "markdown",
   "metadata": {},
   "source": [
    "Consider a 2-level system (levels 0 and 1), where the Einstein coefficient for spontaneous emission\n",
    "from the upper level is A 10 . Show that, if the line is optically thick, the population ratio n 1 /n 0\n",
    "becomes independent of A 10 . Ignore any external radiation field and stimulated emission. (Hint:\n",
    "use the escape probability approach)."
   ]
  },
  {
   "cell_type": "markdown",
   "metadata": {},
   "source": [
    "**Answer**:"
   ]
  },
  {
   "cell_type": "markdown",
   "metadata": {},
   "source": [
    "# Problem 1.2 - Molecular hydrogen mass from CO(1—0)"
   ]
  },
  {
   "cell_type": "markdown",
   "metadata": {},
   "source": [
    "Recall that X CO ≡ N (H 2 )/ T b dv gives the relation between N (H 2 ) and the brightness tem-\n",
    "perature T b (integrated over radial velocity v) of the CO J=1→0 line in an extended sources."
   ]
  },
  {
   "cell_type": "markdown",
   "metadata": {},
   "source": [
    "(a) Suppose that we observe CO J=1\n",
    "→ 0 line emission from a galaxy at distance D, with a\n",
    "R\n",
    "total flux in the line W CO ≡ F ν dv, where F ν is the flux density, v is the radial veloc-\n",
    "ity, and the integral extends over the full range of radial velocities in the galaxy. Derive an\n",
    "expression giving the mass M (H 2 ) of H 2 in terms of W CO , X CO , and D (and some constants)."
   ]
  },
  {
   "cell_type": "markdown",
   "metadata": {},
   "source": [
    "**Answer**:"
   ]
  },
  {
   "cell_type": "markdown",
   "metadata": {},
   "source": [
    "b) The galaxy NGC 7331, at a distance D = 14.7 Mpc, has W CO = 4090 Jy km s −1 . Calculate\n",
    "M (H 2 ). Assume that X CO = 4 · 10 20 cm −2 (K km s −1 ) −1 ."
   ]
  },
  {
   "cell_type": "markdown",
   "metadata": {},
   "source": [
    "**Answer**:"
   ]
  },
  {
   "cell_type": "markdown",
   "metadata": {},
   "source": [
    "# Problem 1.3 - Determining CO column densities using isotopic ratios"
   ]
  },
  {
   "cell_type": "markdown",
   "metadata": {},
   "source": [
    "We measure the 12 CO and 13 CO line emission of a molecular cloud in the J=1→0 line. Both lines\n",
    "are measured to be Gaussian, with a velocity dispersion σ v = 2 km s −1 . At the peak of the line,\n",
    "the brightness temperature is measured to be 12.4 K for 12 CO(1−0) and 4.9 K for 13 CO(1−0).\n",
    "Assume that the 12 CO line is optically thick and the abundance ratio [ 12 CO]/[ 13 CO] = 65.\n",
    "Approximate by considering only the lowest 2 levels. Calculate the column density of 12 CO,\n",
    "ignoring any external radiation field, and stimulated emission. You will need these parameters\n",
    "for the 13 CO J = 1→0 line: A 10 = 6.78 · 10 −8 s −1 , ν 10 = 110.2 GHz and λ 10 = 2.72 mm. Assume\n",
    "that the gas density is 10 4 cm −3 . Explain why this last bit of information (on the density) is\n",
    "crucial (Hint: for this last point, take a look at Draine Section 19.3.2; in the rest of the problem,\n",
    "do not use escape probabilities but the usual Equation of Transfer)."
   ]
  },
  {
   "cell_type": "markdown",
   "metadata": {},
   "source": [
    "**Answer**:"
   ]
  }
 ],
 "metadata": {
  "kernelspec": {
   "display_name": "Python 3",
   "language": "python",
   "name": "python3"
  },
  "language_info": {
   "codemirror_mode": {
    "name": "ipython",
    "version": 3
   },
   "file_extension": ".py",
   "mimetype": "text/x-python",
   "name": "python",
   "nbconvert_exporter": "python",
   "pygments_lexer": "ipython3",
   "version": "3.6.5"
  }
 },
 "nbformat": 4,
 "nbformat_minor": 2
}
