{
 "cells": [
  {
   "cell_type": "markdown",
   "metadata": {},
   "source": [
    "## Neural Networks 2018: Assignment 0"
   ]
  },
  {
   "cell_type": "markdown",
   "metadata": {},
   "source": [
    "### 1. Classifying boolean functions"
   ]
  },
  {
   "cell_type": "code",
   "execution_count": 111,
   "metadata": {},
   "outputs": [
    {
     "ename": "SyntaxError",
     "evalue": "invalid syntax (<ipython-input-111-84787d4f7a1d>, line 3)",
     "output_type": "error",
     "traceback": [
      "\u001b[0;36m  File \u001b[0;32m\"<ipython-input-111-84787d4f7a1d>\"\u001b[0;36m, line \u001b[0;32m3\u001b[0m\n\u001b[0;31m    imPort matplotlib.pyplot as plt\u001b[0m\n\u001b[0m                    ^\u001b[0m\n\u001b[0;31mSyntaxError\u001b[0m\u001b[0;31m:\u001b[0m invalid syntax\n"
     ]
    }
   ],
   "source": [
    "# Imports\n",
    "import numpy as np\n",
    "imPort matplotlib.pyplot as plt"
   ]
  },
  {
   "cell_type": "code",
   "execution_count": 112,
   "metadata": {},
   "outputs": [],
   "source": [
    "# Define variables.\n",
    "X = np.array([[0,0,1,1],[0,1,0,1]])\n",
    "f1 = np.array([[1,0,0,0]]) # AND\n",
    "f2 = np.array([[0,1,1,0]]) # XOR"
   ]
  },
  {
   "cell_type": "code",
   "execution_count": 113,
   "metadata": {},
   "outputs": [
    {
     "name": "stdout",
     "output_type": "stream",
     "text": [
      "X [[0 0 1 1]\n",
      " [0 1 0 1]] Shape: (2, 4)\n",
      "f1 [[1 0 0 0]] Shape: (1, 4)\n",
      "f2 [[0 1 1 0]] Shape: (1, 4)\n"
     ]
    }
   ],
   "source": [
    "print('X',X,'Shape:',X.shape)\n",
    "print('f1',f1,'Shape:',f1.shape)\n",
    "print('f2',f2,'Shape:',f2.shape)"
   ]
  },
  {
   "cell_type": "code",
   "execution_count": 114,
   "metadata": {},
   "outputs": [],
   "source": [
    "w = np.random.rand(2,1)\n",
    "b = np.random.rand(1,1)\n",
    "y_hat = np.dot(w.T,X)+b\n",
    "pred = np.heaviside(y_hat,0)"
   ]
  },
  {
   "cell_type": "code",
   "execution_count": 115,
   "metadata": {},
   "outputs": [
    {
     "name": "stdout",
     "output_type": "stream",
     "text": [
      "w [[0.16081759]\n",
      " [0.20830008]] Shape: (2, 1)\n",
      "b [[0.32528292]] Shape: (1, 1)\n",
      "y_hat [[0.32528292 0.533583   0.48610051 0.69440059]] Shape: (1, 4)\n",
      "pred [[1. 1. 1. 1.]] Shape: (1, 4)\n"
     ]
    }
   ],
   "source": [
    "print('w',w,'Shape:',w.shape)\n",
    "print('b',b,'Shape:',b.shape)\n",
    "print('y_hat',y_hat,'Shape:',y_hat.shape)\n",
    "print('pred',pred,'Shape:',pred.shape)"
   ]
  },
  {
   "cell_type": "code",
   "execution_count": 119,
   "metadata": {},
   "outputs": [],
   "source": [
    "while np.array_equal(pred,f1) == False:\n",
    "    w = np.random.randn(2,1)\n",
    "    b = np.random.randn(1,1)\n",
    "    y_hat = np.dot(w.T,X)+b\n",
    "    pred = np.heaviside(y_hat,0)"
   ]
  },
  {
   "cell_type": "code",
   "execution_count": 120,
   "metadata": {},
   "outputs": [
    {
     "name": "stdout",
     "output_type": "stream",
     "text": [
      "w [[-1.63291351]\n",
      " [-1.05808656]] Shape: (2, 1)\n",
      "b [[0.17313028]]\n",
      "y_hat [[ 0.17313028 -0.88495629 -1.45978324 -2.5178698 ]] Shape: (1, 4)\n",
      "pred [[1. 0. 0. 0.]] Shape: (1, 4)\n"
     ]
    }
   ],
   "source": [
    "print('w',w,'Shape:',w.shape)\n",
    "print('b',b,)\n",
    "print('y_hat',y_hat,'Shape:',y_hat.shape)\n",
    "print('pred',pred,'Shape:',pred.shape)"
   ]
  },
  {
   "cell_type": "code",
   "execution_count": null,
   "metadata": {},
   "outputs": [],
   "source": []
  },
  {
   "cell_type": "code",
   "execution_count": null,
   "metadata": {},
   "outputs": [],
   "source": []
  }
 ],
 "metadata": {
  "kernelspec": {
   "display_name": "Python 3",
   "language": "python",
   "name": "python3"
  },
  "language_info": {
   "codemirror_mode": {
    "name": "ipython",
    "version": 3
   },
   "file_extension": ".py",
   "mimetype": "text/x-python",
   "name": "python",
   "nbconvert_exporter": "python",
   "pygments_lexer": "ipython3",
   "version": "3.6.5"
  }
 },
 "nbformat": 4,
 "nbformat_minor": 2
}
