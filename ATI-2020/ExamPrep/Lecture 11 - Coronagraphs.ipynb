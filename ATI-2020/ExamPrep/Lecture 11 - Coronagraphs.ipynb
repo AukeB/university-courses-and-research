{
 "cells": [
  {
   "cell_type": "markdown",
   "metadata": {},
   "source": [
    "# Astronomical Telescopes and Instruments 2020"
   ]
  },
  {
   "cell_type": "markdown",
   "metadata": {},
   "source": [
    "# Lecture 11 - Coronagraphs"
   ]
  },
  {
   "cell_type": "markdown",
   "metadata": {},
   "source": [
    "## 11.1 - History"
   ]
  },
  {
   "cell_type": "markdown",
   "metadata": {},
   "source": [
    "Bernard Lyot was a French astronomer and istrument maker who wanted to study the Sun's corona without waiting for an eclipse. He invented the coronagraph in 1939 to block sunlight and take photos of the corona.\n",
    "\n",
    "It took a large amount of time before it discovered something. First circumstellar disk was imaged in 1984. First evidence that infrared excesses measured by all sky surveys in the IR were due to flattened disks of dust - sites of planet formation.\n",
    "\n",
    "I would be take another large amount of time before the next disk would be discovered, AU Mic in 2004.\n",
    "\n",
    "Coronagraphs are also installed on space telescopes, for example HST.\n",
    "\n",
    "The Fomalhaut Debrisk Disk is one of the most famous debris disk images.\n",
    "\n",
    "The first brown dwarf was discovered in 1994 from the Palomar 60 inch telescopes. Gliese 229B taken with the HST.\n",
    "\n",
    "Coronagraphs are a way of blocking the central light of the central star, while the light from just besides the star (where planets are) shines through. The goal is to minimize the diffracted light close to the star."
   ]
  },
  {
   "cell_type": "markdown",
   "metadata": {},
   "source": [
    "## 11.2 - The Lyot Coronagraph"
   ]
  },
  {
   "cell_type": "markdown",
   "metadata": {},
   "source": [
    "Coronagraphs are angular filters. "
   ]
  },
  {
   "cell_type": "markdown",
   "metadata": {},
   "source": [
    "## 11.3 - Small IWA Coronagraphs"
   ]
  },
  {
   "cell_type": "markdown",
   "metadata": {},
   "source": [
    "Inner Working Angle (IWA) is the smallest angle on the sky at which it can reach its designed contrast."
   ]
  },
  {
   "cell_type": "markdown",
   "metadata": {},
   "source": [
    "## 11.4 - Diversity and Algorithms"
   ]
  },
  {
   "cell_type": "markdown",
   "metadata": {},
   "source": []
  },
  {
   "cell_type": "markdown",
   "metadata": {},
   "source": [
    "## 11.5 - New Concepts in Coronagraphs"
   ]
  },
  {
   "cell_type": "markdown",
   "metadata": {},
   "source": []
  }
 ],
 "metadata": {
  "kernelspec": {
   "display_name": "Python 3",
   "language": "python",
   "name": "python3"
  },
  "language_info": {
   "codemirror_mode": {
    "name": "ipython",
    "version": 3
   },
   "file_extension": ".py",
   "mimetype": "text/x-python",
   "name": "python",
   "nbconvert_exporter": "python",
   "pygments_lexer": "ipython3",
   "version": "3.6.5"
  }
 },
 "nbformat": 4,
 "nbformat_minor": 2
}
