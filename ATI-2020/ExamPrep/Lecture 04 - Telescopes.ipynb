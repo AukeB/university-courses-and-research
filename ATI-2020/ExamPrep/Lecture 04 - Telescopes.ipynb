{
 "cells": [
  {
   "cell_type": "markdown",
   "metadata": {},
   "source": [
    "# Astronomical Telescopes and Instruments 2020"
   ]
  },
  {
   "cell_type": "markdown",
   "metadata": {},
   "source": [
    "# Lecture 4 - Telescopes"
   ]
  },
  {
   "cell_type": "markdown",
   "metadata": {},
   "source": [
    "## 4.1 - History"
   ]
  },
  {
   "cell_type": "markdown",
   "metadata": {},
   "source": [
    "First telescope, the Netherlands 1608, Hans Lippershey.\n",
    "\n",
    "A telescope uses two transmitting lenses, one with a positive power and one with a negative power, to produce a non-inverted image of distant objects. The first telescopes did not have large magnifcations, typically three times or so.\n",
    "\n",
    "The patent inspired Galilei to make his own telescope.\n",
    "\n",
    "**Limitations refractive telescopes**:\n",
    "- **Chromatic abberations**: Different wavelengths will have different focal lengths. This can be solved using multiple kinds of glass.\n",
    "- **Long telescope tubes**: Because astromers desire large magnifcations, telescopes became larger and larger. This is a limitations, because it increases the weight and the mounting of the telescope needs to be stronger, which makes it harder to fabricate.\n",
    "- **Magnification requires stabilisation and guiding**: A larger telescope also means a larger sensitivity to external foces.\n",
    "\n",
    "The hard thing about making a good lense, is making the glass homogeneous. The cooling process of the glass needs to be controlled, on order to prevent air bubles or strays. Glass also sags under gravity. This means that there is a limit that determines the maximum size of a lens."
   ]
  },
  {
   "cell_type": "markdown",
   "metadata": {},
   "source": [
    "## 4.2 - Reflecting Telescopes and Conic Sections"
   ]
  },
  {
   "cell_type": "markdown",
   "metadata": {},
   "source": [
    "**Newtonian Telescope**: This telescope contains a mirror. There are no more chromatic abberations, only one surface to polish. There is central obscuration: less light, diffraction. By having the mirror set up at the bottom of the telescope tube, much larger telescopes could be made. The primary focus is awkward to get to. Introducing a secondary mirror can relay the focus to a more convenient location.\n",
    "\n",
    "The majority of mirrors used in telescopes can be described by conic sections. All of the curves of the conic sections can be described by the following equation:\n",
    "\n",
    "$$ y^2 - 2Rz + (1 + e^2)z^2 =  0 \\quad \\quad K = -e^2 \\text{  , the conic constant} $$\n",
    "\n",
    "The value and sign of $e$ determines which of the conic sections is selected.\n",
    "\n",
    "Unless $K = -1$, the focal distance $f$ changes with radius $r$, meaning you have sperhical abberation.\n",
    "\n",
    "The family of conic mirrors:\n",
    "- $e = 1, K = -1$: One focus at infinity, concave mirror - paraboloid.\n",
    "- $0 < e < 1, -1 < K < 0$: Two finite foci, concave mirror - ellipsoid.\n",
    "- $e > 1, K < -1$: Two finitic foci, convex mirror - hyperboloid"
   ]
  },
  {
   "cell_type": "markdown",
   "metadata": {},
   "source": [
    "## 4.3 - Two Mirror Telescopes"
   ]
  },
  {
   "cell_type": "markdown",
   "metadata": {},
   "source": [
    "There are two families of telescopes with a paraboloid as primary mirror.\n",
    "- **The Gregorian telescope**, which has an ellipsoid mirror as secondary mirror. The advantage of Gregorian over Cassegrain becomes clear when using a solar telescope. Because there is a focus at the primary mirror, it means you can set up a heat stop, which is important for a solar telescope. For large telescopes which have adaptive optics, a concave (ellipsoid) mirror makes testing and calibration during the day easier w.r.t a convec (hyperbolic) mirror.\n",
    "- **The Cassegrain telescope**, which has a hyperboloidal mirror as secondary mirror. This shortens the length of the telescope up to 20 percent, w.r.t. the Gregorian, but its access to the primary access is worse. By choosing the right value for the conic constant of the second mirror, the spherical abberation can be canceled out. However, if you move off-axix, there is still coma and astigmatism.\n",
    "\n",
    "All two mirror telescopes have field curvature. All astronomical sources off-axis require a curved focal plane to get them in focus.\n",
    "\n",
    "Refracting telescopes require very large tube to obtain high magnifications. By using a two-mirror telescope, you can obtain the same magnification but with a much smaller tube.\n",
    "\n",
    "The **Ritchey-Chrétien Telescope**: There is an infinite number of $K_1$ and $K_2$ values that give zero spherical abbertation and coma. Telescopes with these values are known as Richey-Chrétien telescopes. Many telescopes use this design, for example the VLC, GTC, Subaru, Keck (2x) and the Gemini (2x)."
   ]
  },
  {
   "cell_type": "markdown",
   "metadata": {},
   "source": [
    "## 4.4 - Wide Fields, Big Mirrors"
   ]
  },
  {
   "cell_type": "markdown",
   "metadata": {},
   "source": [
    "The Smidt telescopes have a larger field of view than the Cassegrain and Gregorian designs, this allowed the catalogue-ing of stars and galaxies to happen. The principle of the Schmidt telescope is that it has a spherical mirror as primary. It has a curved focal plane as secondary mirror. The spherical abgeration will be minimized by having an undersized stop at the radius of curvature. An aspheric corrector plate widens the field of view and can reduce the spherical abberation. The addition of a secondary mirror can send the light through the primary, to make it a Schmidt-Cassegrain design.\n",
    "\n",
    "The classical method of mirror making is by first taking a cube and then polishing it until it reaches the required conic shape. However, large mirrors made in this way can't cool fast enough w.r.t. the outside air. Because of this, the quality of the mirror drops fast over time. A new method was developed of mirror making which solves several of these problems. This method is known as spin casting. The glass melts while the oven spins. Also, using this method air can go throught the whole in the middle. There is temperature control because of air jet cooling.\n",
    "\n",
    "Fused silica doped with titanium makes sure the CTE is close to 0 at room temperature. This is about 20 times lower than regular float glass."
   ]
  },
  {
   "cell_type": "markdown",
   "metadata": {},
   "source": [
    "## 4.5 - Segmented Telescopes and Steering Telescopes"
   ]
  },
  {
   "cell_type": "markdown",
   "metadata": {},
   "source": [
    "Mirrors can be put next to each other to form one coherent optical structure. The challenge is adaptive optics; the whole structure of mirrors need to be aligned with each other through adaptive optics.\n",
    "\n",
    "**Stressed-mirror polishing**: The problem is the off-axis paraboloids are difficult to make, but spherical surface are easy to polish and test. Mirror segments are bent before polishing. Spherical surface is manufactured in the segment. Release the stress and it bends back into a paraboloid.\n",
    "\n",
    "Using an Altitude-azimuth mouting is the prefferd option because of computer controlling. Each object can be tracked using the two axis of rotation. However, the Zenith is inaccessible due to azimuth drive speed. Also, the object rotates throughout the night in the field of view. This can be canceled by rotating the entire instrument or a derotator: K-mirror, dove prism or anything rotatable with an odd number of reflections.\n",
    "\n",
    "Other unconventional designs also exist, such as the coelostat in China. Only one mirror to steer across sky. \n",
    "\n",
    "A cheaper alternatiave for building a large telescope is the fixed elevation mount. "
   ]
  }
 ],
 "metadata": {
  "kernelspec": {
   "display_name": "Python 3",
   "language": "python",
   "name": "python3"
  },
  "language_info": {
   "codemirror_mode": {
    "name": "ipython",
    "version": 3
   },
   "file_extension": ".py",
   "mimetype": "text/x-python",
   "name": "python",
   "nbconvert_exporter": "python",
   "pygments_lexer": "ipython3",
   "version": "3.6.5"
  }
 },
 "nbformat": 4,
 "nbformat_minor": 2
}
