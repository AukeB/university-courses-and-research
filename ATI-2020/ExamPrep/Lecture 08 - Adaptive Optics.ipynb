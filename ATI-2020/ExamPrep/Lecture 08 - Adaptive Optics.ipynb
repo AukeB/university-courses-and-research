{
 "cells": [
  {
   "cell_type": "markdown",
   "metadata": {},
   "source": [
    "# Astronomical Telescopes and Instruments 2020"
   ]
  },
  {
   "cell_type": "markdown",
   "metadata": {},
   "source": [
    "# Lecture 8 - Adaptive Optics"
   ]
  },
  {
   "cell_type": "markdown",
   "metadata": {},
   "source": [
    "## 8.1 - The Atmosphere"
   ]
  },
  {
   "cell_type": "markdown",
   "metadata": {},
   "source": [
    "Astronomers what to obtain the highest possible spatial resolution as possible. Unfortunately there is an atmosphere.\n",
    "\n",
    "The largest fraction of the atmosphere by mass is in the first 20 kilometres. The mixing of warm and cold air generates turbulence in the atmosphere.\n",
    "\n",
    "To describe the mixing process of warm air bubles mixed with the cool air in the atmospher above, we turn to to the Kolomogorov model.\n",
    "\n",
    "**Theory of turbulence**: The Kolmogorov model (1941) describes  turbulence in velocity fields. The flow is turbulent if the *Reynolds number* $R_e$ is large.\n",
    "\n",
    "$$ R_e = \\frac{V_0 L_0}{\\nu_0} $$\n",
    "\n",
    "Where $L_0$ is the scale size, $\\nu_0$ the viscosity of air and $V_0$ the velocity. Turbulent flow breaks up into smaller scales, the  Reynolds number drops until the inner scale $l_0$ is reached, where the\n",
    "kinetic energy is dissipated as heat.\n",
    "\n",
    "The following expression relates the inner and outer scale:\n",
    "\n",
    "$$ l_0 = \\frac{L_0}{R_e^{3/4}} $$\n",
    "\n",
    "So if the average flow velocity $V$ is larger, Reynolds number is larger, and inner scale is smaller.\n",
    "\n",
    "At each scale size $l$, there are fluctuations in the velocity field. The power spectrum of these fluctuation is then\n",
    "\n",
    "$$ \\Psi(\\kappa) \\propto \\kappa^{-5/3} $$\n",
    "\n",
    "This is the one dimensional Kolmogorov spectrum.\n",
    "\n",
    "If we have two clumps inside the turbulent velocity field separated by distance $r$ and they have two components of velocity in the $x$-direction, then:\n",
    "\n",
    "$$ D_V(r) = |V(x) - V(x+r^2)|^2 = C_V^2 r^{2/3} $$\n",
    "\n",
    "$C_V^2$ is the velocity structure constant.\n",
    "\n",
    "Changes in temperature are the dominant source of changes in refractive index of the air.\n",
    "\n",
    "Adding up the separate contributions of each layer of turbulence by integrating through all heights above the telescope yields the expression for the Fried length parameter $r_0$\n",
    "\n",
    "$$ r_0 = \\bigg[ 0.423 k^2 (\\text{sec}\\zeta) \\int \\text{d}h C_N^2(h) \\bigg]^{-3/5} $$\n",
    "\n",
    "The atmosphere is a complex 3D column of air, which we simplify by describing it with Kolmogorov statistics. There is an outer scale and inner scale length ($L_0$ and $l_0$), and the power spectrum of index fluctuations running between these two scales. Turbulence isn't homogenous throughout the atmosphere, but is concentrated at different altitudes, which can be from 2 to 5 km depending on the telescope site and the season. Each thin layer of this turbulent atmosphere is described with fried length and the mean velocity of the layer. By integrating out the $C_n^2$ profile, an estimate of the seeing can be calculated."
   ]
  },
  {
   "cell_type": "markdown",
   "metadata": {},
   "source": [
    "## 8.2 - Lucky Imaging and Tip Tilt Sensors"
   ]
  },
  {
   "cell_type": "markdown",
   "metadata": {},
   "source": [
    "Ground based telescopes do not reach the diffraction limit for diameters larger than 0.1m. Atmospheric turbulence smears diffraction limited images into seeing limited images typically 1 arcsecond in diameter. We can then a given path of free atmosphere as intercepted by a telescope, and then decompose it into the Zernike polynomials. \n",
    "\n",
    "**Lucky imaging**: EMCCDs have little to no read noise. Rapid readouts allow freezing of atmospheric turbulence. Keep the images with the smallest amount of turbulence and shift and stack them together."
   ]
  },
  {
   "cell_type": "markdown",
   "metadata": {},
   "source": [
    "## 8.3 - Adaptive Optics and Wavefront Senses"
   ]
  },
  {
   "cell_type": "markdown",
   "metadata": {},
   "source": [
    "![](figs/fig8_1.png)\n",
    "\n",
    "You determine the quality of the corrected wavefront with the Strehl ratio $S$. The ratio of diffraction limited peak to the measured peak height. Can be very tricky to measure accurately.\n",
    "\n",
    "The achromaticity of the atmospheric optical path difference (OPD) is exploited in adaptive optics (AO). Measuring the wavefront at shorter wavelengths means that you can correct for the atmosphere at longer wavelengths. Many systems measure in the visible and provide correction for red and infra-red wavelengths."
   ]
  },
  {
   "cell_type": "markdown",
   "metadata": {},
   "source": [
    "## 8.4 - Deformable Mirrors"
   ]
  },
  {
   "cell_type": "markdown",
   "metadata": {},
   "source": []
  },
  {
   "cell_type": "markdown",
   "metadata": {},
   "source": [
    "## 8.5 - Laser Guide Star Systems"
   ]
  },
  {
   "cell_type": "markdown",
   "metadata": {},
   "source": []
  }
 ],
 "metadata": {
  "kernelspec": {
   "display_name": "Python 3",
   "language": "python",
   "name": "python3"
  },
  "language_info": {
   "codemirror_mode": {
    "name": "ipython",
    "version": 3
   },
   "file_extension": ".py",
   "mimetype": "text/x-python",
   "name": "python",
   "nbconvert_exporter": "python",
   "pygments_lexer": "ipython3",
   "version": "3.6.5"
  }
 },
 "nbformat": 4,
 "nbformat_minor": 2
}
