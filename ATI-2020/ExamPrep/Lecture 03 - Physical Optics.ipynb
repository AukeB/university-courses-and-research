{
 "cells": [
  {
   "cell_type": "markdown",
   "metadata": {},
   "source": [
    "# Astronomical Telescopes and Instruments 2020"
   ]
  },
  {
   "cell_type": "markdown",
   "metadata": {},
   "source": [
    "# Lecture 3 - Physical Optics"
   ]
  },
  {
   "cell_type": "markdown",
   "metadata": {},
   "source": [
    "## 3.1 - Diffraction"
   ]
  },
  {
   "cell_type": "markdown",
   "metadata": {},
   "source": [
    "Diffraction occurs when you have an obstable that blocks part of a wave, and that wave then bends around the corner and spreads out. If the aperture is large, the spread is small and vice versa.\n",
    "\n",
    "If we want to calculate diffraction, you have to solve the wave equation together with boundary constraints. This is difficult, and analytical solutions exist only for a few special cases. There are many numerical approaces to solve such problems. \n",
    "\n",
    "The Huygens-Fresnel Principle is useful for many applications. This principle states that every point on a wavefront is itself the source of spherical wavelets, and the secondary wavelets emanating from different points mutually interfere.\n",
    "\n",
    "**The full diffraction calculation: Angular spectrum**:\n",
    "\n",
    "The angular spectrum method is a way to calculate diffraction.\n",
    "\n",
    "[Insert a lot of math]\n",
    "\n",
    "$$ E(k_x, k_y) = \\int \\int A(x,y) e^{i(k_yy+k_zz)} \\text{ d}x \\text{ d}y $$\n",
    "\n",
    "**Validity of Diffraction Approximations**:\n",
    "\n",
    "The Fresnel number determines how accurate certain difraction approximations are. It is given by:\n",
    "\n",
    "$$ F = \\frac{a^2}{R\\lambda} $$\n",
    "\n",
    "Where $a$ is the greatest width of the aperture, $\\lambda$ is the wavelength and $R$ is the distance between the detector and the aperture.\n",
    "\n",
    "$$ F > 1 \\quad \\quad \\text{ Near-field} $$\n",
    "\n",
    "$$ F < 1 \\quad \\quad \\text{ Far-field} $$\n",
    "\n",
    "If $F >> 1$ you have to use the angular spectrum method, it is the only way to get the correct diffraction pattern. If, on the other hand, $F \\approx 1$, you can use the Fresnel approximation. Lastly, if $F << 1$, you can use the Fraunhofer approximation, because the waves can be approximated by plane waves in the far field.\n",
    "\n",
    "In a telescope, the Fraunhofer approximation is valid, because there is optics between the aperture and the detector. These optics bring the far field to a finite distance."
   ]
  },
  {
   "cell_type": "markdown",
   "metadata": {},
   "source": [
    "## 3.2 - Fraunhofer Diffraction"
   ]
  },
  {
   "cell_type": "markdown",
   "metadata": {},
   "source": [
    "Fraunhofer diffraction for an arbitrary aperture is easy to calculate.\n",
    "\n",
    "Complex electric field distribution in Fraunhofer diffraction given by\n",
    "Fourier transform of electric field distribution across aperture:\n",
    "\n",
    "$$ E(k_x, k_y) = \\int \\int A(x,y) e^{i(k_yy+k_zz)} \\text{ d}x \\text{ d}y $$\n",
    "\n",
    "Complex aperture function $A(x,y)$ describes transmissivity and phase\n",
    "delays. Relative size of aperture to array determines resolution in focal plane. Dimension of array determines field of view in focal plane\n",
    "\n",
    "Another thing that you can do with fraunhofer diffraction is **controlled abberrations**. can modify phase in aperture to change in PSF at will. Dark hole for high-contrast imaging of exoplanets.\n",
    "\n",
    "Another application of Fraunhofer diffraction has to do with spectrographs. Using a grating, there will not be uniform illumination, but the intensity will scale with a sinc profile:\n",
    "\n",
    "$$ I(\\theta) = I(0) \\bigg( \\frac{\\sin\\beta}{\\beta} \\bigg)^2 $$\n",
    "\n"
   ]
  },
  {
   "cell_type": "markdown",
   "metadata": {},
   "source": [
    "## 3.3 - Transfer Functions"
   ]
  },
  {
   "cell_type": "markdown",
   "metadata": {},
   "source": [
    "Point Spread Function (PSF): Image of a point source. Image produced by an on-axis point source, which is the fourier transform of the pupil image, or the absolute value of the fourier transform of the complex aperture function.\n",
    "\n",
    "If we then we to know what an image of an arbitrary object is, assuming it is made of incoherent emitters, the image that we observe is nothing more than than the convolution of the true object and the PSF.\n",
    "\n",
    "**PSF of a Two-pinhole interfereometer**:\n",
    "\n",
    "PSF is:\n",
    "\n",
    "$$ I_0 \\cos^2 \\bigg( \\frac{yd\\pi}{s\\lambda} \\bigg) $$\n",
    "\n",
    "Tilting the incoming beam with an angle $\\alpha$, changes the phase/position of the fringe pattern. The separation of the fringes is determined by the wavelength and the distance between the pinhole. If you tilt with a factor $\\lambda/d$, you would gain the original pattern.\n",
    "\n",
    "If $\\lambda$ gets smaller, the fringes repeat more frequently.\n",
    "\n",
    "Fringe spacing only depends on separation of holes and wavelength. The larger the apertures, the smaller the 'illuminated' area. Fringe envelope is Airy pattern (diffraction pattern of a single hole)\n",
    "\n",
    "**Optical Transfer function**:\n",
    "\n",
    "Another concept that is useful to be aware of, is the optical transfer function.\n",
    "\n",
    "$$ i = o \\ast s $$\n",
    "\n",
    "$i$ is image, $o$ is object, and $s$ is PSF. If we now take the inverse Fourier transform of this, we get:\n",
    "\n",
    "$$ I = O \\cdot S $$\n",
    "\n",
    "$I$ is the inverse Fourier transform of the image, $O$ is the inverse Fourier transform of the object and $S$ is the **Optical transfer function (OTF)**. So the OTF is the inverse Fourier transform of the PSF. This also implies that the OTF is the autocorrelation of complex aperture function $A$.\n",
    "\n",
    "The Modulation Transfer Function (MTF) is nothing more than the absolute value of the OTF. The MTF describes what happens to the image of a sinusoidal function. It simply tells you by how much the observed variability of the sinusoidal amplitude is reduced.\n",
    "\n",
    "**General Transfer Fuctions**:\n",
    "\n",
    "Generally, a transfer function starts with a black box, characterized by transfer function $h$. Operates on time, position, angle, etc. If you want to measure the black box, you put in a $\\delta$-function, and out comes the transfer function $h$. Output of general input if convolution of input with transfer function. If a transfer function is known with good accuracy $\\rightarrow$ deconvolution to recover original signal (e.g. Richardson-Lucy deconvolution).\n",
    "\n",
    "![](figs/fig3_1.png)"
   ]
  },
  {
   "cell_type": "markdown",
   "metadata": {},
   "source": [
    "## 3.4 - Coherence and Interference"
   ]
  },
  {
   "cell_type": "markdown",
   "metadata": {},
   "source": [
    "The two-pinhole interferometer: Extended source $S$, fully coherent waves from holes $S_1, S_2$ with intensities $I_0$. A useful tool is the **mutual coherence function** of the electric field at $S_1$ and $S_2$ with time delay $\\tau$:\n",
    "\n",
    "$$ \\tilde{\\Gamma_{12}}(\\tau) = \\mathcal{E} \\Big[ \\tilde{E_1}(t+\\tau) \\tilde{E^\\ast_2}(t) \\Big] $$\n",
    "\n",
    "Normalizing the mutual coherence function defines the complex degree of coherence.\n",
    "\n",
    "THe complex degree of coherence function measures both the spatial coherence at $S_1$ and $S_2$, and the temporal coherence throught time lag $\\tau$.\n",
    "\n",
    "The **Van Cittert–Zernike theorem**, named after physicists Pieter Hendrik van Cittert and Frits Zernike, is a formula in coherence theory that states that under certain conditions the Fourier transform of the intensity distribution function of a distant, incoherent source is equal to its complex visibility.\n",
    "\n",
    "Last part not entirely clear, but might also be not that important.\n",
    "\n"
   ]
  }
 ],
 "metadata": {
  "kernelspec": {
   "display_name": "Python 3",
   "language": "python",
   "name": "python3"
  },
  "language_info": {
   "codemirror_mode": {
    "name": "ipython",
    "version": 3
   },
   "file_extension": ".py",
   "mimetype": "text/x-python",
   "name": "python",
   "nbconvert_exporter": "python",
   "pygments_lexer": "ipython3",
   "version": "3.6.5"
  }
 },
 "nbformat": 4,
 "nbformat_minor": 2
}
