{
 "cells": [
  {
   "cell_type": "markdown",
   "metadata": {},
   "source": [
    "# Astronomical Telescopes and Instruments 2020"
   ]
  },
  {
   "cell_type": "markdown",
   "metadata": {},
   "source": [
    "# Lecture 5 - Polarization"
   ]
  },
  {
   "cell_type": "markdown",
   "metadata": {},
   "source": [
    "## 5.1 - Origin of Polarization"
   ]
  },
  {
   "cell_type": "markdown",
   "metadata": {},
   "source": [
    "$$ \\vec{E} = \\vec{E}_0 e^{i(\\vec{k} \\cdot \\vec{x} - \\omega t)} $$\n",
    "\n",
    "$\\vec{E}_0$ is constant in space and time, and in plane perpendicular to $\\vec{k}$. To understand polarization, represent $\\vec{E}_0$ in 2-D basis with unit vectors $\\vec{u}_x$ and $\\vec{u}_y$.\n",
    "\n",
    "Polarization is nothing more then the $\\vec{E}_0$ vector:\n",
    "\n",
    "$$ \\vec{E}_0 = e_x \\vec{u}_x + e_y \\vec{u}_y $$\n",
    "\n",
    "$e_x$ and $e_y$ are two arbitrary complex scalars, 4 degrees of freedom. From this, multiple kinds of polarization can develop. There is linear polarization (vertical and horizontal), circular polarization (left and right), and elliptical polarization.\n",
    "\n",
    "![](figs/fig5_1.png)\n",
    "\n",
    "All light is polarized. If you look in the universe you will find it anywhere. Polarization due to anisotropy $\\rightarrow$ not all directions are equal. Typical anisotropies introduced by geometry: scattering, reflection ,refraction or temperature gradients: stellar atmosphere, density gradients, magnetic fields, eletrical fields. Anisotropic materials (crystals, stressed glass, elongated dust grains).\n",
    "\n",
    "Scattering part is not entirely clear to me yet."
   ]
  },
  {
   "cell_type": "markdown",
   "metadata": {},
   "source": [
    "## 5.2 - Jones Formalism"
   ]
  },
  {
   "cell_type": "markdown",
   "metadata": {},
   "source": [
    "Another way to respresent is known as Jones representation.\n",
    "\n",
    "![](figs/fig5_2.png)\n",
    "\n",
    "The nice things about Jones vectors is that you can actually add them together. Jones vector of sum of waves equals to sum of Jones vectors of individual waves. Jones formalism always describes fully polarized light only. It operatores on amplitudes, not on intensities. However, elements of Jones vectors are not directly observable. What you can measure are products of Jones vectors, i.e. intensity $\\vec{I} = \\vec{e} \\cdot \\vec{e}^* = e_x e_x^* + e_y e_y^* $.\n",
    "\n",
    "Influence of medium on polarization desribed by complex 2 by 2 Jones matrix $J$. Assumes that medium is not affected by polarization state of light, which is almost always true in astronomy. Different media $1$ to $N$ in order of wave direction $\\rightarrow$ combined influence decscribed by $J = J_N J_{N-1} ... J_2 J_1$. Reverse order of matrices in product is crucial."
   ]
  },
  {
   "cell_type": "markdown",
   "metadata": {},
   "source": [
    "## 5.3 - Stokes and Mueller Formalisms"
   ]
  },
  {
   "cell_type": "markdown",
   "metadata": {},
   "source": [
    "Another way to represent polarized light: Stokes and Mueller formalisms.\n",
    "\n",
    "A Stokes vector is a formalism to describe polarization of quasi-monocrhomatig light. The beauty of the Stokes formalism is that it is linear, you can add them together and directly related to measureable intensities. You can directly observe the components of the Stokes vector (Contrary to Jones formalism).\n",
    "\n",
    "![](figs/fig5_3.png)\n",
    "\n",
    "Stokes vectors can be directly derived from the Jones vectors. Stokes vectors also have the advantage that it is able to describe unpolarized light, when $Q = U = V = 0$.\n",
    "\n",
    "![](figs/fig5_4.png)\n",
    "\n",
    "![](figs/fig5_5.png)\n",
    "\n",
    "Similar to turning Jones vectors into Jones matrices, you can turn Stokes vectors into *Mueller matrices*. Real 4x4 Mueller matrices describe (linear) transformation between Stokes vectors when passing through or reflecting from media. Not all 16 matrix elements are independent of each other, Mueller matrices never have 16 degrees of freedom. Combining Mueller matrix works similar to Jones matrices, you multiply them in reverse order.\n",
    "\n",
    "If we have an optical element, sometimes it will be handy to know what its Mueller matrix is when it is rotated:\n",
    "\n",
    "$$ \\boldsymbol{M}(\\theta) = \\boldsymbol{R}(-\\theta) \\boldsymbol{M} \\boldsymbol{R}(\\theta) $$\n",
    "\n",
    "![](figs/fig5_6.png)\n",
    "\n",
    "It is simply a change of coordinate system around the propagation direction."
   ]
  },
  {
   "cell_type": "markdown",
   "metadata": {},
   "source": [
    "## 5.4 - Polarizers"
   ]
  },
  {
   "cell_type": "markdown",
   "metadata": {},
   "source": [
    "Polarizer are optical element that produce polarized light from unpolarized input light, so they make light polarized. There are multiple kinds of polarizers: linear, circular or in general elliptical polarizers. Linear polarizers are by far the most common, this is because technically they are the easiest to produce. Large variety of ways to manufacture polarizers.\n",
    "\n",
    "![](figs/fig5_7.png)\n",
    "\n",
    "**Wire grid polarization**:\n",
    "A very different way to do polarization is what's called a wire grid. If you have wires that are conducting (made out of metal), and you set them close together, it will act as a polarizer. Parallel, conducting writes, spacing $d < \\lambda$ act as polarizer. Electrical field parallel to wires induces electrical currents in wires. Induced electrical current reflects polarization parallel to wires. Polarization perpendicular to wires is transmitted.\n",
    "\n",
    "Rule of thumb:\n",
    "\n",
    "$$ d < \\lambda/2 \\quad \\quad \\text{strong polarization} $$\n",
    "\n",
    "$$ d >> \\lambda \\quad \\quad \\text{high transmission of both polarization states } $$\n",
    "\n",
    "These wire grids are easy to make, work very well and very nice to use.\n",
    "\n",
    "**Polaroid polarizers**:\n",
    "\n",
    "This is somewhat cheaper way to make polarizers, and were developed quite a while ago. Developed in Edwin Land in 1938 $\\rightarrow$ polaroid sheet polarizers. Polyvinyl alcohol (PVA) sheet, laminated to sheet of cellulose acetate butyrate, treated with iodine. PVA-iodine complex analogous to short, conducting wires. Mechanical stretching aligns PVA-iodine molecules. Cheap, can be manufactured in large sizes.\n",
    "\n",
    "The beauty of this approach is that all materials are very cheap, and you can make them really large, and they can be mass manufactured, which explains why they are so cheap."
   ]
  },
  {
   "cell_type": "markdown",
   "metadata": {},
   "source": [
    "## 5.5 - Crystal Polarizers"
   ]
  },
  {
   "cell_type": "markdown",
   "metadata": {},
   "source": [
    "When you want to make high quality polarizers that produces really pure polarized light, then crystals are by far the best way to go. This is because, the atoms and molecules in a crystal are extremely well aligned, and they are anisotropic. This can separate incominb beams into two beams with precisely orthogonal linear polarization states. They also work well over large wavelength range. There are many different configurations. Calcite is most often used in crystal-based polarizers, because of large birefringence, low absorption in visible. Many other suitable crystals including quartz. Quartz are way more abundunt, you can grow them artificially.\n",
    "\n",
    "In anisotropic materials, the dieelectric constant is a tensor. So think of it like a 3 by 3 matrix. Maxwell equations imply symmetric dielectric tensor. A Cartesian coordinate system exists where the tensor is diagonal $\\rightarrow$ 3 principal indices of refraction in coordinates system spanned by principla axes.\n",
    "\n",
    "**Uniaxial Materials:**\n",
    "\n",
    "Anisotropic materials $n_x \\neq n_y \\neq n_z$\n",
    "\n",
    "Uniaxial materials $n_x = n_y \\neq n_z$. This means that two of the indices of refraction are the same.\n",
    "\n",
    "**Optic axis not to be confused with optical axis.** It is an axis that has different index of refraction. Also called the c-axis or crystallographic axis.\n",
    "\n",
    "Ordinary axis $n_o = n_x = n_y$. A plane in which the index of refraction stays the same.\n",
    "\n",
    "Extraordinary axis $n_e = n_z$, along optic axis.\n",
    "\n",
    "Fast axis: Axis with the smallest index, because here goes the light the fastest.\n",
    "\n",
    "Most materials used in polarimetry are (almost) uniaxial, e.g. calcite\n",
    "\n",
    "**Wave propagation in Uniaxial Media:**\n",
    "\n",
    "Two solutions to the wave equation with orthogonal linear polarizations.\n",
    "\n",
    "Ordinary ray propagates as in isotropic medium with index $n_o$. Extraordinary ray sees direction-dependent index of refraction:\n",
    "\n",
    "$$ n_2(\\theta) = \\frac{n_o n_e}{\\sqrt{n_o^2 \\sin^2 \\theta + n_e^2 \\cos^2\\theta}} $$\n",
    "\n",
    "$\\theta$ angle between wave vector and optic axis. For $\\theta = 0, n_2 = n_o$, For $\\theta = 90 \\text{ deg}, n_2 = n_e$.\n",
    "\n",
    "**How can we make this into a polarizer?**\n",
    "\n",
    "![](figs/fig5_8.png)\n",
    "\n",
    "One linear polarizer goes straight through as in isotropic material (ordinary ray). Linear polarization of ordinary ray is perpendicular to optic axis and wave vector. Perpendicular linear polarization propagates at dispersion angle $\\alpha$ (extraordinary ray). Linear polarization of extraordinary ray is perpendicular to ordinary ray. Optical problems: different optical path lengths, crystal abberations (astigmatism).\n",
    "\n",
    "**Total Internal Reflection (TIR):**\n",
    "\n",
    "Another way to build a crystal polarizer is based on TIR. The principle is this: $n_o \\neq n_e \\rightarrow$ One beam can be totally reflected while other is transmitted. This is the principal of most crystal polarizers.\n",
    "\n",
    "**Common Crystal Polarizers:**\n",
    "\n",
    "Savart Plate; path length stays the same. Wollaston Prism does the same with a different mechanism. Note on the side: The angles in a Wollaston Prism are not exactly the same. The Foster Prism is another way.\n",
    "\n",
    "![](figs/fig5_9.png)"
   ]
  },
  {
   "cell_type": "markdown",
   "metadata": {},
   "source": [
    "## 5.6 - Retarders\n",
    "\n",
    "**Linear retarders or Wave Plates:**\n",
    "\n",
    "A linear retarder is a uniaxial crystal, optic axis parallel to surface $\\theta = 90 \\text{ deg}$. Fast axis (f) has lowest index, slow axis (s) has highest index. Example is the halfwave retarder: One polarization state is delayed by 180 degrees w.r.t to other state.\n",
    "\n",
    "Retarders do not change intensity or degree of polariation. They simply introduce a phase change in two orthonogal polarization components.\n",
    "\n",
    "Retardation of retarder depends very much on wavelength. Achromatic retarders: combinations of different materials or the same materials with different fast axis directions.\n",
    "\n",
    "**Phase Change on Total Internal Reflection (TIR):**\n",
    "\n",
    "Another way to build a retarder is to use a phase change on TIR. TIR induces phase change that depends on polarization.\n",
    "\n",
    "**Variable retarders:**\n",
    "\n",
    "A very different way to do retardation is variable retarders. Sensitive polarimeters requires retarders whose properties (retardance, fast axis orientation) can be varied quickly (modulated). Retardance changes (change of birefringence). Fast-axis orientation changes (change of c-axis direction).\n",
    "\n",
    "**Liquid Crystals (LC):**\n",
    "\n",
    "Liquid crystals molecules are elongated, often with dipole moment. Crystal at low temperatures, isotropic liquid at high temperatures. At intermediate temperatures, the liquid crystal is ordered in orientation and sometimes also space in one or more dimensions. However, there is always one spatial dimensions in which the molecules are random.\n",
    "\n",
    "Now, how do you make retarders out of LC?\n",
    "\n",
    "![](figs/fig5_10.png)"
   ]
  }
 ],
 "metadata": {
  "kernelspec": {
   "display_name": "Python 3",
   "language": "python",
   "name": "python3"
  },
  "language_info": {
   "codemirror_mode": {
    "name": "ipython",
    "version": 3
   },
   "file_extension": ".py",
   "mimetype": "text/x-python",
   "name": "python",
   "nbconvert_exporter": "python",
   "pygments_lexer": "ipython3",
   "version": "3.6.5"
  }
 },
 "nbformat": 4,
 "nbformat_minor": 2
}
