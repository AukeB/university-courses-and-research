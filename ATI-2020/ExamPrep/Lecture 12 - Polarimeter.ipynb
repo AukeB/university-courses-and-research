{
 "cells": [
  {
   "cell_type": "markdown",
   "metadata": {},
   "source": [
    "# Astronomical Telescopes and Instruments 2020"
   ]
  },
  {
   "cell_type": "markdown",
   "metadata": {},
   "source": [
    "# Lecture 12 - Polarimeter"
   ]
  },
  {
   "cell_type": "markdown",
   "metadata": {},
   "source": [
    "Polarimetry is the noble science of measuring polarization. "
   ]
  },
  {
   "cell_type": "markdown",
   "metadata": {},
   "source": [
    "## 12.1 - Astronomical polarimetry: opportunities, challenges & definitions"
   ]
  },
  {
   "cell_type": "markdown",
   "metadata": {},
   "source": [
    "**Astronomical polarimetry**:\n",
    "- Polarization is created (and/or modified) whenever the rotational symmetry is broken as seen from the observer.\n",
    "- Polarization therefore carries information about remote sources that cannot be obtained in any other way!\n",
    "- If you measure carefully enough, everything is polarized...\n",
    "- ... including many things that you didn’t expect to see or really don’t want to see.\n",
    "\n",
    "The basics, how do we describe a polarization measurement? We do this with the Stokes parameters. Most detectors, if not all, measure only intensity, they count photons. It is useful to describe the Stokes parameters in terms of polarization-filtered intensity measurements. $I$ is the intensity, $Q$ and $U$ desribe linear polarization and $V$ describes circular polarization. Polarimetry is therefore differential photometry, because when using stokes parameters, you are subtracting different kind of intensity measurements from each other. Fractinoal stokes parameters means everything is divided by $I$, so everything will have a value between $-1$ and $1$.\n",
    "\n",
    "![](figs/fig12_1.png)\n",
    "\n",
    "![](figs/fig12_2.png)\n",
    "\n",
    "This was the real basics. Now to the  performance parameters.\n",
    "- Polarimetric sensitivity: The noise level in $Q/I$. Photon noise is a fundamental limit to polarimetric sensitivity. Polarimetry is a photon-hungry technique!\n",
    "- Polarimetric accuracy.\n",
    "\n",
    "![](figs/fig12_3.png)\n",
    "\n",
    "![](figs/fig12_4.png)\n",
    "\n",
    "3 challenges for polarimetry\n",
    "1. Each polarization measurement is a different measurement $\\rightarrow$ Measurement strategy needs to be adapted to differential effects (noise/systematics) that can induce polarimetric errors.\n",
    "2. Each optic that is not perfectly rotationally symmetric induces instrumental polarization and/or modifies the incoming polarization. $\\rightarrow$ The end-to-end polarimetric response need to be calibrated.\n",
    "3. The polarization measurement needs to be integrated with imaging and/or spectral measurements. $\\rightarrow$ Polarimeters need to be optimized at systems level, and fully integrated in the design from the very beginning."
   ]
  },
  {
   "cell_type": "markdown",
   "metadata": {},
   "source": [
    "## 12.2 - Basics of polarization measurements"
   ]
  },
  {
   "cell_type": "markdown",
   "metadata": {},
   "source": [
    "Transforming polarization information into at least two\n",
    "intensity measurements. Polarization modulation can be in one or several dimensions: Time, space, or wavelength.\n",
    "\n",
    "A rotating polarizer samples the whole region of $U/I$ and $Q/I$ space, which provides a good polarization measurement for linear polarization. Maximum separation of modulation states provides optimal polarimetric efficiency: optimal noise propagation to $Q/I$ and $U/I$.\n",
    "\n",
    "**Full-Stokes polarization modulation**: The Poincaré sphere.\n",
    "\n",
    "**The modulation matrix**: Is derived from the Mueller matrix.\n",
    "\n",
    "**Demodulation**:"
   ]
  },
  {
   "cell_type": "markdown",
   "metadata": {},
   "source": [
    "## 12.3 - Temporal modulation & Dual-beam exchange"
   ]
  },
  {
   "cell_type": "markdown",
   "metadata": {},
   "source": []
  },
  {
   "cell_type": "markdown",
   "metadata": {},
   "source": [
    "## 12.4 - Spectral modulation"
   ]
  },
  {
   "cell_type": "markdown",
   "metadata": {},
   "source": []
  },
  {
   "cell_type": "markdown",
   "metadata": {},
   "source": [
    "## 12.5 - Instrumental polarization & polarization calibration"
   ]
  },
  {
   "cell_type": "markdown",
   "metadata": {},
   "source": []
  },
  {
   "cell_type": "markdown",
   "metadata": {},
   "source": [
    "## 12.6 - Polarimetric systems"
   ]
  },
  {
   "cell_type": "markdown",
   "metadata": {},
   "source": []
  }
 ],
 "metadata": {
  "kernelspec": {
   "display_name": "Python 3",
   "language": "python",
   "name": "python3"
  },
  "language_info": {
   "codemirror_mode": {
    "name": "ipython",
    "version": 3
   },
   "file_extension": ".py",
   "mimetype": "text/x-python",
   "name": "python",
   "nbconvert_exporter": "python",
   "pygments_lexer": "ipython3",
   "version": "3.6.5"
  }
 },
 "nbformat": 4,
 "nbformat_minor": 2
}
