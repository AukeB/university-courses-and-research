{
 "cells": [
  {
   "cell_type": "markdown",
   "metadata": {},
   "source": [
    "# Astronomical Telescopes and Instruments 2020"
   ]
  },
  {
   "cell_type": "markdown",
   "metadata": {},
   "source": [
    "# Lecture 10 - Spectrographs"
   ]
  },
  {
   "cell_type": "markdown",
   "metadata": {},
   "source": [
    "## 10.1 - Filters and basic spectrographs"
   ]
  },
  {
   "cell_type": "markdown",
   "metadata": {},
   "source": [
    "**Spectrograph**: An instrument used to measure properties of light over a specific portion of the electromagnetic spectrum.\n",
    "\n",
    "Important questions when designing spectrographs:\n",
    "- What kind of spectral resolution do you need?\n",
    "$$ R = \\frac{\\lambda}{\\Delta\\lambda} $$\n",
    "- What bandwidth (wavelength range) do you want to cover? How wide a a range of wavelengths should the spectrograph work over?\n",
    "- Maximise throughput for best efficiency.\n",
    "\n",
    "![](figs/fig10_1.png)\n",
    "\n",
    "Original UBV filters by Johnson and Morgan 1953. VRIJKLMNQ filters by Johnson 1960. After that, each set of filters has a specific science goal, i.e. measuring properties of stars or galaxy observations.\n",
    "\n",
    "**Slitless spectrograph**: Put a dispersing element in front of the telescope aperture. Each individual image of a star is smeared out across the detector into a small spectrum $\\rightarrow$ Handy when you want to characterise large quantities of stars simultaneously. Solution to spectrum overlaying each other is taking multiple observations from differenct directions. Slitless spectrographs can also be used on extended objects.\n",
    "\n",
    "Layout basic spectrgraph:\n",
    "\n",
    "![](figs/fig10_2.png)\n",
    "\n",
    "**Collimated beam**: Light that has parallel rays, and therefore will spread minimally as it propagates. Perfect collimated beam would mean no divergence, so no dispersion with distance. Diffraction prevents this.\n",
    "\n",
    "**Anamorphic magnification**: Means that magnification along mutually perpendicular radii is different. Anamorphic magnification arises because\n",
    "the diffracting element may send light off\n",
    "at a large angle from the camera normal,\n",
    "and is defined as $r$.\n",
    "\n",
    "**Spatial (de)magnification**: Spatial (de)magnification occurs because of the different focal lengths of the camera and collimator so that detector pixels are Nyquist sampled.\n",
    "\n",
    "**Resolution element**: The minimum resolution of the spectrograph. This will depend of the spectral size of the image, which is a factor of image size, spectral magnification and the linear dispersion\n",
    "\n",
    "**The slit**: We cannot record three dimensions of data (x,y, wavelength) onto a two dimensional detector, so we need to choose how we fill up our detector are. For a seeing limited object, such as a star, varying the slit width is a balance between spectral resolution and throughput. Slit too wide, spectral resolution goes down. Slit too narrow, flux from seeing limited object is lost.\n",
    "\n",
    "Spectrographic slits are given in terms of their angular size on the sky, either in arc seconds or in radians."
   ]
  },
  {
   "cell_type": "markdown",
   "metadata": {},
   "source": [
    "## 10.2 - Dispersing Elements"
   ]
  },
  {
   "cell_type": "markdown",
   "metadata": {},
   "source": [
    "**Angular dispersion**:\n",
    "$$ A = \\frac{d\\beta}{d\\lambda} $$\n",
    "\n",
    "**Linear dispersion**:\n",
    "$$ \\frac{dl}{d\\lambda} = f_\\text{cam} A $$\n",
    "\n",
    "**Glass prisms** are one of the earliest dispersing elements used in spectrographs. Prisms are used near minimum deviations so that rays inside the prism are parallel to the base. The input and output beams are the same size. Dispersion is higher at bluer wavelengths.\n",
    "\n",
    "**Diffraction grating**: Optical elements with one side a periodic structure on them. Provides coherent interference in preferred direction. Can be transmissive or reflective, and consist\n",
    "of thousands of periodic features on an optically flat surface. Flat wavefront passes through periodic structure, which changes the amplitude and/or phase. Direction of constructive interference is\n",
    "wavelength dependent. \n",
    "\n",
    "**Formula diffractiong grating**: From diffraction theory, the grating equation relates the order $m$, to the groove spacing $\\sigma$ (the number of mm between each ruled line). Constructive diffraction is acheived when this equation is satisfied.\n",
    "\n",
    "$$ m\\lambda = \\sigma(\\sin \\alpha \\pm \\sin \\beta) $$\n",
    "\n",
    "**Higher spectral orders**: Higher order dispersion from the grating will result in overlapping spectra: We can either use an ORDER BLOCKING\n",
    "FILTER or a CROSS DISPERSER to split out the different spectral orders: Free spectral range:\n",
    "\n",
    "$$ m\\lambda^\\prime = (m+1)\\lambda $$\n",
    "\n",
    "You can optimize the grading efficiency by setting a different blaze normal.\n",
    "\n",
    "**Volume phase holographic gratings**: Another type of diffractiong grating. This is typically a very thin layer of material that holds a periodic pattern. Advantage is that they can have very high transmision efficiencies, almost 100 percent.\n",
    "\n",
    "Looking at higher $m$, you can get higher spectra resolution $R$."
   ]
  },
  {
   "cell_type": "markdown",
   "metadata": {},
   "source": [
    "## 10.3 - Immersed Gratings and other Spectrographs"
   ]
  },
  {
   "cell_type": "markdown",
   "metadata": {},
   "source": [
    "**Immersion grating**: A grating that is cut into one side of a high refractive index material. Light enters the immersion grating from one side, ideally normal surface, to the high refractive index material, propagates inside the material, and is refracted of the diffraction grating cut into the material. Advantage is that much smaller volume ideal for cryogenic cooling and space based applications.\n",
    "\n",
    "$$ m\\lambda = n\\sigma(\\sin \\alpha \\pm \\sin \\beta) $$\n",
    "\n",
    "Angular dispersion within material:\n",
    "\n",
    "$$ A = \\frac{m}{n\\sigma \\cos \\beta} $$\n",
    "\n",
    "IG spectrograph takes much smaller volume. Silicon is an ideal material  to make IG at thermal IR wavelengths. It is transparent from 1 to 7 microns and has a relatively high index of 3.4. Pro: Extremely clean\n",
    "grooves mean little scattered light. Disadvantage is that you have to deal with the crystal geometry of silicon.\n",
    "\n",
    "**The Littrow spectrograph**: The incident eangle equals the diffracted angle $\\alpha = \\beta$. Simplifies the grating design, setting the blaze angleso that optimum efficiency is for $\\alpha$.\n",
    "\n",
    "**Detector**: The smallest resolution for the spectrograph should be samples at the minimum of the Nyquist frequency, which is 2 pixels per resolution element.\n",
    "\n",
    "**Fourier Transform Spectrograph**: A Michelson interferometer with one moving arm. PROS: Simple, compact, absolute calibration of spectral lines possible. CONS: very susceptible to any change in background flux."
   ]
  },
  {
   "cell_type": "markdown",
   "metadata": {},
   "source": [
    "## 10.4 - Multi Object Spectrographs"
   ]
  },
  {
   "cell_type": "markdown",
   "metadata": {},
   "source": [
    "Multi object spectroscopy is the technology that enables us to take spectra of many hundreds of targets simultaneously, within a telescope's field of view. There are several different ways of doing this.\n",
    "\n",
    "- Drilled spectro slits. Old-fashioned way. Slits are drilled at specific locations of where all the sources will be. \n",
    "- Laser cut slits. Looks like little barcodes. These are individual spectra of the night sky. Highly efficient way.\n",
    "- Configurable slits (on MOSFIRE, Keck)."
   ]
  },
  {
   "cell_type": "markdown",
   "metadata": {},
   "source": [
    "## 10.5 - Fibre fed Spectrographs"
   ]
  },
  {
   "cell_type": "markdown",
   "metadata": {},
   "source": [
    "**Fibre optics**: Made of glass, typically fused silica. Diameters of 200 microns, down to 10 microns. Can be used for reformatting the folcal plane of the telescope into an arbitrary shape. Leads to imaging hundreds of objects simulatenously. They rely on the principle of total internal reflection. \n",
    "\n",
    "Optical fibre causes azimuthal scrambling, because of the large amount of internal reflections. The output light will not be a dot, but a circular bright wing of light.\n",
    "\n",
    "A tremendous advantage op optical fibre is that the optics of the spectrograph can now be completely decoupled from the input of the optiacl fibres. This allows for tremendous flexibility in the optical design. \n",
    "\n",
    "**Focal Ratio Degradation**: Ideal preservation of input beam angle and output beam angle. In reality, deformation and stress causes light to 'spread' in output angle cone. If you don't take this into consideration you will lose a lot of light.\n",
    "\n",
    "Typical layout optical fibre spectrograph:\n",
    "\n",
    "![](figs/fig10_3.png)\n",
    "\n",
    "Because gluing optical fibres onto a glass plate is a awful process to do by hand, robotic positioners were quickly developed to automate the whole process. \n",
    "\n",
    "The main limit for observing highly crowded fields is the physical size of the fiber carriers - cannot get two fibres closer than 30 arcseconds, in the case of 2dF. Therefore densely crowded fields require multiple observations."
   ]
  },
  {
   "cell_type": "markdown",
   "metadata": {},
   "source": [
    "## 10.6 - Three Dimensional Spectroscopy"
   ]
  },
  {
   "cell_type": "markdown",
   "metadata": {},
   "source": [
    "Ideally, you want to record $x, y$ and $\\lambda$ all 3 simultaneously. In 2D there are pixels, in 3D they are called spaxels.\n",
    "\n",
    "**Optical Fibre Image Reformatter**: Use the flexibility of fibres to reformat the 2D sky into a 1D entrance slit. Pros: complete reformatting of the sky possible, decouples IFU from spectrograph, typically small (10 arcsec) fields of view. Cons: variable fibre\n",
    "transmission."
   ]
  }
 ],
 "metadata": {
  "kernelspec": {
   "display_name": "Python 3",
   "language": "python",
   "name": "python3"
  },
  "language_info": {
   "codemirror_mode": {
    "name": "ipython",
    "version": 3
   },
   "file_extension": ".py",
   "mimetype": "text/x-python",
   "name": "python",
   "nbconvert_exporter": "python",
   "pygments_lexer": "ipython3",
   "version": "3.6.5"
  }
 },
 "nbformat": 4,
 "nbformat_minor": 2
}
