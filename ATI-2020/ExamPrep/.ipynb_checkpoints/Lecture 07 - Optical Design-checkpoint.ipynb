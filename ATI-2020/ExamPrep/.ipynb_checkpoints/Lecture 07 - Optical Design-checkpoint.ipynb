{
 "cells": [
  {
   "cell_type": "markdown",
   "metadata": {},
   "source": [
    "# Astronomical Telescopes and Instruments 2020"
   ]
  },
  {
   "cell_type": "markdown",
   "metadata": {},
   "source": [
    "# Lecture 7 - Optical Design"
   ]
  },
  {
   "cell_type": "markdown",
   "metadata": {},
   "source": [
    "## 7.1 - Optical Design"
   ]
  },
  {
   "cell_type": "markdown",
   "metadata": {},
   "source": [
    "Optical design has a life cycle. It is not a linear process. It is an iterative process where you have to go back and change things. The reason for that is that the optical design is very close to other designs, such as mechanical designs, electrical designs, software design etc. You start with the requirements review.\n",
    "\n",
    "![](figs/fig7_1.png)\n",
    "\n",
    "**Tolerancing**: This means how accurate things have to be manufactured.\n",
    "\n",
    "**Requirements**:\n",
    "- *Examples directly related to optical design*: FoV, angular resolution, spectral range, spectral resolution, spectral sampling, minimum transmission.\n",
    "- *Examples that (may) influence optical design*: Telescope interfaces & instrument location, cooling, weight limit, size limit, schedule, detector pixel size (angular sampling, custom detectors unlikely), temperature range.\n",
    "\n",
    "Once you have all the above together, you want to do a requirement review for completeness and consistency. Then you derive the optical design requirements from the overall requirements.\n",
    "\n",
    "Optical design influences most instrument aspects: SNR, mass, volume, cost, etc. To track the whole instrument with budgets (whole is sum of parts), you look at the different parts: For example, wavefront error budget, transmission/photon budget, weight budget, volume budget, cost budget, etc. This allows trade-offs between components while fulfilling overall requirements.\n",
    "\n",
    "Once you have all the optics, you need to assemble them, integrate them and you need to test. This is referred to as AIT, or sometimes AIV (Verification instead of testing). AIT plan before production starts. Manufacturer may carry ou part of AIT, add alignment guides during optics manufacturing. Alignment: Put optics into correct position and orientation, often requires mechanical and optical equipment and lasters can be helpful but have no field. Testing: Performance and science verifications."
   ]
  },
  {
   "cell_type": "markdown",
   "metadata": {},
   "source": [
    "## 7.2 - Optical Design Principles"
   ]
  },
  {
   "cell_type": "markdown",
   "metadata": {},
   "source": [
    "1. **Minimize the number of optical components**: Additional elements add cost, ghosts, scattered light. However, additional elements increase performance.\n",
    "2. **Maximize the Radii of Curvature**: Eases manufacturing and alignment, reduces abberations. However, it might require more elements and/or longer designs and/or larger detectors.\n",
    "3. **Maximize the Allowed Tolerances**: Tolerances are errors in manufacturing, assembly, alignment that you have to cope with. It simplifies manufacturing, mechanis, operational requirements.\n",
    "4. **Place Low-Quality Components Close to Focus**: Low quality means here large wavefront abberations. If you have these components, if you put them close to the pupil, they have a very large influence on the performance. If you take the lens, and you place the same lens close to the focus, you don't see any influence at all. There is full abberation close to pupil, minor abberation close to focus.\n",
    "5. **Place Spatially Varying Components Close to Pupil**: If all field points must pass the same part of a component, then place the component close to the pupil. But: rays from different fields pass filter at different angle $\\rightarrow$ changes with field position.\n",
    "6. **Place Angle-Sensitive Components in Collimated Beam**: If all rays from one field point should pass the component under the same inclination angle, then place the component in a collimated beam.\n",
    "7. **Place Inclination-Sensitive Components in Telecentric Beam**: If the component is sensitive to the inclination angle, then place the component in a telecentric beam\n",
    "8. **Oversize Optical Elements**: The edges of optical elements/lenses always have worse optical qualities. Typically it's like 10 percent. You also need to hold/mount optical elements, so you can't use the outer edge. Thermal and stress effects most pronounces at edges. So, typically a good rule of thumb to oversize the optical element by 10-20 percent."
   ]
  },
  {
   "cell_type": "markdown",
   "metadata": {},
   "source": [
    "## 7.3 - First-Order and Realistic Designs"
   ]
  },
  {
   "cell_type": "markdown",
   "metadata": {},
   "source": [
    "First you have to make global design choices: Are you going to use lenses or mirros? (Depends on wavelength range). Choice of dispersing elements (prism, grating). Location aperture stop. Location of iamge and pupil planes. What is the sampling that you well have with the detector (Nyquist: > 2 pixels per resolution elmenet. You may decides to split the light into different arms, because of detectors covering a small wavelength range. (De-(magnification. F-number is an important one, because abberations scale with a high power of the F-number. Operating temperature range, pressure.\n",
    "\n",
    "First-order designs use ideal optical elements (e.g. paraxial surfaces), central and extreme field points and rays, image and puupil locations. It establishes the general configuration. It is often based on existing designs, and can be sketeched on paper of in a spreadsheet. It provides a first idea of size of different designs.\n",
    "\n",
    "After the first design you make a realistic design through raytracing software. This designs replaces your ideal components with real components. You asses performance of realitic design with raytracing. Raytracing is based on geometrical optics approximation, so it has its limits. These programs are only useful once major design decisions have already been made."
   ]
  },
  {
   "cell_type": "markdown",
   "metadata": {},
   "source": [
    "## 7.4 - Optimization"
   ]
  },
  {
   "cell_type": "markdown",
   "metadata": {},
   "source": [
    "Optimaization is build in most optical design software and automatically improves performance. Degree of freedom = variables of optical design. Examples are radii of curvature of optical surface, spacing between elemnets, conic constants, glass thicknesses etc. Sometimes you can automatically change glass types. Optimzation does not add/remove optical elements, or its order. Optimzation requires a merit function (that can be optimized). The process is a non-linear minimization of the merit function.\n",
    "\n",
    "The merit function depends on optical design parameters, boundary conditions such as maximum length, system parameters such as f-number, abberation parameters such as rms spot size, rms wavefront abberation, field curvature, often as a function of field angle and wavelength. The function is a weighted sum of individual merit function terms.\n",
    "\n",
    "Before you do global minimization, you can do local optimzation (gradient descent). Local optimzation depends on a starting point. Global optimzation can be seen as a large amount of local optimzations with different starting points, which often brings large improvements. You can never be sure if the result you reach is actually global, so you run the code for a night or so."
   ]
  },
  {
   "cell_type": "markdown",
   "metadata": {},
   "source": [
    "## 7.5 - Tolerancing"
   ]
  },
  {
   "cell_type": "markdown",
   "metadata": {},
   "source": [
    "Tolerincing is based on tolerancing analysis. Everything that is manufactured will have deviations fromt the design values. The tolerancing analysis determines the maximum allowed tolerances to which optical elements have to be manufactured, have to be positioned and environmental parameters have to be controlled (e.g. temperature). You can trade off tolerances between optical elements to increase manufacturability, reduce costs, make alignment easier, make performance less sensitive to environmental changes.\n",
    "\n",
    "The simples form of a tolerance analysis is a sensitivity analysis. Sensitivity analysis requries assumed/known tolerances for each design parameter, and a scalar merit function to quantify performance change due to tolerances. It is often the same merit function as used for optimzation. This analysis reveals the sensitivity of the merit function w.r.t the assumed tolerances, it focuses attention on most sensitive parameters.\n",
    "\n",
    "**Compensators**: Some effects of tolerances can be compensated during alignment or manufacturing of other components. A compensator is a parameter that is optimized after tolerances have been applied. The image focus is the most common compensator. The focus compensator greatly reduces sensitivity to radii and thicknesses.\n",
    "\n",
    "Sensitivity analysis determines merit function change for given tolerances. However, we want maximum tolerances for given maximum allowed merit change $\\rightarrow* inverse sensitivity analysis.\n",
    "\n",
    "**Inverse Sensitivity Analysis**: \n",
    "- Determines maximum tolerance in each individual design parameter separately for given maximum allowed change in merit function.\n",
    "- Maximum allowed merit change for inverse sensitivity analysis should be fraction of total maximum merit change.\n",
    "- Provides a first approximation to tolerances to be specified.\n",
    "- Does not consider coupling of simultaneous errors in all design parameters.\n",
    "\n",
    "**Monte Carlo Tolerance Analysis**: This is really the thing what you want to do in the end.\n",
    "- Considers coupling of simultaneous errors in all design parameters\n",
    "- Many realizations of random parameter errors within tolerances\n",
    "- Provides realistic estimate of expected performance"
   ]
  }
 ],
 "metadata": {
  "kernelspec": {
   "display_name": "Python 3",
   "language": "python",
   "name": "python3"
  },
  "language_info": {
   "codemirror_mode": {
    "name": "ipython",
    "version": 3
   },
   "file_extension": ".py",
   "mimetype": "text/x-python",
   "name": "python",
   "nbconvert_exporter": "python",
   "pygments_lexer": "ipython3",
   "version": "3.6.5"
  }
 },
 "nbformat": 4,
 "nbformat_minor": 2
}
