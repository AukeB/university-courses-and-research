{
 "cells": [
  {
   "cell_type": "markdown",
   "metadata": {},
   "source": [
    "# Astronomical Telescopes and Instruments 2020\n",
    "# Summary of the Course Material"
   ]
  },
  {
   "cell_type": "markdown",
   "metadata": {},
   "source": [
    "## Black Body Radiation\n",
    "\n",
    "A black body or blackbody is an idealized physical body that absorbs all incident electromagnetic radiation, regardless of frequency or angle of incidence. The name \"black body\" is given because it absorbs radiation in all frequencies, not because it only absorbs: a black body can emit black-body radiation.\n",
    "\n",
    "Many astronomical sources emit close to a black body.\n",
    "\n",
    "Kirchoff's Law states that the absorption and emissivity are equal for a black body.\n",
    "\n",
    "Specific intensity $I_\\nu$ of BB given by Plankck's law:\n",
    "\n",
    "$$ I_\\nu(T) = \\frac{2h\\nu}{c^2} \\frac{1}{e^{\\frac{h\\nu}{kT}}-1} $$\n",
    "\n",
    "$$ I_\\lambda(T) = \\frac{2hc^2}{\\lambda^5} \\frac{1}{e^{\\frac{hc}{\\lambda kT}}-1} $$\n",
    "\n",
    "**Approximations**:\n",
    "\n",
    "Wien approximation\n",
    "\n",
    "$$ h\\nu >> KT \\quad \\quad \\text{High frequencies} $$\n",
    "\n",
    "Rayleigh-Jeans approximation (Use Taylor-expansion to derive it)\n",
    "\n",
    "$$ h\\nu << KT \\quad \\quad \\text{Low frequencies} $$"
   ]
  },
  {
   "cell_type": "markdown",
   "metadata": {},
   "source": [
    "## General optics\n",
    "\n",
    "**The difference between geometrical and physical optics**:\n",
    "1. **Geometrical optics**: Light is described with rays. These rays are normal to the locally flat wave, and can be reflected and refracted according to Fresnel equations. The phase of light is neglected. Diffraction is also neglected: $\\lambda \\rightarrow 0$. For physical optics $\\lambda > 0$. There are images and pupils and abberations occur.\n",
    "2. **Physical optics**: Light is described as waves. Diffraction occurs, which is not taken into account within geometrical optics. Other effects that occur because light is seen as waves are, for example, scattering, interference and coherence. There are transfer functions and image metrics.\n",
    "3. In **Quantum optics** (which is not course material), light is seen as particles. Then there is the photo effect, photon noise, photon spin, photon arrival statistics, entanglement and quantized angular momentum. \n",
    "\n",
    "**Some basic concepts**:\n",
    "- **Plane wave**: A wave whose value, at any moment, is constant over any plane that is perpendicular to a fixed direction in space. Spherical waves that have originated at a very large distance can be approximated by a plane wave.\n",
    "- **Wavefront**: The wavefront of a time-varying field is the set of all points where the wave has the same phase of the sinusoid.\n",
    "- **Coherence**: Two waves are coherent if they have the same frequency and waveform, and they have no phase difference.\n",
    "- **Collimator**: An optical device that narrows a beam of light. Collimated light is light that propagates in parallel rays.\n",
    "\n",
    "**Telescope parts**:\n",
    "- **Aperture stop**: Determines the diameter of light cone from axial point on object.\n",
    "- **Field stop**: Determines the FoV of the system.\n",
    "- **Image and pupil**:  In the image plane, object information is encoded in position. In the pupil plane, object information is encoded in angle.\n",
    "- **Numerical aperture and F-number**:\n",
    "\n",
    "$$ \\text{NA} = n \\sin \\theta $$\n",
    "\n",
    "$$ F = \\frac{f}{D} = \\frac{1}{2\\text{NA}} $$\n",
    "\n",
    "Fast optics has large NA, slow optics has small NA."
   ]
  },
  {
   "cell_type": "markdown",
   "metadata": {},
   "source": [
    "## Optical Abberations\n",
    "\n",
    "Abberations are deviations from the optimal performance of an optical system. They can be devided into two categories:\n",
    "\n",
    "1. **On-axis abberations**: Abberations that can be seen everywhere in the image, also on the optical axis.\n",
    "2. **Off-axis abberations**: Abberations that are absent on the optical axis.\n",
    "    - Abberations that degrade the image.\n",
    "    - Abberations that alter the image position.\n",
    "\n",
    "The five *primary* (or Seidel because they are first-order taylor polynomical) abberations are:\n",
    "\n",
    "1. **Spherical abberation**: Rays further from the optical axis have a different focal point than rays closer to the optical axis.\n",
    "2. **Coma**: Variation of magnification across entrance pupil. Off-axis light rays are focused to look similar to a comet with a tail or a teardrop. Coma is an inherent property of telescopes using parabolic mirrors.\n",
    "3. **Astigmatism**: Rays propagating in two perpendicular planes have different foci.\n",
    "4. **Petzval field curvature**: A flat object normal to the optical axis cannot be brought properly into focus on a flat image plane. So, only objects on or close to the optical axis will be in focus on flat image plane. Off-axis objects will have different focal points.\n",
    "5. **Distortion**: A deviation from rectilinear projection. Straight lines on the sky become curved line in focal plane, because magnification depends on distance to optical axis. In pincushion distortion, the outer parts have larger magnification and in barrel distortion the outer parts have smaller magnification.\n",
    "\n",
    "- **Defocus**: The image is simply out of focus. It refers that a translation of the focus along the optical axis away from the plane of least confusion. \n",
    "- **Chromatic abberation**: Refraction index variation with wavelength $n(\\lambda)$ results in focal length of lens $f(\\lambda)$ to depend on wavelength; different wavelengths have different foci."
   ]
  },
  {
   "cell_type": "markdown",
   "metadata": {},
   "source": [
    "## Fourier Transforms\n",
    "\n",
    "**Important 1D Fourier pairs**\n",
    "\n",
    "| Function $f(x) = $  | Fourier transform $F(s)$  |\n",
    "|---|---|\n",
    "| $f(x) = e^{-\\pi x^2}$ | $F(s) = e^{-\\pi s^2}$ |\n",
    "| $f(x) = $ constant | $F(s) = \\delta(s)$ |\n",
    "| $f(x) = \\Pi(x)$ | $F(s) = $ sinc$(s)$ |\n",
    "| $f(x) = \\Lambda(x)$ | $F(s) = $ sinc$^2(s)$ |\n",
    "| $f(x) = \\cos(\\pi x)$ | $F(s) = \\delta(s\\pm \\frac{1}{2})$ |\n",
    "\n",
    "| Telescope aperture | Focal plane |\n",
    "|---|---|\n",
    "|$\\delta$ function|constant|\n",
    "|Gaussian|Gaussian\n",
    "|Elliptical gaussian|Elliptical gaussian|\n",
    "|Disk|Bessel function|\n",
    "\n",
    "The sinc function is the first order Bessel function.\n",
    "\n",
    "**Point Spread Function (PSF)**:\n",
    "\n",
    "In the Fraunhofer diffraction approximation, the electric field in the image is the Fourier transformation of the electric field in the aperture. This can mathematically be described as:\n",
    "\n",
    "$$ E(x,y,z) = \\int \\int A(u,v) e^{i\\phi(u,v)} e^{-i \\frac{2\\pi}{\\lambda z}(xy+yv)} \\text{d}u \\text{d}v $$\n",
    "\n",
    "This is true, because the $E$-field in the aperture is constant over the aperture. If you then integrate over the aperture, and assume that \n",
    "\n",
    "$$ R_0 - X \\sin \\theta \\approx R_0 $$\n",
    "\n",
    "because in the Fraunhofer approximation $x << R_0$, you will gain an expression that states that the field on the image plane is the Fourier transfrom of the aperture function.\n",
    "\n",
    "**PSF**: The PSF is the image of a point source produced by an optical system, which is equal to the electric field in the image plane squared. So, the image produced by an on-axis point source, which is the fourier transform of the pupil image.\n",
    "\n",
    "**Airy function**: A point source allows the PSF to be described by a first order Bessel function. This is alsot the sinc function ($\\sin(x)/x$): This is also knowns as the *Airy function*. The radius of the first dark ring (minimum) is at:\n",
    "\n",
    "$$ r_1 = 1.22 \\lambda F \\quad \\quad \\sin \\alpha_1 = \\frac{r_1}{f} = 1.22 \\frac{\\lambda}{D} $$\n",
    "\n",
    "**Convolution**: Convolution of two functions $f \\ast g$ is the integral of the product of the functions after one is reversed and shifted. For example if $f(x)$ is an object in the sky and $g(x)$ is the PSF of the telescope, $h(x) = f(x) \\ast g(x)$ is the observed image."
   ]
  },
  {
   "cell_type": "markdown",
   "metadata": {},
   "source": [
    "## Transfer functions\n",
    "\n",
    "**Rayleigh criterion**: two sources can be resolved if the peak of the second source is no closer than the 1st dark Airy ring of the first source. So this is determined by $1.22 \\lambda/D$. However, a better measure of the resolution of the system can be achieved by the optical transfer function (OTF)\n",
    "\n",
    "**OTF**: The optical transfer function spatial signal variation as a function of spatial frequency. The modulation transfer function (MTF) describes it magnitude and the phase transfer function (PTF) the phase.\n",
    "\n",
    "**Strehl ratio**: This is a measure for optical quality. It is the ratio of the observed *peak intensity* of the PSF compared to the theoretical maximum peak intensity of point source seen with a perfect imaging system.\n",
    "\n",
    "$$ \\text{SR} = e^{-k^2\\omega^2} \\approx 1 - k^2\\omega^2 $$\n",
    "\n",
    "**Encircled energy**: The fraction of the total PSF intensity within a certain radius is given by the encircled energy (EE)."
   ]
  },
  {
   "cell_type": "markdown",
   "metadata": {},
   "source": [
    "## Telescope Characterizations\n",
    "\n",
    "1. The focal arrangement\n",
    "2. The scale of the image in each focal plane.\n",
    "3. The focal ratio/F-number.\n",
    "4. The field, in the two tenses of the term. Firstly, the area of the focal plane in which the image quality remains acceptable according to whatever criteria have been predefined; and secondly, the area over which the illumination remains uniform (fully illuminated field), or partial (vignetted field).\n",
    "5. The image quality.\n",
    "6. The curvature of the focal plane."
   ]
  },
  {
   "cell_type": "markdown",
   "metadata": {},
   "source": [
    "## Radio astronomy\n",
    "\n",
    "Similar to optical telescopes, angular resolution is given by \n",
    "\n",
    "$$ \\theta = k \\frac{\\lambda}{D} \\quad \\quad \\text{where } k \\sim 1 $$\n",
    "\n",
    "Radio beams show - just like the Airy patterns of optical PSFs - patterns of *lobes* at various angles, directions where the radiated signal strength reaches a maximum, spearated by 'nulls', angles at which the radiated signal strength falls to zero."
   ]
  },
  {
   "cell_type": "markdown",
   "metadata": {},
   "source": [
    "## Interferometry\n",
    "\n",
    "**Interferometers**: The general principle is to coherently combine two (or more) beams. The goal is to increase angular resolution, and the angular resolution is determined by the interference.\n",
    "\n",
    "This resolution is no longer equal to $1.22 \\lambda/D$, because that only applies to filled apertures. The resolution of a interferometer is equal to $\\lambda/2 (D_\\text{baseline} + D_\\text{telescope})$. You can think of interferometry as masking a giant telescope.\n",
    "\n",
    "**Young's Double Slit Experiment**: Young's double slit experiment assumes a monochromatic wave, infinitely small pinholes, a source that generates field $E(r_1, t) = E_1(t)$ at $S_1$ and $E(r_2, t) = E_2(t)$ at $S_2$. After the light goes from the source $S$ throught the pinholes, two spherical waves interfere on the screen, and an interference pattern can be seen on the screen. The intensity as function of angle is equal to \n",
    "\n",
    "$$ I = 4 I_0 \\cos^2 \\bigg( \\frac{y a \\pi}{s \\lambda} \\bigg) $$\n",
    "\n",
    "This interference pattern will have maxima and minima - the fringes. Fringe visibility is a measure of how close the maxima and minima are togetehr in terms of their intensity. It is defined as:\n",
    "\n",
    "$$ V = \\frac{I_\\text{max} - I_\\text{min}}{I_\\text{max} + I_\\text{min}} $$\n",
    "\n",
    "Van-cittert Zernike theorem states that visibility is the absolute value of the Fourier transform of the object's brightness distribution. If dark regions in fringe pattern go to zero $V = 1$, which means the object is unresolved. If $V = 0$, then there are no fringes and the object is completely resolved.\n",
    "\n",
    "The term white light fringes refers to the central fringe, because the fringes for $\\theta \\neq 0$ have different positions for different wavelengths.\n",
    "\n",
    "**Left off at closer phase principle**"
   ]
  }
 ],
 "metadata": {
  "kernelspec": {
   "display_name": "Python 3",
   "language": "python",
   "name": "python3"
  },
  "language_info": {
   "codemirror_mode": {
    "name": "ipython",
    "version": 3
   },
   "file_extension": ".py",
   "mimetype": "text/x-python",
   "name": "python",
   "nbconvert_exporter": "python",
   "pygments_lexer": "ipython3",
   "version": "3.6.5"
  }
 },
 "nbformat": 4,
 "nbformat_minor": 2
}
