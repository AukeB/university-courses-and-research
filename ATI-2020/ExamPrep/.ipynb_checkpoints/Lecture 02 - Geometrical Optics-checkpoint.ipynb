{
 "cells": [
  {
   "cell_type": "markdown",
   "metadata": {},
   "source": [
    "# Astronomical Telescopes and Instruments 2020"
   ]
  },
  {
   "cell_type": "markdown",
   "metadata": {},
   "source": [
    "# Lecture 2 - Geometrical Optics"
   ]
  },
  {
   "cell_type": "markdown",
   "metadata": {},
   "source": [
    "## 2.1 - Lenses"
   ]
  },
  {
   "cell_type": "markdown",
   "metadata": {},
   "source": [
    "For a lens to be perfect, all of the ray through the lens have to reach the same focal point. Solution to this situation is a hyperbola with eccentricity $e$ equaling the index of refraction $n$, which is always larger than 1. In principle, we can make a perfect lense.\n",
    "\n",
    "**Paraxial optics**: In paraxial optics a number of assumptions and approximations are made, that greatly simplify all calculations:\n",
    "\n",
    "- Snell's law for small angles: $\\sin \\phi \\approx \\phi$, $\\tan \\phi \\approx \\phi = r/f$\n",
    "- The ray height $r$ is small $\\rightarrow$ optics curvature can be neglected $\\rightarrow$ plane optics $\\cos \\phi \\approx 1$\n",
    "\n",
    "Paraxial optics gives a perfect performance, and this approximation is available in most optical design software. However, it only works for angles approximately smaller than 10 degrees.\n",
    "\n",
    "Spherical lenses: biconvex, plano-convex, convec-concave, meniscus, plane-concave, biconcave.\n",
    "\n",
    "Surface error requirement less than $\\lambda/10$. This means for a typical lens with 5cm diameter, a 1ppm accuracy needs to be achieved. So making a lens requires a lot of accuracy. Most optical surface are spherical due to ease of manufacturing.\n",
    "\n",
    "Nomenclature of lenses:\n",
    "\n",
    "- For a positive/converging spherical lens: The two surfaces of a lens have to radii of curvature $R_1$ and $R_2$. $R_1 > 0$ because its center of curvature is on the positive side, and $R_2 < 0$ because its center is on the negative side. Center thickness $d$. Positive focal length $f > 0$.\n",
    "- For a negative/diverging spherical lens: $R_1 < 0$ and $R_2 > 0$, virtual focal point.\n",
    "- General lens setup for real image: Axis through center at normal incidence is optical axis. Lens focal length $f$, Object distance $S_1 > 0$, object height $h_2$. Image distance $S_2$, image height $h_2$. Distance $S_2 > 0$ for a real image. Chief ray through the center maintains direction.\n",
    "- General lens setup for imaginary image: Object is inside focal distance $|S_2| < |f|$. Distance $S_2 < 0$ for virtual image.\n",
    "\n",
    "Lens equations\n",
    "\n",
    "![](figs/fig1_5.png)\n",
    "\n",
    "Because of dispersion, different wavelengths have different focal points. To solve this, you can make an achromatic lens. This lense consists of 2 lenses, with different glass dispersions. This makes the result much better, and it also gives less spherical abberation. An achromatic lens will always give a better performance, even at a single wavelength."
   ]
  },
  {
   "cell_type": "markdown",
   "metadata": {},
   "source": [
    "## 2.2 - Mirrors"
   ]
  },
  {
   "cell_type": "markdown",
   "metadata": {},
   "source": [
    "Mirrors vs. lenses:\n",
    "- Mirrors are completely achromatic; same performace for different frequencies.\n",
    "- Mirrors are reflective over large wavelength range (UV to radio).\n",
    "- Big advantage for mirrors: can be supported from the back, can be segmented.\n",
    "- Disadvantage of mirrors: They reflect light. So, the wavegront error is twice that of surface, lens is $n-1$ times surface.\n",
    "- Another disadvatnage is that a surface only has 1 surface to play with.\n",
    "\n",
    "Spherical mirrors:\n",
    "- Easy to manufacture\n",
    "- Really good at focusing light from center of curvature onto itself.\n",
    "\n",
    "Parabolic mirrors make sure that an object at infinity will get a perfect image. Parabolic mirror always has an optical axis.\n",
    "\n",
    "Mirrors are often conic section. You can set up a conic constant $K$, which is a single parameter that can describe all conic section together with radius of curvature $R$. $K$ is nothing more than minus the eccentricity squared, $K = -e^2$.\n",
    "- Sphere $K = 0$\n",
    "- Oblate ellipsoid $K > 0$\n",
    "- Prolate ellipsoid $0 > K > -1$\n",
    "- Parabola $K = -1$\n",
    "- Hyperbola $K < -1$\n",
    "\n",
    "All conic sections are almost spherical close to origin. Analytical ray intersections allow fast computation.\n",
    "\n",
    "Conic mirror perfectly images between focal points. A sphere has a single focus. An ellipse has two foci, this means it perfectly images from one focal point to the other. A parabola has one finite and one focus at infinity. The hyperbola has two focal points, one of them on the backside, one of them is virtual. "
   ]
  },
  {
   "cell_type": "markdown",
   "metadata": {},
   "source": [
    "## 2.3 - Optical Systems"
   ]
  },
  {
   "cell_type": "markdown",
   "metadata": {},
   "source": [
    "An optical system is a combination of lenses and mirrors, and other optical elements. They can consist of a multitude of setups of lenses and mirrors. Examples: cameras, microscopes, telescopes, instruments. Multiple optical elemnts provide more possibilities.\n",
    "\n",
    "The most simple optical system is the combination of two thin-lenses. Distance $>$ sum of focal lengths $\\rightarrow$ real image between lenses $\\rightarrow$ apply single-lens equation successively.\n",
    "\n",
    "Every optical system has an aperture or stop that limits the incomoing beam, it typically has a maximum diameter. Aperture size is important for flux and diffraction effects.\n",
    "\n",
    "The F-number is defined as the ratio of diameter to focal length. It describes how much light can be gathered by an optical system. $F = f/D$. Also known as the the $f$-ratio, written as $f/F$. The bigger $F$, the better the paraxial approximation works. Fast system for $F < 2$, a slow system is $F > 2$.\n",
    "\n",
    "In general, chief rays from different directions are not parallel before image. That means the magnification changes with focus position. Pupil image may be very close to image. A telecentric arrangement (imaging lens is one focal length from pupil), has as result  that looking from image pupil is at infinity since I. Chief rays are parallel and magnification does not change with focus positions."
   ]
  },
  {
   "cell_type": "markdown",
   "metadata": {},
   "source": [
    "## 2.4 - Abberations"
   ]
  },
  {
   "cell_type": "markdown",
   "metadata": {},
   "source": [
    "Plane of least confusion is the location where image of point source has smallest diameter. The spot diagram shows ray locations in plane of least confusion. Spot diagrams are closely connected with wavefronts. A wavefront is the set of all points where the save has the same phase of the sinusoid. In the ideal case a perfect lens would create a spherical wavefront that converges in focus. However, abberations are deviations from spherical wavefront.\n",
    "\n",
    "**Seidel abberations**: Introduced by Ludwig von Seidel (1857). The Taylor expansion of $\\sin \\phi$ will create a series of odd powers of $\\phi$. Paraxial optics can be seen as the first-order taylor polynomial, that is why paraxial optics is also knows as first-order optics $\\sin \\phi \\sim \\phi$. Seidel abberations are third-order optics $\\sin \\phi \\sim \\phi - \\frac{\\phi^3}{3!}$ Seidel abberations describes spherical abberation, astigmatism, coma, field curvature, distortion.\n",
    "\n",
    "Trivial abberations are tip, tilt and defocus.\n",
    "\n",
    "**Zernike polynomicals**: Introduced by Frist Zernike in 1934. Orthonormal basis on the unit circle. Radial order $n$, azimuthal order $m$, $n \\geq m \\geq 0$. The lowest order of Zernike polynomials correspond to Seidel abberations.\n",
    "\n",
    "Spherical abberation of spherical lens. Different foal lengths of rays close and far from axis. Longitudinal spherical abberation along optical axis. At the plane of least confusion, you can measure the abberation, this is known as the transverse (or lateral) sperical abberation in image plane. Spherical abberation is more prominent in fast systems w.r.t slow systems. To minimize spherial abberation you have to correct for the orientation of the lens, you want to stay as paraxial as possible. An aspheric lens with a single surface with conic constant $K = -n^2$ makes a perfect lens. These are difficult to manufacture but it is possible. Another trick is a spherical glass with aspherical plastic, that is more affordable."
   ]
  },
  {
   "cell_type": "markdown",
   "metadata": {},
   "source": [
    "## 2.5 - Off-Axis Abberations"
   ]
  },
  {
   "cell_type": "markdown",
   "metadata": {},
   "source": [
    "**Coma**: Typically seen for object points away from optical axis. Leads to 'tails' on stars, that is where the name coma comes from, it looks like the a comet tail. It is an abberation resulting from off-axis point sources, inherent to certain optical designs.\n",
    "\n",
    "**Astigmatism**: Focal length not the same in two orthogonal planes. Spot diagram though focus shows good focusing only in one direction. It results from tilted glass plates in a converging beam, such as beam shifters, filters, beamsplitters etc. Optometrists refer to astigmatism as cylinder.\n",
    "\n",
    "**Field curvature**: Image lies on curved surface, but typically the detectors are flat. Curvature comes from the lens thickness variation across the aperture. So, it depends on the index of the glass and the focal length of the lens. Petzval curvature is independent of lens position! Possible solution is a field flattener (lens) close to the focus. Fiel flattener also makes the image much more telecentric.\n",
    "\n",
    "**Distortion**: Image is sharp but distorted. Pincushion (positive) distortion. Barrel (negative) distortion. Crucial where position of object must be known accurately. For example, astrometry in general, and exoplanet orbit determination.\n",
    "\n",
    "**Vignetting**: Image dims toward edges. Typically happens when something is obstructing the beam. It does not influence how sharp the image looks like. Only influenes transmission, not image sharpness. Effective aperture stop depends on position in object."
   ]
  }
 ],
 "metadata": {
  "kernelspec": {
   "display_name": "Python 3",
   "language": "python",
   "name": "python3"
  },
  "language_info": {
   "codemirror_mode": {
    "name": "ipython",
    "version": 3
   },
   "file_extension": ".py",
   "mimetype": "text/x-python",
   "name": "python",
   "nbconvert_exporter": "python",
   "pygments_lexer": "ipython3",
   "version": "3.6.5"
  }
 },
 "nbformat": 4,
 "nbformat_minor": 2
}
