{
 "cells": [
  {
   "cell_type": "markdown",
   "metadata": {},
   "source": [
    "# --spectrographs"
   ]
  },
  {
   "cell_type": "markdown",
   "metadata": {},
   "source": [
    "<details><summary>**Q**: What does a spectrograph do?</summary>\n",
    "<p>\n",
    "\n",
    "**A**: A spectrograph allows you to analyse light within a certain frequency range by using a mechanism that disperses the light.\n",
    "\n",
    "</p>\n",
    "</details>"
   ]
  },
  {
   "cell_type": "markdown",
   "metadata": {},
   "source": [
    "<details><summary>**Q**: What kind of different spectrographs are there? Describe how they differ from each other.\n",
    "</summary>\n",
    "<p>\n",
    "\n",
    "<ul>\n",
    "  <li>Colour filters. The most basic form of spectroscopy. Filters transmit light within a certain frequency range and block light out out of the frequency range.</li>\n",
    "  <li>Slitless spectrograph. By putting a dispersing element in front of the telescope the light will be 'smeared out', this allows you to see a spectrum of every light source in the image. If there are a lot of astronomical sources, you can do multiple observations with a slitless spectrograph, so that all the spectra do not overlap each other.</li>\n",
    "</ul>\n",
    "\n",
    "</p>\n",
    "</details>"
   ]
  },
  {
   "cell_type": "markdown",
   "metadata": {},
   "source": [
    "<details><summary>**Q**: Describe how a spectrograph works, i.e. how the light propagates throughout the optical system.\n",
    "</summary>\n",
    "<p>\n",
    "\n",
    "**A**: The light enters the telescope (diameter $D$, focal length $f$) and forms an image on the entrance slit (width $w$, height $h$). Next the light passes through the entrance slit and the beam is collimated (parallel rays) using a lens (focal length $f_\\text{coll}$, diameter $d_\\text{coll}$). Next, the light gets dispersed by a dispersing element and enter the second part of the optical instrument, the camera. Another lens (diameter $d_\\text{cam}$) focuses the light on the detector.\n",
    "\n",
    "</p>\n",
    "</details>"
   ]
  },
  {
   "cell_type": "markdown",
   "metadata": {},
   "source": [
    "<details><summary>**Q**: What are some of the important properties/characteristics of spectrographs?\n",
    "</summary>\n",
    "<p>\n",
    "\n",
    "**A**:\n",
    "\n",
    "<ul>\n",
    "<li>The resolving power and the spectral resolution. The resolving power is given by:\n",
    "\n",
    "$$ R = \\frac{\\lambda}{\\Delta\\lambda} $$\n",
    "\n",
    "In this formula, $\\Delta\\lambda$ is the smallest wavelength difference that can be distinguished at a wavelength $\\lambda$. $\\Delta\\lambda$ is the spectral resolution. This will depend of the spectral size of the image, which is a factor of image size, spectral magnification and the linear dispersion.\n",
    "\n",
    "Varying the slit width is a trade-off for spectral resolution and throughput, for seeing-limited objects such as stars. Slit too wide means spectral resolution goes down, slit too narrow means flux from object is lost.</li>\n",
    "\n",
    "<li>The angular dispersion and the linear dispersion. The angular dispersion, is the difference in angle for different wavelengths. The fact that there is angular dispersion allows you to investigate the light in different wavelength ranges. Linear dispersion is just angular dispersion multiplied by the focal length of the camera part of the optical system.</li>\n",
    "\n",
    "<li>The free spectral range of the spectrograph. The change in wavelength where we generate a difference of one order. For example the $m=4$ order of one wavelength overlaps with the $m=5$ order of another wavelength. You can ose an order blocking filter (simply blocks certain orders) or a cross disperser to split out the different spectral orders.</li>\n",
    "</ul>\n",
    "\n",
    "</p>\n",
    "</details>"
   ]
  },
  {
   "cell_type": "markdown",
   "metadata": {},
   "source": [
    "<details><summary>**Q**: What kind of different dispersing elements are used in spectrographs?\n",
    "</summary>\n",
    "<p>\n",
    "\n",
    "**A**: \n",
    "<ul>\n",
    "<li>Glass prisms. Used near minimum deviations so that rays inside the prism are parallel to base. However, dispersion not constant with wavelength, and very high resolution is not possible.</li>\n",
    "<li>Diffraction gratings. Optical instrument that has a periodic structure on one side of them. Can either be used in transmission or reflection.</li>\n",
    "<li>Volume Phase Holographic Gratings. This is typically a very thin layer of material that holds a periodic pattern. Advantage is that they can have very high transmision efficiencies, almost 100 percent.</li>\n",
    "<li>Immersion grating. A grating that is cut into one side of a high refractive index material. Light enters the immersion grating from one side, ideally normal surface, to the high refractive index material, propagates inside the material, and is refracted of the diffraction grating cut into the material. Advantage is that much smaller volume ideal for cryogenic cooling and space based applications.</li>\n",
    "</ul>\n",
    "\n",
    "</p>\n",
    "</details>"
   ]
  },
  {
   "cell_type": "markdown",
   "metadata": {},
   "source": [
    "# --thin films"
   ]
  },
  {
   "cell_type": "markdown",
   "metadata": {},
   "source": [
    "<details><summary>**Q**: Describe a thin film setup</summary>\n",
    "<p>\n",
    "\n",
    "**A**: There is an incident medium $n_m$ and a substrate $n_s$. On the substrate can be one (thin film) or several (thin film stack) thin films, which each have their own index. The diameter is a fraction of the wavelength. Having a thin film will cause interference, because of the reflection and transmission. You would have to consider infinite number of reflections, but this is of course not doable, so a mathematical formalism takes care of that.\n",
    "\n",
    "</p>\n",
    "</details>"
   ]
  },
  {
   "cell_type": "markdown",
   "metadata": {},
   "source": [
    "<details><summary>**Q** Why do we apply thin films?:</summary>\n",
    "<p>\n",
    "\n",
    "**A**: Bare substrates have (high) reflections and can have ghost reflections. Ghost reflections are internal reflections within in the lens. Applying a thin film can then serve as a single-layer antireflective coating.\n",
    "\n",
    "</p>\n",
    "</details>"
   ]
  },
  {
   "cell_type": "markdown",
   "metadata": {},
   "source": [
    "<details><summary>**Q**: How does an anti-reflective (AR) coating work?</summary>\n",
    "<p>\n",
    "\n",
    "**A**: Imagine two beams of light. One beam reflects off the surface of the thin film, and one beam goes through the thin film and reflects on the boundary of the thin film and the substrate. In order to have AR, there needs to be desctructive interference. This means the phase difference needs to be $\\lambda/2$, and $n_1d_1 = \\lambda/4$ for optimal destructive interference, because the light travels back and forth within the thin film.\n",
    "\n",
    "With one thin film it is hard to gain 0% reflection, but having a thin film stack allows you to get really close to this.\n",
    "\n",
    "</p>\n",
    "</details>"
   ]
  },
  {
   "cell_type": "markdown",
   "metadata": {},
   "source": [
    "<details><summary>**Q**: Name some different types of AR coatings.</summary>\n",
    "<p>\n",
    "\n",
    "**A**:\n",
    "\n",
    "<ul>\n",
    "    <li>1/4-wave MgF2. The most common one. </li>\n",
    "    <li>V coat. The V simply refers the shape of the performance over wavlength. Has a high performance in a narrow range of wavelength. Prominent for optics made for lasers.</li>\n",
    "    <li>Broadband. Complicated stacks of 20-30 layers (may go up to 50). Low reflectivity for a large range of wavelength.</li>\n",
    "</ul>\n",
    "\n",
    "</p>\n",
    "</details>"
   ]
  },
  {
   "cell_type": "markdown",
   "metadata": {},
   "source": [
    "<details><summary>**Q**: How are thin films and polarization related to each other?</summary>\n",
    "<p>\n",
    "\n",
    "**A**: The performance of thin films depends on the polarization. Thin films can also serve as polarizers. For example, s-polarzation can be reflected while p-polarization can be transmitted. Coatings can also reduced polarization effects, for example that two polarization states are reflected equally.\n",
    "\n",
    "</p>\n",
    "</details>"
   ]
  },
  {
   "cell_type": "markdown",
   "metadata": {},
   "source": [
    "<details><summary>**Q**:</summary>\n",
    "<p>\n",
    "\n",
    "**A**:\n",
    "\n",
    "</p>\n",
    "</details>"
   ]
  },
  {
   "cell_type": "markdown",
   "metadata": {},
   "source": [
    "<details><summary>**Q**:</summary>\n",
    "<p>\n",
    "\n",
    "**A**:\n",
    "\n",
    "</p>\n",
    "</details>"
   ]
  },
  {
   "cell_type": "markdown",
   "metadata": {},
   "source": [
    "<details><summary>**Q**:</summary>\n",
    "<p>\n",
    "\n",
    "**A**:\n",
    "\n",
    "</p>\n",
    "</details>"
   ]
  },
  {
   "cell_type": "markdown",
   "metadata": {},
   "source": [
    "<details><summary>**Q**:</summary>\n",
    "<p>\n",
    "\n",
    "**A**:\n",
    "\n",
    "</p>\n",
    "</details>"
   ]
  },
  {
   "cell_type": "markdown",
   "metadata": {},
   "source": [
    "<details><summary>**Q**:</summary>\n",
    "<p>\n",
    "\n",
    "**A**:\n",
    "\n",
    "</p>\n",
    "</details>"
   ]
  },
  {
   "cell_type": "markdown",
   "metadata": {},
   "source": [
    "<details><summary>**Q**:</summary>\n",
    "<p>\n",
    "\n",
    "**A**:\n",
    "\n",
    "</p>\n",
    "</details>"
   ]
  },
  {
   "cell_type": "markdown",
   "metadata": {},
   "source": [
    "<details><summary>**Q**:</summary>\n",
    "<p>\n",
    "\n",
    "**A**:\n",
    "\n",
    "</p>\n",
    "</details>"
   ]
  },
  {
   "cell_type": "markdown",
   "metadata": {},
   "source": [
    "<details><summary>**Q**:</summary>\n",
    "<p>\n",
    "\n",
    "**A**:\n",
    "\n",
    "</p>\n",
    "</details>"
   ]
  },
  {
   "cell_type": "markdown",
   "metadata": {},
   "source": [
    "<details><summary>**Q**:</summary>\n",
    "<p>\n",
    "\n",
    "**A**:\n",
    "\n",
    "</p>\n",
    "</details>"
   ]
  },
  {
   "cell_type": "markdown",
   "metadata": {},
   "source": [
    "<details><summary>**Q**:</summary>\n",
    "<p>\n",
    "\n",
    "**A**:\n",
    "\n",
    "</p>\n",
    "</details>"
   ]
  },
  {
   "cell_type": "markdown",
   "metadata": {},
   "source": [
    "<details><summary>**Q**:</summary>\n",
    "<p>\n",
    "\n",
    "**A**:\n",
    "\n",
    "</p>\n",
    "</details>"
   ]
  },
  {
   "cell_type": "markdown",
   "metadata": {},
   "source": [
    "<details><summary>**Q**:</summary>\n",
    "<p>\n",
    "\n",
    "**A**:\n",
    "\n",
    "</p>\n",
    "</details>"
   ]
  },
  {
   "cell_type": "markdown",
   "metadata": {},
   "source": [
    "<details><summary>**Q**:</summary>\n",
    "<p>\n",
    "\n",
    "**A**:\n",
    "\n",
    "</p>\n",
    "</details>"
   ]
  },
  {
   "cell_type": "markdown",
   "metadata": {},
   "source": [
    "<details><summary>**Q**:</summary>\n",
    "<p>\n",
    "\n",
    "**A**:\n",
    "\n",
    "</p>\n",
    "</details>"
   ]
  },
  {
   "cell_type": "markdown",
   "metadata": {},
   "source": [
    "<details><summary>**Q**:</summary>\n",
    "<p>\n",
    "\n",
    "**A**:\n",
    "\n",
    "</p>\n",
    "</details>"
   ]
  },
  {
   "cell_type": "markdown",
   "metadata": {},
   "source": [
    "<details><summary>**Q**:</summary>\n",
    "<p>\n",
    "\n",
    "**A**:\n",
    "\n",
    "</p>\n",
    "</details>"
   ]
  },
  {
   "cell_type": "markdown",
   "metadata": {},
   "source": [
    "<details><summary>**Q**:</summary>\n",
    "<p>\n",
    "\n",
    "**A**:\n",
    "\n",
    "</p>\n",
    "</details>"
   ]
  },
  {
   "cell_type": "markdown",
   "metadata": {},
   "source": [
    "<details><summary>**Q**:</summary>\n",
    "<p>\n",
    "\n",
    "**A**:\n",
    "\n",
    "</p>\n",
    "</details>"
   ]
  },
  {
   "cell_type": "markdown",
   "metadata": {},
   "source": [
    "<details><summary>**Q**:</summary>\n",
    "<p>\n",
    "\n",
    "**A**:\n",
    "\n",
    "</p>\n",
    "</details>"
   ]
  },
  {
   "cell_type": "markdown",
   "metadata": {},
   "source": [
    "<details><summary>**Q**:</summary>\n",
    "<p>\n",
    "\n",
    "**A**:\n",
    "\n",
    "</p>\n",
    "</details>"
   ]
  },
  {
   "cell_type": "markdown",
   "metadata": {},
   "source": [
    "<details><summary>**Q**:</summary>\n",
    "<p>\n",
    "\n",
    "**A**:\n",
    "\n",
    "</p>\n",
    "</details>"
   ]
  },
  {
   "cell_type": "markdown",
   "metadata": {},
   "source": [
    "<details><summary>**Q**:</summary>\n",
    "<p>\n",
    "\n",
    "**A**:\n",
    "\n",
    "</p>\n",
    "</details>"
   ]
  },
  {
   "cell_type": "markdown",
   "metadata": {},
   "source": [
    "<details><summary>**Q**:</summary>\n",
    "<p>\n",
    "\n",
    "**A**:\n",
    "\n",
    "</p>\n",
    "</details>"
   ]
  },
  {
   "cell_type": "markdown",
   "metadata": {},
   "source": [
    "<details><summary>**Q**:</summary>\n",
    "<p>\n",
    "\n",
    "**A**:\n",
    "\n",
    "</p>\n",
    "</details>"
   ]
  },
  {
   "cell_type": "markdown",
   "metadata": {},
   "source": [
    "<details><summary>**Q**:</summary>\n",
    "<p>\n",
    "\n",
    "**A**:\n",
    "\n",
    "</p>\n",
    "</details>"
   ]
  },
  {
   "cell_type": "markdown",
   "metadata": {},
   "source": [
    "<details><summary>**Q**:</summary>\n",
    "<p>\n",
    "\n",
    "**A**:\n",
    "\n",
    "</p>\n",
    "</details>"
   ]
  },
  {
   "cell_type": "markdown",
   "metadata": {},
   "source": [
    "<details><summary>**Q**:</summary>\n",
    "<p>\n",
    "\n",
    "**A**:\n",
    "\n",
    "</p>\n",
    "</details>"
   ]
  },
  {
   "cell_type": "markdown",
   "metadata": {},
   "source": [
    "<details><summary>**Q**:</summary>\n",
    "<p>\n",
    "\n",
    "**A**:\n",
    "\n",
    "</p>\n",
    "</details>"
   ]
  },
  {
   "cell_type": "markdown",
   "metadata": {},
   "source": [
    "<details><summary>**Q**:</summary>\n",
    "<p>\n",
    "\n",
    "**A**:\n",
    "\n",
    "</p>\n",
    "</details>"
   ]
  },
  {
   "cell_type": "markdown",
   "metadata": {},
   "source": [
    "<details><summary>**Q**:</summary>\n",
    "<p>\n",
    "\n",
    "**A**:\n",
    "\n",
    "</p>\n",
    "</details>"
   ]
  },
  {
   "cell_type": "markdown",
   "metadata": {},
   "source": [
    "<details><summary>**Q**:</summary>\n",
    "<p>\n",
    "\n",
    "**A**:\n",
    "\n",
    "</p>\n",
    "</details>"
   ]
  },
  {
   "cell_type": "markdown",
   "metadata": {},
   "source": [
    "<details><summary>**Q**:</summary>\n",
    "<p>\n",
    "\n",
    "**A**:\n",
    "\n",
    "</p>\n",
    "</details>"
   ]
  },
  {
   "cell_type": "markdown",
   "metadata": {},
   "source": [
    "<details><summary>**Q**:</summary>\n",
    "<p>\n",
    "\n",
    "**A**:\n",
    "\n",
    "</p>\n",
    "</details>"
   ]
  },
  {
   "cell_type": "markdown",
   "metadata": {},
   "source": [
    "<details><summary>**Q**:</summary>\n",
    "<p>\n",
    "\n",
    "**A**:\n",
    "\n",
    "</p>\n",
    "</details>"
   ]
  },
  {
   "cell_type": "markdown",
   "metadata": {},
   "source": [
    "<details><summary>**Q**:</summary>\n",
    "<p>\n",
    "\n",
    "**A**:\n",
    "\n",
    "</p>\n",
    "</details>"
   ]
  },
  {
   "cell_type": "markdown",
   "metadata": {},
   "source": [
    "<details><summary>**Q**:</summary>\n",
    "<p>\n",
    "\n",
    "**A**:\n",
    "\n",
    "</p>\n",
    "</details>"
   ]
  },
  {
   "cell_type": "markdown",
   "metadata": {},
   "source": [
    "<details><summary>**Q**:</summary>\n",
    "<p>\n",
    "\n",
    "**A**:\n",
    "\n",
    "</p>\n",
    "</details>"
   ]
  },
  {
   "cell_type": "markdown",
   "metadata": {},
   "source": [
    "<details><summary>**Q**:</summary>\n",
    "<p>\n",
    "\n",
    "**A**:\n",
    "\n",
    "</p>\n",
    "</details>"
   ]
  },
  {
   "cell_type": "markdown",
   "metadata": {},
   "source": [
    "<details><summary>**Q**:</summary>\n",
    "<p>\n",
    "\n",
    "**A**:\n",
    "\n",
    "</p>\n",
    "</details>"
   ]
  },
  {
   "cell_type": "markdown",
   "metadata": {},
   "source": [
    "<details><summary>**Q**:</summary>\n",
    "<p>\n",
    "\n",
    "**A**:\n",
    "\n",
    "</p>\n",
    "</details>"
   ]
  },
  {
   "cell_type": "markdown",
   "metadata": {},
   "source": [
    "<details><summary>**Q**:</summary>\n",
    "<p>\n",
    "\n",
    "**A**:\n",
    "\n",
    "</p>\n",
    "</details>"
   ]
  },
  {
   "cell_type": "markdown",
   "metadata": {},
   "source": [
    "<details><summary>**Q**:</summary>\n",
    "<p>\n",
    "\n",
    "**A**:\n",
    "\n",
    "</p>\n",
    "</details>"
   ]
  },
  {
   "cell_type": "markdown",
   "metadata": {},
   "source": [
    "<details><summary>**Q**:</summary>\n",
    "<p>\n",
    "\n",
    "**A**:\n",
    "\n",
    "</p>\n",
    "</details>"
   ]
  },
  {
   "cell_type": "markdown",
   "metadata": {},
   "source": [
    "<details><summary>**Q**:</summary>\n",
    "<p>\n",
    "\n",
    "**A**:\n",
    "\n",
    "</p>\n",
    "</details>"
   ]
  },
  {
   "cell_type": "markdown",
   "metadata": {},
   "source": [
    "<details><summary>**Q**:</summary>\n",
    "<p>\n",
    "\n",
    "**A**:\n",
    "\n",
    "</p>\n",
    "</details>"
   ]
  },
  {
   "cell_type": "markdown",
   "metadata": {},
   "source": [
    "<details><summary>**Q**:</summary>\n",
    "<p>\n",
    "\n",
    "**A**:\n",
    "\n",
    "</p>\n",
    "</details>"
   ]
  },
  {
   "cell_type": "markdown",
   "metadata": {},
   "source": [
    "<details><summary>**Q**:</summary>\n",
    "<p>\n",
    "\n",
    "**A**:\n",
    "\n",
    "</p>\n",
    "</details>"
   ]
  },
  {
   "cell_type": "markdown",
   "metadata": {},
   "source": [
    "<details><summary>**Q**:</summary>\n",
    "<p>\n",
    "\n",
    "**A**:\n",
    "\n",
    "</p>\n",
    "</details>"
   ]
  },
  {
   "cell_type": "markdown",
   "metadata": {},
   "source": [
    "<details><summary>**Q**:</summary>\n",
    "<p>\n",
    "\n",
    "**A**:\n",
    "\n",
    "</p>\n",
    "</details>"
   ]
  },
  {
   "cell_type": "markdown",
   "metadata": {},
   "source": [
    "<details><summary>**Q**:</summary>\n",
    "<p>\n",
    "\n",
    "**A**:\n",
    "\n",
    "</p>\n",
    "</details>"
   ]
  },
  {
   "cell_type": "markdown",
   "metadata": {},
   "source": [
    "<details><summary>**Q**:</summary>\n",
    "<p>\n",
    "\n",
    "**A**:\n",
    "\n",
    "</p>\n",
    "</details>"
   ]
  },
  {
   "cell_type": "markdown",
   "metadata": {},
   "source": [
    "<details><summary>**Q**:</summary>\n",
    "<p>\n",
    "\n",
    "**A**:\n",
    "\n",
    "</p>\n",
    "</details>"
   ]
  },
  {
   "cell_type": "markdown",
   "metadata": {},
   "source": [
    "<details><summary>**Q**:</summary>\n",
    "<p>\n",
    "\n",
    "**A**:\n",
    "\n",
    "</p>\n",
    "</details>"
   ]
  },
  {
   "cell_type": "markdown",
   "metadata": {},
   "source": [
    "<details><summary>**Q**:</summary>\n",
    "<p>\n",
    "\n",
    "**A**:\n",
    "\n",
    "</p>\n",
    "</details>"
   ]
  },
  {
   "cell_type": "markdown",
   "metadata": {},
   "source": [
    "<details><summary>**Q**:</summary>\n",
    "<p>\n",
    "\n",
    "**A**:\n",
    "\n",
    "</p>\n",
    "</details>"
   ]
  },
  {
   "cell_type": "markdown",
   "metadata": {},
   "source": [
    "<details><summary>**Q**:</summary>\n",
    "<p>\n",
    "\n",
    "**A**:\n",
    "\n",
    "</p>\n",
    "</details>"
   ]
  },
  {
   "cell_type": "markdown",
   "metadata": {},
   "source": [
    "<details><summary>**Q**:</summary>\n",
    "<p>\n",
    "\n",
    "**A**:\n",
    "\n",
    "</p>\n",
    "</details>"
   ]
  },
  {
   "cell_type": "markdown",
   "metadata": {},
   "source": [
    "<details><summary>**Q**:</summary>\n",
    "<p>\n",
    "\n",
    "**A**:\n",
    "\n",
    "</p>\n",
    "</details>"
   ]
  },
  {
   "cell_type": "markdown",
   "metadata": {},
   "source": [
    "<details><summary>**Q**:</summary>\n",
    "<p>\n",
    "\n",
    "**A**:\n",
    "\n",
    "</p>\n",
    "</details>"
   ]
  },
  {
   "cell_type": "markdown",
   "metadata": {},
   "source": [
    "<details><summary>**Q**:</summary>\n",
    "<p>\n",
    "\n",
    "**A**:\n",
    "\n",
    "</p>\n",
    "</details>"
   ]
  },
  {
   "cell_type": "markdown",
   "metadata": {},
   "source": [
    "<details><summary>**Q**:</summary>\n",
    "<p>\n",
    "\n",
    "**A**:\n",
    "\n",
    "</p>\n",
    "</details>"
   ]
  },
  {
   "cell_type": "markdown",
   "metadata": {},
   "source": [
    "<details><summary>**Q**:</summary>\n",
    "<p>\n",
    "\n",
    "**A**:\n",
    "\n",
    "</p>\n",
    "</details>"
   ]
  },
  {
   "cell_type": "markdown",
   "metadata": {},
   "source": [
    "<details><summary>**Q**:</summary>\n",
    "<p>\n",
    "\n",
    "**A**:\n",
    "\n",
    "</p>\n",
    "</details>"
   ]
  },
  {
   "cell_type": "markdown",
   "metadata": {},
   "source": [
    "<details><summary>**Q**:</summary>\n",
    "<p>\n",
    "\n",
    "**A**:\n",
    "\n",
    "</p>\n",
    "</details>"
   ]
  },
  {
   "cell_type": "markdown",
   "metadata": {},
   "source": [
    "<details><summary>**Q**:</summary>\n",
    "<p>\n",
    "\n",
    "**A**:\n",
    "\n",
    "</p>\n",
    "</details>"
   ]
  },
  {
   "cell_type": "markdown",
   "metadata": {},
   "source": [
    "<details><summary>**Q**:</summary>\n",
    "<p>\n",
    "\n",
    "**A**:\n",
    "\n",
    "</p>\n",
    "</details>"
   ]
  },
  {
   "cell_type": "markdown",
   "metadata": {},
   "source": [
    "<details><summary>**Q**:</summary>\n",
    "<p>\n",
    "\n",
    "**A**:\n",
    "\n",
    "</p>\n",
    "</details>"
   ]
  },
  {
   "cell_type": "markdown",
   "metadata": {},
   "source": [
    "<details><summary>**Q**:</summary>\n",
    "<p>\n",
    "\n",
    "**A**:\n",
    "\n",
    "</p>\n",
    "</details>"
   ]
  },
  {
   "cell_type": "markdown",
   "metadata": {},
   "source": [
    "<details><summary>**Q**:</summary>\n",
    "<p>\n",
    "\n",
    "**A**:\n",
    "\n",
    "</p>\n",
    "</details>"
   ]
  },
  {
   "cell_type": "markdown",
   "metadata": {},
   "source": [
    "<details><summary>**Q**:</summary>\n",
    "<p>\n",
    "\n",
    "**A**:\n",
    "\n",
    "</p>\n",
    "</details>"
   ]
  },
  {
   "cell_type": "markdown",
   "metadata": {},
   "source": [
    "<details><summary>**Q**:</summary>\n",
    "<p>\n",
    "\n",
    "**A**:\n",
    "\n",
    "</p>\n",
    "</details>"
   ]
  },
  {
   "cell_type": "markdown",
   "metadata": {},
   "source": [
    "<details><summary>**Q**:</summary>\n",
    "<p>\n",
    "\n",
    "**A**:\n",
    "\n",
    "</p>\n",
    "</details>"
   ]
  },
  {
   "cell_type": "markdown",
   "metadata": {},
   "source": [
    "<details><summary>**Q**:</summary>\n",
    "<p>\n",
    "\n",
    "**A**:\n",
    "\n",
    "</p>\n",
    "</details>"
   ]
  },
  {
   "cell_type": "markdown",
   "metadata": {},
   "source": [
    "<details><summary>**Q**:</summary>\n",
    "<p>\n",
    "\n",
    "**A**:\n",
    "\n",
    "</p>\n",
    "</details>"
   ]
  },
  {
   "cell_type": "markdown",
   "metadata": {},
   "source": [
    "<details><summary>**Q**:</summary>\n",
    "<p>\n",
    "\n",
    "**A**:\n",
    "\n",
    "</p>\n",
    "</details>"
   ]
  },
  {
   "cell_type": "markdown",
   "metadata": {},
   "source": [
    "<details><summary>**Q**:</summary>\n",
    "<p>\n",
    "\n",
    "**A**:\n",
    "\n",
    "</p>\n",
    "</details>"
   ]
  },
  {
   "cell_type": "markdown",
   "metadata": {},
   "source": [
    "<details><summary>**Q**:</summary>\n",
    "<p>\n",
    "\n",
    "**A**:\n",
    "\n",
    "</p>\n",
    "</details>"
   ]
  },
  {
   "cell_type": "markdown",
   "metadata": {},
   "source": [
    "<details><summary>**Q**:</summary>\n",
    "<p>\n",
    "\n",
    "**A**:\n",
    "\n",
    "</p>\n",
    "</details>"
   ]
  },
  {
   "cell_type": "markdown",
   "metadata": {},
   "source": [
    "<details><summary>**Q**:</summary>\n",
    "<p>\n",
    "\n",
    "**A**:\n",
    "\n",
    "</p>\n",
    "</details>"
   ]
  },
  {
   "cell_type": "markdown",
   "metadata": {},
   "source": [
    "<details><summary>**Q**:</summary>\n",
    "<p>\n",
    "\n",
    "**A**:\n",
    "\n",
    "</p>\n",
    "</details>"
   ]
  },
  {
   "cell_type": "markdown",
   "metadata": {},
   "source": [
    "<details><summary>**Q**:</summary>\n",
    "<p>\n",
    "\n",
    "**A**:\n",
    "\n",
    "</p>\n",
    "</details>"
   ]
  },
  {
   "cell_type": "markdown",
   "metadata": {},
   "source": [
    "<details><summary>**Q**:</summary>\n",
    "<p>\n",
    "\n",
    "**A**:\n",
    "\n",
    "</p>\n",
    "</details>"
   ]
  },
  {
   "cell_type": "markdown",
   "metadata": {},
   "source": [
    "<details><summary>**Q**:</summary>\n",
    "<p>\n",
    "\n",
    "**A**:\n",
    "\n",
    "</p>\n",
    "</details>"
   ]
  },
  {
   "cell_type": "markdown",
   "metadata": {},
   "source": [
    "<details><summary>**Q**:</summary>\n",
    "<p>\n",
    "\n",
    "**A**:\n",
    "\n",
    "</p>\n",
    "</details>"
   ]
  },
  {
   "cell_type": "markdown",
   "metadata": {},
   "source": [
    "<details><summary>**Q**:</summary>\n",
    "<p>\n",
    "\n",
    "**A**:\n",
    "\n",
    "</p>\n",
    "</details>"
   ]
  },
  {
   "cell_type": "markdown",
   "metadata": {},
   "source": [
    "<details><summary>**Q**:</summary>\n",
    "<p>\n",
    "\n",
    "**A**:\n",
    "\n",
    "</p>\n",
    "</details>"
   ]
  },
  {
   "cell_type": "markdown",
   "metadata": {},
   "source": [
    "<details><summary>**Q**:</summary>\n",
    "<p>\n",
    "\n",
    "**A**:\n",
    "\n",
    "</p>\n",
    "</details>"
   ]
  },
  {
   "cell_type": "markdown",
   "metadata": {},
   "source": [
    "<details><summary>**Q**:</summary>\n",
    "<p>\n",
    "\n",
    "**A**:\n",
    "\n",
    "</p>\n",
    "</details>"
   ]
  },
  {
   "cell_type": "markdown",
   "metadata": {},
   "source": [
    "<details><summary>**Q**:</summary>\n",
    "<p>\n",
    "\n",
    "**A**:\n",
    "\n",
    "</p>\n",
    "</details>"
   ]
  },
  {
   "cell_type": "markdown",
   "metadata": {},
   "source": [
    "<details><summary>**Q**:</summary>\n",
    "<p>\n",
    "\n",
    "**A**:\n",
    "\n",
    "</p>\n",
    "</details>"
   ]
  },
  {
   "cell_type": "markdown",
   "metadata": {},
   "source": [
    "<details><summary>**Q**:</summary>\n",
    "<p>\n",
    "\n",
    "**A**:\n",
    "\n",
    "</p>\n",
    "</details>"
   ]
  },
  {
   "cell_type": "markdown",
   "metadata": {},
   "source": [
    "<details><summary>**Q**:</summary>\n",
    "<p>\n",
    "\n",
    "**A**:\n",
    "\n",
    "</p>\n",
    "</details>"
   ]
  },
  {
   "cell_type": "markdown",
   "metadata": {},
   "source": [
    "<details><summary>**Q**:</summary>\n",
    "<p>\n",
    "\n",
    "**A**:\n",
    "\n",
    "</p>\n",
    "</details>"
   ]
  },
  {
   "cell_type": "markdown",
   "metadata": {},
   "source": [
    "<details><summary>**Q**:</summary>\n",
    "<p>\n",
    "\n",
    "**A**:\n",
    "\n",
    "</p>\n",
    "</details>"
   ]
  },
  {
   "cell_type": "markdown",
   "metadata": {},
   "source": [
    "<details><summary>**Q**:</summary>\n",
    "<p>\n",
    "\n",
    "**A**:\n",
    "\n",
    "</p>\n",
    "</details>"
   ]
  },
  {
   "cell_type": "markdown",
   "metadata": {},
   "source": [
    "<details><summary>**Q**:</summary>\n",
    "<p>\n",
    "\n",
    "**A**:\n",
    "\n",
    "</p>\n",
    "</details>"
   ]
  },
  {
   "cell_type": "markdown",
   "metadata": {},
   "source": [
    "<details><summary>**Q**:</summary>\n",
    "<p>\n",
    "\n",
    "**A**:\n",
    "\n",
    "</p>\n",
    "</details>"
   ]
  },
  {
   "cell_type": "markdown",
   "metadata": {},
   "source": [
    "<details><summary>**Q**:</summary>\n",
    "<p>\n",
    "\n",
    "**A**:\n",
    "\n",
    "</p>\n",
    "</details>"
   ]
  },
  {
   "cell_type": "markdown",
   "metadata": {},
   "source": [
    "<details><summary>**Q**:</summary>\n",
    "<p>\n",
    "\n",
    "**A**:\n",
    "\n",
    "</p>\n",
    "</details>"
   ]
  },
  {
   "cell_type": "markdown",
   "metadata": {},
   "source": [
    "<details><summary>**Q**:</summary>\n",
    "<p>\n",
    "\n",
    "**A**:\n",
    "\n",
    "</p>\n",
    "</details>"
   ]
  },
  {
   "cell_type": "markdown",
   "metadata": {},
   "source": [
    "<details><summary>**Q**:</summary>\n",
    "<p>\n",
    "\n",
    "**A**:\n",
    "\n",
    "</p>\n",
    "</details>"
   ]
  },
  {
   "cell_type": "markdown",
   "metadata": {},
   "source": [
    "<details><summary>**Q**:</summary>\n",
    "<p>\n",
    "\n",
    "**A**:\n",
    "\n",
    "</p>\n",
    "</details>"
   ]
  },
  {
   "cell_type": "markdown",
   "metadata": {},
   "source": [
    "<details><summary>**Q**:</summary>\n",
    "<p>\n",
    "\n",
    "**A**:\n",
    "\n",
    "</p>\n",
    "</details>"
   ]
  },
  {
   "cell_type": "markdown",
   "metadata": {},
   "source": [
    "<details><summary>**Q**:</summary>\n",
    "<p>\n",
    "\n",
    "**A**:\n",
    "\n",
    "</p>\n",
    "</details>"
   ]
  },
  {
   "cell_type": "markdown",
   "metadata": {},
   "source": [
    "<details><summary>**Q**:</summary>\n",
    "<p>\n",
    "\n",
    "**A**:\n",
    "\n",
    "</p>\n",
    "</details>"
   ]
  },
  {
   "cell_type": "markdown",
   "metadata": {},
   "source": [
    "<details><summary>**Q**:</summary>\n",
    "<p>\n",
    "\n",
    "**A**:\n",
    "\n",
    "</p>\n",
    "</details>"
   ]
  },
  {
   "cell_type": "markdown",
   "metadata": {},
   "source": [
    "<details><summary>**Q**:</summary>\n",
    "<p>\n",
    "\n",
    "**A**:\n",
    "\n",
    "</p>\n",
    "</details>"
   ]
  },
  {
   "cell_type": "markdown",
   "metadata": {},
   "source": [
    "<details><summary>**Q**:</summary>\n",
    "<p>\n",
    "\n",
    "**A**:\n",
    "\n",
    "</p>\n",
    "</details>"
   ]
  },
  {
   "cell_type": "markdown",
   "metadata": {},
   "source": [
    "<details><summary>**Q**:</summary>\n",
    "<p>\n",
    "\n",
    "**A**:\n",
    "\n",
    "</p>\n",
    "</details>"
   ]
  },
  {
   "cell_type": "markdown",
   "metadata": {},
   "source": [
    "<details><summary>**Q**:</summary>\n",
    "<p>\n",
    "\n",
    "**A**:\n",
    "\n",
    "</p>\n",
    "</details>"
   ]
  },
  {
   "cell_type": "markdown",
   "metadata": {},
   "source": [
    "<details><summary>**Q**:</summary>\n",
    "<p>\n",
    "\n",
    "**A**:\n",
    "\n",
    "</p>\n",
    "</details>"
   ]
  },
  {
   "cell_type": "markdown",
   "metadata": {},
   "source": [
    "<details><summary>**Q**:</summary>\n",
    "<p>\n",
    "\n",
    "**A**:\n",
    "\n",
    "</p>\n",
    "</details>"
   ]
  },
  {
   "cell_type": "markdown",
   "metadata": {},
   "source": [
    "<details><summary>**Q**:</summary>\n",
    "<p>\n",
    "\n",
    "**A**:\n",
    "\n",
    "</p>\n",
    "</details>"
   ]
  },
  {
   "cell_type": "markdown",
   "metadata": {},
   "source": [
    "<details><summary>**Q**:</summary>\n",
    "<p>\n",
    "\n",
    "**A**:\n",
    "\n",
    "</p>\n",
    "</details>"
   ]
  },
  {
   "cell_type": "markdown",
   "metadata": {},
   "source": [
    "<details><summary>**Q**:</summary>\n",
    "<p>\n",
    "\n",
    "**A**:\n",
    "\n",
    "</p>\n",
    "</details>"
   ]
  },
  {
   "cell_type": "markdown",
   "metadata": {},
   "source": [
    "<details><summary>**Q**:</summary>\n",
    "<p>\n",
    "\n",
    "**A**:\n",
    "\n",
    "</p>\n",
    "</details>"
   ]
  },
  {
   "cell_type": "markdown",
   "metadata": {},
   "source": [
    "<details><summary>**Q**:</summary>\n",
    "<p>\n",
    "\n",
    "**A**:\n",
    "\n",
    "</p>\n",
    "</details>"
   ]
  },
  {
   "cell_type": "markdown",
   "metadata": {},
   "source": [
    "<details><summary>**Q**:</summary>\n",
    "<p>\n",
    "\n",
    "**A**:\n",
    "\n",
    "</p>\n",
    "</details>"
   ]
  },
  {
   "cell_type": "markdown",
   "metadata": {},
   "source": [
    "<details><summary>**Q**:</summary>\n",
    "<p>\n",
    "\n",
    "**A**:\n",
    "\n",
    "</p>\n",
    "</details>"
   ]
  },
  {
   "cell_type": "markdown",
   "metadata": {},
   "source": [
    "<details><summary>**Q**:</summary>\n",
    "<p>\n",
    "\n",
    "**A**:\n",
    "\n",
    "</p>\n",
    "</details>"
   ]
  },
  {
   "cell_type": "markdown",
   "metadata": {},
   "source": [
    "<details><summary>**Q**:</summary>\n",
    "<p>\n",
    "\n",
    "**A**:\n",
    "\n",
    "</p>\n",
    "</details>"
   ]
  },
  {
   "cell_type": "markdown",
   "metadata": {},
   "source": [
    "<details><summary>**Q**:</summary>\n",
    "<p>\n",
    "\n",
    "**A**:\n",
    "\n",
    "</p>\n",
    "</details>"
   ]
  },
  {
   "cell_type": "markdown",
   "metadata": {},
   "source": [
    "<details><summary>**Q**:</summary>\n",
    "<p>\n",
    "\n",
    "**A**:\n",
    "\n",
    "</p>\n",
    "</details>"
   ]
  }
 ],
 "metadata": {
  "kernelspec": {
   "display_name": "Python 3",
   "language": "python",
   "name": "python3"
  },
  "language_info": {
   "codemirror_mode": {
    "name": "ipython",
    "version": 3
   },
   "file_extension": ".py",
   "mimetype": "text/x-python",
   "name": "python",
   "nbconvert_exporter": "python",
   "pygments_lexer": "ipython3",
   "version": "3.6.5"
  }
 },
 "nbformat": 4,
 "nbformat_minor": 2
}
