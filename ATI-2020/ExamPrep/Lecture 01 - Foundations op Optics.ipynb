{
 "cells": [
  {
   "cell_type": "markdown",
   "metadata": {},
   "source": [
    "# Astronomical Telescopes and Instruments 2020"
   ]
  },
  {
   "cell_type": "markdown",
   "metadata": {},
   "source": [
    "# Lecture 1 - Foundations of Optics"
   ]
  },
  {
   "cell_type": "markdown",
   "metadata": {},
   "source": [
    "## 1.1 - Origin of Electromagnetic Waves"
   ]
  },
  {
   "cell_type": "markdown",
   "metadata": {},
   "source": [
    "![](figs/fig1_1.png)\n",
    "\n",
    "Maxwell's equations lead directly to eletromagnetic waves. They describe electromagnetic waves, not matter. So if we want to study optics, which is defined as the interaction of electromagnetic waves with matter, we also need equations that describe matter. This can be done with the linear material equations.\n",
    "\n",
    "$$ \\vec{D} = \\epsilon \\vec{E} \\quad \\quad \\vec{B} = \\mu \\vec{H} \\quad \\quad \\vec{j} = \\sigma \\vec{E} $$\n",
    "\n",
    "The dielectric constant $\\epsilon$(also known as the vacuum permittivity) relates the electric displacement to the electric field. A dieletric (material) is an electric insulator that can be polarized by an applied electric field. In a dielectric material, the presence of an electric field $\\vec{E}$ causes the bound charges in the material (atomic nuclei and their electrons) to slightly separate, inducing a local electric dipole moment.  \n",
    "The permeability $\\mu$ is the measure of magnetization that a material obtains in response to an applied magnetic field. $\\vec{B}$ is the magnetic induction and $\\vec{H}$ the magnetic field.  \n",
    "The electrical conductivity $\\sigma$ represents a material's ability to conduct electric current. $\\vec{j}$ is the electric current density.\n",
    "    \n",
    "These equations are linear relations and are assumptions of the simplest form that explain a lot of optics. These are also a good approximation in astronomy, since light does not change in material. \n",
    "\n",
    "In vacuum, $\\epsilon = 1$, $\\mu = 1$ and $\\sigma = 0$, because there is no matter and no charge  carriers. In isotropic media, $\\epsilon$ and $\\mu$ are scalars. In anisotropic media (e.g. crystals), $\\epsilon$ and $\\mu$ are tensors of rank 2 (matrices). This is because in different directions the matter behaves differently. However, the assumption of isotropy depends on wavelength. For example, if the wavelength becomes as small as the spacing between atoms, you can not make the assumption of isotropy anymore.\n",
    "\n",
    "Electromagnetic waves are vector waves, which leads to polarization.\n",
    "\n",
    "Assuming a static, homogeneous medium with no net electric charges ($\\rho = 0$, and for most materials $\\mu = 1$), combining the Maxwell equations and linear material equations lead to these differential quations for damped (vector) wave.\n",
    "\n",
    "![](figs/fig1_2.png)\n",
    "\n",
    "There is a second derivative to space, a second derivative to time, and a first derivative to time where the damping comes from. The damping is controlled by the conductivity. The electric and magnetic field are the same except for a multiplicative, complex scalar. So, it is sufficient to only consider the electric field. However, at boundaries (the transition from one piece of matter to another piece of matter) you have to consider both, because the boundary conditions are different."
   ]
  },
  {
   "cell_type": "markdown",
   "metadata": {},
   "source": [
    "## 1.2 - Description of Electromagnetic Waves"
   ]
  },
  {
   "cell_type": "markdown",
   "metadata": {},
   "source": [
    "Guess the solution to the wave equation (ansatz):\n",
    "\n",
    "$$ \\vec{E} = \\vec{E}_0 e^{i(\\vec{k} \\cdot \\vec{x} - \\omega t)} $$\n",
    "\n",
    "We hope that this ansatz is a solution.\n",
    "\n",
    "That absolute value of the wave vector is called the wave number. If complex, this describes damping. Plane waves are so useful because the sum of any solution is also a solution.\n",
    "\n",
    "If you take the temporal derivative of the wave equation, you obtain the Helmholtz equation. Taking the spatial derivatives leads to the disperion relation between $\\vec{k}$ and $\\omega$. This leads to the copmlex index of refraction $\\tilde{n}$. You can split this complex index of refraction $\\tilde{n} = n + ik$ into a real part $n$ and an imaginary part $k$, which is the extinction coefficient.\n",
    "\n",
    "When substituting the plane-wave solution into Maxwell's equations, additional constraints arise. The electric field, magnetic field and the wave vector are all orthogonal to each other, and both the electric and magnetic field are not in the direction of the wave so they are transverse waves. The form a right-handed vector triple. This was all  in isotropic media. When in conducting media, there is a complex index of refraction, and the electric and magnetic field are out of phase.\n",
    "\n",
    "In isotropic media, the energy flow is proportional to the index of refraction (the absolute value of the complex index of refraction). In anisotropic materials (e.g. crystals), energy propagation and wave vector are not parallel.\n",
    "\n",
    "Different types of light:\n",
    "- Monochromatic light. Light of a single frequency, purely theoretical concept, is always fully polarized. That means it oscillates in one given direction. A laser is an example, but it actually has a small frequency range, so it actually is quasi-monochromatic.\n",
    "- Quasi-monochromatic light. A superposition of mutually incoherent monochromatic light beams. $\\delta \\lambda / \\lambda << 1$. Material properties assumed to be constant over $\\delta \\lambda$\n",
    "- Polychromatic light or white light. Think of light from the sun. $\\delta \\lambda / \\lambda \\sim 1 $. Incoherent sum of quasi-monochromatic beams. Cannot wirte electric field vector in a plane-wave form. You have to take into that material properties change as function of frequency. Intensity of polychromatic light is given by the sum of intensities of constituing quasi-monochromatic beams.\n",
    "\n",
    "\n",
    "\n"
   ]
  },
  {
   "cell_type": "markdown",
   "metadata": {},
   "source": [
    "## 1.3 - Material Properties"
   ]
  },
  {
   "cell_type": "markdown",
   "metadata": {},
   "source": [
    "No electric conductivity means there is only a real index of refraction. This means that transparent, dieelectric materials have real indices of refraction and conducting materials (metals) have a complex index of refraction.\n",
    "\n",
    "**Dispersion**: The index of refraction depends on wavelength. It also changes with temperature. It is roughly proportional to the density. Index typically increases with decreasing wavelength. The Abbé numer is a measurement of how small/large the dispersion is, it takes the indices of refraction at different wavelengths.\n",
    "\n",
    "You can of course of measure $n$ for each wavelength for each glass and tabulate everything, and these obtains can be obtained. The most common alternative way of calculating $n$, instead of getting it from an empirically obtained table, is using the Sellmeier equation. Each glass has three Sellmeier coefficients, and the equation has as input a wavelength and as output an index of refrection. However, this equation is only applicable over a certain wavelength.\n",
    "\n",
    "Internal transmission means how transparent is the glass. Almost all glass absorbs above 2 $\\mu$m. Typically strong absorption in the blue and UV."
   ]
  },
  {
   "cell_type": "markdown",
   "metadata": {},
   "source": [
    "## 1.4 - Electromagnetic Waves Across Interfaces"
   ]
  },
  {
   "cell_type": "markdown",
   "metadata": {},
   "source": [
    "How do the electric and magnetic field look like at boundaries/interfaces?\n",
    "\n",
    "![](figs/fig1_3.png)\n",
    "\n",
    "Snell's law can be obtained from Maxwell's equations and their boundary conditions.\n",
    "\n",
    "$$ \\tilde{n}_1 \\sin \\theta_i = \\tilde{n}_1 \\sin \\theta_r = \\tilde{n}_2 \\sin \\theta_t $$\n",
    "\n",
    "What happens at interfaces w.r.t amplitude (not angles, Snell's law describes that already)? See slide 36."
   ]
  },
  {
   "cell_type": "markdown",
   "metadata": {},
   "source": [
    "## 1.5 - Fresnel Equations"
   ]
  },
  {
   "cell_type": "markdown",
   "metadata": {},
   "source": [
    "Two special polarization cases that show how reflection and transmission happens in terms of its amplitude:\n",
    "\n",
    "1. p/TM: Electric field parallel to plane of incidence, transverse magnetic field.\n",
    "2. s/TE: Electric field perpendicular (German: senkrecht) to plane of incicence, transverse electric field.\n",
    "\n",
    "The ratios of reflected and transmitted to incident wave amplitudes give the Fresnel equations.\n",
    "\n",
    "![](figs/fig1_4.png)"
   ]
  },
  {
   "cell_type": "markdown",
   "metadata": {},
   "source": [
    "## 1.6 - Application of Fresnel Equations"
   ]
  },
  {
   "cell_type": "markdown",
   "metadata": {},
   "source": [
    "Generally, $t_s, t_p, r_s, r_p$ are complex. \n",
    "\n",
    "Only the ratio of refractive indices is relevant. So every index is w.r.t to air, because the index of air is set to 1 (as definition)."
   ]
  }
 ],
 "metadata": {
  "kernelspec": {
   "display_name": "Python 3",
   "language": "python",
   "name": "python3"
  },
  "language_info": {
   "codemirror_mode": {
    "name": "ipython",
    "version": 3
   },
   "file_extension": ".py",
   "mimetype": "text/x-python",
   "name": "python",
   "nbconvert_exporter": "python",
   "pygments_lexer": "ipython3",
   "version": "3.6.5"
  }
 },
 "nbformat": 4,
 "nbformat_minor": 2
}
