{
 "cells": [
  {
   "cell_type": "markdown",
   "metadata": {},
   "source": [
    "# Astronomical Telescopes and Instruments 2020"
   ]
  },
  {
   "cell_type": "markdown",
   "metadata": {},
   "source": [
    "# Lecture 6 - Thin Films"
   ]
  },
  {
   "cell_type": "markdown",
   "metadata": {},
   "source": [
    "## 6.1 - Thin-film Coatings"
   ]
  },
  {
   "cell_type": "markdown",
   "metadata": {},
   "source": [
    "A thin film is a layer of material ranging from fractions of a nanometer (monolayer) to several micrometers in thickness. The controlled synthesis of materials as thin films (a process referred to as deposition) is a fundamental step in many applications.\n",
    "\n",
    "The layer thickness $d_i < \\lambda$ leads to interference between reflected and refracted waves. An infinite number of multiple reflections and refractions must be considered, which is of course not handy.\n",
    "\n",
    "Ghosts are multiple reflections within a lens.\n",
    "\n",
    "Thin film coating performance depends on polarization. Some polarizers are based on thin-film coatings. Coatings can also reduce polarizing effects of optical components. All aluminium mirrors have (protective) aluminium oxidet thin film."
   ]
  },
  {
   "cell_type": "markdown",
   "metadata": {},
   "source": [
    "## 6.2 - Calculating Thin Film Properties Part 1"
   ]
  },
  {
   "cell_type": "markdown",
   "metadata": {},
   "source": [
    "If your thin film stack contains many layers, you will have to consider all interferences between reflected and refracted rays of each interface. The complexity of calculation was significantly reduced by the matrix approach (Abelès 1950). This approach is the basis for all thin-film software, and it applies only to isotropic thin films. For anisotropic materials, *Berreman calculus* exists.\n",
    "\n",
    "**Add some more stuff from the slides here.**"
   ]
  },
  {
   "cell_type": "markdown",
   "metadata": {},
   "source": [
    "## 6.3- Calculating Thin Film Properties Part 2"
   ]
  },
  {
   "cell_type": "markdown",
   "metadata": {},
   "source": [
    "We want to figure out how the electic field propagates between two layers/interfaces. So we're in 1 medium, and there is an interface at the top and one at the bottom.\n",
    "\n",
    "$$ \\delta = \\frac{2\\pi}{\\lambda} \\tilde{n}_1 d_1 \\cos \\theta_1 $$\n",
    "\n",
    "**Note**: There is a strange cosine factor. If you tilt the wave, it actually means that the path length difference gets shorter, which is very counter intuitive. This is something that is not explained in many textbooks, but here is the explanation.\n",
    "\n",
    "![](figs/fig6_1.png)\n",
    "\n",
    "This can be developed into a matrix formalism.\n",
    "\n",
    "![](figs/fig6_2.png)"
   ]
  },
  {
   "cell_type": "markdown",
   "metadata": {},
   "source": [
    "## 6.4 - Materials, Manufacturing and Properties"
   ]
  },
  {
   "cell_type": "markdown",
   "metadata": {},
   "source": [
    "Depending on the index of refraction and the wavelength range that you need to transmit, you may choose different materials.\n",
    "\n",
    "**Deposition**: *Evaporation* of solid material through high electric current (e.g. classic Al mirror coatings). *Sputtering*: plasma glow discharge ejects material from solid substance uncontrolled ballistic flights, mechanical shields to homogenize beam. *Ion-assisted deposition*.\n",
    "\n",
    "Dichroic filter: It transmits one wavelength range and reflects another wavelength range. Very handy in astronomy.\n",
    "\n",
    "![](figs/fig6_3.png)"
   ]
  },
  {
   "cell_type": "markdown",
   "metadata": {},
   "source": [
    "## 6.5 - Fabry-Perot Filters"
   ]
  },
  {
   "cell_type": "markdown",
   "metadata": {},
   "source": [
    "The Fabry-Perot (tunable) filter was fabricated by Fabry and Perot in 1899.\n",
    "\n",
    "![](figs/fig6_4.png)\n",
    "\n",
    "The nice thing about these things is that the bandpass can be adjusted by changing plate separation. There is interference between partially transmitting plates containing medium with index of refraction $n$. The path difference between successive beams is $\\Delta = 2 n d \\cos \\theta$. \n",
    "\n",
    "The phase difference: $\\delta = 2\\pi \\Delta / \\lambda = 4 \\pi n d \\cos \\theta/\\lambda$.\n",
    "\n",
    "The Finess expressed how narrow the filter in terms of how far the peaks are apart from each other. This is an important quantity.\n",
    "\n",
    "$$ F = \\frac{\\pi \\sqrt{R}}{1-R} $$"
   ]
  }
 ],
 "metadata": {
  "kernelspec": {
   "display_name": "Python 3",
   "language": "python",
   "name": "python3"
  },
  "language_info": {
   "codemirror_mode": {
    "name": "ipython",
    "version": 3
   },
   "file_extension": ".py",
   "mimetype": "text/x-python",
   "name": "python",
   "nbconvert_exporter": "python",
   "pygments_lexer": "ipython3",
   "version": "3.6.5"
  }
 },
 "nbformat": 4,
 "nbformat_minor": 2
}
