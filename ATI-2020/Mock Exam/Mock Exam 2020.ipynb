{
 "cells": [
  {
   "cell_type": "markdown",
   "metadata": {},
   "source": [
    "# Astronomical Telescopes and Instruments 2020\n",
    "# Mock Exam"
   ]
  },
  {
   "cell_type": "markdown",
   "metadata": {},
   "source": [
    "## 1 - Conic Constants [6pt]\n",
    "\n",
    "![](figs/fig1.png)\n",
    "\n",
    "The figure above shows three different mirror configurations (A, B and C)."
   ]
  },
  {
   "cell_type": "markdown",
   "metadata": {},
   "source": [
    "a) [3pt] Indicate for all three what type of surface shape (conic constant) would provide the best on-axis performance."
   ]
  },
  {
   "cell_type": "markdown",
   "metadata": {},
   "source": [
    "**Answer**:\n",
    "\n",
    "- **Figure A**: The rays are coming from infinity and after reflecting on the mirror, are focussed into a point. Since the paraboloid has one focus at infinity, this surface would provide the bets on-axis performance.\n",
    "\n",
    "- **Figure B**: An ellipsoid, since this shape has two finite foci, which are visible in the figure.\n",
    "\n",
    "- **Figure C**: A hyperboloid. Similar to an ellipsoid, it has two finite focii, but for a hyperboloid, one of them is behind the mirror."
   ]
  },
  {
   "cell_type": "markdown",
   "metadata": {},
   "source": [
    "b) [3pt] Give the possible range for the conic constant for those conic sections."
   ]
  },
  {
   "cell_type": "markdown",
   "metadata": {},
   "source": [
    "**Answer**:\n",
    "\n",
    "- **Figure A**: Paraboloid, $e = 1, K= -1$\n",
    "\n",
    "- **Figure B**: Ellipsoid, $0 < e < 1, -1 < K < 0$\n",
    "\n",
    "- **Figure C**: Hyperboloid $e > 1, K < -1$"
   ]
  },
  {
   "cell_type": "markdown",
   "metadata": {},
   "source": [
    "# 2 - Tilted Filter in Coverging Beam [15pt]\n",
    "\n",
    "A very simple instrument in the focus of a telescope consists of a filter and a camera. The filter is in the converging beam in front of the camera. To avoid ghost images due to multiple reflections in the plane-parallel filter, the filter can be tilted. The focal ratio of the telescope is $D/f$ (aperture diameter $D$ and focal length $f$), the filter has a thickness $t$, index of refraction $n$, and a tilt angle $\\theta$ (angle between the optical axis of the telescope and the normal of the filter surface)."
   ]
  },
  {
   "cell_type": "markdown",
   "metadata": {},
   "source": [
    "**a) [3pt]** When the filter is not tilted at all, show that the focus is shifted by\n",
    "\n",
    "$$ t \\bigg( \\frac{n-1}{n} \\bigg) $$\n",
    "\n",
    "along the optical axis as compared to the focal position without the filter."
   ]
  },
  {
   "cell_type": "markdown",
   "metadata": {},
   "source": [
    "**Answer**: \n",
    "\n",
    "Sketch:\n",
    "\n",
    "![](figs/fig2.jpeg)"
   ]
  },
  {
   "cell_type": "markdown",
   "metadata": {},
   "source": [
    "We want to know $CD$.\n",
    "\n",
    "We see that\n",
    "\n",
    "$$ BD = t \\tan \\theta_t $$\n",
    "\n",
    "$$ BE = t \\tan \\theta_i $$\n",
    "\n",
    "Using geometrical relations, an expression for CD can be obtained:\n",
    "\n",
    "$$ CD = t \\bigg( \\frac{t(\\tan \\theta_i - \\tan \\theta_t)}{t \\tan \\theta_i} \\bigg) $$\n",
    "\n",
    "$$ CD = t \\bigg( \\frac{\\tan \\theta_i - \\tan \\theta_t}{\\tan \\theta_i} \\bigg) = t \\bigg( 1 - \\frac{\\tan \\theta_t}{\\tan \\theta_i} \\bigg) $$\n",
    "\n",
    "From Snell's law we know:\n",
    "\n",
    "$$ n_0 \\sin \\theta_i = n \\sin \\theta_t $$\n",
    "\n",
    "With $n_0 = 1$:\n",
    "\n",
    "$$ \\sin \\theta_i = n \\sin \\theta_t \\rightarrow n = \\frac{\\sin \\theta_i}{\\sin \\theta_t} $$\n",
    "\n",
    "Assuming the paraxial approximation, $\\sin \\theta \\approx \\theta$ and $\\tan \\theta \\approx \\theta$. From this it follows that:\n",
    "\n",
    "$$ CD = t \\bigg( 1 - \\frac{\\theta_t}{\\theta_i} \\bigg) $$\n",
    "\n",
    "$$ n = \\frac{\\theta_i}{\\theta_t} $$\n",
    "\n",
    "$$ CD = t \\bigg( 1 - \\frac{\\tan \\theta_t}{\\tan \\theta_i} \\bigg) = t \\bigg( 1 - \\frac{1}{n} \\bigg) = t \\bigg( \\frac{n-1}{n} \\bigg) $$"
   ]
  },
  {
   "cell_type": "markdown",
   "metadata": {},
   "source": [
    "**b) [3pt]** Show that for small tilt angles $\\theta$ the image is moved perpendicular to the optical axis by\n",
    "\n",
    "$$ t \\theta \\cdot \\frac{n-1}{n} $$"
   ]
  },
  {
   "cell_type": "markdown",
   "metadata": {},
   "source": [
    "**Answer**: In the above sketch the filter is not tilted. For this exercise, imagine the above sketch is of the tilted filter, so turn your head an angle $\\theta_i$. Then the distance the image is moved perpendicular to the optical axis is equal to $DE$, in the paraxial approximation. We already found an expression for $DE$ in 2a:\n",
    "\n",
    "$$ \\text{DE} = t(\\tan \\theta_i - \\tan \\theta_t) $$\n",
    "\n",
    "$$ \\text{DE} = t \\tan \\theta_i \\bigg( \\frac{\\tan \\theta_i - \\tan \\theta_t}{\\tan \\theta_i} \\bigg) $$\n",
    "\n",
    "$$ \\text{DE} = t \\tan \\theta_i \\bigg( 1 - \\frac{\\tan \\theta_t}{\\tan \\theta_i} \\bigg) \\approx t \\theta_i \\bigg( 1 - \\frac{\\theta_t}{\\theta_i} \\bigg) =  t \\theta_i \\bigg( 1 - \\frac{1}{n} \\bigg) = t \\theta_i \\bigg( \\frac{n - 1}{n} \\bigg) $$\n",
    "\n",
    "$$ \\text{DE} = t \\theta \\cdot \\frac{n-1}{n} $$"
   ]
  },
  {
   "cell_type": "markdown",
   "metadata": {},
   "source": [
    "**c) [3pt]** Show with a sketch and simple optical arguments that the filter creates spherical aberration."
   ]
  },
  {
   "cell_type": "markdown",
   "metadata": {},
   "source": [
    "**Answer**: Spherical abberation is the result of the fact that rays close and far from the optical axis have different focal lengths. Because of the linear shift caused by the filter, rays further away from the optical axis will have a further away focal point. In the sketch, because $CE \\neq DF$, there are different focal points for different incoming angles.\n",
    "\n",
    "Sketch:\n",
    "![](figs/fig4.jpeg)"
   ]
  },
  {
   "cell_type": "markdown",
   "metadata": {},
   "source": [
    "**d) [3pt]** Show with a sketch and simple optical arguments that the filter creates astigmatism when tilted."
   ]
  },
  {
   "cell_type": "markdown",
   "metadata": {},
   "source": [
    "**Answer**: Astigmatism means that the focal length is not the same in two orthogonal planes. When tilting the filter, it is only tilted in one direction, so in a certain plane. This means that when light comes in from different angles (different planes of incidence), the path length through the filter is different for these different incoming angles. This means the shifting of the focus point because of filter has different amounts for the different angles, which means there is astigmatism. It is a little bit hard to draw because you need to draw in 3 dimensions, so I didn't make a sketch."
   ]
  },
  {
   "cell_type": "markdown",
   "metadata": {},
   "source": [
    "**e) [3pt]** What could be done to avoid the ghost reflections off the filter so that it can be used at normal incidence?"
   ]
  },
  {
   "cell_type": "markdown",
   "metadata": {},
   "source": [
    "**Answer**: Ghost reflections are the result of multiple internal reflections which add artificial elements to the image. This effect can be reduced by using anti-reflecting (AR) coatings, which makes sure the reflecting light destructively interferes."
   ]
  },
  {
   "cell_type": "markdown",
   "metadata": {},
   "source": [
    "# 3 - Polarization and interference [4pt]\n",
    "\n",
    "A beam from an unpolarized, quasi-monochromatic source is split into two orthogonally, linearly polarized beams that are subsequently allowed to interfere on a detector. The path-length of one of the beams can be changed so that the intensity can be measured as a function of path-length variation"
   ]
  },
  {
   "cell_type": "markdown",
   "metadata": {},
   "source": [
    "**a) [2 pt]** Show that no interference fringes can be detected in intensity. Hint: Use Jones vectors."
   ]
  },
  {
   "cell_type": "markdown",
   "metadata": {},
   "source": [
    "**Answer**: Two two orthogonally, linearly polarized beams can be described by the following two Jones Vectors:\n",
    "\n",
    "$$ \\begin{pmatrix} 1 \\\\ 0 \\end{pmatrix} \\quad \\text{Horizontal linear polarization} $$\n",
    "\n",
    "$$ \\begin{pmatrix} 0 \\\\ 1 \\end{pmatrix} \\quad \\text{Vertical linear polarization} $$\n",
    "\n",
    "The sum of these two beams is:\n",
    "\n",
    "$$ \\begin{pmatrix} 1 \\\\ 0 \\end{pmatrix} +   \\begin{pmatrix} 0 \\\\ 1 \\end{pmatrix} =  \\begin{pmatrix} 1 \\\\ 1 \\end{pmatrix} $$\n",
    "\n",
    "Normalized, this equals\n",
    "\n",
    "$$ \\frac{1}{\\sqrt{2}} \\begin{pmatrix} 1 \\\\ 1 \\end{pmatrix} $$\n",
    "\n",
    "Which is still linearly polarized light, but at an angle of 45 degrees. This does not cause interference fringes."
   ]
  },
  {
   "cell_type": "markdown",
   "metadata": {},
   "source": [
    "**b) [2 pt]** Show that when adding a linear polarizer in front of the detector at an angle of 45 degrees with respect to both polarization directions, interference fringes can be detected."
   ]
  },
  {
   "cell_type": "markdown",
   "metadata": {},
   "source": [
    "**Answer**:\n",
    "\n",
    "A linear polarizer at an angle of 45 degrees w.r.t both polarization directions can be described with the Jones matrix:\n",
    "\n",
    "$$ \\frac{1}{\\sqrt{2}} \\begin{pmatrix} 1 & 0 \\\\ 0 & 1 \\end{pmatrix}  $$"
   ]
  },
  {
   "cell_type": "markdown",
   "metadata": {},
   "source": [
    "# 4 - Grating Spectrograph [5pt]"
   ]
  },
  {
   "cell_type": "markdown",
   "metadata": {},
   "source": [
    "**a) [1 pt]** Show that the angular dispersion of a grating depends only on the wavelength $\\lambda$ and the angle of incidence. Assume a Littrow configuration $\\alpha = \\beta$."
   ]
  },
  {
   "cell_type": "markdown",
   "metadata": {},
   "source": [
    "**Answer**:\n",
    "\n",
    "The grating equation:\n",
    "\n",
    "$$ m\\lambda = \\sigma(\\sin \\alpha \\pm \\sin \\beta) $$\n",
    "\n",
    "$\\alpha = \\beta$ means the grating equation can be written as\n",
    "\n",
    "$$ \\lambda = \\frac{2 \\sigma \\sin \\alpha}{m} $$\n",
    "\n",
    "The angular dispersion is the difference in the reflecting angle for the two different wavelengths, divided by the difference in wavelength. This can be formulated as:\n",
    "\n",
    "$$ A = \\frac{\\text{d}\\alpha}{\\text{d}\\lambda} $$\n",
    "\n",
    "Differentiating the grating equation gives:\n",
    "\n",
    "$$ \\text{d}\\lambda = \\frac{2 \\sigma}{m} \\cos(\\alpha) \\text{d}\\alpha $$\n",
    "\n",
    "$$ A = \\frac{\\text{d}\\alpha}{\\text{d}\\lambda} = \\frac{m}{2\\sigma\\cos \\alpha} $$\n",
    "\n",
    "Substituting the grating equation back into this expression gives:\n",
    "\n",
    "$$ m = \\frac{2 \\sigma \\sin \\alpha}{\\lambda} $$\n",
    "\n",
    "$$ A = \\frac{\\bigg( \\frac{2 \\sigma \\sin \\alpha}{\\lambda} \\bigg)}{2\\sigma\\cos \\alpha} $$\n",
    "\n",
    "$$ A = \\frac{\\tan \\alpha}{\\lambda} $$\n",
    "\n",
    "This shows that the angular dispersion of a grating depends only on the wavelength $\\lambda$ and the angle of incidence $\\alpha$."
   ]
  },
  {
   "cell_type": "markdown",
   "metadata": {},
   "source": [
    "**b) [2 pt]** Using the fact that an aperture $D$ allows for a diffraction-limited angular resolution of order $\\lambda/D$, show that the resolving power of a grating is given by $\\frac{\\lambda}{\\Delta \\lambda} = nm $, where $n$ is the total number of lines across\n",
    "the grating and $m$ is the grating order. *Hint*: Use two different expressions for the angular resolution element $\\Delta \\lambda$."
   ]
  },
  {
   "cell_type": "markdown",
   "metadata": {},
   "source": [
    "**Answer**:\n",
    "\n",
    "To show:\n",
    "\n",
    "$$ \\text{Resolving power } R = \\frac{\\lambda}{\\Delta \\lambda} = nm $$\n",
    "\n",
    "Two wavelengths $\\lambda$ and $\\lambda + \\Delta \\lambda$ are resolved when the maximum of one wavelength lies at the first minimum of the other. This gives:\n",
    "\n",
    "$$ m(\\lambda + \\Delta \\lambda) = a \\sin \\theta $$\n",
    "\n",
    "$$ \\bigg(m + \\frac{1}{n} \\bigg) \\lambda = a \\sin \\theta $$\n",
    "\n",
    "Combining these two equations gives:\n",
    "\n",
    "$$ m(\\lambda + \\Delta \\lambda) = \\bigg(m + \\frac{1}{n} \\bigg) \\lambda $$\n",
    "\n",
    "$$ m\\lambda + m\\Delta \\lambda = m\\lambda + \\frac{1}{n}\\lambda $$\n",
    "\n",
    "$$ m\\Delta \\lambda = \\frac{1}{n}\\lambda $$\n",
    "\n",
    "$$ \\frac{\\lambda}{\\Delta \\lambda} = nm $$\n"
   ]
  },
  {
   "cell_type": "markdown",
   "metadata": {},
   "source": [
    "**c) [2 pt]** Assume a grating of 632 lines per mm used in 5th order in a Littrow configuration with $\\alpha = 60$ degrees and a focal length of the Littrow lens of $6.3$ m. The entrance slit of the spectrograph has a finite size, and its image must be convolved with the object spectrum to obtain the observed spectrum. How narrow a slit must be used to obtain a spectral resolution of $0.0005$ nm?"
   ]
  },
  {
   "cell_type": "markdown",
   "metadata": {},
   "source": [
    "**Answer**:\n",
    "\n",
    "$ \\sigma = \\frac{1}{632} \\text{mm} $\n",
    "\n",
    "$ m = 5 $\n",
    "\n",
    "$ \\alpha = 60 \\text{ degrees} $\n",
    "\n",
    "$ f = 6.3 \\text{ m} $\n",
    "\n",
    "How narrow must slit be to obtain $ R = \\frac{\\lambda}{\\Delta \\lambda} = nm = 0.0005 \\text{ nm} $\n"
   ]
  },
  {
   "cell_type": "markdown",
   "metadata": {},
   "source": [
    "$$ n = \\frac{R}{m} = \\frac{0.0005 \\text{ nm}}{5} = 0.0001 \\text{ nm} $$"
   ]
  },
  {
   "cell_type": "markdown",
   "metadata": {},
   "source": [
    "# 5 - VLT spot diagrams [10pt]\n",
    "\n",
    "Consider the following spot diagrams for one of the 8.2-m VLT telescopes.\n",
    "\n",
    "![](figs/fig3.png)\n",
    "\n",
    "**Caption**: Through-focus pot diagrams for the Cassegrain focus of the 8.2-m VLT telescope, evaluated for three field points. The black circles indicate the Airy disk, which is here defined as the position of the first minimum of the PSF if it were diffraction-limited. All size scales are in μm."
   ]
  },
  {
   "cell_type": "markdown",
   "metadata": {},
   "source": [
    "**a) [1 pt]** Derive the effective focal length of the telescope, using information in the spot diagrams."
   ]
  },
  {
   "cell_type": "markdown",
   "metadata": {},
   "source": [
    "**Answer**:\n",
    "\n",
    "$ D = 8.2 \\text{ m} $\n",
    "\n",
    "$ r_\\text{Airy} = 9.872 \\cdot 10^{-6} \\text{ m} $"
   ]
  },
  {
   "cell_type": "markdown",
   "metadata": {},
   "source": [
    "**b) [1 pt]** With the result from question a) and additional information from the figure, determine the wavelength at which the spot diagrams were generated."
   ]
  },
  {
   "cell_type": "markdown",
   "metadata": {},
   "source": [
    "**Answer**:\n",
    "\n",
    "Assuming you have found a resolution\n",
    "\n",
    "$$ \\sin \\theta = 1.22 \\frac{\\lambda}{D} $$\n",
    "\n",
    "$$ \\lambda = \\frac{D \\sin \\theta}{1.22} $$"
   ]
  },
  {
   "cell_type": "markdown",
   "metadata": {},
   "source": [
    "**c) [2 pt]** What are the two main geometrical aberrations that are apparent in the spot diagrams? Explain your answer."
   ]
  },
  {
   "cell_type": "markdown",
   "metadata": {},
   "source": [
    "**Answer**:\n",
    "\n",
    "1. Astigmatism.\n",
    "2. []"
   ]
  },
  {
   "cell_type": "markdown",
   "metadata": {},
   "source": [
    "**d) [1 pt]** What is the type of telescope that creates such spot diagrams? Explain your answer."
   ]
  },
  {
   "cell_type": "markdown",
   "metadata": {},
   "source": [
    "**Answer**:"
   ]
  },
  {
   "cell_type": "markdown",
   "metadata": {},
   "source": [
    "**e) [1 pt]** If you would locate an imaging detector in the focal plane where these spot diagrams are located, which aberration would be most difficult to deal with?"
   ]
  },
  {
   "cell_type": "markdown",
   "metadata": {},
   "source": [
    "**Answer**:"
   ]
  },
  {
   "cell_type": "markdown",
   "metadata": {},
   "source": [
    "**f) [2 pt]** How could you correct for the two aberrations you listed as an answer to question c) if you were allowed to design an optical system that would create a second, correct focal plane that comprises the same field-of-view as for the spot diagrams in the figure. Explain your solution for each aberration and, if necessary, for each particular field position."
   ]
  },
  {
   "cell_type": "markdown",
   "metadata": {},
   "source": [
    "**Answer**:"
   ]
  },
  {
   "cell_type": "markdown",
   "metadata": {},
   "source": [
    "**g) [2 pt]** Now suppose you relocate your instrument from the VLT to the 39-m ELT, which has the same $F$-number as the VLT. For both telescopes you have already built a perfect AO system that constitutes a 1:1 reimaging system of the focal plane of the spots seen in the figure. What pixel size would you need for a detector inside your instrument at the ELT?"
   ]
  },
  {
   "cell_type": "markdown",
   "metadata": {},
   "source": [
    "**Answer**:"
   ]
  }
 ],
 "metadata": {
  "kernelspec": {
   "display_name": "Python 3",
   "language": "python",
   "name": "python3"
  },
  "language_info": {
   "codemirror_mode": {
    "name": "ipython",
    "version": 3
   },
   "file_extension": ".py",
   "mimetype": "text/x-python",
   "name": "python",
   "nbconvert_exporter": "python",
   "pygments_lexer": "ipython3",
   "version": "3.6.5"
  }
 },
 "nbformat": 4,
 "nbformat_minor": 2
}
