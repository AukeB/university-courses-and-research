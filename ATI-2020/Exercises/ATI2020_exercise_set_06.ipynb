{
 "cells": [
  {
   "cell_type": "markdown",
   "metadata": {},
   "source": [
    "# Astronomical Telescopes and Instruments 2020: Exercise Set 6\n",
    "# Auke Bruinsma, s1594443\n",
    "\n",
    "Welcome to the sixth exercise class for ATI 2020. You have to hand in the completed notebook to Brightspace before the start of the next lecture. Information/things to think about will be in regular font, while exercises will be *italic*.\n",
    "\n",
    "### Make sure your submitted notebook works when run from scratch! You can do this using the menu above 'Kernel/Restart & Run all'. There should be no errors!\n",
    "\n",
    "*Upload the finished notebook to Brightspace before the start of the next lecture!*\n",
    "\n",
    "These are the packages you need for this exercise set. You are welcome to add extra, but this should not be necessary."
   ]
  },
  {
   "cell_type": "code",
   "execution_count": 81,
   "metadata": {},
   "outputs": [],
   "source": [
    "import numpy as np\n",
    "import matplotlib.pyplot as plt\n",
    "import copy\n",
    "\n",
    "%matplotlib inline"
   ]
  },
  {
   "cell_type": "markdown",
   "metadata": {},
   "source": [
    "This set will have you build your own thin film code. We will start a bit simpler, by reusing some of your code from the 1st set to get started."
   ]
  },
  {
   "cell_type": "code",
   "execution_count": 82,
   "metadata": {},
   "outputs": [],
   "source": [
    "n_complex = [0.52135 + 5.000j, 2.6945 + 8.1878j, 1.5782 + 15.656j]"
   ]
  },
  {
   "cell_type": "markdown",
   "metadata": {},
   "source": [
    "These are the complex indices of refraction for aluminum at wavelengths of 400 nm, 850 nm, and 1650 nm respectively.\n",
    "\n",
    "*Calculate the reflectivity of an aluminum mirror at normal incidences at these wavelengths.*\n"
   ]
  },
  {
   "cell_type": "code",
   "execution_count": 83,
   "metadata": {},
   "outputs": [],
   "source": [
    "# Function that computes transmission and reflection coefficients.\n",
    "# I took the following function from the jupyter notebook file from the first exercise set.\n",
    "def fresnel_equations(n1, n2, theta_i):\n",
    "    '''\n",
    "    theta_i = angle of incidence\n",
    "    n1 = index of refraction for the glass\n",
    "    n2 = index of refraction for the surrounding medium.\n",
    "    '''\n",
    "    root_part = np.sqrt(n2**2 - n1**2 * np.sin(theta_i)**2)\n",
    "    \n",
    "    # Formulas taken from slide 46 of the first lecture.\n",
    "    t_s = (2*n1 * np.cos(theta_i)) / (n1 * np.cos(theta_i) + root_part)\n",
    "    t_p = (2*n1*n2 * np.cos(theta_i)) / ((n2**2 * np.cos(theta_i)) + (n1*root_part))\n",
    "    r_s = (n1*np.cos(theta_i) - root_part) / (n1*np.cos(theta_i) + root_part)\n",
    "    r_p = (n2**2 * np.cos(theta_i) - n1*root_part) / (n2**2 * np.cos(theta_i) + n1*root_part)\n",
    "    \n",
    "    return [t_s, t_p, r_s, r_p]"
   ]
  },
  {
   "cell_type": "code",
   "execution_count": 84,
   "metadata": {},
   "outputs": [],
   "source": [
    "# Snellius law.\n",
    "def snells_law(n1, n2, theta_i):\n",
    "    # Slide 35, first lecture.\n",
    "    return np.arcsin(np.sin(theta_i) * n1.real/n2.real)"
   ]
  },
  {
   "cell_type": "code",
   "execution_count": 85,
   "metadata": {},
   "outputs": [],
   "source": [
    "def reflection_transmission(n1, n2, theta_i, alpha):\n",
    "    theta_t = snells_law(n1, n2, theta_i)\n",
    "    #print(f'theta_t: {theta_t}')\n",
    "    fresnel_coef = fresnel_equations(n1, n2, theta_i)\n",
    "    #print(f'fresnel_coef: {fresnel_coef}')\n",
    "    \n",
    "    # Formulas taken from slide 53 of lecture 1.\n",
    "    R = abs(fresnel_coef[3])**2 * np.cos(alpha)**2 + abs(fresnel_coef[2])**2 * np.sin(alpha)**2\n",
    "    T = (abs(n2) * np.cos(theta_t))/(abs(n1)*np.cos(theta_i)) * (np.abs(fresnel_coef[1])**2 * np.cos(alpha)**2 + np.abs(fresnel_coef[0])**2 * np.sin(alpha)**2)\n",
    "    #print(f'R: {R}')\n",
    "    #print(f'T: {T}')\n",
    "\n",
    "    return R, T"
   ]
  },
  {
   "cell_type": "code",
   "execution_count": 86,
   "metadata": {},
   "outputs": [
    {
     "name": "stdout",
     "output_type": "stream",
     "text": [
      "n2 = (0.52135+5j) gives a reflectivity of 0.92365\n",
      "n2 = (2.6945+8.1878j) gives a reflectivity of 0.86643\n",
      "n2 = (1.5782+15.656j) gives a reflectivity of 0.97493\n"
     ]
    }
   ],
   "source": [
    "# Initial values.\n",
    "n1 = 1 + 0j\n",
    "theta_i = np.deg2rad(0) # Normal incidence.\n",
    "\n",
    "for n2 in n_complex:\n",
    "    # Decompose into 2 components: parallel and perpendicular to plane of interface (slide 53 first lecture).\n",
    "    R_s, T_s = reflection_transmission(n1, n2, theta_i, alpha=np.deg2rad(90))\n",
    "    R_p, T_p = reflection_transmission(n1, n2, theta_i, alpha=np.deg2rad(0))\n",
    "    \n",
    "    R = (R_s + R_p)/2\n",
    "    #T = (T_s + T_p)/2 # Not relevant.\n",
    "    \n",
    "    print(f'n2 = {n2} gives a reflectivity of {R:.5f}')"
   ]
  },
  {
   "cell_type": "markdown",
   "metadata": {},
   "source": [
    "**Results:**\n",
    "\n",
    "| Wavelength (nm) | Reflectivity $R$ |\n",
    "|---|---|\n",
    "| 400 | 0.92031 |\n",
    "| 850 | 0.86040 |\n",
    "| 1650 | 0.97349 |"
   ]
  },
  {
   "cell_type": "markdown",
   "metadata": {},
   "source": [
    "To get used to the effect of the path length difference in a single layer, a quick example.\n",
    "\n",
    "*Determine the thickness of a single MgF$_2$ ($n=1.39$) layer to minimize the reflectivity of an air to glass ($n=1.55$) interface at an angle of incidence of $45$ degrees.*"
   ]
  },
  {
   "cell_type": "markdown",
   "metadata": {},
   "source": [
    "**Answer**: The geometrical thickness $d_1$ of a layer can be calculated using the formula of slide 23 of lecture 6:\n",
    "\n",
    "$$ \\delta = \\frac{2\\pi}{\\lambda} n_1 d_1 \\cos \\theta_1 $$\n",
    "\n",
    "In this formula, $\\delta$ should be equal to $\\pi$. This implies destructive interference which is needed for minimizing the reflectivity.\n",
    "\n",
    "$$ d_1 = \\frac{\\delta}{\\frac{2\\pi}{\\lambda} n_1 \\cos \\theta_1} $$\n",
    "\n",
    "$$ d_1 = \\frac{\\lambda \\delta}{2\\pi n_1 \\cos \\theta_1} $$\n",
    "\n",
    "Substitute Snellius law $ \\theta_1 = \\arcsin( \\frac{n2}{n1}\\sin \\theta_i )$:\n",
    "\n",
    "$$ d_1 = \\frac{\\lambda \\delta}{2\\pi n_1 \\cos \\arcsin( \\frac{n2}{n1}\\sin \\theta_i )} $$"
   ]
  },
  {
   "cell_type": "code",
   "execution_count": 87,
   "metadata": {},
   "outputs": [],
   "source": [
    "def minimize_reflection(delta, n_mgf2, n_air, theta_i):\n",
    "    return delta / ( 2 * np.pi * n_mgf2 * np.cos( np.arcsin( n_air / n_mgf2 * np.sin( theta_i ) ) ) )"
   ]
  },
  {
   "cell_type": "code",
   "execution_count": 88,
   "metadata": {},
   "outputs": [
    {
     "name": "stdout",
     "output_type": "stream",
     "text": [
      "d_1 = 0.41781\n"
     ]
    }
   ],
   "source": [
    "# Initial values\n",
    "n_air = 1.00\n",
    "n_glass = 1.55\n",
    "n_mgf2 = 1.39\n",
    "theta_i = np.deg2rad(45)\n",
    "delta = np.pi\n",
    "\n",
    "d_1 = minimize_reflection(delta, n_mgf2, n_air, theta_i)\n",
    "print(f'd_1 = {d_1:.5f}')"
   ]
  },
  {
   "cell_type": "markdown",
   "metadata": {},
   "source": [
    "**Result**: So, the thickness of a single MgF2 layer to minimize the reflectivity  should be $d_1 = 0.41781 \\lambda$."
   ]
  },
  {
   "cell_type": "markdown",
   "metadata": {},
   "source": [
    "Now we get to the real work. Convert the equations of the matrix formalism into a program that can calculate the reflectivity of an arbitrary stack of thin films. \n",
    "\n",
    "*Complete the empty functions defined below. The function 'get_stack_coefficients' can be used to calculate the properties of a given thin film stack. The documentation is already given for each function, use this! *\n",
    "\n",
    "The functions assume that both the wavelength and incident angles can be either scalars or arrays. This means you need to carefully keep track of the shape of each array you make. Test your resulting functions with both scalar and array inputs. If you can't manage to get that working, it is okay to force either the incoming angles or wavelengths to be only a scalar. Don't forget to correct the documentation in each function if you do this!"
   ]
  },
  {
   "cell_type": "code",
   "execution_count": 89,
   "metadata": {},
   "outputs": [],
   "source": [
    "def eta(theta0, n, polarization, n0=1):\n",
    "    '''\n",
    "    Calculates the eta factor for a single layer as\n",
    "    defined in the lecture slides.\n",
    "    \n",
    "    Parameters\n",
    "    ----------\n",
    "    theta0 : scalar/ndarray\n",
    "        Angle of the light in the top layer (air layer) in radians.\n",
    "    n : scalar\n",
    "        Refractive index of the layer.\n",
    "    polarization : {'s', 'p'}\n",
    "        Polarization state of the incoming light.\n",
    "    n0 : scalar, optional\n",
    "        Refractive index of the top layer (air layer). Default is 1.\n",
    "    \n",
    "    Returns\n",
    "    -------\n",
    "    eta : scalar/ndarray\n",
    "        Eta factor as defined in the lectures. Is of the same type\n",
    "        and has the same shape as theta0.\n",
    "    '''\n",
    "    \n",
    "    # Maybe use theta_t here?\n",
    "    \n",
    "    if polarization == 's':\n",
    "        eta = n * np.cos(theta0) # Slide 28, lecture 6.\n",
    "    elif polarization == 'p':\n",
    "        eta = n / np.cos(theta0) # Slide 28, lecture 6.\n",
    "    \n",
    "    return eta\n",
    "\n",
    "def delta(wavelength, n, d, theta0, n0=1):\n",
    "    '''\n",
    "    Calculates the phase delay from the lectures.\n",
    "    \n",
    "    Parameters\n",
    "    ----------\n",
    "    wavelength : scalar/ndarray\n",
    "        Wavelengths to calculate the phase delay at.\n",
    "    n : scalar\n",
    "        Refractive index of the layer.\n",
    "    d : scalar\n",
    "        thickness of the layer. Must be in the same units as the\n",
    "        wavelength.\n",
    "    theta0 : scalar/ndarray\n",
    "        Angle of the light in the top layer (air layer) in radians.\n",
    "    n0 : scalar, optional\n",
    "        Refractive index of the top layer (air layer). Default is 1.\n",
    "    \n",
    "    Returns\n",
    "    -------\n",
    "    delta : scalar/ndarray\n",
    "        Phase delay as defined in the lectures. If wavelength and theta0\n",
    "        are both scalars, is also a scalar, otherwise it is an ndarray\n",
    "        with values per wavelength and per theta0.\n",
    "    '''\n",
    "    \n",
    "    # Slide 28, lecture 6.\n",
    "    delta = 2*np.pi / wavelength * n * d * np.cos(theta0)\n",
    "    \n",
    "    return delta\n",
    "    \n",
    "\n",
    "def get_input_field_vector(theta0, polarization, n_s, n0=1):\n",
    "    '''\n",
    "    Generate the starting field vector at the interface between\n",
    "    substrate and the bottom layer of the thin film stack.\n",
    "    \n",
    "    Parameters\n",
    "    ----------\n",
    "    theta0 : scalar/ndarray\n",
    "        Angle of the light in the top layer (air layer) in radians.\n",
    "    polarization : {'s', 'p'}\n",
    "        Polarization state of the incoming light.\n",
    "    n_s : scalar\n",
    "        Refractive index of the substrate.\n",
    "    n0 : scalar, optional\n",
    "        Refractive index of the top layer (air layer). Default is 1.\n",
    "    \n",
    "    Returns\n",
    "    -------\n",
    "    F : ndarray\n",
    "        Starting vector at the lowest interface. If theta0 is scalar,\n",
    "        will be a 1darray with shape (2,), otherwise it will be an\n",
    "        ndarray with shape (theta0.shape, 2).\n",
    "    '''\n",
    "    \n",
    "    eta_s = eta(theta0, n_s, polarization)\n",
    "    \n",
    "    # Slide 29, lecture 6.\n",
    "    F = np.array([1, eta_s])\n",
    "    \n",
    "    return F\n",
    "\n",
    "def get_amplitudes(field_vector, theta0, polarization, n0=1):\n",
    "    '''\n",
    "    Generate the complex reflection and transmission amplitudes\n",
    "    for the stack based on the final field vector.\n",
    "    \n",
    "    Parameters\n",
    "    ----------\n",
    "    field_vector : ndarray\n",
    "        Set of field vectors (one per wavelength and theta0) at the top\n",
    "        interface of the thin film stack.\n",
    "    theta0 : scalar/ndarray\n",
    "        Angle of the light in the top layer (air layer) in radians.\n",
    "    polarization : {'s', 'p'}\n",
    "        Polarization state of the incoming light.\n",
    "    n0 : scalar, optional\n",
    "        Refractive index of the top layer (air layer). Default is 1.\n",
    "    \n",
    "    Returns\n",
    "    -------\n",
    "    r : complex/ndarray\n",
    "        Complex reflection amplitude based on the field vector.\n",
    "        Will have one entry per wavelength and theta0.\n",
    "    t : complex/ndarray\n",
    "        Complex transmission amplitude based on the field vector.\n",
    "        Will have one entry per wavelength and theta0.\n",
    "    '''\n",
    "    eta_m = eta(theta0, n0, polarization)\n",
    "    \n",
    "    # Slide 29, lecture 6.\n",
    "    r = (eta_m * field_vector[0] - field_vector[1] )/(eta_m * field_vector[0] + field_vector[1] )\n",
    "    t = 2*eta_m / (eta_m * field_vector[0] + field_vector[1])\n",
    "    \n",
    "    return r, t\n",
    "\n",
    "def get_layer_matrix(wavelength, theta0, n, d, polarization, n0=1):\n",
    "    '''\n",
    "    Get the propagation matrix for a single layer of the thin film\n",
    "    stack.\n",
    "    \n",
    "    Parameters\n",
    "    ----------\n",
    "    wavelength : scalar/ndarray\n",
    "        Wavelengths to calculate the phase delay at.\n",
    "    theta0 : scalar/ndarray\n",
    "        Angle of the light in the top layer (air layer) in radians.\n",
    "    n : scalar\n",
    "        Refractive index of the layer.\n",
    "    d : scalar\n",
    "        Thickness of the layer. Must be in the same units as the\n",
    "        wavelength.\n",
    "    polarization : {'s', 'p'}\n",
    "        Polarization state of the incoming light.\n",
    "    n0 : scalar, optional\n",
    "        Refractive index of the top layer (air layer). Default is 1.\n",
    "    \n",
    "    Returns\n",
    "    -------\n",
    "    M : ndarray\n",
    "        Propagation matrix of the current layer. Has a shape (2,2) if\n",
    "        both the wavelength and theta0 are scalar, otherwise is has a \n",
    "        shape of (wavelength.shape, theta0.shape, 2, 2).\n",
    "    '''\n",
    "    \n",
    "    eta_var = eta(theta0, n, polarization)\n",
    "    delta_var = delta(wavelength, n, d, theta0)\n",
    "    \n",
    "    # Slide 28, lecture 6.\n",
    "    M = np.array([\n",
    "        [np.cos(delta_var), 1j/n * np.sin(delta_var)],\n",
    "        [1j*eta_var * np.sin(delta_var), np.cos(delta_var)]    \n",
    "    ])\n",
    "    \n",
    "    return M\n",
    "\n",
    "def get_stack_coefficients(wavelength, theta0, n, d, polarization, n_s=1, n0=1):\n",
    "    '''\n",
    "    Get the complex reflection and transmission amplitudes for a given\n",
    "    thin film stack.\n",
    "    \n",
    "    Parameters\n",
    "    ----------\n",
    "    wavelength : scalar/ndarray\n",
    "        Wavelengths to calculate the phase delay at.\n",
    "    theta0 : scalar/ndarray\n",
    "        Angle of the light in the top layer (air layer) in radians.\n",
    "    n : list of scalar\n",
    "        Refractive indices of each layer. Must be ordered such that\n",
    "        the lowest layer is the first element and the top layer is the \n",
    "        final element.\n",
    "    d : list of scalar\n",
    "        Geometrical thicknesses of each layer. Must be in the same units as the\n",
    "        wavelength. Must have the same ordering of elements as n.\n",
    "    polarization : {'s', 'p'}\n",
    "        Polarization state of the incoming light.\n",
    "    n_s : scalar\n",
    "        Refractive index of the substrate.\n",
    "    n0 : scalar, optional\n",
    "        Refractive index of the top layer (air layer). Default is 1.\n",
    "    \n",
    "    Returns\n",
    "    -------\n",
    "    R : complex/ndarray\n",
    "        Reflectivity for the thin film stack.\n",
    "        Will have one entry per wavelength and theta0.\n",
    "    T : complex/ndarray\n",
    "        Transmittance for the thin film stack.\n",
    "        Will have one entry per wavelength and theta0.\n",
    "    '''\n",
    "    \n",
    "    # Compute theta t\n",
    "    theta_t = snells_law(n0, 1.52, theta_i)\n",
    "    \n",
    "    # Create an array which will contain the indicent angles for each layer.\n",
    "    theta = [theta0]\n",
    "    \n",
    "    # Compute the angle for each layer.\n",
    "    for i in range(1, len(n)):\n",
    "        theta.append(snells_law(theta[i-1], n[i-1], n[i]))\n",
    "    \n",
    "    # Add the final layer.\n",
    "    theta.append(snells_law(theta[-1], n[-1], n_s))\n",
    "    \n",
    "    # Make sure that the lowest layer is the first element\n",
    "    theta = np.array(theta[::-1])\n",
    "                     \n",
    "    # Obtain starting field vector.\n",
    "    F_start = get_input_field_vector(theta0, polarization, n_s, n0=1)\n",
    "    \n",
    "    # Make a copy for all the F matrices.\n",
    "    F = copy.deepcopy(F_start)\n",
    "    \n",
    "    # Compute F for all layers.\n",
    "    for i in range(1, len(n)):\n",
    "        j = len(n) - i\n",
    "        M = get_layer_matrix(wavelength, theta[j], n[j], d[j], polarization, n0=1)\n",
    "        F = M @ F\n",
    "    \n",
    "    # Obtain r and t coefficients\n",
    "    r, t = get_amplitudes(F, theta[-1], polarization, n0=1)\n",
    "    \n",
    "    # Generate electric field.\n",
    "    E = np.array([r, r, t, t])\n",
    "    \n",
    "    # s-pol ---> alpha = np.pi/2\n",
    "    # p-pol ---> alpha = 0\n",
    "    \n",
    "    if polarization == 's': alpha = np.pi/2\n",
    "    elif polarization == 'p': alpha = 0\n",
    "                \n",
    "    # Slide 53, lecture 1.\n",
    "    R = abs(E[3])**2 * np.cos(alpha)**2 + abs(E[2])**2 * np.sin(alpha)**2\n",
    "    T = ((np.abs(n) * np.cos(theta_t)) / (np.abs(n_s) * np.cos(theta0))) * (np.abs(E[1]**2 * np.cos(alpha)**2 + np.abs(E[0]**2 * np.sin(alpha)**2)))\n",
    "\n",
    "    return R, T\n"
   ]
  },
  {
   "cell_type": "markdown",
   "metadata": {},
   "source": [
    "*Use your thin film code to plot the reflectivity as a function of wavelength from $0.6\\lambda_0$ to $1.4\\lambda_0$ at normal incidence for $s$ and $p$ polarization of the following thin-film stack:*\n",
    "\n",
    "* *Air with $n=1$*\n",
    "* *Thin film layer with $n=1.38$ and $d=0.149\\lambda_0$.*\n",
    "* *Thin film layer with $n=2.00$ and $d=0.168\\lambda_0$.*\n",
    "* *Thin film layer with $n=1.80$ and $d=0.0733\\lambda_0$.*\n",
    "* *Substrate with $n=1.52$.*"
   ]
  },
  {
   "cell_type": "code",
   "execution_count": 90,
   "metadata": {},
   "outputs": [],
   "source": [
    "# Initial settings\n",
    "n_air = 1\n",
    "n_arr = [1.38, 2.00, 1.80]\n",
    "n_s = 1.52\n",
    "\n",
    "d_arr = [0.149, 0.168, 0.0733]\n",
    "theta_i = 0\n",
    "lambda_arr = np.linspace(0.6, 1.4, int(1e2))\n",
    "\n",
    "R_pol_s_arr = []\n",
    "R_pol_p_arr = []\n",
    "T_pol_s_arr = []\n",
    "T_pol_p_arr = []"
   ]
  },
  {
   "cell_type": "code",
   "execution_count": 91,
   "metadata": {},
   "outputs": [],
   "source": [
    "# Compute reflectivity.\n",
    "for lam in lambda_arr:\n",
    "    R, T = get_stack_coefficients(lam, theta_i, n_arr, d_arr, polarization='s', n_s=1, n0=1)\n",
    "    R_pol_s_arr.append(R); T_pol_s_arr.append(T)\n",
    "    R, T = get_stack_coefficients(lam, theta_i, n_arr, d_arr, polarization='p', n_s=1, n0=1)\n",
    "    R_pol_p_arr.append(R); T_pol_p_arr.append(T)"
   ]
  },
  {
   "cell_type": "code",
   "execution_count": 92,
   "metadata": {},
   "outputs": [
    {
     "data": {
      "image/png": "[encoded data removed]",
      "text/plain": [
       "<Figure size 720x576 with 1 Axes>"
      ]
     },
     "metadata": {},
     "output_type": "display_data"
    }
   ],
   "source": [
    "# Plotting.\n",
    "plt.figure(figsize=(10,8))\n",
    "\n",
    "plt.plot(lambda_arr, R_pol_s_arr, label='S-pol')\n",
    "\n",
    "plt.title('Reflection  of a stack of thin films', fontsize = 16)\n",
    "plt.xlabel(r'Wavelength $[\\lambda_0]$', fontsize=14)\n",
    "plt.ylabel(r'Reflection', fontsize=14)\n",
    "\n",
    "plt.legend()\n",
    "plt.show()"
   ]
  },
  {
   "cell_type": "markdown",
   "metadata": {},
   "source": [
    "### Make sure your submitted notebook works when run from scratch! You can do this using the menu above 'Kernel/Restart & Run all'. There should be no errors!\n",
    "\n",
    "*Upload the finished notebook to Brightspace before the start of the next lecture!*"
   ]
  }
 ],
 "metadata": {
  "anaconda-cloud": {},
  "kernelspec": {
   "display_name": "Python 3",
   "language": "python",
   "name": "python3"
  },
  "language_info": {
   "codemirror_mode": {
    "name": "ipython",
    "version": 3
   },
   "file_extension": ".py",
   "mimetype": "text/x-python",
   "name": "python",
   "nbconvert_exporter": "python",
   "pygments_lexer": "ipython3",
   "version": "3.6.5"
  }
 },
 "nbformat": 4,
 "nbformat_minor": 1
}
