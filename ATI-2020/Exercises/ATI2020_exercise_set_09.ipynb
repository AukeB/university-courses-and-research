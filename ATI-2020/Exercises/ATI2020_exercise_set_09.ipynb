{
 "cells": [
  {
   "cell_type": "markdown",
   "metadata": {},
   "source": [
    "# Astronomical Telescopes and Instruments 2020: Exercise Set 9\n",
    "\n",
    "# Auke Bruinsma, s1594443.\n",
    "\n",
    "Welcome to the ninth exercise class for ATI 2020. You have to hand in the completed notebook to Brightspace before the start of the next lecture. Information/things to think about will be in regular font, while exercises will be *italic*.\n",
    "\n",
    "### Make sure your submitted notebook works when run from scratch! You can do this using the menu above 'Kernel/Restart & Run all'. There should be no errors!\n",
    "\n",
    "*Upload the finished notebook to Brightspace before the start of the next lecture!*\n",
    "\n",
    "These are the packages you need for this exercise set. You are welcome to add extra, but this should not be necessary."
   ]
  },
  {
   "cell_type": "code",
   "execution_count": 1,
   "metadata": {},
   "outputs": [],
   "source": [
    "import numpy as np\n",
    "import matplotlib.pyplot as plt\n",
    "import hcipy as hp"
   ]
  },
  {
   "cell_type": "markdown",
   "metadata": {},
   "source": [
    "### Exercise 1: Atmospheric Dispersion Corrector\n",
    "\n",
    "Earth's atmosphere refracts light differently for different angles and wavelengths\n",
    "(atmospheric dispersion). The dispersion can be corrected with an\n",
    "Atmospheric Dispersion Corrector.\n",
    "\n",
    "The refraction $R$ is well approximated by\n",
    "$R=(n(\\lambda)-1)\\tan\\theta$ where $\\theta$ is the zenith\n",
    "angle. The refractive index of air as a function of wavelength\n",
    "at a pressure of 1 atm and a temperature of 290K is given by\n",
    "$$(n(\\lambda)-1)\\cdot 10^6=64.328+\\frac{29498.1}{146-\\frac{(1\\ \\mu\\text{m})^2}{\\lambda^2}}+\\frac{255.4}{41-\\frac{(1\\ \\mu\\text{m})^2}{\\lambda^2}}$$\n",
    "\n",
    "**Question 1.1**: *Calculate the angular difference of apparent position of a star at 400 nm and at 800 nm for a zenith angle of 60 degrees.* "
   ]
  },
  {
   "cell_type": "markdown",
   "metadata": {},
   "source": [
    "**Answer**:\n",
    "\n",
    "So we need to find the apparent position of the star at $\\lambda = 400 \\text{ nm}$ and at $\\lambda = 800 \\text{ nm}$.\n",
    "\n",
    "Combining the two formulas given above, $R$ can be found using:\n",
    "\n",
    "$$ R = \\tan \\theta \\cdot \\Bigg( 64.328+\\frac{29498.1}{146-\\frac{(1\\ \\mu\\text{m})^2}{\\lambda^2}}+\\frac{255.4}{41-\\frac{(1\\ \\mu\\text{m})^2}{\\lambda^2}} \\Bigg) \\bigg/ 10^6 $$\n",
    "\n",
    "This is implemented in the code below."
   ]
  },
  {
   "cell_type": "code",
   "execution_count": 15,
   "metadata": {},
   "outputs": [
    {
     "name": "stdout",
     "output_type": "stream",
     "text": [
      "R: 2.7594 arcsec\n"
     ]
    }
   ],
   "source": [
    "def compute_ang_dif_app_pos(lam, theta):\n",
    "    return np.tan(theta) * (64.328 + 29498.1/(146-1/lam**2) + 255.4/(41-1/lam**2)) / 1e6\n",
    "\n",
    "R1 = compute_ang_dif_app_pos(0.4, np.deg2rad(60))\n",
    "R2 = compute_ang_dif_app_pos(0.8, np.deg2rad(60))\n",
    "\n",
    "R = (R1 - R2)*3600\n",
    "print(f'R: {np.rad2deg(R):.4f} arcsec')"
   ]
  },
  {
   "cell_type": "markdown",
   "metadata": {},
   "source": [
    "So the angular difference of apparent position of a star at $\\lambda = 400 \\text{ nm}$ and at $\\lambda = 800 \\text{ nm}$ for a zenith angle of 60 degrees equals $ \\Delta R = 2.7594 \\text{ arcsec} $"
   ]
  },
  {
   "cell_type": "markdown",
   "metadata": {},
   "source": [
    "**Question 1.2**: *What would be the required wedge angle of a BK7 prism in a telescope\n",
    "pupil to correct this atmospheric dispersion?*\n",
    "\n",
    "Hint: The paraxial angular deviation of a beam due to a prism with wedge angle $\\alpha$ is given by $\\Delta\\theta = (n(\\lambda)-1)\\alpha$."
   ]
  },
  {
   "cell_type": "markdown",
   "metadata": {},
   "source": [
    "**Answer**: To correct the atmospheric dispersion means that $\\Delta \\theta$ has such a value so that it balances the value in 1.1 out. So for $\\lambda = 400 \\text{ nm}$ and at $\\lambda = 800 \\text{ nm}$, the refractive index needs to be found, and a the wedge angle $\\alpha$ needs to be computed, in such a way that for both wavelengths $\\Delta \\theta$ equals $-2.7594$ arcsec.\n",
    "\n",
    "The following code contains the implmentation. The BK7 coefficients and the function "
   ]
  },
  {
   "cell_type": "code",
   "execution_count": 3,
   "metadata": {},
   "outputs": [
    {
     "name": "stdout",
     "output_type": "stream",
     "text": [
      "alpha = 126.00 degrees\n"
     ]
    }
   ],
   "source": [
    "# BK& coefficients from assignment set 1.\n",
    "BK7_B = np.array([1.03961212E0, 2.31792344E-1, 1.01046945E0])\n",
    "BK7_C = np.array([6.00069867E-3, 2.00179144E-2, 1.03560653E2])\n",
    "\n",
    "# Function that computes the refraction index, from assignment 1.\n",
    "def compute_refraction_index(B, C, lam):\n",
    "    # Formula taken from slide 27 of the first lecture.\n",
    "    part_0 = B[0] / (lam**2 - C[0]) # I have divided the equation into several parts for clarity.\n",
    "    part_1 = B[1] / (lam**2 - C[1])\n",
    "    part_2 = B[2] / (lam**2 - C[2])\n",
    "    return np.sqrt(1 + lam**2 * (part_0 + part_1 + part_2))\n",
    "\n",
    "# Compute refractive indices for both wavelengths for BK7.\n",
    "n_BK7_04 = compute_refraction_index(BK7_B, BK7_C, lam=0.4)\n",
    "n_BK7_08 = compute_refraction_index(BK7_B, BK7_C, lam=0.8)\n",
    "\n",
    "# Create alpha array so that the optimal value can be found.\n",
    "alpha_arr = np.linspace(0.7*np.pi, 0.8*np.pi, 10000) # Empirically established lower and upper limit.\n",
    "\n",
    "def compute_delta_theta(n1, n2, alpha):\n",
    "    theta_1 = (n1-1)*alpha\n",
    "    theta_2 = (n2-1)*alpha\n",
    "    return theta_1 - theta_2\n",
    "\n",
    "delta_theta_arr = compute_delta_theta(n_BK7_04, n_BK7_08, alpha_arr)\n",
    "opt_delta_theta_index = np.argmin(np.abs(delta_theta_arr + R))\n",
    "\n",
    "#print(f'R: {R}')\n",
    "#print(delta_theta_arr)\n",
    "#print(opt_delta_theta_index)\n",
    "#print(delta_theta_arr[opt_delta_theta_index])\n",
    "#print(alpha_arr[opt_delta_theta_index])\n",
    "\n",
    "print(f'alpha = {np.rad2deg(alpha_arr[opt_delta_theta_index]):.2f} degrees')"
   ]
  },
  {
   "cell_type": "markdown",
   "metadata": {},
   "source": [
    "So, the required wedge angle of a BK7 prism would be $126.00$ degrees, which actually sounds quite large to me, so I am not entirely sure if it's correct."
   ]
  },
  {
   "cell_type": "markdown",
   "metadata": {},
   "source": [
    "The single-prism corrector will deviate the beam. \n",
    "\n",
    "**Question 1.3**: *Design a two-prism system\n",
    "made of BK7 and F2 that will correct the atmospheric dispersion without\n",
    "deviating the beam.*"
   ]
  },
  {
   "cell_type": "markdown",
   "metadata": {},
   "source": [
    "**Answer**: So if I understand this exercise correct it is analog to 1.2, but now with two prisms. So the following code is similar to the code in 1.2, but now with two prisms. The F2 coefficients are taken from the first exercise."
   ]
  },
  {
   "cell_type": "code",
   "execution_count": 4,
   "metadata": {},
   "outputs": [
    {
     "name": "stdout",
     "output_type": "stream",
     "text": [
      "alpha = 111.32 degrees\n",
      "beta = 11.92 degrees\n"
     ]
    }
   ],
   "source": [
    "# F2 coefficients.\n",
    "F2_B = np.array([1.39757037E0, 1.59201403E-1, 1.2686543E0])\n",
    "F2_C = np.array([9.95906143E-3, 5.46931752E-2, 1.19248346E2])\n",
    "\n",
    "# Compute refractive indices for both wavelengths for F2.\n",
    "n_F2_04 = compute_refraction_index(F2_B, F2_C, lam=0.4)\n",
    "n_F2_08 = compute_refraction_index(F2_B, F2_C, lam=0.8)\n",
    "\n",
    "# Create alpha/beta array so that the optimal value can be found.\n",
    "size = 10000\n",
    "alpha_arr = np.linspace(0*np.pi, 2*np.pi, size)\n",
    "beta_arr = np.linspace(0*np.pi, 2*np.pi, size)\n",
    "\n",
    "def compute_delta_theta(n1, n2, n3, n4, alpha, beta):\n",
    "    angle_arr = []\n",
    "    \n",
    "    for i in alpha:\n",
    "        theta_1 = (n1-1)*i\n",
    "        theta_2 = (n2-1)*i\n",
    "        theta_3 = (n3-1)*beta\n",
    "        theta_4 = (n4-1)*beta\n",
    "            \n",
    "        angle_arr.append((theta_1 - theta_2) + (theta_3 - theta_4))\n",
    "        \n",
    "    return angle_arr\n",
    "\n",
    "delta_theta_arr = compute_delta_theta(n_BK7_04, n_BK7_08, n_F2_04, n_F2_08, alpha_arr, beta_arr)\n",
    "opt_delta_theta_index = np.argmin(np.abs(delta_theta_arr - R))\n",
    "\n",
    "#print(f'R: {R}')\n",
    "#print(np.shape(delta_theta_arr))\n",
    "#print(delta_theta_arr)\n",
    "#print(int(opt_delta_theta_index/size))\n",
    "#print(delta_theta_arr[int(opt_delta_theta_index/size)][opt_delta_theta_index%size])\n",
    "#print(alpha_arr[int(opt_delta_theta_index/size)])\n",
    "#print(beta_arr[opt_delta_theta_index%size])\n",
    "\n",
    "print(f'alpha = {np.rad2deg(alpha_arr[int(opt_delta_theta_index/size)]):.2f} degrees')\n",
    "print(f'beta = {np.rad2deg(beta_arr[opt_delta_theta_index%size]):.2f} degrees')"
   ]
  },
  {
   "cell_type": "markdown",
   "metadata": {},
   "source": [
    "So the designed two-prism system has wedge angles $alpha = 111.32$ degrees and $beta = 11.92$ degrees."
   ]
  },
  {
   "cell_type": "markdown",
   "metadata": {},
   "source": [
    "### Exercise 2: Noisy detectors\n",
    "\n",
    "In previous sets you've plotted a couple of intensity fields for a variety of wavefronts. These were always ideal images however, with no camera or photon noise. That will change in this exercise. In this exercise we will examine the effects of a noisy detector on the resulting images.\n",
    "\n",
    "As always, we start by defining the parameters we will use for the exercise. We will neglect the quantum efficiency of the detector in this exercise (we assume it to be equal to 1)."
   ]
  },
  {
   "cell_type": "code",
   "execution_count": 5,
   "metadata": {},
   "outputs": [],
   "source": [
    "# pupil grid parameters\n",
    "N_pupil = 512 # pixels in the pupil plane\n",
    "D = 1   # pupil plane aperture diameter in m\n",
    "oversize = 1.05 # pupil grid oversize\n",
    "\n",
    "# system/wavefront parameters\n",
    "F = 12 # F-number between pupil and focal grid\n",
    "wl = 550e-9 # wavelength in m\n",
    "\n",
    "# focal grid parameters\n",
    "num_airy = 16 # number of airy rings in focal grid\n",
    "q = 4 # number of (detector) pixels per lambda/d\n",
    "phys_scale = F*wl # physical size of 1 lambda/d\n",
    "\n",
    "# parameters for tilted wavefronts\n",
    "tilt1 = [-12,0] \n",
    "tilt2 = [ 12,0]\n",
    "contrast = 1E-4\n",
    "\n",
    "# noisy detector parameters\n",
    "# values are based on https://www.flir.com/products/chameleon3-usb3/?model=CM3-U3-13S2M-CS\n",
    "dark_current = 5 # dark current in e-/s/pixel\n",
    "read_noise = 10 # read noise in e-/pixel\n",
    "flat_field = 0.02 # flat field standard deviation\n",
    "well_depth = 9231 # maximum signal in e-/pixel"
   ]
  },
  {
   "cell_type": "markdown",
   "metadata": {},
   "source": [
    "An important thing to keep in mind with imagers is your noise budget and maximum achievable signal. Assume the detector has the properties given above, and that all the noise sources are independent. With the second assumption you can add all noise sources in quadrature. The photon noise and dark noise follow a Poisson distribution. Assume that to get the most amount of signal we can while still in the linear range of the camera, we want a total of 8000 photons collected in a single pixel.\n",
    "\n",
    "**Question 2.1**: *Determine the rms noise for a single pixel for this exposure, for an incident flux of 100 photons/s/pixel and an incident flux of 10 photons/s/pixel. What causes the difference between these two values?*\n",
    "\n",
    "\n"
   ]
  },
  {
   "cell_type": "markdown",
   "metadata": {},
   "source": [
    "**Answer**:\n",
    "\n",
    "Information to use:\n",
    "- Noise: can be added as $\\sqrt{\\sum(N_i)^2}$, slide 34, lecture 9.\n",
    "- We want 8000 photons for a single pixel.\n",
    "    - F = 100 photons/s/pixel ---> t = 80s\n",
    "    - F = 10 photons/s/pixel ---> t = 800s\n",
    "- Photon noise and dark noise follow a Poisson distribution, $ P(m) = \\frac{e^{-n}n^m}{m!} \\quad S/N = \\sqrt{n} $\n",
    "    - Dark noise = 5 photons/s/pixel\n",
    "    - Read noise = 10 photons/pixel\n",
    "    - Photon noise"
   ]
  },
  {
   "cell_type": "markdown",
   "metadata": {},
   "source": [
    "$$ \\text{Read noise is already rms noise, so that is just 10 photons for one pixel} $$\n",
    "\n",
    "$$ \\text{The expectation value for a poission distribution } \\mathcal{P}(X=k) \\frac{\\lambda^k}{k!}e^{-\\lambda} \\text{ equals } \\lambda $$\n",
    "\n",
    "$$ \\text{So, the standard deviation equals } \\sqrt{\\lambda} $$\n",
    "\n",
    "$$ \\text{Photon noise} \\rightarrow \\sigma = \\sqrt{8000} $$\n",
    "\n",
    "$$ \\text{Dark noise} \\rightarrow \\sigma = \\sqrt{5 \\cdot 80} = 20 $$\n",
    "\n",
    "$$ \\text{Total noise} \\rightarrow \\sqrt{10^2 + 20^2 + \\sqrt{8000}^2} \\approx 92.195 $$\n",
    "\n",
    "This was for F = 100 photons/s/pixel. F = 10 photons/s/pixel gives:\n",
    "\n",
    "$$ \\text{Total noise} \\rightarrow \\sqrt{10^2 + \\sqrt{4000}^2 + \\sqrt{8000}^2} = 110 $$"
   ]
  },
  {
   "cell_type": "markdown",
   "metadata": {},
   "source": [
    "**Question 2.2**: *What is the maximum SNR that can be reached in these situations?*"
   ]
  },
  {
   "cell_type": "markdown",
   "metadata": {},
   "source": [
    "**Answer**: The well depth equals $9231$, and the rms noise per pixel equals $92.195$. This means the following gives the maximum SNR:\n",
    "\n",
    "$$ \\frac{9231 - 92.195}{92.195} = 99.12 $$\n",
    "\n",
    "For F=100, and for F=10:\n",
    "\n",
    "$$ \\frac{9231 - 110}{110} = 82.91 $$"
   ]
  },
  {
   "cell_type": "markdown",
   "metadata": {},
   "source": [
    "With these calculations out of the way, we will take a look at how the wavefronts you've been plotting in the past exercise sets would look on a physical camera. You are given two sources generated below here. "
   ]
  },
  {
   "cell_type": "code",
   "execution_count": 6,
   "metadata": {
    "scrolled": true
   },
   "outputs": [
    {
     "data": {
      "image/png": "[encoded data removed]",
      "text/plain": [
       "<Figure size 864x360 with 4 Axes>"
      ]
     },
     "metadata": {},
     "output_type": "display_data"
    }
   ],
   "source": [
    "# base objects\n",
    "pg = hp.make_pupil_grid(N_pupil, oversize*D)\n",
    "fg = hp.make_focal_grid(q, num_airy, phys_scale)\n",
    "fraun = hp.FraunhoferPropagator(pg, fg, F*D)\n",
    "\n",
    "# base wavefront\n",
    "aperture = hp.circular_aperture(D)(pg)\n",
    "wf0 = hp.Wavefront(aperture, wl)\n",
    "\n",
    "# tilted wavefronts (offset in the focal plane)\n",
    "wf1 = wf0.copy()\n",
    "wf2 = wf0.copy()\n",
    "wf1.electric_field *= np.exp(1j*2*np.pi*(pg.points @ tilt1))\n",
    "wf2.electric_field *= np.exp(1j*2*np.pi*(pg.points @ tilt2))\n",
    "\n",
    "# focal wavefronts\n",
    "fwf0 = fraun.forward(wf0)\n",
    "fwf1 = fraun.forward(wf1)\n",
    "fwf2 = fraun.forward(wf2)\n",
    "\n",
    "# generate focal plane images\n",
    "source_1 = fwf0.power\n",
    "source_2 = fwf1.power + contrast * fwf2.power\n",
    "\n",
    "source_1 /= source_1.max()\n",
    "source_2 /= source_2.max()\n",
    "\n",
    "# plot images\n",
    "fig, axs = plt.subplots(1,2, figsize = (12,5))\n",
    "im = hp.imshow_field(np.log10(source_1), ax = axs[0], vmin = -5, grid_units = F*wl)\n",
    "plt.colorbar(im, label = \"log$_{10}(P/P_0)$\", ax = axs[0])\n",
    "axs[0].set_xlabel(\"$x$ ($f\\lambda/D$)\")\n",
    "axs[0].set_ylabel(\"$y$ ($f\\lambda/D$)\")\n",
    "axs[0].set_title(\"source_1\")\n",
    "\n",
    "im = hp.imshow_field(np.log10(source_2), ax = axs[1], vmin = -5, grid_units = F*wl)\n",
    "plt.colorbar(im, label = \"log$_{10}(P/P_0)$\", ax = axs[1])\n",
    "axs[1].set_xlabel(\"$x$ ($f\\lambda/D$)\")\n",
    "axs[1].set_ylabel(\"$y$ ($f\\lambda/D$)\")\n",
    "axs[1].set_title(\"source_2\")\n",
    "\n",
    "plt.show()"
   ]
  },
  {
   "cell_type": "markdown",
   "metadata": {},
   "source": [
    "Note that in the above code the *Wavefront* attribute '.power' is used rather than the '.intensity' attribute. The power of a *Wavefront* is merely a scaled version of its intensity to correct for the physical area of every 'pixel' in the grid. We can directly scale the above images with a photon flux to get a photon flux image. \n",
    "\n",
    "Next we need a model for a detector. *hcipy* has built-in classes for both noisy and noiseless detectors. We will use a slightly modified version of *hcipy*'s *NoisyDetector* class, which allows for non-linear behaviour as a function of input signal."
   ]
  },
  {
   "cell_type": "code",
   "execution_count": 7,
   "metadata": {},
   "outputs": [],
   "source": [
    "class NoisyDetector(object):\n",
    "    '''\n",
    "    A detector class that has some basic noise properties. Adapted from the\n",
    "    NoisyDetector class of hcipy.\n",
    "    \n",
    "    Parameters\n",
    "    ----------\n",
    "    grid : Grid\n",
    "        The grid on which the detector samples.\n",
    "    dark_current_rate : scalar or array_like\n",
    "        An array or scalar that gives dark current rate in counts per unit time for each point\n",
    "        in the grid.\n",
    "    read_noise : scalar or array_like\n",
    "        An array or scalar that gives the rms read noise counts for each point in the grid.\n",
    "    flat_field : scalar or array_like\n",
    "        An array or scalar that gives the flat field error for each point in the\n",
    "        grid. If a scalar is given, a random normal distributed flat field map (given scalar\n",
    "        is standard deviation about 1) is generated that will be used.\n",
    "    include_photon_noise : boolean\n",
    "        Turns the photon noise on or off. Default: True.\n",
    "    activation_function: function or None\n",
    "        Activation function for the detector to include non-linear response to signals. If None\n",
    "        nothing will be applied. Default: None.\n",
    "    '''\n",
    "    def __init__(self, grid, dark_current=0, read_noise=0, flat_field=0, include_photon_noise=True, activation_function=None):\n",
    "        # Setting the start charge level.\n",
    "        self.accumulated_charge = 0\n",
    "\n",
    "        # The parameters.\n",
    "        self.grid = grid\n",
    "        self.dark_current = dark_current\n",
    "        self.read_noise = read_noise\n",
    "        self.flat_field = flat_field\n",
    "        self.include_photon_noise = include_photon_noise\n",
    "        self._exposure_time = 0\n",
    "        self.activation = activation_function\n",
    "\n",
    "    @property\n",
    "    def flat_field(self):\n",
    "        return self._flat_field\n",
    "\n",
    "    @flat_field.setter\n",
    "    def flat_field(self, flat_field):\n",
    "        if np.isscalar(flat_field):\n",
    "            self._flat_field = np.random.normal(loc=1.0, scale=flat_field, size=self.grid.size)\n",
    "        else:\n",
    "            self._flat_field = flat_field\n",
    "\n",
    "    def integrate(self, wavefront, dt, weight):\n",
    "        '''\n",
    "        Integrates the detector.\n",
    "        The amount of power that the detector generates is calculated\n",
    "        for a given integration time and weight.\n",
    "        \n",
    "        Parameters\n",
    "        ----------\n",
    "        wavefront : hcipy.Wavefront or array_like\n",
    "            The wavefront sets the amount of power generated per unit time.\n",
    "        dt : scalar\n",
    "            The integration time in units of time.\n",
    "        weight : scalar\n",
    "            Weight of every unit of integration time.\n",
    "        '''\n",
    "        # The power that the detector detects during the integration.\n",
    "        if hasattr(wavefront, 'power'):\n",
    "            power = wavefront.power\n",
    "        else:\n",
    "            power = wavefront\n",
    "\n",
    "        self.accumulated_charge += power * dt * weight\n",
    "        self._exposure_time += dt\n",
    "\n",
    "    def read_out(self):\n",
    "        '''\n",
    "        Reads out the detector.\n",
    "        The read out operation of the detector. This means that, if applicable, first photon noise\n",
    "        will be included to the power. Then, in this order, the flat field error and\n",
    "        read-out noise are applied. After the read out the power is reset.\n",
    "        \n",
    "        Returns\n",
    "        ----------\n",
    "        hcipy.Field\n",
    "            The final detector image.\n",
    "        '''\n",
    "        # Make sure not to overwrite output\n",
    "        output_field = self.accumulated_charge.copy()\n",
    "        \n",
    "        # Adding dark noise.\n",
    "        output_field += self._exposure_time * self.dark_current\n",
    "\n",
    "        # Adding photon noise.\n",
    "        if self.include_photon_noise:\n",
    "            output_field = hp.large_poisson(output_field, thresh=1e6)\n",
    "\n",
    "        # Adding flat field errors.\n",
    "        output_field *= self.flat_field\n",
    "        \n",
    "        # Adding read-out noise.\n",
    "        output_field += np.random.normal(loc=0, scale=self.read_noise, size=output_field.size)\n",
    "        \n",
    "        # Applying activation function\n",
    "        if self.activation is not None:\n",
    "            output_field = self.activation(output_field)\n",
    "\n",
    "        # Reset detector\n",
    "        self.accumulated_charge = 0\n",
    "        self._exposure_time = 0\n",
    "        \n",
    "\n",
    "        return output_field\n",
    "    def __call__(self, wavefront, dt=1, weight=1):\n",
    "        '''\n",
    "        Integrate and read out the detector.\n",
    "        This is a convenience function to avoid having to call two functions\n",
    "        in quick succession.\n",
    "        \n",
    "        Parameters\n",
    "        ----------\n",
    "        wavefront : Wavefront or array_like\n",
    "            The wavefront sets the amount of power generated per unit time.\n",
    "        dt : scalar\n",
    "            The integration time in units of time.\n",
    "        weight : scalar\n",
    "            Weight of every unit of integration time.\n",
    "        \n",
    "        Returns\n",
    "        ----------\n",
    "        Field\n",
    "            The final detector image.\n",
    "        '''\n",
    "        self.integrate(wavefront, dt, weight)\n",
    "        return self.read_out()"
   ]
  },
  {
   "cell_type": "markdown",
   "metadata": {},
   "source": [
    "We also need a function giving non-linear pixel behaviour. We will use a generalized sigmoid function for this to get the qualitative behaviour of (approximate) linearity at small numbers of photons, which smoothly goes to a constant signal as the electron well is filled up."
   ]
  },
  {
   "cell_type": "code",
   "execution_count": 8,
   "metadata": {},
   "outputs": [],
   "source": [
    "def get_simple_activation_function(max_output=1, max_input=1, n=4):\n",
    "    '''\n",
    "    Get a generalized sigmoid curve generator for pixel response.\n",
    "    \n",
    "    Parameters\n",
    "    ----------\n",
    "    max_output : scalar\n",
    "        Maximum output signal as the input signal goes to infinity.\n",
    "    max_input : scalar\n",
    "        Input signal at which there is a significant deviation from\n",
    "        linear behaviour.\n",
    "    n : scalar\n",
    "        Sigmoid shape parameter.\n",
    "        \n",
    "    Returns\n",
    "    -------\n",
    "    function\n",
    "        Function taking a single argument which evaluates the sigmoid\n",
    "        at the given values.\n",
    "    '''\n",
    "    def activation_function(signal):\n",
    "        A = -max_output\n",
    "        K = max_output\n",
    "        Q = 2**n - 1\n",
    "\n",
    "        res = A + (K-A)/(1+Q*np.exp(-n*signal/max_input))**(1/n)\n",
    "\n",
    "        return res\n",
    "    return activation_function"
   ]
  },
  {
   "cell_type": "code",
   "execution_count": 9,
   "metadata": {},
   "outputs": [
    {
     "data": {
      "image/png": "[encoded data removed]",
      "text/plain": [
       "<Figure size 432x288 with 1 Axes>"
      ]
     },
     "metadata": {},
     "output_type": "display_data"
    }
   ],
   "source": [
    "input_signal = np.linspace(0, 2, 1000)\n",
    "output_signal = get_simple_activation_function()(input_signal)\n",
    "\n",
    "plt.figure()\n",
    "plt.plot(input_signal, output_signal)\n",
    "plt.xlabel(\"Input signal relative to max_input\")\n",
    "plt.ylabel(\"Pixel output relative to max_output\")\n",
    "plt.axis(xmin=0, xmax = input_signal.max(), ymin=0, ymax = 1)\n",
    "plt.grid()"
   ]
  },
  {
   "cell_type": "markdown",
   "metadata": {},
   "source": [
    "Now we can make an instance of the noisy detector."
   ]
  },
  {
   "cell_type": "code",
   "execution_count": 10,
   "metadata": {},
   "outputs": [],
   "source": [
    "activation_function = get_simple_activation_function(1, well_depth)\n",
    "detector = NoisyDetector(fg, dark_current, read_noise, flat_field, activation_function = activation_function)"
   ]
  },
  {
   "cell_type": "markdown",
   "metadata": {},
   "source": [
    "Because *source_1* and *source_2* were normalized to their maxima, when we multiply by a photon flux this corresponds to the peak photon flux in the image.\n",
    "\n",
    "**Question 2.3**: *Integrate the noisy detector with source_1 and plot the resulting image. Use a logarithmic color scale, a peak photon flux of 400 photons/s/pixel, and an exposure time of 20 seconds.*\n",
    "\n",
    "Note that some pixels in the image will be smaller than zero due to the read noise. This is because we don't include a bias to the detector image. You can set values $<0$ to zero in the detector image. \n",
    "\n",
    "In order to use the detector object correctly, take a look at its code above. If you have never seen code with classes in Python before, take a look at https://docs.python.org/3/tutorial/classes.html. **If you can't get it to work, let the TAs know,** as then you will have trouble with the rest of the exercises below here!"
   ]
  },
  {
   "cell_type": "code",
   "execution_count": 11,
   "metadata": {},
   "outputs": [],
   "source": [
    "# Your code goes here ..."
   ]
  },
  {
   "cell_type": "markdown",
   "metadata": {},
   "source": [
    "**Question 2.4**: *How many Airy rings can you still see? Can you explain why you see this amount?*\n",
    "\n",
    "Hint: think back to the maximum SNR values you found previously."
   ]
  },
  {
   "cell_type": "markdown",
   "metadata": {},
   "source": [
    "**Your answer goes here ...**"
   ]
  },
  {
   "cell_type": "markdown",
   "metadata": {},
   "source": [
    "In the lecture we covered frame correction by attempting to remove the effects of the dark noise, flat noise, and bias (which we don't worry about in this exercise). You get to do this now. Recall that to get a dark frame, you need an exposure of darkness (a *Field* of zeroes in *hcipy*), while for the flat you need a uniform exposure (a *Field* with constant values). You can create a new *Field* based on a *numpy* array by giving *hp.Field* both the array and the corresponding grid as arguments.\n",
    "\n",
    "**Question 2.5**: *Choose exposure times for the dark and flat, create these, and plot them.*"
   ]
  },
  {
   "cell_type": "code",
   "execution_count": 12,
   "metadata": {},
   "outputs": [],
   "source": [
    "# Your code goes here ..."
   ]
  },
  {
   "cell_type": "markdown",
   "metadata": {},
   "source": [
    "**Question 2.6**: *Correct your detector image of source_1 and plot it with a logarithmic color scale. What has changed compared to the uncorrected image?*\n",
    "\n",
    "Hint: If your result looks weird, go back and try some different exposure times for your dark and flat (or change the photon flux for the flat)."
   ]
  },
  {
   "cell_type": "code",
   "execution_count": 13,
   "metadata": {},
   "outputs": [],
   "source": [
    "# Your code goes here ..."
   ]
  },
  {
   "cell_type": "markdown",
   "metadata": {},
   "source": [
    "**Question 2.7**: *Make a detector image of source_2, assuming a peak photon flux of $10^5$ photons/s/pixel. Pick the exposure time such that you can see the source on the right. You can choose to plot the uncorrected frame, corrected frame, or both. What has happened to the brighter source and why?*"
   ]
  },
  {
   "cell_type": "code",
   "execution_count": 14,
   "metadata": {},
   "outputs": [],
   "source": [
    "# Your code goes here ..."
   ]
  },
  {
   "cell_type": "markdown",
   "metadata": {},
   "source": [
    "This result shows that you have to be careful in picking your exposure time, depending on what feature you want to observe. A different option is of course to get a camera with a bigger dynamic range."
   ]
  },
  {
   "cell_type": "markdown",
   "metadata": {},
   "source": [
    "### Make sure your submitted notebook works when run from scratch! You can do this using the menu above 'Kernel/Restart & Run all'. There should be no errors!\n",
    "\n",
    "*Upload the finished notebook to Brightspace before the start of the next lecture!*"
   ]
  }
 ],
 "metadata": {
  "kernelspec": {
   "display_name": "Python 3",
   "language": "python",
   "name": "python3"
  },
  "language_info": {
   "codemirror_mode": {
    "name": "ipython",
    "version": 3
   },
   "file_extension": ".py",
   "mimetype": "text/x-python",
   "name": "python",
   "nbconvert_exporter": "python",
   "pygments_lexer": "ipython3",
   "version": "3.6.5"
  }
 },
 "nbformat": 4,
 "nbformat_minor": 4
}
