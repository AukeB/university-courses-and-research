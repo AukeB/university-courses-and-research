{
 "cells": [
  {
   "cell_type": "markdown",
   "metadata": {},
   "source": [
    "# Astronomical Telescopes and Instruments 2020:\n",
    "# Exercises on Spectrographs\n",
    "# Due on 24 November at 14:15\n",
    "# Auke Bruinsma, s1594443"
   ]
  },
  {
   "cell_type": "markdown",
   "metadata": {},
   "source": [
    "## 1. Prism spectrograph\n",
    "The MMTO telescope has a diameter of $6.5$m and a Cassegrain focal ratio of $f/15$. A spectrograph at the Cassegrain focus has an entrance slit set to match the typical seeing of $0.75$ arcseconds."
   ]
  },
  {
   "cell_type": "code",
   "execution_count": 1,
   "metadata": {},
   "outputs": [],
   "source": [
    "# Imports.\n",
    "import numpy as np"
   ]
  },
  {
   "cell_type": "code",
   "execution_count": 2,
   "metadata": {},
   "outputs": [],
   "source": [
    "# Setting up the given values.\n",
    "D = 6.5 # Diameter [m].\n",
    "N = 15 # Ratio.\n",
    "phi = np.deg2rad(0.75/3600) # Seeing angle [rad]."
   ]
  },
  {
   "cell_type": "markdown",
   "metadata": {},
   "source": [
    "**Question 1.1**: How wide is the slit in mm?"
   ]
  },
  {
   "cell_type": "markdown",
   "metadata": {},
   "source": [
    "**Answer**:"
   ]
  },
  {
   "cell_type": "markdown",
   "metadata": {},
   "source": [
    "Equations used:\n",
    "\n",
    "$$ F = \\frac{f}{D} \\quad \\text{slide 33, lecture 2} $$\n",
    "    \n",
    "$$ \\phi = \\frac{w}{f} \\quad \\text{slide 21, lecture 10} $$\n",
    "\n",
    "Where $f$ is the focal length of the telescope and $w$ is the size of\n",
    "the slit in mm. The angle is given in radians."
   ]
  },
  {
   "cell_type": "code",
   "execution_count": 3,
   "metadata": {},
   "outputs": [
    {
     "name": "stdout",
     "output_type": "stream",
     "text": [
      "Width of the slit: 0.355 mm\n"
     ]
    }
   ],
   "source": [
    "f = N * D # Focal length [m]\n",
    "w = phi * f # Width of the slit [m]\n",
    "print(f'Width of the slit: {w*1e3:.3f} mm')"
   ]
  },
  {
   "cell_type": "markdown",
   "metadata": {},
   "source": [
    "**Question 1.2**: The diameter of the collimator is $300$mm, and it projects onto a glass prism made of F2 glass with a base length $B = 200$mm. What is the dispersion $A$ in radians per nm at the Hydrogen alpha line? You\n",
    "can assume $\\frac{\\text{d}n}{\\text{d}\\lambda} = 0.06 \\mu\\text{m}^{-1}$ at a wavelength of $0.656$ microns and the prism is set up in minimum\n",
    "deviation."
   ]
  },
  {
   "cell_type": "markdown",
   "metadata": {},
   "source": [
    "**Answer**:"
   ]
  },
  {
   "cell_type": "markdown",
   "metadata": {},
   "source": [
    "Dispersion of a glass prism:\n",
    "\n",
    "$$ A = \\frac{B}{d_\\text{cam}} \\frac{\\text{d}n}{\\text{d}\\lambda} \\quad \\text{slide 26, lecture 10} $$\n",
    "\n",
    "Because the prism is setup in minimum deviation, it may be assumed that $d_\\text{cam} = d_\\text{coll}$"
   ]
  },
  {
   "cell_type": "code",
   "execution_count": 4,
   "metadata": {},
   "outputs": [
    {
     "name": "stdout",
     "output_type": "stream",
     "text": [
      "The dispersion A at the Hydrogen alpha line: 4e-05 rad/nm.\n"
     ]
    }
   ],
   "source": [
    "d_coll = 300 # Diameter of the collimator [mm].\n",
    "B = 200 # Base length F2 glass prism [mm].\n",
    "dndl = 0.06 # \\mu m^{-1}\n",
    "\n",
    "A = B/d_coll * dndl*1e-3\n",
    "print(f'The dispersion A at the Hydrogen alpha line: {A:.0e} rad/nm.')"
   ]
  },
  {
   "cell_type": "markdown",
   "metadata": {},
   "source": [
    "**Question 1.3**: The focal ratio of the camera for the spectrograph is $f/2$. What is the slit width on the detector?"
   ]
  },
  {
   "cell_type": "markdown",
   "metadata": {},
   "source": [
    "**Answer**:\n",
    "\n",
    "$$ w' = rw \\frac{f_\\text{cam}}{f_\\text{coll}} = r \\phi f \\frac{f_\\text{cam}}{f_\\text{coll}} \\quad \\text{slide 23, lecture 10} $$\n",
    "\n",
    "$$ r = \\frac{d_\\text{coll}}{d_\\text{cam}} \\quad \\text{slide 22, lecture 10} $$\n",
    "\n",
    "$r \\approx 1$, as was stated in the answer to question 1.2, so:\n",
    "\n",
    "$$ w' = w \\frac{f_\\text{cam}}{f_\\text{coll}} $$\n",
    "\n",
    "$$ \\frac{f}{D} = \\frac{f_\\text{coll}}{d_\\text{coll}} \\quad \\text{slide 16, lecture 10} $$\n",
    "\n",
    "Because the focal ratio of the camera equals $f/2$, and the Cassegrain focal ratio is $f/15$, the following computation gives the slit width on the detector"
   ]
  },
  {
   "cell_type": "code",
   "execution_count": 5,
   "metadata": {},
   "outputs": [
    {
     "name": "stdout",
     "output_type": "stream",
     "text": [
      "Slit width on the detector: 47.269 micrometer.\n"
     ]
    }
   ],
   "source": [
    "d_cam = d_coll # Diameter camera [mm].\n",
    "\n",
    "w_accent = w * (2*d_cam)/(15*d_coll) * 1e6 # Slit width detector [μm]\n",
    "print(f'Slit width on the detector: {w_accent:.3f} micrometer.')"
   ]
  },
  {
   "cell_type": "markdown",
   "metadata": {},
   "source": [
    "**Question 1.4**: The detector is a CCD with $512$ pixels to a side and $20$ micron pixel size. Is the CCD adequately sampling the slit?"
   ]
  },
  {
   "cell_type": "markdown",
   "metadata": {},
   "source": [
    "**Answer**:\n",
    "\n",
    "Slide 48, lecture 10:\n",
    "\n",
    "\"The smallest resolution for the spectrograph should be sampled at the minimum of the Nyquist frequency, which is 2 pixels per resolution element.\"\n",
    "\n",
    "The slit width on the detector was calculated in the previous exercise, and given is that each pixel is 20 microns in size. This gives the following ratio:"
   ]
  },
  {
   "cell_type": "code",
   "execution_count": 6,
   "metadata": {},
   "outputs": [
    {
     "name": "stdout",
     "output_type": "stream",
     "text": [
      "Number of pixels per resolution element: 2.36 pixels\n"
     ]
    }
   ],
   "source": [
    "num_pixels = 512 # Number of pixels on a side for the CCD detector.\n",
    "pixel_size = 20 # Pixel size [micron/pixel].\n",
    "\n",
    "pixel_sample = w_accent / pixel_size # Number of pixels.\n",
    "print(f'Number of pixels per resolution element: {pixel_sample:.2f} pixels')"
   ]
  },
  {
   "cell_type": "markdown",
   "metadata": {},
   "source": [
    "Since $2.36 > 2$, the answer is yes, the CCD is adequatly sampling the slit."
   ]
  },
  {
   "cell_type": "markdown",
   "metadata": {},
   "source": [
    "**Question 1.5**: What is the spectral resolution of the spectrograph at $656$nm?"
   ]
  },
  {
   "cell_type": "markdown",
   "metadata": {},
   "source": [
    "**Answer**:\n",
    "\n",
    "The spectral resolution is given in slide 2 of lecture 10:\n",
    "\n",
    "$$ R = \\frac{\\lambda}{\\Delta \\lambda} $$\n",
    "\n",
    "Information on the resolution element $\\Delta \\lambda$, from slide 18 of lecture 10:\n",
    "\n",
    "\"The resolution element is the minimum resolution of the spectrograph. This will depend of the spectral size of the image, which is a factor of image size, spectral magnification and the linear dispersion\"\n",
    "\n",
    "$$ \\Delta \\lambda = w\\prime \\frac{\\text{d}\\lambda}{\\text{d}l} $$\n",
    "\n",
    "The linear dispersion is given on slide 25 of lecture 10:\n",
    "\n",
    "$$ \\frac{\\text{d}l}{\\text{d}\\lambda} = f_\\text{cam} A $$\n",
    "\n",
    "Combining the above formula, the spectra resolution can be found."
   ]
  },
  {
   "cell_type": "code",
   "execution_count": 7,
   "metadata": {},
   "outputs": [
    {
     "name": "stdout",
     "output_type": "stream",
     "text": [
      "Spectral resolution R at 656 nm: 333.07\n"
     ]
    }
   ],
   "source": [
    "lam = 656 # Wavelength [nm].\n",
    "f_cam = d_cam * 2 # Focal length camera [mm].\n",
    "dldlam = f_cam * A * 1e6 # Linear dispersion [rad]\n",
    "Deltalambda = w_accent / dldlam # Resoltuion element [μ/rad].\n",
    "R = lam / Deltalambda / 1e3 # Spectral resolution.\n",
    "print(f'Spectral resolution R at 656 nm: {R:.2f}')"
   ]
  },
  {
   "cell_type": "markdown",
   "metadata": {},
   "source": [
    "**Question 1.6**: What is the estimated bandwidth of the spectrograph?"
   ]
  },
  {
   "cell_type": "markdown",
   "metadata": {},
   "source": [
    "**Answer**: The bandwith can be estimated with the ratio of the size of CCD and the linear dispersion, as follows:"
   ]
  },
  {
   "cell_type": "code",
   "execution_count": 8,
   "metadata": {},
   "outputs": [
    {
     "name": "stdout",
     "output_type": "stream",
     "text": [
      "Bandwidth: 426.67 nm\n"
     ]
    }
   ],
   "source": [
    "bandwidth = num_pixels * pixel_size / dldlam # Bandwith [μm]\n",
    "print(f'Bandwidth: {bandwidth*1e3:.2f} nm')"
   ]
  },
  {
   "cell_type": "markdown",
   "metadata": {},
   "source": [
    "**Question 1.7**: Why can you only estimate the bandwidth?"
   ]
  },
  {
   "cell_type": "markdown",
   "metadata": {},
   "source": [
    "**Answer**: Assumed was $\\frac{\\text{d}n}{\\text{d}\\lambda} = 0.06 \\mu\\text{m}^{-1}$ at a wavelength of $0.656$. This means the dispersion and the bandwidth is dependend on this value. But for other wavelengths $\\frac{\\text{d}n}{\\text{d}\\lambda}$ is not known. Therefore we can only estimate the bandwith for this specific wavelength. If we know the relation between $n$ and $\\lambda$, it would be possible to give a better approximation. "
   ]
  },
  {
   "cell_type": "markdown",
   "metadata": {},
   "source": [
    "## 2. Diffraction grating\n",
    "The James Webb Space Telescope has a diameter of $6.5$m and a focal length of $130$m."
   ]
  },
  {
   "cell_type": "code",
   "execution_count": 9,
   "metadata": {},
   "outputs": [],
   "source": [
    "# Initial data.\n",
    "D = 6.5 # James Webb Space Telescope diameter [m].\n",
    "f = 130 # James Webb Space Telescope focal length [m]."
   ]
  },
  {
   "cell_type": "markdown",
   "metadata": {},
   "source": [
    "**Question 2.1**: What is the size of the Airy disk at the telescope focus for a wavelength of $2.2$ microns?"
   ]
  },
  {
   "cell_type": "markdown",
   "metadata": {},
   "source": [
    "**Answer**: The size of the Airy disk at focus can be found by multiplying the diffraction limit $\\theta = 1.22 \\frac{\\lambda}{D} $ with the focal length $f$:"
   ]
  },
  {
   "cell_type": "code",
   "execution_count": 10,
   "metadata": {},
   "outputs": [
    {
     "name": "stdout",
     "output_type": "stream",
     "text": [
      "Size of the Airy disk: 53.680 μm\n"
     ]
    }
   ],
   "source": [
    "lam = 2.2e-6 # Wavelength [m].\n",
    "theta = 1.22 * lam / D # Diffraction limit.\n",
    "size_airy_disk = theta * f # Size of the Airy disk [m].\n",
    "print(f'Size of the Airy disk: {size_airy_disk*1e6:.3f} μm')"
   ]
  },
  {
   "cell_type": "markdown",
   "metadata": {},
   "source": [
    "**Question 2.2**: What is the width of the spectrograph entrance slit that matches this diffraction limit?"
   ]
  },
  {
   "cell_type": "markdown",
   "metadata": {},
   "source": [
    "**Answer**: The formula on slide 21 of lecture 10,\n",
    "\n",
    "$$ \\phi = \\frac{w}{f} $$\n",
    "\n",
    "states that the width is equal to the angle $\\phi$ times the focal length $f$. So this is the same as the size of the Airy Disk, so $53.68$ μm. "
   ]
  },
  {
   "cell_type": "markdown",
   "metadata": {},
   "source": [
    "**Question 2.3**: Studying the dynamics of globular clusters requires a spectral resolution of $60000$. A diffraction grating with $100$ lines/mm is provided for the spectrograph. If the diffraction grating is used in 8th order in a Littrow configuration, what is the incident angle on the grating?"
   ]
  },
  {
   "cell_type": "markdown",
   "metadata": {},
   "source": [
    "**Answer**:"
   ]
  },
  {
   "cell_type": "markdown",
   "metadata": {},
   "source": [
    "Dispersion of diffraction grating formula from slide 31 of lecture 10:\n",
    "\n",
    "$$ m \\lambda = \\sigma(\\sin \\alpha \\pm \\sin \\beta) $$\n",
    "\n",
    "$m$ is the order, $\\sigma$ is the groove spacing (the number of mm between each ruled line) and $\\alpha$ and $\\beta$ are the angles.\n",
    "\n",
    "From slide 47 of lecture 10, we know that $\\alpha = \\beta$ for a Littrow spectrograph. Then the equation above becomes:\n",
    "\n",
    "$$ m \\lambda = \\sigma(\\sin \\alpha \\pm \\sin \\alpha) $$\n",
    "$$ m \\lambda = 2 \\sigma \\sin \\alpha $$\n",
    "\n",
    "Which is also the equation that is found on slide 47 of lecture 10.\n",
    "Rewriting gives:\n",
    "\n",
    "$$ \\alpha = \\arcsin \\frac{m \\lambda}{2 \\sigma} $$\n",
    "\n",
    "Substituting all values gives."
   ]
  },
  {
   "cell_type": "code",
   "execution_count": 11,
   "metadata": {},
   "outputs": [
    {
     "name": "stdout",
     "output_type": "stream",
     "text": [
      "Incident angle on the grating: 61.64 deg\n"
     ]
    }
   ],
   "source": [
    "spec_res = 6e4 # Spectral resolution.\n",
    "dif_grat = 100 # Diffraction grating [lines/mm].\n",
    "sigma = 1/dif_grat # Groove spacing [mm/line].\n",
    "m = 8 # Order.\n",
    "\n",
    "alpha = np.arcsin(m*lam/(2*(sigma*1e-3)))\n",
    "print(f'Incident angle on the grating: {np.rad2deg(alpha):.2f} deg')"
   ]
  },
  {
   "cell_type": "markdown",
   "metadata": {},
   "source": [
    "**Question 2.4**: What is the number of illuminated grooves needed for this spectral resolution?"
   ]
  },
  {
   "cell_type": "markdown",
   "metadata": {},
   "source": [
    "**Answer**: Slide 35 of lecture 10 gives the spectral resolution:\n",
    "\n",
    "$$ R = nm $$\n",
    "\n",
    "where $m$ is the order and $n$ the total number of illumnated grooves. Subtituting the values gives:"
   ]
  },
  {
   "cell_type": "code",
   "execution_count": 12,
   "metadata": {},
   "outputs": [
    {
     "name": "stdout",
     "output_type": "stream",
     "text": [
      "Number of illuminated grooves: 7500\n"
     ]
    }
   ],
   "source": [
    "n = spec_res / m # Number of illumnated grooves.\n",
    "print(f'Number of illuminated grooves: {n:.0f}')"
   ]
  },
  {
   "cell_type": "markdown",
   "metadata": {},
   "source": [
    "**Question 2.5**: What is the full length of the grating?"
   ]
  },
  {
   "cell_type": "markdown",
   "metadata": {},
   "source": [
    "**Answer**: There are 7500 illumnated grooves with a spacing of 100 lines per mm. This result in a length of $\\frac{7500}{100} = 75$ mm for the grating."
   ]
  },
  {
   "cell_type": "code",
   "execution_count": 13,
   "metadata": {},
   "outputs": [
    {
     "name": "stdout",
     "output_type": "stream",
     "text": [
      "Full length of the grating: 75 mm\n"
     ]
    }
   ],
   "source": [
    "l = n / dif_grat # Full length of the grating [mm].\n",
    "print(f'Full length of the grating: {l:.0f} mm')"
   ]
  },
  {
   "cell_type": "markdown",
   "metadata": {},
   "source": [
    "**Question 2.6**: What is the diameter of the collimated beam and its focal length?"
   ]
  },
  {
   "cell_type": "markdown",
   "metadata": {},
   "source": [
    "**Answer**: Since that we know the length $l$ of the grating and in the incident angle $\\alpha$ on the grating, the diameter of the beam can be found using geometry.\n",
    "\n",
    "Next the focal length can be found using the formula on slide 15 of lecture 10.\n",
    "\n",
    "$$ \\frac{f}{D} = \\frac{f_\\text{coll}}{D_\\text{coll}} $$"
   ]
  },
  {
   "cell_type": "code",
   "execution_count": 14,
   "metadata": {},
   "outputs": [
    {
     "name": "stdout",
     "output_type": "stream",
     "text": [
      "Diameter collimated beam: 35.623 mm\n",
      "Focal length collimated beam: 712.461 mm\n"
     ]
    }
   ],
   "source": [
    "D_coll = l * np.cos(alpha) # Beam diameter collimated beam []\n",
    "f_coll = f / D * D_coll # Focal length collimated beam.\n",
    "print(f'Diameter collimated beam: {D_coll:.3f} mm')\n",
    "print(f'Focal length collimated beam: {f_coll:.3f} mm')"
   ]
  }
 ],
 "metadata": {
  "kernelspec": {
   "display_name": "Python 3",
   "language": "python",
   "name": "python3"
  },
  "language_info": {
   "codemirror_mode": {
    "name": "ipython",
    "version": 3
   },
   "file_extension": ".py",
   "mimetype": "text/x-python",
   "name": "python",
   "nbconvert_exporter": "python",
   "pygments_lexer": "ipython3",
   "version": "3.6.5"
  }
 },
 "nbformat": 4,
 "nbformat_minor": 2
}
