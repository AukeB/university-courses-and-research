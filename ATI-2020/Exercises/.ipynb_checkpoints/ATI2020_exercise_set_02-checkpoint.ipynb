{
 "cells": [
  {
   "cell_type": "markdown",
   "metadata": {},
   "source": [
    "# Astronomical Telescopes and Instruments 2020:\n",
    "# Exercises on Geometrical Optics\n",
    "# Due on 29 September 2020 at 14:15\n",
    "# Auke Bruinsma, s1594443"
   ]
  },
  {
   "cell_type": "markdown",
   "metadata": {},
   "source": [
    "## 1. Analytical Exercises"
   ]
  },
  {
   "cell_type": "markdown",
   "metadata": {},
   "source": [
    "### 1.1 Minimum Distance between Object and Image\n",
    "Show that the minimum separation between conjugate points in the object and the image space is $4f$ for a thin,\n",
    "positive lens with focal length $f$."
   ]
  },
  {
   "cell_type": "markdown",
   "metadata": {},
   "source": [
    "**Answer**:\n",
    "\n",
    "Let the distance from the object to the image be $d$.\n",
    "\n",
    "Let the image distance be $x$.\n",
    "\n",
    "Then, object distance equals $d-x$\n",
    "\n",
    "Now, apply lens formula:\n",
    "\n",
    "$$ \\frac{1}{S_1} + \\frac{1}{S_2} = \\frac{1}{f} $$\n",
    "\n",
    "$$ \\frac{1}{x} + \\frac{1}{d-x} = \\frac{1}{f} $$\n",
    "\n",
    "$$ \\frac{1}{x} + \\frac{1}{d-x} - \\frac{1}{f} = 0 $$\n",
    "\n",
    "$$ fx - fd - fx + x^2 - xd = 0 $$\n",
    "\n",
    "$$ x^2 - xd - fd = 0 $$\n",
    "\n",
    "$$ x = \\frac{d \\pm \\sqrt{d^2 - 4fd}}{2} $$\n",
    "\n",
    "$$ d^2 \\geq 4fd $$\n",
    "\n",
    "$$ d \\geq 4f $$"
   ]
  },
  {
   "cell_type": "markdown",
   "metadata": {},
   "source": [
    "### 1.2 Petzval Condition\n",
    "Petzval field curvature of a lens system can be avoided by obeying the Petzval condition $\\sum_i \\frac{1}{n_i f_i} = 0$ where $n_i$ and $f_i$ are the indices of refraction and the focal lengths of the individual lenses. An obvious approach for a positive two-lens system where both lenses are made from the same material to fulfill the Petzval condition is to choose a positive followed by a negative lens with the same absolute value of the focal length but opposite signs. Show that this combination can still act as a positive lens.\n",
    "\n",
    "*Hint*: Use the equation for the combination of thin lenses."
   ]
  },
  {
   "cell_type": "markdown",
   "metadata": {},
   "source": [
    "**Answer**:"
   ]
  },
  {
   "cell_type": "markdown",
   "metadata": {},
   "source": [
    "![](fig_2.1.2.jpeg)"
   ]
  },
  {
   "cell_type": "markdown",
   "metadata": {},
   "source": [
    "## 2. Computer Exercises"
   ]
  },
  {
   "cell_type": "markdown",
   "metadata": {},
   "source": [
    "To answer the following questions, you will need to use a web-based optical design software that you can find\n",
    "at https://home.strw.leidenuniv.nl/~keller/TOD/tod.min.html. If you have used a previous version of TOD, you will have to reload the page, delete the design (X in upper left) and reload the web page again. Note that this web app should also work offline. TOD should work with Safari (macOS and iOS), Chrome, Firefox and Microsoft Edge Canary. Any bugs etc. should be reported to keller@strw.leidenuniv.nl."
   ]
  },
  {
   "cell_type": "markdown",
   "metadata": {},
   "source": [
    "### 2.1 Distortion\n",
    "A single lens made of fused silica (FS) with an aperture diameter of 60 mm and a focal length of 100 mm shows\n",
    "image distortion when imaging an object at infinity.\n",
    "\n",
    "1. For a lens that has the optimum shape (minimizing the spherical aberration), determine the radii of\n",
    "    curvature of the two spherical surfaces of the lens.\n",
    "\n",
    "    *Hint*: TOD allows you not only to change the focal length but also the positions of the object and image\n",
    "    where the optimum performance is achieved (green handles)."
   ]
  },
  {
   "cell_type": "markdown",
   "metadata": {},
   "source": [
    "**Answer**: I have added a lens in the application and changed the diameter to 60 mm and the focal length to 100 mm. I experimented with different sizes of the imaging point (the green handle) to find the optimum. For minimizing the spherical abberation I have found $R_1 = 59.4$ mm and $R_2 = -275$ mm. This gives an average rms spot radius of 0.564. I have not been able to find a lower rms value for different radii values, so I believe this must be near the optimum."
   ]
  },
  {
   "cell_type": "markdown",
   "metadata": {},
   "source": [
    "2. Determine the type of distortion (barrel or pin-cushion) and the amount of distortion for a field angle of\n",
    "    10 degrees.\n",
    "\n",
    "    *Hint*: Determine the image location for a field of 1 degree and a field of 10 degrees and determine the\n",
    "    relative change with respect to the expected ratio of 10."
   ]
  },
  {
   "cell_type": "markdown",
   "metadata": {},
   "source": [
    "**Answer**: I've addeed incoming field of light sources and set them at an angle of 10 degrees. The upper spot in the rms spot diagram is now located at y = 17.429. Next I changed the angle from 10 degrees to 1 degree. This results in the upper spot having a y-location at 1.779. Since the difference between the angles is a factor 10, 10 times 1.779 gives 17.79.\n",
    "\n",
    "$$ 17.429 < 17.79 $$.\n",
    "\n",
    "This means rays with larger angles have rms spots that  are closer to the center of the spot diagram w.r.t to smaller rays. This means there is negative distortion, i.e. barrel distortion (slide 52 of lecture 2)."
   ]
  },
  {
   "cell_type": "markdown",
   "metadata": {},
   "source": [
    "### 2.2 Field Curvature\n",
    "Make a simple Newtonian telescope (single parabolic primary mirror with 200 mm aperture diameter and 200\n",
    "mm focal length) and use a flat secondary mirror to bring the focus behind the parabolic mirror (note that the\n",
    "code ignores the secondary mirror on the first pass through the backside of the flat mirror). Design a single\n",
    "lens, located close to the focal plane, that improves the performance at an angle of 8 degrees away from the\n",
    "optical axis. What are the parameters of the lens?\n",
    "\n",
    "*Hint*: The average rms spot size can be improved by at least a factor of 3."
   ]
  },
  {
   "cell_type": "markdown",
   "metadata": {},
   "source": [
    "**Answer**: I've set up a single parabolic mirror with 200 mm aperture diameter and a 200 mm focal length. Next I set up the flat secondary mirror and flipped it around. I've also changed the angle to 8 degrees. With this setup the rms equals 0.259.\n",
    "\n",
    "Implementing a lens with diameter of 88.0 mm, radius $R_1 = 100$ mm, $R_2 = \\inf$, center thickness = 15 and material is BK7, gives an average rms spot radius of 0.0743 which is approximately an improvement with a factor 3. See the image for the set up."
   ]
  },
  {
   "cell_type": "markdown",
   "metadata": {},
   "source": [
    "![](fig_2.2.2.png)"
   ]
  }
 ],
 "metadata": {
  "kernelspec": {
   "display_name": "Python 3",
   "language": "python",
   "name": "python3"
  },
  "language_info": {
   "codemirror_mode": {
    "name": "ipython",
    "version": 3
   },
   "file_extension": ".py",
   "mimetype": "text/x-python",
   "name": "python",
   "nbconvert_exporter": "python",
   "pygments_lexer": "ipython3",
   "version": "3.6.5"
  }
 },
 "nbformat": 4,
 "nbformat_minor": 2
}
