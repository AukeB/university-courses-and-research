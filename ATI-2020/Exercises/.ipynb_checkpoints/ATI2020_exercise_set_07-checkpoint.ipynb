{
 "cells": [
  {
   "cell_type": "markdown",
   "metadata": {},
   "source": [
    "# Astronomical Telescopes and Instruments 2020\n",
    "# Exercises on Optical Design\n",
    "# Due on 3 November 2020 at 14:15\n",
    "# Auke Bruinsma, s1594443"
   ]
  },
  {
   "cell_type": "markdown",
   "metadata": {},
   "source": [
    "## 1. Reducing Abberations with Multiple Elements"
   ]
  },
  {
   "cell_type": "markdown",
   "metadata": {},
   "source": [
    "### 1.1\n",
    "Design a single $f/1.0$ (focal length is equal to the beam diameter), symmetric (magnitudes of radius of curvature are the same for both surfaces) lens to focus light from infinity onto a detector and determine the rms spot size of the image at the center of the field of view in terms of the beam diameter."
   ]
  },
  {
   "cell_type": "markdown",
   "metadata": {},
   "source": [
    "**Answer**: I changed the beam diameter to 80 mm, added a lens with diameter also equal to 80 mm, and center thickness equal to 25 mm Then I changed the focal to 80 mm so that it is a $f/1.0$ lens. I put the image at the focus which gives me a rms spot size of 4.40758 mm or 0.05509475 times the beam diameter. See the figure for the setup."
   ]
  },
  {
   "cell_type": "markdown",
   "metadata": {},
   "source": [
    "![](fig_7.1.1.png)"
   ]
  },
  {
   "cell_type": "markdown",
   "metadata": {},
   "source": [
    "### 1.2\n",
    "Design an $f/1.0$ lens consisting of $4$ identical, symmetric lenses to focus light from infinity onto a detector. How much longer is the focal length of one of these lenses as compared to the singlet design in part 1? Determine the rms spot size of the image at the center of the field of view in terms of the diameter."
   ]
  },
  {
   "cell_type": "markdown",
   "metadata": {},
   "source": [
    "**Answer**: The effective focal length of general thin lens combination with focal lengths $f_1$, $f_2$ and distance between thin lenses $d_{12}$, (Slide 30, first lecture).\n",
    "\n",
    "$$ \\frac{1}{f} = \\frac{1}{f_1} + \\frac{1}{f_2} - \\frac{d_{12}}{f_1 f_2} $$\n",
    "\n",
    "Choosing $f_1 = f_2$ gives:\n",
    "\n",
    "$$ \\frac{1}{f} = \\frac{2}{f_1} - \\frac{d_{12}}{f_1^2} = \\frac{2}{f_2} - \\frac{d_{12}}{f_2^2} $$\n",
    "\n",
    "So, this is for a system of 2 lenses. To find the expression for 4 lenses, the expression for 2 lenses needs to be substituted one more time. This is done under the assumption $f_1 = f_2 = f_3 = f_4$ and $d_{12} = d_{23} = d_{34}$\n",
    "\n",
    "$$ \\frac{1}{f} = \\Big( \\frac{2}{f_1} - \\frac{d_{12}}{f_1^2} \\Big) + \\Big( \\frac{2}{f_1} - \\frac{d_{12}}{f_1^2} \\Big) - d_{12} \\Big( \\frac{2}{f_1} - \\frac{d_{12}}{f_1^2} \\Big)^2 $$\n",
    "\n",
    "$$ \\frac{1}{f} = \\frac{4}{f_1} - \\frac{2 d_{12}}{f_1^2} - d_{12} \\Big( \\frac{4}{f_1^2} + \\frac{d_{12}^2}{f_1^4} - \\frac{4 d_{12}}{f_1^3} \\Big) $$\n",
    "\n",
    "$$ \\frac{1}{f} = \\frac{4}{f_1} - \\frac{6 d_{12}}{f_1^2} + \\frac{4 d_{12}^2}{f_1^3} - \\frac{d_{12}^3}{f_1^4} $$"
   ]
  },
  {
   "cell_type": "markdown",
   "metadata": {},
   "source": [
    "Implementing this result in code gives the function:"
   ]
  },
  {
   "cell_type": "code",
   "execution_count": 94,
   "metadata": {},
   "outputs": [],
   "source": [
    "import numpy as np"
   ]
  },
  {
   "cell_type": "code",
   "execution_count": 95,
   "metadata": {},
   "outputs": [],
   "source": [
    "def effective_focal_length_four_lenses(f1, d):\n",
    "    return 1 / ((4/f1) - (6*d/f1**2) + (4*d**2/f1**3) - (d**3/f1**4))"
   ]
  },
  {
   "cell_type": "markdown",
   "metadata": {},
   "source": [
    "For this exercise I am also choosing a focal length and beam diameter equal to 80 mm, the same as in exercise 1.1, so that comparison can be done easily. The question then becomes, for which value of $f_1$ do I obtain a focal length of the system as whole of 80 mm. This is computed numerically below."
   ]
  },
  {
   "cell_type": "code",
   "execution_count": 96,
   "metadata": {},
   "outputs": [
    {
     "name": "stdout",
     "output_type": "stream",
     "text": [
      "f1 = 304.5828582858286 mm\n",
      "f = 80.0000030421697 mm\n"
     ]
    }
   ],
   "source": [
    "# Initial settings.\n",
    "d = 10 # [mm].\n",
    "f_opt = 80 # [mm].\n",
    "f1_arr = np.linspace(304, 306, 10000) # Make it an array so that the optimal value can be found [mm]..\n",
    "\n",
    "# Compute the focal length of the whole system for the whole f1-array.\n",
    "f_arr = effective_focal_length_four_lenses(f1_arr, d)\n",
    "\n",
    "# Optimal value.\n",
    "index = np.argmin(np.abs(f_arr - f_opt))\n",
    "f1 = f1_arr[index]\n",
    "f = f_arr[index]\n",
    "\n",
    "# Output results.\n",
    "print(f'f1 = {f1} mm')\n",
    "print(f'f = {f} mm')"
   ]
  },
  {
   "cell_type": "markdown",
   "metadata": {},
   "source": [
    "So, $f_1 = 304.58 \\text{ mm }$. For the TOD setup, I added a lens with diameter d equals 80 mm and center thickness of 8 mm. Then I changed the focal length to 304.58 mm, and cloned this lens so that I have 4 of them. I changed the distance $d$ to 10 mm and put the image in the focus. This gives an average rms spot radius of 0.98574 or 0.01232175 times the beam diameter.\n",
    "The focal length of one of the lenses is $304.58 \\text{ mm }- 80 \\text{ mm } = 224.58 \\text{ mm }$. The setup can be seen below."
   ]
  },
  {
   "cell_type": "markdown",
   "metadata": {},
   "source": [
    "![](fig_7.1.2.png)"
   ]
  },
  {
   "cell_type": "markdown",
   "metadata": {},
   "source": [
    "### 1.3\n",
    "Explain the performance difference between the two designs."
   ]
  },
  {
   "cell_type": "markdown",
   "metadata": {},
   "source": [
    "**Answer**: Paraxially, the two systems should give the same results, but there are abberations. The average rms spot size is approximately 4 times lower in the second design. If you compare the two figures to each other, the rays are changed in direction 4 times as much in the second design w.r.t. the first design. This means the angles of refraction are smaller in the second design w.r.t. the first design, which has as a consequence that the paraxial approximation gives better results in the second design, and abberations are less impactful in the second design. For example, spherical abberation, which is the consequence of the fact that rays are reflected more or less in the outer regions of the lens than the rays that go through to center of the lens. Clearly spherical abberation plays a lesser part in the second design."
   ]
  },
  {
   "cell_type": "markdown",
   "metadata": {},
   "source": [
    "## 2. Achromatic Lens\n",
    "An achromatic lens is made of two different glasses to minimize the change in focal length as a function of wavelength. The properties of an achromatic lens can be calculated from 1) the focal length $f$ of the combined\n",
    "lens\n",
    "\n",
    "$$ \\frac{1}{f} = \\frac{1}{f_1} + \\frac{1}{f_2} $$\n",
    "\n",
    "where $f_{1,2}$ are the focal lengths of the individual lenses, and 2) the minimization of the chromatism\n",
    "\n",
    "$$ \\frac{f_1}{n_1(\\lambda_1) - n_1(\\lambda_2)} + \\frac{f_2}{n_2(\\lambda_1) - n_2(\\lambda_2)} = 0 $$\n",
    "\n",
    "where $n_{1,2}(\\lambda_{1,2}) = $ are the indices of refraction of glass 1 and 2 at wavelengths $\\lambda_1$ and $\\lambda_2$. Note: The relation of focal lengths is only valid for two thin lenses that are in contact. The condition for the minimization of the chromatism can be found in Hecht, section 6.3.2."
   ]
  },
  {
   "cell_type": "markdown",
   "metadata": {},
   "source": [
    "### 2.1\n",
    "Design an achromatic lens with a focal length of 500 mm at wavelengths of 486.1 nm and 656.3 nm and an $F$-number of 4. Use http://refractiveindex.info to obtain the indices of refraction. Use a biconvex BK7 lens with the same front and rear radii of curvature and an F2 lens with one surface having the same radius of curvature as the BK7 lens. Using the thin-lens equation, determine the radii of curvature of the two lenses."
   ]
  },
  {
   "cell_type": "markdown",
   "metadata": {},
   "source": [
    "**Answer**:\n",
    "\n",
    "The indices of refraction I found on https://refractiveindex.info are:\n",
    "        \n",
    "|  | 486.1 nm |  656.3 nm |\n",
    "|---|---|---|\n",
    "|BK7|1.5224|1.5143|\n",
    "|F2|1.6352|1.6150|"
   ]
  },
  {
   "cell_type": "markdown",
   "metadata": {},
   "source": [
    "First, an expression for $f_1$ and $f_2$ is needed. Since $f$ is known, which is 500 nm, combining equation 1 and 2 will give expressions from which we will be able to compute $f_1$ and $f_2$, and from there the radii of curvature may be computed.\n",
    "\n",
    "Equation 2 equals:\n",
    "\n",
    "$$ \\frac{f_1}{n_1(\\lambda_1) - n_1(\\lambda_2)} + \\frac{f_2}{n_2(\\lambda_1) - n_2(\\lambda_2)} = 0 $$\n",
    "\n",
    "Rewriting gives:\n",
    "\n",
    "$$ \\frac{f_1}{f_2} = - \\frac{n_1(\\lambda_1) - n_1(\\lambda_2)}{n_2(\\lambda_1) - n_2(\\lambda_2)} $$\n",
    "\n",
    "Equation 1 equals:\n",
    "\n",
    "$$ \\frac{1}{f} = \\frac{1}{f_1} + \\frac{1}{f_2} $$\n",
    "\n",
    "Rewriting gives:\n",
    "\n",
    "$$ \\frac{f_1}{f} = 1 + \\frac{f_1}{f_2} $$\n",
    "\n",
    "Substitution gives:\n",
    "\n",
    "$$ \\frac{f_1}{f} = 1 - \\frac{n_1(\\lambda_1) - n_1(\\lambda_2)}{n_2(\\lambda_1) - n_2(\\lambda_2)} $$\n",
    "\n",
    "$$ f_1 = f \\bigg( 1 - \\frac{n_1(\\lambda_1) - n_1(\\lambda_2)}{n_2(\\lambda_1) - n_2(\\lambda_2)} \\bigg) $$\n",
    "\n",
    "And $f_2$ can be computed from:\n",
    "\n",
    "$$ f_2 = \\frac{1}{\\frac{1}{f} - \\frac{1}{f_1}} $$\n"
   ]
  },
  {
   "cell_type": "markdown",
   "metadata": {},
   "source": [
    "The thin lens equation (Slide 15, lecture 2 on geometric optics)\n",
    "\n",
    "$$ \\frac{1}{S_1} + \\frac{1}{S_2} = \\frac{1}{f_1} = (n-1) \\Big( \\frac{1}{R_{11}} - \\frac{1}{R_{12}} \\Big) $$\n",
    "\n",
    "Since the front and rear curvature of the BK7 lens are equal, the equation becomes:\n",
    "\n",
    "$$ R_{12} = - R_{11} $$\n",
    "\n",
    "$$ \\frac{1}{f_1} = (n-1) \\frac{2}{R_{12}} $$\n",
    "\n",
    "$$ R_{12} = 2 f_1 (n-1) $$\n",
    "\n",
    "Given is that one of the radii of the F2 lens is equal to the radius of curvature of the BK7 lens, so:\n",
    "\n",
    "$$ R_{21} = - R_{11} $$\n",
    "\n",
    "Then $ R_{22} $ can be found using the thin lens equation:\n",
    "\n",
    "$$ \\frac{1}{f_2} = (n-1) \\Big( \\frac{1}{R_{21}} - \\frac{1}{R_{22}} \\Big) $$\n",
    "\n",
    "$$ \\frac{1}{f_2} - (n-1) \\frac{1}{R_{21}} = - (n-1) \\frac{1}{R_{22}} $$\n",
    "\n",
    "$$ \\frac{1}{R_{22}} (n-1) = (n-1) \\frac{1}{R_{21}} - \\frac{1}{f_2} $$\n",
    "\n",
    "$$ \\frac{1}{R_{22}} = \\frac{1}{R_{21}} - \\frac{1}{f_2 (n-1) } $$\n",
    "\n",
    "$$ R_{22} = \\frac{1}{\\frac{1}{R_{21}} - \\frac{1}{f_2 (n-1) } } $$"
   ]
  },
  {
   "cell_type": "code",
   "execution_count": 97,
   "metadata": {},
   "outputs": [],
   "source": [
    "# Initial settings.\n",
    "f = 500 # [mm].\n",
    "lam = np.array([486.1, 656.3]) # [nm].\n",
    "F_num = 4 # F-number.\n",
    "n_BK7 = np.array([1.5224, 1.5143])\n",
    "n_F2 = np.array([1.6352, 1.6150])"
   ]
  },
  {
   "cell_type": "code",
   "execution_count": 98,
   "metadata": {},
   "outputs": [],
   "source": [
    "# Functions.\n",
    "def compute_f1_and_f2(f, n1, n2):\n",
    "    f1 = f * ( 1 - ( n1[0] - n1[1] )/( n2[0] - n2[1] ) )\n",
    "    f2 = 1 / ( 1/f - 1/f1 )\n",
    "    return f1, f2\n",
    "\n",
    "def compute_R(f1, f2, n1, n2):\n",
    "    R11 = 2 * f1 * (n1-1)\n",
    "    R12 = -1*R11\n",
    "    R21 = -1*R11\n",
    "    R22 = 1 / ( 1/R21 - 1/( f2*(n2-1) ) )\n",
    "    return R11, R12, R21, R22"
   ]
  },
  {
   "cell_type": "code",
   "execution_count": 99,
   "metadata": {},
   "outputs": [],
   "source": [
    "# Calculations.\n",
    "D = f/F_num # Diameter [mm] (Slide 3, lecture 2 on geometric optics).\n",
    "f1, f2 = compute_f1_and_f2(f, n_BK7, n_F2)\n",
    "R11, R12, R21, R22 = compute_R(f1, f2, n_BK7[0], n_F2[0])"
   ]
  },
  {
   "cell_type": "code",
   "execution_count": 100,
   "metadata": {},
   "outputs": [
    {
     "name": "stdout",
     "output_type": "stream",
     "text": [
      "D = 125.0 mm\n",
      "f1 = 299.50495049504957 mm\n",
      "f2 = -746.9135802469141 mm\n",
      "R11 = 312.92277227722775 mm\n",
      "R12 = -312.92277227722775 mm\n",
      "R21 = -312.92277227722775 mm\n",
      "R22 = -919.1798395663156 mm\n"
     ]
    }
   ],
   "source": [
    "## Results.\n",
    "print(f'D = {D} mm')\n",
    "print(f'f1 = {f1} mm')\n",
    "print(f'f2 = {f2} mm')\n",
    "print(f'R11 = {R11} mm')\n",
    "print(f'R12 = {R12} mm')\n",
    "print(f'R21 = {R21} mm')\n",
    "print(f'R22 = {R22} mm')"
   ]
  },
  {
   "cell_type": "markdown",
   "metadata": {},
   "source": [
    "So the results are:\n",
    "\n",
    "- $ D = 125 \\text{ mm } $\n",
    "- $ f_1 = 299.50 \\text{ mm } $\n",
    "- $ f_2 = -746.9 \\text{ mm } $\n",
    "- $ R_{11} = 312.92 \\text{ mm } $\n",
    "- $ R_{12} = -312.92 \\text{ mm } $\n",
    "- $ R_{21} = -312.92 \\text{ mm } $\n",
    "- $ R_{22} = -919.18 \\text{ mm } $"
   ]
  },
  {
   "cell_type": "markdown",
   "metadata": {},
   "source": [
    "### 2.2\n",
    "Enter the derived properties into TOD and find the rms spot radii for both wavelengths. Compare these with the rms spot radii a of single BK7 lens with a focal length of 500 mm at 656.3 nm and the same lens diameter as the achromat."
   ]
  },
  {
   "cell_type": "markdown",
   "metadata": {},
   "source": [
    "**Answer**: I added the above properties into TOD. I added two lenses, changed them to the right material, changed the diameter to 125 mm, and changed the 4 radii of curvature, and put them right next to each other. I got the following results:\n",
    "\n",
    "| Wavelength (nm) | 486.1 | 656.3 |\n",
    "|---|---|---|\n",
    "| Rms spot radius (mm) | 0.109047 | 0.113379 |\n",
    "\n",
    "Comparison with of a single BK7 lens with a focal length of $f = 500 \\text{ mm}$ at $\\lambda = 656.3 \\text{ nm.}$\n",
    "\n",
    "| Wavelength (nm) | 656.3 |\n",
    "|---|---|\n",
    "| Rms spot radius (mm) | 0.229362 |"
   ]
  },
  {
   "cell_type": "markdown",
   "metadata": {},
   "source": [
    "![](fig_7.2.2.png)"
   ]
  },
  {
   "cell_type": "markdown",
   "metadata": {},
   "source": [
    "### 2.3\n",
    "Reverse the arrangement of the two lenses and compare the rms spot radii with the original achromat."
   ]
  },
  {
   "cell_type": "markdown",
   "metadata": {},
   "source": [
    "**Answer**: I reversed the setup, which gives the following results. I also changed the distance between the two lenses from 0 to 0.00001, otherwise the rays would diverge.\n",
    "\n",
    "| Wavelength (nm) | 486.1 | 656.3 |\n",
    "|---|---|---|\n",
    "| Rms spot radius (mm) | 0.758798 | 0.743627 |"
   ]
  },
  {
   "cell_type": "markdown",
   "metadata": {},
   "source": [
    "![](fig_7.2.3.png)"
   ]
  },
  {
   "cell_type": "markdown",
   "metadata": {},
   "source": [
    "## 3. Achromatic Lens\n",
    "Design a 200-mm diameter Cassegrain telescope (parabolic primary, hyperbolic secondary, focal plane) with a focal length of 1200 mm."
   ]
  },
  {
   "cell_type": "markdown",
   "metadata": {},
   "source": [
    "### 3.1\n",
    "Determine the pixel size of a camera in the focal plane that provides diffraction-limited images at 500 nm."
   ]
  },
  {
   "cell_type": "markdown",
   "metadata": {},
   "source": [
    "**Answer**: Slide 28 of lecture 7 on optical design states 2 pixels are needed per resolution element according to Nyquist sampling.\n",
    "\n",
    "The resolution is\n",
    "\n",
    "$$ \\theta \\approx 1.22 \\frac{\\lambda}{D} $$\n",
    "\n",
    "The pixel size is the resolution times the the focal length of the system, which gives the following expression for the pixel size:\n",
    "\n",
    "$$ \\text{pixel scale} \\approx 1.22 \\frac{\\lambda}{D} \\frac{f}{2} = 1.22 \\cdot \\frac{500 \\text{ nm}}{200 \\text{ mm}} \\cdot \\frac{1200 \\text{ mm}}{2} = 1.830 \\text{ } \\mu \\text{m}$$"
   ]
  },
  {
   "cell_type": "markdown",
   "metadata": {},
   "source": [
    "### 3.2\n",
    "Determine the maximum allowed axial motion of the detector to remain diffraction limited (rms spot diameter = 1.22 $\\lambda/D$."
   ]
  },
  {
   "cell_type": "markdown",
   "metadata": {},
   "source": [
    "**Answer**: For a parabolic lens the constants equals $K_1 = -1$ and for a hyperbolic $K_2 < -1$.\n",
    "\n",
    "I am choosing $K_2 = -2.5$\n",
    "\n",
    "With the equations from slide 38 from lecture 4, $m$ the transverse magnification of the secondary can be computed.\n",
    "\n",
    "$$ K_2 = - \\Big( \\frac{m+1}{m-1} \\Big)^2 $$\n",
    "\n",
    "Applying math gives:\n",
    "\n",
    "$$ \\sqrt{-K_2} = \\frac{m+1}{m-1} $$\n",
    "\n",
    "$$ \\sqrt{-K_2} = \\frac{(m-1)+2}{m-1} $$\n",
    "\n",
    "$$ \\sqrt{-K_2} = 1 + \\frac{2}{m-1} $$\n",
    "\n",
    "$$ \\frac{2}{m-1} = \\sqrt{-K_2} - 1 $$\n",
    "\n",
    "$$ m-1 = \\frac{2}{\\sqrt{-K_2} - 1} $$\n",
    "\n",
    "$$ m = \\frac{2}{\\sqrt{-K_2} - 1} + 1 $$\n",
    "\n",
    "From here it is possible to compute $f_1$ using the formula on slide 37 of lecture 4:\n",
    "\n",
    "$$ m = \\frac{f_\\text{eff}}{f_1} $$\n",
    "\n",
    "$$ f_1 = \\frac{f_\\text{eff}}{m} $$\n",
    "\n",
    "Next I will choose a value for the back focal length $b$, which allows me to compute the distance $d$ between the two mirrors using the formula on slide 37 of lecture 4:\n",
    "\n",
    "$$ f_\\text{eff} = d + b + md $$\n",
    "\n",
    "$$ d = \\frac{f_\\text{eff} - b}{m+1} $$\n",
    "\n",
    "With the distance $d$ known, it is possible to compute $f_2$ using the formula on slide 37 of lecture 4.\n",
    "\n",
    "$$ f_\\text{eff} = \\frac{f_1 f_2}{f_1 - f_2 -d} $$\n",
    "\n",
    "In the code below $f_2$ is computed numerically."
   ]
  },
  {
   "cell_type": "code",
   "execution_count": 101,
   "metadata": {},
   "outputs": [],
   "source": [
    "# Initial settings.\n",
    "lam = 500e-9 # Wavelength [m].\n",
    "D = 200e-3 # Diameter [m].\n",
    "f_eff = 1200 # Focal length [mm].\n",
    "K2 = -2.5 # Seconds conic constant for the hyperbolic lens.\n",
    "b = 200 # Back focal length [mm]."
   ]
  },
  {
   "cell_type": "code",
   "execution_count": 102,
   "metadata": {},
   "outputs": [],
   "source": [
    "# Functions.\n",
    "def compute_m(K2):\n",
    "    return 2/(np.sqrt(-1*K2)-1) + 1\n",
    "\n",
    "def compute_f1(f_eff, m):\n",
    "    return f_eff/m\n",
    "\n",
    "def compute_d(f_eff, b, m):\n",
    "    return (f_eff-b)/(m+1)\n",
    "\n",
    "def compute_f2(f_eff, f1, d):\n",
    "    f2_arr = np.linspace(70.52, 70.53, 100000)\n",
    "    f_eff_arr = (f1*f2_arr)/(f1-f2_arr-d)\n",
    "    opt_val_index = np.argmin(abs(f_eff_arr-f_eff))\n",
    "    return f2_arr[opt_val_index]\n",
    "\n",
    "def compute_resolution(lam, D):\n",
    "    return 1.22 * lam/D * 1e6"
   ]
  },
  {
   "cell_type": "code",
   "execution_count": 103,
   "metadata": {},
   "outputs": [],
   "source": [
    "# Calculations.\n",
    "m = compute_m(K2)\n",
    "f1 = compute_f1(f_eff, m)\n",
    "d = compute_d(f_eff, b, m)\n",
    "f2 = compute_f2(f_eff, f1, d)\n",
    "theta = compute_resolution(lam, D)"
   ]
  },
  {
   "cell_type": "code",
   "execution_count": 104,
   "metadata": {},
   "outputs": [
    {
     "name": "stdout",
     "output_type": "stream",
     "text": [
      "K1 = -1\n",
      "K2 = -2.5\n",
      "m = 4.442\n",
      "f1 = 270.178 mm\n",
      "b = 200.000\n",
      "d = 183.772\n",
      "f2 = 70.527 mm\n",
      "theta = 3.05 micro meter\n"
     ]
    }
   ],
   "source": [
    "# Results.\n",
    "print(f'K1 = -1')\n",
    "print(f'K2 = {K2}')\n",
    "print(f'm = {m:.3f}')\n",
    "print(f'f1 = {f1:.3f} mm')\n",
    "print(f'b = {b:.3f}')\n",
    "print(f'd = {d:.3f}')\n",
    "print(f'f2 = {f2:.3f} mm')\n",
    "print(f'theta = {theta:.2f} micro meter')"
   ]
  },
  {
   "cell_type": "markdown",
   "metadata": {},
   "source": [
    "Implementing all above results in TOD gives does not converge my rays into a focus point after the primary mirror. If I change the distance $d$ so that it does, it still only gives me an average rms spot radius of $0.262819$, which is, I think, not correct, because the angular resolution equals $ 3.05 \\mu \\text{m} $.\n",
    "\n",
    "So what I will do, is tell you how I would approach this exercise If i got the right answers.\n",
    "\n",
    "I would move the image plane to several locations before and behind the focus point, to find a distance where the average rms spot radius equals the diffraction limited resolution."
   ]
  },
  {
   "cell_type": "markdown",
   "metadata": {},
   "source": [
    "### 3.3\n",
    "Determine the maximum allowed axial motion of the secondary mirror to remain diffraction limited when the focal plane stays in the same position."
   ]
  },
  {
   "cell_type": "markdown",
   "metadata": {},
   "source": [
    "**Answer**: This is essentially the same sort of exercise as 3.2. To find the maximum allowed axial motion, I would move the secondary mirror back and forth to find a distance for which the average rms spot radius roughly equals the diffraction limited resolution."
   ]
  },
  {
   "cell_type": "markdown",
   "metadata": {},
   "source": [
    "### 3.4\n",
    "Determine the maximum allowed axial motion of the secondary mirror to remain diffraction limited when the focal plane is allowed to move to the best focus position."
   ]
  },
  {
   "cell_type": "markdown",
   "metadata": {},
   "source": [
    "**Answer**: The same as question 3.2 and 3.3."
   ]
  }
 ],
 "metadata": {
  "kernelspec": {
   "display_name": "Python 3",
   "language": "python",
   "name": "python3"
  },
  "language_info": {
   "codemirror_mode": {
    "name": "ipython",
    "version": 3
   },
   "file_extension": ".py",
   "mimetype": "text/x-python",
   "name": "python",
   "nbconvert_exporter": "python",
   "pygments_lexer": "ipython3",
   "version": "3.6.5"
  }
 },
 "nbformat": 4,
 "nbformat_minor": 2
}
