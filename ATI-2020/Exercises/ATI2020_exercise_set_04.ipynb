{
 "cells": [
  {
   "cell_type": "markdown",
   "metadata": {},
   "source": [
    "# Astronomical Telescopes and Instruments 2020:\n",
    "# Exercises on Telescopes\n",
    "# Due on 13 october 2020 at 14:15\n",
    "# Auke Bruinsma, s1594443"
   ]
  },
  {
   "cell_type": "markdown",
   "metadata": {},
   "source": [
    "## 1. Maksutov Corrector\n",
    "A corrector plate in front of a spherical primary mirror makes a telescope with a very large field of view. One\n",
    "implementation is the aspherical corrector plate used in a Schmidt telescope. Another version, the Maksutov\n",
    "design, has a spherical meniscus lens corrector in front of the spherical primary mirror. In this exercise, you\n",
    "will go through the steps of designing a Maksutov telescope, analyzing its performance and then comparing it\n",
    "to single-mirror telescopes without a transmitting corrector. **Make sure to include all numerical values\n",
    "necessary to recreate your TOD design.**"
   ]
  },
  {
   "cell_type": "markdown",
   "metadata": {},
   "source": [
    "### 1.1\n",
    "The Maksutov corrector is an achromatic, single lens. Use the expression for the focal length of a thick\n",
    "lens and require that the focal length is invariant under a change of the index of refraction, i.e. $\\frac{\\partial f}{\\partial n} = 0 $. Derive the relation between the two radii of curvature, $R_1, R_2$ and the thickness $d$ for an achromatic meniscus lens. The radii of curvature of a meniscus lens have the same sign."
   ]
  },
  {
   "cell_type": "markdown",
   "metadata": {},
   "source": [
    "**Answer**:"
   ]
  },
  {
   "cell_type": "markdown",
   "metadata": {},
   "source": [
    "![](fig_4.1.1.jpeg)"
   ]
  },
  {
   "cell_type": "markdown",
   "metadata": {},
   "source": [
    "### 1.2\n",
    "The thickness and radii of curvature of the corrector can be further optimized to compensate for the\n",
    "spherical aberration of the primary mirror. Assume that the corector is made from fused silica ($n=1.46$ at\n",
    "550 nm). If the primary, spherical mirror has a radius of curvature $R$ and the telescope has an $f$-number of\n",
    "$2.5$, choose the thickness of the corrector as $d = 0.025|R|$ and $R_1 = 0.2087 R$ to compensate the primary’s\n",
    "spherical aberration. Calculate $R_2$ using the equation derived above."
   ]
  },
  {
   "cell_type": "markdown",
   "metadata": {},
   "source": [
    "**Answer**:"
   ]
  },
  {
   "cell_type": "code",
   "execution_count": 7,
   "metadata": {},
   "outputs": [
    {
     "name": "stdout",
     "output_type": "stream",
     "text": [
      "R_2 = 0.19543 R\n"
     ]
    }
   ],
   "source": [
    "# Initial data.\n",
    "lam = 550e-9 #m\n",
    "n = 1.46\n",
    "f_number = 2.5\n",
    "d = 0.025 # times absolute value of R\n",
    "R_1 = 0.2087 # times R\n",
    "\n",
    "# Now I will apply my derived formula from the previous subquestion.\n",
    "R_2 = -1 * R_1 * (-1 + d/R_1 * ((n-1)/n * (1 + 1/n)))\n",
    "print(f'R_2 = {R_2:.5f} R')"
   ]
  },
  {
   "cell_type": "markdown",
   "metadata": {},
   "source": [
    "So using the equation above derived, $R_2$ equals $ 0.19543R$."
   ]
  },
  {
   "cell_type": "markdown",
   "metadata": {},
   "source": [
    "### 1.3\n",
    "Place the corrector at a distance of $ 0.2667|R| $ behind the entrance aperture and the mirror at $ 0.8543|R| $\n",
    "behind the aperture to minimize the aberrations of the complete system. Determine the performance (rms\n",
    "spot size) of the Maksutov design for field angles of $0$ and $3$ degrees."
   ]
  },
  {
   "cell_type": "markdown",
   "metadata": {},
   "source": [
    "**Answer**:"
   ]
  },
  {
   "cell_type": "markdown",
   "metadata": {},
   "source": [
    "I have chosen R = -100\n",
    "Following the instructions for the distances for the corrector and the mirror, and using the the results from question 1.2, I have the following data:"
   ]
  },
  {
   "cell_type": "code",
   "execution_count": 8,
   "metadata": {},
   "outputs": [
    {
     "name": "stdout",
     "output_type": "stream",
     "text": [
      "d1 = 26.669999999999998\n",
      "d2 = 85.42999999999999\n",
      "R1 = 20.87\n",
      "R2 = 19.543\n",
      "center_thickness = 2.5\n"
     ]
    }
   ],
   "source": [
    "import numpy as np\n",
    "R = -100\n",
    "d1 = 0.2667 * np.abs(R)\n",
    "d2 = 0.8543 * np.abs(R)\n",
    "R1 = 0.2087 * np.abs(R)\n",
    "R2 = 0.19543 * np.abs(R)\n",
    "center_thickness = 0.025 * np.abs(R)\n",
    "print(f'd1 = {d1}')\n",
    "print(f'd2 = {d2}')\n",
    "print(f'R1 = {R1}')\n",
    "print(f'R2 = {R2}')\n",
    "print(f'center_thickness = {center_thickness}')"
   ]
  },
  {
   "cell_type": "markdown",
   "metadata": {},
   "source": [
    "Using the above values, and setting the diameter of the corrector $d = 28.01$, I obtained the following setup:"
   ]
  },
  {
   "cell_type": "markdown",
   "metadata": {},
   "source": [
    "![](fig_4.1.3.png)"
   ]
  },
  {
   "cell_type": "markdown",
   "metadata": {},
   "source": [
    "The performance is shown in the table below together with the performances of the single spherical mirror and the Newtonian telescope."
   ]
  },
  {
   "cell_type": "markdown",
   "metadata": {},
   "source": [
    "### 1.4\n",
    "Compare these performance parameters to a single spherical mirror and a Newtonian telescope with the\n",
    "same $f$-number and focal length."
   ]
  },
  {
   "cell_type": "markdown",
   "metadata": {},
   "source": [
    "**Answers**:\n",
    "\n",
    "| Type | Average rms spot size 0 degrees | Average rms spot size 3 degrees |\n",
    "|---|---|---|\n",
    "| Maksutov Corrector | $ 0.23456 $ | $ 0.24556 $ |\n",
    "| Single spherical mirror | $ 0.01457 $ | $ 0.01570 $ |\n",
    "| Newtonian telescope | $ 0.01965 $ | $ 0.02835 $ |"
   ]
  },
  {
   "cell_type": "markdown",
   "metadata": {},
   "source": [
    "The single spherical mirror setup was simply obtained by deleting the corrector, and the newtonian telescope by changing the mirror from spherical to parabolic. As you can see, the Maksutov corrector performs far worse."
   ]
  },
  {
   "cell_type": "markdown",
   "metadata": {},
   "source": [
    "## 2. Ritchie-Chretien Telescope"
   ]
  },
  {
   "cell_type": "markdown",
   "metadata": {},
   "source": [
    "A Cassegrain telescope consists of a parabolic primary and a hyperbolic secondary mirror, which perfectly\n",
    "reimages the on-axis focus of the primary mirror to a location behind the primary mirror. Such a two-mirror\n",
    "telescope has no spherical aberration, but it suffers from coma. The Ritchie-Chretien telescope is a modified\n",
    "Cassegrain telescope design where the off-axis coma of the primary mirror is corrected by making the primary\n",
    "mirror slightly hyperbolic and the conic constant of the secondary mirror is adjusted such that spherical aber-\n",
    "ration is still cancelled. **Make sure to include all numerical values necessary to recreate your TOD\n",
    "design.**"
   ]
  },
  {
   "cell_type": "markdown",
   "metadata": {},
   "source": [
    "### 2.1\n",
    "Design a Ritchie-Chretien telescope with a primary mirror diameter of 81.15 mm and a focal length of 144.875 mm and a secondary mirror with a diameter of 11.078 mm and a focal length of 22.669 mm. Determine the conic constants, the separation between the two mirrors, and the back-focal distance using the equations shown in the lecture and provide an image of the design. Hints: use a source beam of 80mm diameter and aim it at the primary mirror."
   ]
  },
  {
   "cell_type": "markdown",
   "metadata": {},
   "source": [
    "**Answer**:"
   ]
  },
  {
   "cell_type": "markdown",
   "metadata": {},
   "source": [
    "![](fig_4.2.1.1.jpeg)"
   ]
  },
  {
   "cell_type": "markdown",
   "metadata": {},
   "source": [
    "**I am filling in all above equations below in the jupyter notebook.**"
   ]
  },
  {
   "cell_type": "code",
   "execution_count": 9,
   "metadata": {},
   "outputs": [],
   "source": [
    "# Calculations.\n",
    "d1 = 8.115e-2 # Primary mirror diameter [m].\n",
    "d2 = 1.1078e-2 # Secondary mirror diameter [m].\n",
    "f1 = 1.44875e-1 # Primary mirror focal length [m].\n",
    "f2 = 2.2669e-2 # Secondary mirror focal length [m].\n",
    "\n",
    "rho = f2/f1 # Mirror ratio radii curvature.\n",
    "k = d2/d1 # Ratio ray heights mirror margins.\n",
    "\n",
    "m = rho/(rho-k) # Transverse magnification secondary.\n",
    "beta = k*(m+1)-1\n",
    "\n",
    "K1 = -1 - (2*(1+beta))/(m**2*(m-beta)) # Conic constant 1.\n",
    "K2 = -((m+1)/(m-1))**2 - (2*m*(m+1))/((m-beta)*(m-1)**3) # Conic constant 2.\n",
    "\n",
    "W = (1-k)*f1 # Separation between the two mirrors [m].\n",
    "f1_beta =  f1*(m*k-1) + W # Back focal distance [m]."
   ]
  },
  {
   "cell_type": "code",
   "execution_count": 10,
   "metadata": {},
   "outputs": [
    {
     "name": "stdout",
     "output_type": "stream",
     "text": [
      "rho = 0.1565\n",
      "k = 0.1365\n",
      "m = 7.8392\n",
      "beta = 0.2067\n",
      "K1 = -1.0051\n",
      "K2 = -1.7271\n",
      "W = 0.1251 m\n",
      "f1_beta = 0.1353 m\n"
     ]
    }
   ],
   "source": [
    "# Results.\n",
    "print(f'rho = {rho:.4f}')\n",
    "print(f'k = {k:.4f}')\n",
    "print(f'm = {m:.4f}')\n",
    "print(f'beta = {beta:.4f}')\n",
    "print(f'K1 = {K1:.4f}')\n",
    "print(f'K2 = {K2:.4f}')\n",
    "print(f'W = {W:.4f} m')\n",
    "print(f'f1_beta = {f1_beta:.4f} m')"
   ]
  },
  {
   "cell_type": "markdown",
   "metadata": {},
   "source": [
    "So my final results are:\n",
    "\n",
    "Conic constant $K_1 = -1.0051$\n",
    "\n",
    "Conic constant $K_2 = -1.7271$\n",
    "\n",
    "Separation between the two mirrors, $W = 125.1$ mm\n",
    "\n",
    "Back-focal distance $f_1 \\beta = 135.3$ mm\n"
   ]
  },
  {
   "cell_type": "markdown",
   "metadata": {},
   "source": [
    "**Implementing all above relevant parameters (focal lengths, mirror diameters, distance beteen the mirros, conic section values, beam diameter) in TOD gives me the following setup**:"
   ]
  },
  {
   "cell_type": "markdown",
   "metadata": {},
   "source": [
    "![](fig_4.2.1.2.png)"
   ]
  },
  {
   "cell_type": "markdown",
   "metadata": {},
   "source": [
    "### 2.2 \n",
    "Show that your design is free of aberrations on-axis and determine the performance for a field angle of 0.5 degrees. What is the major aberration at 0.5 degrees? Hint: increase the diameter of the secondary mirror so that there is no vignetting at a field angle of 0.5 degrees."
   ]
  },
  {
   "cell_type": "markdown",
   "metadata": {},
   "source": [
    "**Answer**: I have put the results in the table below. I used all relevant values from question 2.1 to make the setup,so those are the focal lengths, the diameters, the distance between the mirrors, the radii of curvature. To make sure all fields are included, so also those with incoming angle of 0.5 degrees, I slightly made the diameter of both mirrors larger. I have determined the on-axis abberation by putthing the image plane in the focus of just 1 field so it does not take the average of multiple fields.\n",
    "\n",
    "| Type | On-axis abberation | 0.5 degrees off-axis |\n",
    "|---|---|---|\n",
    "| Straight image plane | 0.0000110461 | 0.0271768 |\n",
    "| Curved image plane | 0.0000110492 | 0.00641560 |\n",
    "\n",
    "As you can see the value I obtained for the straight image plane for the on-axis abberation is really small, so I conclude this design is free of on-axis abberations.\n",
    "\n",
    "The setup I used is show in the image below:"
   ]
  },
  {
   "cell_type": "markdown",
   "metadata": {},
   "source": [
    "![](fig_4.2.2.png)"
   ]
  },
  {
   "cell_type": "markdown",
   "metadata": {},
   "source": [
    "### 2.3 \n",
    "Assess the performance that would be achieved with this telescope if a curved image plane would be used. What is the radius of curvature of the image and what is the rms spot diameter at a field angle of 0.5 degrees? Hint: You can change the radius of curvature of the image to a finite value; reduce the image diameter as much as possible."
   ]
  },
  {
   "cell_type": "markdown",
   "metadata": {},
   "source": [
    "**Answer**: I changed the radius of curvature of the image plane. First I placed the image plane in the focus of the on-axis beam. Then I empirically derived a value for the radius of curvature, $R = -19.4$. This value makes sures the image plane approximately goes through the center of the other two off-axis foci. I used a diameter of 23. The results can be seen in the table above. As expected the on-axis abberation is of similar size, and the 0.5 degrees of-axis abberation is much lower. The setup can be seen in the image:"
   ]
  },
  {
   "cell_type": "markdown",
   "metadata": {},
   "source": [
    "![](fig_4.2.3.png)"
   ]
  },
  {
   "cell_type": "markdown",
   "metadata": {},
   "source": [
    "### 2.4\n",
    "What is the remaining aberration? Hint: move the image to either side of the best focus position."
   ]
  },
  {
   "cell_type": "markdown",
   "metadata": {},
   "source": [
    "**Answer**: The remaining abberation is astigmatism. This can also be seen by zooming-in on the off-axis abberation. There is not one focus point, the rays have different foci. "
   ]
  }
 ],
 "metadata": {
  "kernelspec": {
   "display_name": "Python 3",
   "language": "python",
   "name": "python3"
  },
  "language_info": {
   "codemirror_mode": {
    "name": "ipython",
    "version": 3
   },
   "file_extension": ".py",
   "mimetype": "text/x-python",
   "name": "python",
   "nbconvert_exporter": "python",
   "pygments_lexer": "ipython3",
   "version": "3.6.5"
  }
 },
 "nbformat": 4,
 "nbformat_minor": 2
}
