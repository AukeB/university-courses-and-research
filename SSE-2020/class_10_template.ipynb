{
 "cells": [
  {
   "cell_type": "markdown",
   "metadata": {},
   "source": [
    "# Stellar Structure and Evolution 2020"
   ]
  },
  {
   "cell_type": "markdown",
   "metadata": {},
   "source": [
    "## Practical exercises - class 10"
   ]
  },
  {
   "cell_type": "markdown",
   "metadata": {},
   "source": [
    "# 1. Conceptual questions"
   ]
  },
  {
   "cell_type": "markdown",
   "metadata": {},
   "source": [
    "(a) Why does the luminosity of a star increase on the main sequence? Why do low-mass stars, like the Sun, expand less during the main sequence than higher-mass stars?"
   ]
  },
  {
   "cell_type": "markdown",
   "metadata": {},
   "source": [
    "**Answer**:"
   ]
  },
  {
   "cell_type": "markdown",
   "metadata": {},
   "source": [
    "(b) Explain the existence of a Hertzsprung-gap in the HRD for high-mass stars. Why is there no Hertzsprung gap for low-mass stars? "
   ]
  },
  {
   "cell_type": "markdown",
   "metadata": {},
   "source": [
    "**Answer**:"
   ]
  },
  {
   "cell_type": "markdown",
   "metadata": {},
   "source": [
    "(c) What do we mean by the mirror principle? "
   ]
  },
  {
   "cell_type": "markdown",
   "metadata": {},
   "source": [
    "**Answer**:"
   ]
  },
  {
   "cell_type": "markdown",
   "metadata": {},
   "source": [
    "(d) Why does the envelope become convective on the red giant branch? What is the link with the Hayashi line? "
   ]
  },
  {
   "cell_type": "markdown",
   "metadata": {},
   "source": [
    "# 2. Red Giant Stars"
   ]
  },
  {
   "cell_type": "markdown",
   "metadata": {},
   "source": [
    "(a) Calculate the total energy of the Sun assuming that the density is constant, i.e. using the equation for potential energy:  \n",
    "\n",
    "$$ E_{gr} = - \\frac{3}{5} \\frac{GM^2}{R} $$\n",
    "\n",
    "In later phases, stars like the Sun become red giants, with R = 100Rsun. What would be the total energy, if the giant had constant density. Assume that the mass did not change either. Is there something wrong? If so, why is it?"
   ]
  },
  {
   "cell_type": "markdown",
   "metadata": {},
   "source": [
    "**Answer**:"
   ]
  },
  {
   "cell_type": "markdown",
   "metadata": {},
   "source": [
    "(b) What really happens is that red giants have a dense, degenerate, pure helium cores which grow to 0.45Msun at the end of the red giant branch (RGB). What is the maximum radius the core can have for the total energy to be smaller than the energy of the Sun? (N.B. Ignore the\n",
    "envelope – why are you allowed to do this?)"
   ]
  },
  {
   "cell_type": "markdown",
   "metadata": {},
   "source": [
    "**Answer**:"
   ]
  },
  {
   "cell_type": "markdown",
   "metadata": {},
   "source": [
    "(c) For completely degenerate stars, one has: \n",
    "\n",
    "$$ R = 2.6 * 10^9 \\mu_e^{-5/3} \\Big( \\frac{M}{M_\\odot} \\Big)^{-\\frac{1}{3}} $$\n",
    "\n",
    "where $\\mu_e$ is the molecular weight per electron and $\\mu_e$ =2 for pure helium. Is the radius one finds from this equation consistent with upper limit derived in (b)?"
   ]
  },
  {
   "cell_type": "markdown",
   "metadata": {},
   "source": [
    "# 3. Core mass-luminosity relation for RGB stars."
   ]
  },
  {
   "cell_type": "markdown",
   "metadata": {},
   "source": [
    "Low mass stars on the RGB obey the following core mass-luminosity relation: \n",
    "\n",
    "$$ L \\approx 2.4 \\cdot 10^5 \\Big( \\frac{M_c}{M_\\odot} \\Big)^6 $$"
   ]
  },
  {
   "cell_type": "markdown",
   "metadata": {},
   "source": [
    "(a) Derive relation between luminosity L and the rate at which the core grows $ \\frac{dM_c}{dt}$ . Use the energy released per gram in hydrogen shell burning. "
   ]
  },
  {
   "cell_type": "markdown",
   "metadata": {},
   "source": [
    "**Answer**:"
   ]
  },
  {
   "cell_type": "markdown",
   "metadata": {},
   "source": [
    "(b) Derive how the core mass evolves in time. "
   ]
  },
  {
   "cell_type": "markdown",
   "metadata": {},
   "source": [
    "**Answer**:"
   ]
  },
  {
   "cell_type": "markdown",
   "metadata": {},
   "source": [
    "(c) Assume that a star arrives to the RGB when its core mass is 15ti of the total mass, and that it leaves the RGB when the core mass is 0.45 Msun. Calculate the total time a 1 Mstar spends on the RGB and do the same for a 2 Msun star. Compare these to the main sequence (MS) lifetimes of these stars."
   ]
  },
  {
   "cell_type": "markdown",
   "metadata": {},
   "source": [
    "**Answer**:"
   ]
  }
 ],
 "metadata": {
  "kernelspec": {
   "display_name": "Python 3",
   "language": "python",
   "name": "python3"
  },
  "language_info": {
   "codemirror_mode": {
    "name": "ipython",
    "version": 3
   },
   "file_extension": ".py",
   "mimetype": "text/x-python",
   "name": "python",
   "nbconvert_exporter": "python",
   "pygments_lexer": "ipython3",
   "version": "3.6.5"
  }
 },
 "nbformat": 4,
 "nbformat_minor": 2
}
