{
 "cells": [
  {
   "cell_type": "markdown",
   "metadata": {},
   "source": [
    "# Stellar Structure and Evolution 2020"
   ]
  },
  {
   "cell_type": "markdown",
   "metadata": {},
   "source": [
    "## Practical Exercises"
   ]
  },
  {
   "cell_type": "markdown",
   "metadata": {},
   "source": [
    "### Class 1"
   ]
  },
  {
   "cell_type": "markdown",
   "metadata": {},
   "source": [
    "1. Stellar Mass-luminosity and mass-radius relation"
   ]
  },
  {
   "cell_type": "markdown",
   "metadata": {},
   "source": [
    "(a) The masses of stars are approximately in the range $ 0.08 < M < 120 M_{\\text{Sun}} $. Why is there an\n",
    "upper limit? Why is there a lower limit?"
   ]
  },
  {
   "cell_type": "markdown",
   "metadata": {},
   "source": [
    "**Answer**:"
   ]
  },
  {
   "cell_type": "markdown",
   "metadata": {},
   "source": [
    "(b) Can you think of methods to measure the mass, the radius, and the luminosity of a star? Can your methods be applied for any star or do they require special condintons. Discuss your methods with your fellow students."
   ]
  },
  {
   "cell_type": "markdown",
   "metadata": {},
   "source": [
    "**Answer**:"
   ]
  },
  {
   "cell_type": "markdown",
   "metadata": {},
   "source": [
    "(c) Figure 1 shows the luminosity versus the mass (left) and the radius versus the mass (right) for observed main sequence stars. We can approximate a mass-luminosity and mass-radius relation by fitting functons of the form:\n",
    "\n",
    "$$ \\frac{L}{L_\\text{Sun}} = \\bigg( \\frac{M}{M_\\text{Sun}}\\bigg)^x \\text{ , } \\frac{R}{L_\\text{Sun}} = \\bigg( \\frac{M}{M_\\text{Sun}}\\bigg)^y $$\n",
    "\n",
    "Estimate $x$ and $y$ from the figure."
   ]
  },
  {
   "cell_type": "markdown",
   "metadata": {},
   "source": [
    "![](figs/fig1.png)"
   ]
  },
  {
   "cell_type": "markdown",
   "metadata": {},
   "source": [
    "**Answer**:"
   ]
  },
  {
   "cell_type": "markdown",
   "metadata": {},
   "source": [
    "2. Density profile"
   ]
  },
  {
   "cell_type": "markdown",
   "metadata": {},
   "source": [
    "In a star with mass $M$, assume that the density decreases from the center to the surface as a functon of radial distance $r$, according to the following equation:\n",
    "\n",
    "$$ \\rho = \\rho_c \\bigg[ 1 - \\Big( \\frac{r}{R} \\Big)^2 \\bigg] $$\n",
    "\n",
    "where $c$ is a given constant and $R$ is the radius of the star."
   ]
  },
  {
   "cell_type": "markdown",
   "metadata": {},
   "source": [
    "(a) Find $m(r)$"
   ]
  },
  {
   "cell_type": "markdown",
   "metadata": {},
   "source": [
    "**Answer**:"
   ]
  },
  {
   "cell_type": "markdown",
   "metadata": {},
   "source": [
    "(b) Derive the relation between $M$ and $R$"
   ]
  },
  {
   "cell_type": "markdown",
   "metadata": {},
   "source": [
    "**Answer**:"
   ]
  },
  {
   "cell_type": "markdown",
   "metadata": {},
   "source": [
    "(c) Show that the average density of the star is $ 0.4 \\rho_c $"
   ]
  },
  {
   "cell_type": "markdown",
   "metadata": {},
   "source": [
    "**Answer**:"
   ]
  },
  {
   "cell_type": "markdown",
   "metadata": {},
   "source": [
    "3. Hydrostatic equilibrium"
   ]
  },
  {
   "cell_type": "markdown",
   "metadata": {},
   "source": [
    "(a) Consider an infinitesimal mass element $dm$ inside a star. What forces act on this mass element?"
   ]
  },
  {
   "cell_type": "markdown",
   "metadata": {},
   "source": [
    "**Answer**:"
   ]
  },
  {
   "cell_type": "markdown",
   "metadata": {},
   "source": [
    "(b) Newton’s second law of mechanics, or the equation of motion, states that the net force acting on a body is equal to its acceleration times its mass. Write down the equation of motion for the gas element."
   ]
  },
  {
   "cell_type": "markdown",
   "metadata": {},
   "source": [
    "**Answer**:"
   ]
  },
  {
   "cell_type": "markdown",
   "metadata": {},
   "source": [
    "(c) In hydrostatic equilibrium the net force is zero and the gas element is not accelerated. Find an expression of the pressure gradient in hydrostatic equilibrium."
   ]
  },
  {
   "cell_type": "markdown",
   "metadata": {},
   "source": [
    "**Answer**:"
   ]
  },
  {
   "cell_type": "markdown",
   "metadata": {},
   "source": [
    "(d) Find an expression for the central pressure $P_c$ by integrating the pressure gradient. Use this to\n",
    "derive the lower limit on the central pressure of a star in hydrostatic equilibrium."
   ]
  },
  {
   "cell_type": "markdown",
   "metadata": {},
   "source": [
    "**Answer**:"
   ]
  },
  {
   "cell_type": "markdown",
   "metadata": {},
   "source": [
    "(e) Verify the validity of this lower limit for the case of a star with the density profile of eq. (2)"
   ]
  },
  {
   "cell_type": "markdown",
   "metadata": {},
   "source": [
    "**Answer**:"
   ]
  },
  {
   "cell_type": "markdown",
   "metadata": {},
   "source": [
    "(d) Compute P(r) inside a sphere of radius $R$ with constant density $\\rho$. "
   ]
  },
  {
   "cell_type": "markdown",
   "metadata": {},
   "source": [
    "**Answer**:"
   ]
  },
  {
   "cell_type": "markdown",
   "metadata": {},
   "source": []
  },
  {
   "cell_type": "markdown",
   "metadata": {},
   "source": [
    "4. Energy"
   ]
  },
  {
   "cell_type": "markdown",
   "metadata": {},
   "source": [
    "(a) Calculate (approximately) for the Sun the gravitational potential energy and the kinetic energy of the bulk flows in the surface convective zone (5ti of the total mass of the Sun, moving at 1.5\n",
    "km/sec)"
   ]
  },
  {
   "cell_type": "markdown",
   "metadata": {},
   "source": [
    "**Answer**:"
   ]
  },
  {
   "cell_type": "markdown",
   "metadata": {},
   "source": [
    "5. The virial theorem"
   ]
  },
  {
   "cell_type": "markdown",
   "metadata": {},
   "source": [
    "An important consequence of hydrostatic equilibrium is that it links the gravitational potential energy $E_{gr}$ and the internal thermal energy $E_{int}$."
   ]
  },
  {
   "cell_type": "markdown",
   "metadata": {},
   "source": [
    "(a) Estimate the gravitational energy $E_{gr}$ for a star with mass $M$ and radius $R$, assuming I) a constant density distribution and II) the density distribution of eq. (2). "
   ]
  },
  {
   "cell_type": "markdown",
   "metadata": {},
   "source": [
    "**Answer**:"
   ]
  },
  {
   "cell_type": "markdown",
   "metadata": {},
   "source": [
    "(b) Assume that a star is made of an ideal gas. What is the kinetic internal energy per particle for an ideal gas? Show that the total internal energy, $E_{int}$ is given by:\n",
    "\n",
    "$$ E_{int} = \\int_0^R \\bigg( \\frac{3}{2} \\frac{k}{\\mu m_u} \\rho(r) T(r) \\bigg) 4 \\pi r^2 dr $$"
   ]
  },
  {
   "cell_type": "markdown",
   "metadata": {},
   "source": [
    "**Answer**:"
   ]
  },
  {
   "cell_type": "markdown",
   "metadata": {},
   "source": [
    "(c) Estimate the internal energy of the Sun by assuming constant density and $ T(r) \\sim <T> \\sim 1/2 T_c \\sim \\text{ 5e6 K} $ and compare your answer to your answer for a). What is the total energy of the Sun? Is the Sun bound according to your estimates? "
   ]
  },
  {
   "cell_type": "markdown",
   "metadata": {},
   "source": [
    "**Answer**:"
   ]
  },
  {
   "cell_type": "markdown",
   "metadata": {},
   "source": [
    "(d) It is no coincidence that the order of magnitude for $E_{gr}$ and E_{int} are the same (In reality $E_{gr}$ is larger than estimated above because the mass distribution is more concentrated to the centre).\n",
    "This follows from hydrostatic equilibrium and the relation is known as the virial theorem. In the\n",
    "next steps we will derive the virial theorem starting from the pressure gradient in the form of:\n",
    "\n",
    "$$ \\frac{dP}{dr} = - \\frac{Gm}{r^2} \\rho $$\n",
    "\n",
    "Multiply by both sides of eq. (4) by $ 4 \\pi r^3 $ and integrate over the whole star. Use integration by parts to show that\n",
    "\n",
    "$$ \\int_0^R 3 P 4 \\pi r^2 dr = \\int_0^R \\frac{Gm(r)}{r} \\rho 4 \\pi r^2 dr $$\n",
    "\n",
    "Now derive a relation between $E_\\text{gr}$and $E_\\text{int}$, the virial theorem for an ideal gas. "
   ]
  },
  {
   "cell_type": "markdown",
   "metadata": {},
   "source": [
    "**Answer**:"
   ]
  },
  {
   "cell_type": "markdown",
   "metadata": {},
   "source": [
    "Also show that for the average pressure of the star\n",
    "\n",
    "$$ \\langle P \\rangle = \\frac{1}{V} \\int_0^{R_\\text{Sun}} P 4 \\pi r^2 dr  = \\frac{1}{3} \\frac{Egr}{V} $$"
   ]
  },
  {
   "cell_type": "markdown",
   "metadata": {},
   "source": [
    "**Answer**:"
   ]
  },
  {
   "cell_type": "markdown",
   "metadata": {},
   "source": [
    "(f) As the Sun evolved towards the main sequence, it contracted under gravity while remaining close to hydrostatic equilibrium. Its internal temperature changed from about 30000 K to about 6e6 K. Find the total energy radiated during away this contraction. Assume that the luminosity\n",
    "during this contraction is comparable to $L_\\text{sun}$. "
   ]
  },
  {
   "cell_type": "markdown",
   "metadata": {},
   "source": [
    "**Answer**:"
   ]
  },
  {
   "cell_type": "markdown",
   "metadata": {},
   "source": [
    "(g) The virial theorem for an ideal gas can be wrihen as:\n",
    "\n",
    "$$ E_\\text{int} = - \\frac{1}{2} E_\\text{gr} $$\n",
    "\n",
    "Estimate the average temperature inside the Sun, assuming it is composed by an ideal gas\n",
    "(consider $\\mu = 0.5$, appropriate for ionised hydrogen). "
   ]
  },
  {
   "cell_type": "markdown",
   "metadata": {},
   "source": [
    "**Answer**:"
   ]
  },
  {
   "cell_type": "markdown",
   "metadata": {},
   "source": [
    "6. Conceptual questions"
   ]
  },
  {
   "cell_type": "markdown",
   "metadata": {},
   "source": [
    "(a) Use the virial theorem to explain why stars are hot, i.e. have a high internal temperature and therefore radiate energy. "
   ]
  },
  {
   "cell_type": "markdown",
   "metadata": {},
   "source": [
    "**Answer**:"
   ]
  },
  {
   "cell_type": "markdown",
   "metadata": {},
   "source": [
    "(b) What are the consequences of energy loss for the star, especially for its temperature? "
   ]
  },
  {
   "cell_type": "markdown",
   "metadata": {},
   "source": [
    "**Answer**:"
   ]
  },
  {
   "cell_type": "markdown",
   "metadata": {},
   "source": [
    "(c) Most stars are in thermal equilibrium. What is compensating for the energy loss? "
   ]
  },
  {
   "cell_type": "markdown",
   "metadata": {},
   "source": [
    "**Answer**:"
   ]
  },
  {
   "cell_type": "markdown",
   "metadata": {},
   "source": [
    "(d) What happens to a star in thermal equilibrium (and in hydrostatic equilibrium) if the energy production by nuclear reactions in a star drops (slowly enough to maintain hydrostatic equilibrium)?"
   ]
  },
  {
   "cell_type": "markdown",
   "metadata": {},
   "source": [
    "**Answer**:"
   ]
  },
  {
   "cell_type": "markdown",
   "metadata": {},
   "source": [
    "(e) Why does this have a stabilising effect? On what time scale does the change take place? "
   ]
  },
  {
   "cell_type": "markdown",
   "metadata": {},
   "source": [
    "**Answer**:"
   ]
  },
  {
   "cell_type": "markdown",
   "metadata": {},
   "source": [
    "(f) What happens if hydrostatic equilibrium is violated, e.g. by a sudden increase of the pressure. "
   ]
  },
  {
   "cell_type": "markdown",
   "metadata": {},
   "source": [
    "**Answer**:"
   ]
  },
  {
   "cell_type": "markdown",
   "metadata": {},
   "source": [
    "(g) On which timescale does the change take place? Can you give examples of processes in stars that take place on this timescale. "
   ]
  },
  {
   "cell_type": "markdown",
   "metadata": {},
   "source": [
    "**Answer**:"
   ]
  },
  {
   "cell_type": "markdown",
   "metadata": {},
   "source": [
    "(h) Using the virial theorem, explain qualitatively why stars radiate energy into surrounding space. "
   ]
  },
  {
   "cell_type": "markdown",
   "metadata": {},
   "source": [
    "**Answer**:"
   ]
  },
  {
   "cell_type": "markdown",
   "metadata": {},
   "source": [
    "7. Important timescales in stellar evolution: the thermal timescale KH. "
   ]
  },
  {
   "cell_type": "markdown",
   "metadata": {},
   "source": [
    "(a) Derive an expression for the thermal timescale in solar units, i.e. expressed in terms of R/$R_\\text{sun}$, M/$M_\\text{sun}$ and L/$L_\\text{sun}$. "
   ]
  },
  {
   "cell_type": "markdown",
   "metadata": {},
   "source": [
    "**Answer**:"
   ]
  },
  {
   "cell_type": "markdown",
   "metadata": {},
   "source": [
    "(b) Use the mass-radius and mass-luminosity relations for main-sequence stars to express the timescale of main-sequence stars as a function of the mass of the star only. "
   ]
  },
  {
   "cell_type": "markdown",
   "metadata": {},
   "source": [
    "**Answer**:"
   ]
  },
  {
   "cell_type": "markdown",
   "metadata": {},
   "source": [
    "(c) Describe in your own words the meaning of this timescale. "
   ]
  },
  {
   "cell_type": "markdown",
   "metadata": {},
   "source": [
    "**Answer**:"
   ]
  },
  {
   "cell_type": "markdown",
   "metadata": {},
   "source": [
    "(d) Using this timescale estimate the age of the Sun. "
   ]
  },
  {
   "cell_type": "markdown",
   "metadata": {},
   "source": [
    "**Answer**:"
   ]
  },
  {
   "cell_type": "markdown",
   "metadata": {},
   "source": [
    "(e) Why are most stars observed to be main-sequence stars? "
   ]
  },
  {
   "cell_type": "markdown",
   "metadata": {},
   "source": [
    "**Answer**:"
   ]
  },
  {
   "cell_type": "markdown",
   "metadata": {},
   "source": [
    "(f) Compute the thermal timescales for a 1, 10 and 25$M_\\text{sun}$ main-sequence star. "
   ]
  },
  {
   "cell_type": "markdown",
   "metadata": {},
   "source": [
    "**Answer**:"
   ]
  },
  {
   "cell_type": "markdown",
   "metadata": {},
   "source": [
    "8. Important timescales in stellar evolution: the dynamical timescale dyn. "
   ]
  },
  {
   "cell_type": "markdown",
   "metadata": {},
   "source": [
    "(a) Answer previous questions a,b,c for the dynamical timescale. "
   ]
  },
  {
   "cell_type": "markdown",
   "metadata": {},
   "source": [
    "**Answer**:"
   ]
  },
  {
   "cell_type": "markdown",
   "metadata": {},
   "source": [
    "(b) In stellar evolution models one oPen assumes that stars evolve quasi-statically , i.e. that the star remains in hydrostatic equilibrium throughout. Why can we make this assumption? "
   ]
  },
  {
   "cell_type": "markdown",
   "metadata": {},
   "source": [
    "**Answer**:"
   ]
  },
  {
   "cell_type": "markdown",
   "metadata": {},
   "source": [
    "(e) Compute the dynamical timescales for a 1, 10 and 25$M_\\text{sun}$ main-sequence star. "
   ]
  },
  {
   "cell_type": "markdown",
   "metadata": {},
   "source": [
    "**Answer**:"
   ]
  }
 ],
 "metadata": {
  "kernelspec": {
   "display_name": "Python 3",
   "language": "python",
   "name": "python3"
  },
  "language_info": {
   "codemirror_mode": {
    "name": "ipython",
    "version": 3
   },
   "file_extension": ".py",
   "mimetype": "text/x-python",
   "name": "python",
   "nbconvert_exporter": "python",
   "pygments_lexer": "ipython3",
   "version": "3.6.5"
  }
 },
 "nbformat": 4,
 "nbformat_minor": 2
}
