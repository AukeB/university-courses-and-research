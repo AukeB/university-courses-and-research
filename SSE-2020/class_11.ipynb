{
 "cells": [
  {
   "cell_type": "markdown",
   "metadata": {},
   "source": [
    "# Stellar Structure and Evolution 2020"
   ]
  },
  {
   "cell_type": "markdown",
   "metadata": {},
   "source": [
    "## Practical exercises - class 11"
   ]
  },
  {
   "cell_type": "code",
   "execution_count": 37,
   "metadata": {},
   "outputs": [],
   "source": [
    "%run tools.ipynb # Import frequently used constants/functions."
   ]
  },
  {
   "cell_type": "markdown",
   "metadata": {},
   "source": [
    "# 1. Core mass-luminosity relation for AGB stars"
   ]
  },
  {
   "cell_type": "markdown",
   "metadata": {},
   "source": [
    "The luminosity of an AGB star is related to its core mass via the following relation:\n",
    "\n",
    "$$ L = 5.9 \\cdot 10^4 L_\\odot \\Big( \\frac{M_C}{M_\\text{Sun}} - 0.52 \\Big) $$\n",
    "\n",
    "The nuclear burning in the H- and He-burning shells add matter to the core at a rate of\n",
    "\n",
    "$$ \\frac{\\dot{M_C}}{M_\\odot} = 1 * 10^{-11} \\frac{L_*}{L_\\odot} $$\n",
    "\n",
    "Assume that a star enters the AGB with a luminosity of $1 \\cdot 10^3 L_\\odot$ and a total mass of $2 M_\\odot$. "
   ]
  },
  {
   "cell_type": "markdown",
   "metadata": {},
   "source": [
    "(a) Derive an expression for the luminosity as a function of time after the star entered the AGB phase. "
   ]
  },
  {
   "cell_type": "markdown",
   "metadata": {},
   "source": [
    "**Answer**:"
   ]
  },
  {
   "cell_type": "code",
   "execution_count": 38,
   "metadata": {},
   "outputs": [],
   "source": [
    "def add_matter_core(L):\n",
    "    return M_sun * 1 * 10**-11 * (L/L_sun)"
   ]
  },
  {
   "cell_type": "code",
   "execution_count": 39,
   "metadata": {},
   "outputs": [],
   "source": [
    "L_ini = 1 * 10**3 * L_sun\n",
    "M_ini = 2 * M_sun"
   ]
  },
  {
   "cell_type": "code",
   "execution_count": 40,
   "metadata": {},
   "outputs": [],
   "source": [
    "M_c_rate = add_matter_core(L_ini)"
   ]
  },
  {
   "cell_type": "code",
   "execution_count": 41,
   "metadata": {},
   "outputs": [
    {
     "name": "stdout",
     "output_type": "stream",
     "text": [
      "M_c_rate: 1.9889999999999995e+22\n"
     ]
    }
   ],
   "source": [
    "print(f'M_c_rate: {M_c_rate}')"
   ]
  },
  {
   "cell_type": "markdown",
   "metadata": {},
   "source": [
    "<img src=\"figs/11_1a.jpeg\" alt=\"hoi\" style=\"width: 600px;\"/>"
   ]
  },
  {
   "cell_type": "markdown",
   "metadata": {},
   "source": [
    "(b) Assume that Teff remains constant at 3000 K and derive an expression for the radius as a function of time. "
   ]
  },
  {
   "cell_type": "markdown",
   "metadata": {},
   "source": [
    "**Answer**:"
   ]
  },
  {
   "cell_type": "markdown",
   "metadata": {},
   "source": [
    "(c) Derive an expression for the core-mass as a function of time. "
   ]
  },
  {
   "cell_type": "markdown",
   "metadata": {},
   "source": [
    "**Answer**:"
   ]
  },
  {
   "cell_type": "markdown",
   "metadata": {},
   "source": [
    "# 2. White Dwarfs"
   ]
  },
  {
   "cell_type": "markdown",
   "metadata": {},
   "source": [
    "(a) Which is the maximum mass a white dwarf can have? Why? "
   ]
  },
  {
   "cell_type": "markdown",
   "metadata": {},
   "source": [
    "**Answer**: The maximum mass for a white dwarf is known as the Chandrasekhar mass $ M_\\text{Ch} \\approx 1.46 M_\\odot $. Mass higher than $ M_\\text{Ch} $ cannot be supported by degenerate electron gas."
   ]
  },
  {
   "cell_type": "markdown",
   "metadata": {},
   "source": [
    "(b) ) Draw schematically the structure of a white dwarf indicating the equations of state valid in\n",
    "each region. "
   ]
  },
  {
   "cell_type": "markdown",
   "metadata": {},
   "source": [
    "**Answer**:"
   ]
  },
  {
   "cell_type": "markdown",
   "metadata": {},
   "source": [
    "<img src=\"figs/11_2b.jpeg\" alt=\"hoi\" style=\"width: 600px;\"/>"
   ]
  },
  {
   "cell_type": "markdown",
   "metadata": {},
   "source": [
    "(c) Which is the relation between mass and radius for the core of a white dwarf? "
   ]
  },
  {
   "cell_type": "markdown",
   "metadata": {},
   "source": [
    "**Answer**:\n",
    "\n",
    "$$ R \\propto M^{-\\frac{1}{3}} $$"
   ]
  },
  {
   "cell_type": "markdown",
   "metadata": {},
   "source": [
    "(d) ) Because the interior of a white dwarf is isothermal, the total thermal energy is\n",
    "\n",
    "$$ E_{in} = c_V M T_C $$\n",
    "\n",
    "with $c_V $ a constant. Using this expression and the fact that the luminosity and the $T_c$ are related by \n",
    "\n",
    "$$ T_C^{7/2} = \\alpha L / M $$\n",
    "\n",
    "$$ T_C \\approx 7.7 \\cdot 10^7 \\text{ K } \\Big( \\frac{L/L_\\odot}{M/M_\\odot} \\Big)^\\frac{2}{7} $$\n",
    "\n",
    "with $\\alpha$ constant, find the relation between the cooling time of a white dwarf and its core temperature."
   ]
  },
  {
   "cell_type": "markdown",
   "metadata": {},
   "source": [
    "**Answer**:"
   ]
  },
  {
   "cell_type": "markdown",
   "metadata": {},
   "source": [
    "<img src=\"figs/11_2d.jpeg\" alt=\"hoi\" style=\"width: 600px;\"/>"
   ]
  }
 ],
 "metadata": {
  "kernelspec": {
   "display_name": "Python 3",
   "language": "python",
   "name": "python3"
  },
  "language_info": {
   "codemirror_mode": {
    "name": "ipython",
    "version": 3
   },
   "file_extension": ".py",
   "mimetype": "text/x-python",
   "name": "python",
   "nbconvert_exporter": "python",
   "pygments_lexer": "ipython3",
   "version": "3.6.5"
  }
 },
 "nbformat": 4,
 "nbformat_minor": 2
}
