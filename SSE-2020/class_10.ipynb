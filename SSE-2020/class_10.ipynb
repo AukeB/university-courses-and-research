{
 "cells": [
  {
   "cell_type": "markdown",
   "metadata": {},
   "source": [
    "# Stellar Structure and Evolution 2020"
   ]
  },
  {
   "cell_type": "markdown",
   "metadata": {},
   "source": [
    "## Practical exercises - class 10"
   ]
  },
  {
   "cell_type": "code",
   "execution_count": 2,
   "metadata": {},
   "outputs": [],
   "source": [
    "%run tools.ipynb # Import frequently used constants/functions."
   ]
  },
  {
   "cell_type": "markdown",
   "metadata": {},
   "source": [
    "# 1. Conceptual questions"
   ]
  },
  {
   "cell_type": "markdown",
   "metadata": {},
   "source": [
    "(a) Why does the luminosity of a star increase on the main sequence? Why do low-mass stars, like the Sun, expand less during the main sequence than higher-mass stars?"
   ]
  },
  {
   "cell_type": "markdown",
   "metadata": {},
   "source": [
    "**Answer**: During the MS, H is converted into He. So over the course of time, there are more ashes in the core than fuel. Less fuel per unit mass in the core means a gradual lowering of the nuclear fusion rate. Since it is the ouflow of the energy from nuclear reactions in the core that provides the counterforce to the gravitational contraction, the core will compress more to a higher pressure and temperature. This results in more nuclear reactions and therefore the luminosity of a star during MS will increase.\n",
    "\n",
    "The mirror principle states that expansion of the envelope occurs when the core contracts, and vice versa. Low-mass stars have a lower core temperature compared to a high mass stars. This means the nuclear reaction rate is lower, and therefore the MS phase is also lower. Lower mass stars $M < 0.4 M_\\odot$  have are fully convective, while higher mass stars $M > 1.3 M_\\odot$ only have a convective core. This means fuel in lower mass stars is able to be replenished from all region of star and therefore the nuclear reaction rate will gradually decrease in a much slower rate than for high mass stars."
   ]
  },
  {
   "cell_type": "markdown",
   "metadata": {},
   "source": [
    "(b) Explain the existence of a Hertzsprung-gap in the HRD for high-mass stars. Why is there no Hertzsprung gap for low-mass stars? "
   ]
  },
  {
   "cell_type": "markdown",
   "metadata": {},
   "source": [
    "**Answer**: A Gap in the HR-diagram means that the time a stars spends in that region is relatively much shorter than it spends in other place. In the case of Hertzsprung gap, it does not mean it does not spend time there, it goes through it in rough $10^5$ years, which is relatively short. After the MS, intermediate mass stars start their H-shell burning phase. Initially, this is quit slow. The He core gradually increases its math until it surpasses the SC limit, and the contraction of the core speeds up. This is an accelerating process. Eventually the H-shell supply is all burned\n",
    "\n",
    "This does not happen for low mass stars because the SC-limit is not exceeded because the core is hel up by electron degeneracy pressure. So the SC limit has become irrelevant for low mass stars."
   ]
  },
  {
   "cell_type": "markdown",
   "metadata": {},
   "source": [
    "(c) What do we mean by the mirror principle? "
   ]
  },
  {
   "cell_type": "markdown",
   "metadata": {},
   "source": [
    "**Answer**: Whenever a star has an *active shell-burning source*, the burning shell acts as a *mirror* between the core and the envelope:\n",
    "\n",
    "- Core contract $\\rightarrow$ envelope expansion\n",
    "- Core expansion $\\rightarrow$ envelope contraction"
   ]
  },
  {
   "cell_type": "markdown",
   "metadata": {},
   "source": [
    "(d) Why does the envelope become convective on the red giant branch? What is the link with the Hayashi line?\n",
    "\n",
    "**Answer**: The envelope becomes convective because not all the energy can be trasnported by radiation. This is the case bacause the temperature in the envelope has decreased and therefore the envelope has a large opacity $\\kappa$. The envelope has a smaller temperature because it has expanded, because the core has contracted, because of the increase of the core temperature.\n",
    "\n",
    "The Hayashi line is a region in HR diagram for full convective stars, and since the envelope has become convective, the red giant phase is near the Hayashi line in the HR diagram."
   ]
  },
  {
   "cell_type": "markdown",
   "metadata": {},
   "source": [
    "# 2. Red Giant Stars"
   ]
  },
  {
   "cell_type": "markdown",
   "metadata": {},
   "source": [
    "(a) Calculate the total energy of the Sun assuming that the density is constant, i.e. using the equation for potential energy:  \n",
    "\n",
    "$$ E_{gr} = - \\frac{3}{5} \\frac{GM^2}{R} $$\n",
    "\n",
    "In later phases, stars like the Sun become red giants, with R = 100Rsun. What would be the total energy, if the giant had constant density. Assume that the mass did not change either. Is there something wrong? If so, why is it?"
   ]
  },
  {
   "cell_type": "markdown",
   "metadata": {},
   "source": [
    "**Answer**:"
   ]
  },
  {
   "cell_type": "code",
   "execution_count": 13,
   "metadata": {},
   "outputs": [],
   "source": [
    "def total_energy(M, R):\n",
    "    return -1 * (3/5) * (G*M**2/R)"
   ]
  },
  {
   "cell_type": "code",
   "execution_count": 14,
   "metadata": {},
   "outputs": [],
   "source": [
    "E_gr_ms = total_energy(M_sun, R_sun)\n",
    "E_gr_rg = total_energy(M_sun, 100*R_sun)\n",
    "E_tot_ms = 0.5 * E_gr_ms\n",
    "E_tot_rg = 0.5 * E_gr_rg"
   ]
  },
  {
   "cell_type": "code",
   "execution_count": 15,
   "metadata": {},
   "outputs": [
    {
     "name": "stdout",
     "output_type": "stream",
     "text": [
      "E_tot_ms: -1.1375248317063501e+41\n",
      "E_tot_rg: -1.1375248317063502e+39\n"
     ]
    }
   ],
   "source": [
    "print(f'E_tot_ms: {E_tot_ms}')\n",
    "print(f'E_tot_rg: {E_tot_rg}')"
   ]
  },
  {
   "cell_type": "markdown",
   "metadata": {},
   "source": [
    "From the above you can see that the total energy is a factor 100 times smaller for a red giant than for a MS star. This is a strange, because it should become larger, as the distance that the mass could fall is larger."
   ]
  },
  {
   "cell_type": "markdown",
   "metadata": {},
   "source": [
    "(b) What really happens is that red giants have a dense, degenerate, pure helium cores which grow to $0.45 M_{sun}$ at the end of the red giant branch (RGB). What is the maximum radius the core can have for the total energy to be smaller than the energy of the Sun? (N.B. Ignore the\n",
    "envelope – why are you allowed to do this?)"
   ]
  },
  {
   "cell_type": "markdown",
   "metadata": {},
   "source": [
    "**Answer**: You are allowed to ignore the envelope because it does not exert a significant amount of pressure onto the core.\n",
    "\n",
    "$$ \\frac{3}{5} \\frac{GM_C^2}{R_C} = \\frac{3}{5} \\frac{GM_\\odot^2}{R_\\odot} $$\n",
    "\n",
    "$$ R_C = R_\\odot \\frac{M_C^2}{M_\\odot^2} $$\n",
    "\n",
    "$$ R_C = R_\\odot \\Big( \\frac{0.45}{1} \\Big)^2 \\approx 0.2 R_\\odot $$"
   ]
  },
  {
   "cell_type": "markdown",
   "metadata": {},
   "source": [
    "(c) For completely degenerate stars, one has: \n",
    "\n",
    "$$ R = 2.6 * 10^9 \\mu_e^{-5/3} \\Big( \\frac{M}{M_\\odot} \\Big)^{-\\frac{1}{3}} \\quad \\text{cm} $$\n",
    "\n",
    "where $\\mu_e$ is the molecular weight per electron and $\\mu_e = 2$ for pure helium. Is the radius one finds from this equation consistent with upper limit derived in (b)?"
   ]
  },
  {
   "cell_type": "code",
   "execution_count": 26,
   "metadata": {},
   "outputs": [],
   "source": [
    "def radius_degenerate_stars(M,mu_e):\n",
    "    return 2.6 * 10**9 * mu_e**(-5/3) * (M/M_sun)**(-1/3)"
   ]
  },
  {
   "cell_type": "code",
   "execution_count": 38,
   "metadata": {},
   "outputs": [],
   "source": [
    "radius = radius_degenerate_stars(0.45*M_sun,mu_e=2)"
   ]
  },
  {
   "cell_type": "code",
   "execution_count": 43,
   "metadata": {},
   "outputs": [
    {
     "name": "stdout",
     "output_type": "stream",
     "text": [
      "radius: 0.015347271431722103 R_sun\n"
     ]
    }
   ],
   "source": [
    "print(f'radius: {radius/(R_sun*100)} R_sun')"
   ]
  },
  {
   "cell_type": "markdown",
   "metadata": {},
   "source": [
    "So yes, it is consistent with the upper limit."
   ]
  },
  {
   "cell_type": "markdown",
   "metadata": {},
   "source": [
    "# 3. Core mass-luminosity relation for RGB stars."
   ]
  },
  {
   "cell_type": "markdown",
   "metadata": {},
   "source": [
    "Low mass stars on the RGB obey the following core mass-luminosity relation: \n",
    "\n",
    "$$ L \\approx 2.3 \\cdot 10^5 \\Big( \\frac{M_c}{M_\\odot} \\Big)^6 $$"
   ]
  },
  {
   "cell_type": "markdown",
   "metadata": {},
   "source": [
    "(a) Derive relation between luminosity L and the rate at which the core grows $ \\frac{dM_c}{dt}$ . Use the energy released per gram in hydrogen shell burning. "
   ]
  },
  {
   "cell_type": "markdown",
   "metadata": {},
   "source": [
    "(b) Derive how the core mass evolves in time. "
   ]
  },
  {
   "cell_type": "markdown",
   "metadata": {},
   "source": [
    "(c) Assume that a star arrives to the RGB when its core mass is 15ti of the total mass, and that it leaves the RGB when the core mass is 0.45 Msun. Calculate the total time a 1 Mstar spends on the RGB and do the same for a 2 Msun star. Compare these to the main sequence (MS) lifetimes of these stars."
   ]
  },
  {
   "cell_type": "markdown",
   "metadata": {},
   "source": [
    "**Answer**:"
   ]
  },
  {
   "cell_type": "markdown",
   "metadata": {},
   "source": [
    "<img src=\"figs/10_3.jpeg\" alt=\"hoi\" style=\"width: 600px;\"/>"
   ]
  }
 ],
 "metadata": {
  "kernelspec": {
   "display_name": "Python 3",
   "language": "python",
   "name": "python3"
  },
  "language_info": {
   "codemirror_mode": {
    "name": "ipython",
    "version": 3
   },
   "file_extension": ".py",
   "mimetype": "text/x-python",
   "name": "python",
   "nbconvert_exporter": "python",
   "pygments_lexer": "ipython3",
   "version": "3.6.5"
  }
 },
 "nbformat": 4,
 "nbformat_minor": 2
}
