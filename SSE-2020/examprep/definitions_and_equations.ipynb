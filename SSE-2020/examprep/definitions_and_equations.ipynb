{
 "cells": [
  {
   "cell_type": "markdown",
   "metadata": {},
   "source": [
    "# Equations"
   ]
  },
  {
   "cell_type": "markdown",
   "metadata": {},
   "source": [
    "Relation effective temperature and luminosity"
   ]
  },
  {
   "cell_type": "markdown",
   "metadata": {},
   "source": [
    "$$ L = 4 \\pi R^2 \\sigma T_\\text{eff}^4 $$"
   ]
  },
  {
   "cell_type": "markdown",
   "metadata": {},
   "source": [
    "Empirical mass-luminosity and mass-radius relation (during MS phase)"
   ]
  },
  {
   "cell_type": "markdown",
   "metadata": {},
   "source": [
    "$$ L \\propto R^{3.8} \\quad \\quad R \\propto M^{0.7} $$"
   ]
  },
  {
   "cell_type": "markdown",
   "metadata": {},
   "source": [
    "Poission equation"
   ]
  },
  {
   "cell_type": "markdown",
   "metadata": {},
   "source": [
    "$$ \\nabla^2 \\Phi = 4 \\pi G \\rho $$"
   ]
  },
  {
   "cell_type": "markdown",
   "metadata": {},
   "source": [
    "Equations of stellar structure in Eulerian and Lagrangian coordinates"
   ]
  },
  {
   "cell_type": "markdown",
   "metadata": {},
   "source": [
    "$$ 1 \\quad \\quad \\frac{\\partial m}{\\partial r} = 4 \\pi r^2 \\rho \\quad \\quad \\frac{\\partial r}{\\partial m} = \\frac{1}{4 \\pi r^2 \\rho} \\quad \\quad \\text{Mass continuity equation} $$\n",
    "\n",
    "$$ 2 \\quad \\quad \\frac{\\partial P}{\\partial m} = - \\frac{Gm}{4 \\pi r^4} - \\frac{1}{4 \\pi r^2} \\frac{\\partial^2 r}{\\partial t^2} \\quad \\quad \\text{Hydrostatic equilibrium equation} $$\n",
    "\n",
    "$$ 3 \\quad \\quad \\frac{\\partial l}{\\partial m} = \\epsilon_\\text{nuc} - \\epsilon_\\nu - \\frac{\\partial u }{\\partial t} + \\frac{P}{\\rho^2} \\frac{\\partial \\rho}{\\partial t} $$\n",
    "\n",
    "$$ 4 \\quad \\quad \\frac{\\partial T}{\\partial m} = - \\frac{3}{64 \\pi^2 a c} \\frac{\\kappa l}{r^4 T^3} $$\n",
    "\n",
    "$$ \\frac{\\partial T}{\\partial m} = - \\frac{Gm}{4 \\pi r^4} \\frac{T}{P} \\nabla $$\n",
    "\n",
    "$$ \\nabla = \\nabla_\\text{rad} = \\frac{3 \\kappa}{16 \\pi a c G} \\frac{l P}{m T^4} $$\n",
    "\n",
    "$$ \\nabla = \\nabla_\\text{ad} + \\nabla_\\text{rad} > \\nabla_\\text{ad} \\quad \\quad \\text{superadiabaticity} $$\n",
    "\n",
    "$$ 5 \\quad \\quad \\frac{\\partial X_i}{\\partial t} = \\frac{A_i m_u}{\\rho} \\Big( - \\sum_{ij} ( 1 + \\delta_{ij} ) \\vec{r}_{ij} + \\sum_{kl} \\vec{r}_{kl} \\Big)  \\quad \\quad N \\text{ equations} $$"
   ]
  },
  {
   "cell_type": "markdown",
   "metadata": {},
   "source": [
    "Timescales"
   ]
  },
  {
   "cell_type": "markdown",
   "metadata": {},
   "source": [
    "$$ \\tau_\\text{dyn} = \\sqrt{\\frac{R^3}{GM}} \\approx \\frac{1}{2} (G \\rho)^{-1/2} \\approx 0.02 \\Big( \\frac{R}{R_\\odot} \\Big)^{3/2} \\Big( \\frac{M_\\odot}{M} \\Big)^{1/2} \\text{ days} $$\n",
    "\n",
    "$$ \\tau_\\text{KH} = \\frac{E_\\text{int}}{L} \\approx \\frac{|E_\\text{gr}|}{2L} \\approx \\frac{GM^2}{2RL} \\approx 1.5 \\cdot 10^7 \\Big( \\frac{M}{M_\\odot} \\Big)^2 \\frac{R}{R_\\odot} \\frac{L}{L_\\odot} \\text{ yr} $$\n",
    "\n",
    "$$ \\tau_\\text{nu} = \\frac{E_\\text{nuc}}{L} = \\phi f_\\text{nuc} \\frac{Mc^2}{L} \\approx 10^{10} \\frac{M}{M_\\odot} \\frac{L_\\odot}{L} \\text{ yr} $$"
   ]
  },
  {
   "cell_type": "markdown",
   "metadata": {},
   "source": [
    "General form of the virial thereom, the virial thereom for an ideal gas, and for other equations of state"
   ]
  },
  {
   "cell_type": "markdown",
   "metadata": {},
   "source": [
    "$$ -3 \\int_0^M \\frac{P}{\\rho} dm = E_\\text{gr} \\quad \\quad E_\\text{int} = -\\frac{1}{2} E_\\text{gr} \\quad \\quad E_\\text{int} = - \\frac{1}{3} \\phi E_\\text{gr} $$"
   ]
  },
  {
   "cell_type": "markdown",
   "metadata": {},
   "source": [
    "Mean free path and opacity"
   ]
  },
  {
   "cell_type": "markdown",
   "metadata": {},
   "source": [
    "$$ l_\\text{ph} = \\frac{1}{\\kappa \\rho} \\quad \\quad \\kappa = \\frac{1}{\\rho l_\\text{ph}} $$"
   ]
  },
  {
   "cell_type": "markdown",
   "metadata": {},
   "source": [
    "Equation of states (EoSs), equations of pressures, and supplementary equations"
   ]
  },
  {
   "cell_type": "markdown",
   "metadata": {},
   "source": [
    "$$ P = P(\\rho, T, X_i) \\quad \\quad \\text{General form EoS} $$\n",
    "\n",
    "$$ P = nkT \\quad \\quad P = \\frac{k}{\\mu m_u} \\rho T \\quad \\quad P_\\text{gas} = P_\\text{ion} + P_\\text{e} = \\Big( \\frac{1}{\\mu_\\text{ion}} + \\frac{1}{\\mu_\\text{e}} \\Big) \\mathcal{R} \\rho T = \\frac{\\mathcal{R}}{\\mu} \\rho T \\quad \\quad \\text{Ideal-gas EoS} $$\n",
    "\n",
    "$$ \\mu_e = \\frac{2}{1 + X} \\quad \\quad \\mu = \\frac{1}{2X + \\frac{3}{4}Y + \\frac{1}{2}Z} $$\n",
    "\n",
    "$$ P_e = K_{NR} \\Big( \\frac{\\rho}{\\mu_e} \\Big)^{5/3} \\quad \\quad \\text{NR-limit} $$\n",
    "\n",
    "$$ P_e = K_{ER} \\Big( \\frac{\\rho}{\\mu_e} \\Big)^{4/3} \\quad \\quad \\text{ER-limit} $$\n",
    "\n",
    "$$ P_\\text{rad} = \\frac{1}{3}aT^4 \\quad \\quad \\text{Radiation pressure} $$"
   ]
  },
  {
   "cell_type": "markdown",
   "metadata": {},
   "source": [
    "Relations between pressure and internal energy in a gas of free particles"
   ]
  },
  {
   "cell_type": "markdown",
   "metadata": {},
   "source": [
    "$$ P = \\frac{2}{3} U \\quad \\quad \\text{NR limit} $$\n",
    "\n",
    "$$ P = \\frac{1}{3} U \\quad \\quad \\text{ER limit} $$"
   ]
  },
  {
   "cell_type": "markdown",
   "metadata": {},
   "source": [
    "Adiabatic derivatives and gradients"
   ]
  },
  {
   "cell_type": "markdown",
   "metadata": {},
   "source": [
    "$$ \\gamma_\\text{ad} = \\Big( \\frac{\\partial \\log P}{\\partial \\log \\rho} \\Big)_\\text{ad} \\quad \\quad \\text{Adiabatic exponent} $$\n",
    "\n",
    "$$ \\nabla_\\text{ad} = \\Big( \\frac{\\partial \\log T}{\\partial \\log P} \\Big)_\\text{ad} \\quad \\quad \\text{Adiabatic temperature gradient} $$\n",
    "\n",
    "$$ \\nabla_\\text{rad} = \\Big( \\frac{d \\log T}{d \\log P} \\Big)_\\text{rad} = \\frac{3}{16 \\pi a c G} \\frac{\\kappa l P}{m T^4} \\quad \\quad \\text{Radiative temperature gradient} $$\n",
    "\n",
    "$$ \\nabla - \\nabla_\\text{ad} \\quad \\quad \\text{Superadiabaticity} $$"
   ]
  },
  {
   "cell_type": "markdown",
   "metadata": {},
   "source": [
    "Table of values for adiabatic derivatives for different gas states\n",
    "\n",
    "| Type of gas | $\\phi$  | Adiabatic exponent $\\gamma_\\text{ad}$  | Adiabatic temperature gradient $\\nabla_\\text{ad}$  |\n",
    "|---|---|---|---|\n",
    "| Classical ideal gas | $\\frac{3}{2}$ | $\\frac{5}{3}$ | $\\frac{2}{5}$ |\n",
    "| Extremely relativistic particles | 3 | $\\frac{4}{3}$ | $\\frac{1}{2}$ |\n",
    "| Mixture gas and radiation |  | $\\frac{4}{3} \\leq \\gamma_\\text{ad} \\leq \\frac{5}{3} $ | $\\frac{1}{4} \\leq \\nabla_\\text{ad} \\leq \\frac{2}{5} $ |\n",
    "| Radiation dominated |  |  | $\\frac{1}{4}$ |"
   ]
  },
  {
   "cell_type": "markdown",
   "metadata": {},
   "source": [
    "Polytropic relation"
   ]
  },
  {
   "cell_type": "markdown",
   "metadata": {},
   "source": [
    "$$ P = K \\rho^\\gamma $$"
   ]
  },
  {
   "cell_type": "markdown",
   "metadata": {},
   "source": [
    "Eddington luminosity"
   ]
  },
  {
   "cell_type": "markdown",
   "metadata": {},
   "source": [
    "$$ l < \\frac{4 \\pi c G m}{\\kappa} = l_\\text{Edd} $$"
   ]
  },
  {
   "cell_type": "markdown",
   "metadata": {},
   "source": [
    "Ledoux and Schwarzschild Criteria"
   ]
  },
  {
   "cell_type": "markdown",
   "metadata": {},
   "source": [
    "$$ \\nabla_\\text{rad} < \\nabla_{ad} - \\frac{\\chi_\\mu}{\\chi_T} \\nabla_\\mu \\quad \\quad \\text{Ledoux} $$\n",
    "\n",
    "$$ \\nabla_\\text{rad} < \\nabla_{ad} \\quad \\quad \\text{Schwarzschild} $$"
   ]
  },
  {
   "cell_type": "markdown",
   "metadata": {},
   "source": []
  },
  {
   "cell_type": "markdown",
   "metadata": {},
   "source": []
  },
  {
   "cell_type": "markdown",
   "metadata": {},
   "source": []
  },
  {
   "cell_type": "markdown",
   "metadata": {},
   "source": []
  },
  {
   "cell_type": "markdown",
   "metadata": {},
   "source": []
  },
  {
   "cell_type": "markdown",
   "metadata": {},
   "source": []
  },
  {
   "cell_type": "markdown",
   "metadata": {},
   "source": []
  },
  {
   "cell_type": "markdown",
   "metadata": {},
   "source": []
  },
  {
   "cell_type": "markdown",
   "metadata": {},
   "source": []
  },
  {
   "cell_type": "markdown",
   "metadata": {},
   "source": []
  },
  {
   "cell_type": "markdown",
   "metadata": {},
   "source": []
  },
  {
   "cell_type": "markdown",
   "metadata": {},
   "source": []
  },
  {
   "cell_type": "markdown",
   "metadata": {},
   "source": []
  },
  {
   "cell_type": "markdown",
   "metadata": {},
   "source": []
  },
  {
   "cell_type": "markdown",
   "metadata": {},
   "source": []
  },
  {
   "cell_type": "markdown",
   "metadata": {},
   "source": []
  },
  {
   "cell_type": "markdown",
   "metadata": {},
   "source": []
  },
  {
   "cell_type": "markdown",
   "metadata": {},
   "source": []
  },
  {
   "cell_type": "markdown",
   "metadata": {},
   "source": []
  },
  {
   "cell_type": "markdown",
   "metadata": {},
   "source": []
  },
  {
   "cell_type": "markdown",
   "metadata": {},
   "source": []
  },
  {
   "cell_type": "markdown",
   "metadata": {},
   "source": []
  },
  {
   "cell_type": "markdown",
   "metadata": {},
   "source": []
  },
  {
   "cell_type": "markdown",
   "metadata": {},
   "source": []
  },
  {
   "cell_type": "markdown",
   "metadata": {},
   "source": []
  },
  {
   "cell_type": "markdown",
   "metadata": {},
   "source": []
  },
  {
   "cell_type": "markdown",
   "metadata": {},
   "source": []
  },
  {
   "cell_type": "markdown",
   "metadata": {},
   "source": []
  },
  {
   "cell_type": "markdown",
   "metadata": {},
   "source": []
  },
  {
   "cell_type": "markdown",
   "metadata": {},
   "source": []
  },
  {
   "cell_type": "markdown",
   "metadata": {},
   "source": []
  },
  {
   "cell_type": "markdown",
   "metadata": {},
   "source": []
  },
  {
   "cell_type": "markdown",
   "metadata": {},
   "source": []
  },
  {
   "cell_type": "markdown",
   "metadata": {},
   "source": []
  },
  {
   "cell_type": "markdown",
   "metadata": {},
   "source": []
  },
  {
   "cell_type": "markdown",
   "metadata": {},
   "source": []
  },
  {
   "cell_type": "markdown",
   "metadata": {},
   "source": []
  },
  {
   "cell_type": "markdown",
   "metadata": {},
   "source": []
  },
  {
   "cell_type": "markdown",
   "metadata": {},
   "source": []
  },
  {
   "cell_type": "markdown",
   "metadata": {},
   "source": []
  },
  {
   "cell_type": "markdown",
   "metadata": {},
   "source": []
  },
  {
   "cell_type": "markdown",
   "metadata": {},
   "source": []
  },
  {
   "cell_type": "markdown",
   "metadata": {},
   "source": []
  },
  {
   "cell_type": "markdown",
   "metadata": {},
   "source": []
  },
  {
   "cell_type": "markdown",
   "metadata": {},
   "source": []
  },
  {
   "cell_type": "markdown",
   "metadata": {},
   "source": []
  },
  {
   "cell_type": "markdown",
   "metadata": {},
   "source": []
  },
  {
   "cell_type": "markdown",
   "metadata": {},
   "source": []
  },
  {
   "cell_type": "markdown",
   "metadata": {},
   "source": []
  },
  {
   "cell_type": "markdown",
   "metadata": {},
   "source": []
  },
  {
   "cell_type": "markdown",
   "metadata": {},
   "source": []
  },
  {
   "cell_type": "markdown",
   "metadata": {},
   "source": []
  },
  {
   "cell_type": "markdown",
   "metadata": {},
   "source": []
  },
  {
   "cell_type": "markdown",
   "metadata": {},
   "source": []
  },
  {
   "cell_type": "markdown",
   "metadata": {},
   "source": []
  },
  {
   "cell_type": "markdown",
   "metadata": {},
   "source": []
  },
  {
   "cell_type": "markdown",
   "metadata": {},
   "source": []
  },
  {
   "cell_type": "markdown",
   "metadata": {},
   "source": []
  },
  {
   "cell_type": "markdown",
   "metadata": {},
   "source": []
  },
  {
   "cell_type": "markdown",
   "metadata": {},
   "source": []
  },
  {
   "cell_type": "markdown",
   "metadata": {},
   "source": []
  },
  {
   "cell_type": "markdown",
   "metadata": {},
   "source": []
  },
  {
   "cell_type": "markdown",
   "metadata": {},
   "source": []
  }
 ],
 "metadata": {
  "kernelspec": {
   "display_name": "Python 3",
   "language": "python",
   "name": "python3"
  },
  "language_info": {
   "codemirror_mode": {
    "name": "ipython",
    "version": 3
   },
   "file_extension": ".py",
   "mimetype": "text/x-python",
   "name": "python",
   "nbconvert_exporter": "python",
   "pygments_lexer": "ipython3",
   "version": "3.6.5"
  }
 },
 "nbformat": 4,
 "nbformat_minor": 2
}
