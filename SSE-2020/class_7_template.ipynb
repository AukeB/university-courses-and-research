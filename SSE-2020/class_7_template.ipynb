{
 "cells": [
  {
   "cell_type": "markdown",
   "metadata": {},
   "source": [
    "# Stellar Structure and Evolution 2020"
   ]
  },
  {
   "cell_type": "markdown",
   "metadata": {},
   "source": [
    "## Practical exercises - class 7"
   ]
  },
  {
   "cell_type": "markdown",
   "metadata": {},
   "source": [
    "# 1. Asteroseismology"
   ]
  },
  {
   "cell_type": "markdown",
   "metadata": {},
   "source": [
    "(a) For which stars can we use the adiabatic approximation? "
   ]
  },
  {
   "cell_type": "markdown",
   "metadata": {},
   "source": [
    "**Answer**:"
   ]
  },
  {
   "cell_type": "markdown",
   "metadata": {},
   "source": [
    "(b) Where can g-waves propagate? Are those waves observed in the Sun? "
   ]
  },
  {
   "cell_type": "markdown",
   "metadata": {},
   "source": [
    "**Answer**:"
   ]
  },
  {
   "cell_type": "markdown",
   "metadata": {},
   "source": [
    "(c) When are the oscillations damped and when do they grow so we can see them? "
   ]
  },
  {
   "cell_type": "markdown",
   "metadata": {},
   "source": [
    "**Answer**:"
   ]
  },
  {
   "cell_type": "markdown",
   "metadata": {},
   "source": [
    "(d) The buoyant acceleration felt by a fluid element displaced radially by is \n",
    "\n",
    "$$ a = g\\Big( \\frac{d \\ln \\rho}{dr} + \\frac{g}{c_s^2} \\Big) \\Delta r = -N^2 \\Delta r $$\n",
    "\n",
    "Where $N$ is the Brunt-Vaisala frequency and $ c_s^2 = \\gamma P / \\rho $. Assume that the unperturbed star is spherical and in Hydrostatic Equilibrium.\n",
    "\n",
    "The Brunt-Vaisala frequency can also be expressed as:\n",
    "\n",
    "$$ N^2 = \\frac{g}{H} ( \\nabla_{ad} - \\nabla ) $$\n",
    "\n",
    "Where $ H = P / \\rho g $ is the pressure scale height. The mixing length theory of convection envisions blobs of material that advect energy aRer traveling a mixing length “l\" parameterized in terms of\n",
    "the pressure scale height as $ l = \\alpha H $. If a convective blob accelerates from zero velocity over a mixing length according to\n",
    "\n",
    "$$ \\frac{d}{dr}v_{con} = |N| $$\n",
    "\n",
    "find the maximum convective velocity $v_{con}$ in terms of $N$ and the mixing length $l$. Assume $N$ is constant over a mixing length. Express $v_{con}$ in terms of $\\alpha$, $\\gamma$, $(\\nabla_{ad}-\\nabla$ and $c_s$."
   ]
  },
  {
   "cell_type": "markdown",
   "metadata": {},
   "source": [
    "**Answer**:"
   ]
  },
  {
   "cell_type": "markdown",
   "metadata": {},
   "source": [
    "(e) Using your expression for $v_{con}$ from (d), express the kinetic erngy flux $F_{con}$ = $\\rho v_{con}^3 $ of upping convective bubbles."
   ]
  },
  {
   "cell_type": "markdown",
   "metadata": {},
   "source": [
    "**Answer**:"
   ]
  },
  {
   "cell_type": "markdown",
   "metadata": {},
   "source": [
    "(f) The base of the Sun's convection zone has radius $r \\sim 5 \\cdot 10^{10} \\text{ cm}$, density $\\rho \\sim 10^{-1} \\text{ g/cm}^3 $, sound speed $c_s \\sim 2 \\cdot 10^7 \\text{ cm/s}$ and scale height $H \\sim 5 \\cdot 10^9 \\text{ cm}$. For $\\alpha=2$, what is the value of $(\\nabla_{ad}-\\nabla)$ required for convective veolocity and how does this compare to the sound speed?"
   ]
  },
  {
   "cell_type": "markdown",
   "metadata": {},
   "source": [
    "**Answer**:"
   ]
  }
 ],
 "metadata": {
  "kernelspec": {
   "display_name": "Python 3",
   "language": "python",
   "name": "python3"
  },
  "language_info": {
   "codemirror_mode": {
    "name": "ipython",
    "version": 3
   },
   "file_extension": ".py",
   "mimetype": "text/x-python",
   "name": "python",
   "nbconvert_exporter": "python",
   "pygments_lexer": "ipython3",
   "version": "3.6.5"
  }
 },
 "nbformat": 4,
 "nbformat_minor": 2
}
