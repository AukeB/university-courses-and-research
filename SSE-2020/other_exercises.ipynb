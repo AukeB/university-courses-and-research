{
 "cells": [
  {
   "cell_type": "markdown",
   "metadata": {},
   "source": [
    "# Stellar Structure and Evolution 2020"
   ]
  },
  {
   "cell_type": "markdown",
   "metadata": {},
   "source": [
    "## Exercises from the lecture notes by Onno Pols"
   ]
  },
  {
   "cell_type": "markdown",
   "metadata": {},
   "source": [
    "| Chapter | Exercise from lecture notes | Subquestion(s) | In working classes? | Status |\n",
    "|--|--|--|--|--|\n",
    "| Chapter 1 | 1.1 | a,b,c | - | Not important |\n",
    "|  | 1.2 | a,b,c | - | Done |\n",
    "|  | 1.3 | a,b,c | 1.1 | Done |\n",
    "|  |     | d     | - | Almost done |\n",
    "|  | 1.4 | a,b,c | - | Done |\n",
    "| Chapter 2 | 2.1 | a,b,c | 1.2 | Done |\n",
    "|  | 2.2 | a,b,c,d,e | 1.3 | Done |\n",
    "|  | 2.3 | a,b,c,d,e,f,g | 1.5 | Done |\n",
    "|  | 2.4 | a,b,c,d,e,f,g | 1.6 | Done |\n",
    "| Chapter 3 | 3.1 | a,b,c,d,e | 2.1 | Done |\n",
    "|  | 3.2 | - | 2.2 | Done |\n",
    "|  | 3.3 | - | Assignment | Done |\n",
    "|  | 3.4 | a,b,d,e,f,g,h,i | - | |\n",
    "|  |     | c | 2.3 | Done | \n",
    "|  | 3.5 | a,b,c,d,e | - |  |\n",
    "|  | 3.6 | a,b,c | - |  |  |\n",
    "| Chapter 4 |  |  |  |  |\n",
    "| Chapter 5 | 5.1 | b | 4.1 | Done |\n",
    "|  | 5.2 | d | 4.2 | Done |\n",
    "|  | 5.3 | a | 4.1 | Done |\n",
    "|  | 5.6 | a,b | 4.3 |  |"
   ]
  },
  {
   "cell_type": "code",
   "execution_count": 74,
   "metadata": {},
   "outputs": [],
   "source": [
    "%run tools.ipynb # Import frequently used constants/functions."
   ]
  },
  {
   "cell_type": "markdown",
   "metadata": {},
   "source": [
    "# 1.2 - Basic assumptions"
   ]
  },
  {
   "cell_type": "markdown",
   "metadata": {},
   "source": [
    "Let us examine the three basic assumptions made in the theory of stellar evolution:"
   ]
  },
  {
   "cell_type": "markdown",
   "metadata": {},
   "source": [
    "(a) Stars are assumed to be isolated in space. The star closest to the sun, Proxima Centauri, is 4.3\n",
    "light-years away. How many solar radii is that? By what factors are the gravitational field and\n",
    "the radiation flux diminished? Many stars are formed in clusters and binaries. How could that\n",
    "influence the life of a star?"
   ]
  },
  {
   "cell_type": "markdown",
   "metadata": {},
   "source": [
    "**Answer**:"
   ]
  },
  {
   "cell_type": "code",
   "execution_count": 14,
   "metadata": {},
   "outputs": [
    {
     "name": "stdout",
     "output_type": "stream",
     "text": [
      "4.3 lightyear is equal to 5.842e+07 solar radii.\n",
      "The gravitational field and radiation flux are diminished by a factor $R^2$, which is 3.413e+15\n"
     ]
    }
   ],
   "source": [
    "d = 4.3 * ly\n",
    "\n",
    "print(f'4.3 lightyear is equal to {d/R_sun:.3e} solar radii.')\n",
    "print(f'The gravitational field and radiation flux are diminished by a factor $R^2$, which is {(d/R_sun)**2:.3e}')"
   ]
  },
  {
   "cell_type": "markdown",
   "metadata": {},
   "source": [
    "So stars are not influences by nearby stars, since they distance between them is so large. If they ar born in binaries, however, to could have interaction with each other, and this can influence their evolution."
   ]
  },
  {
   "cell_type": "markdown",
   "metadata": {},
   "source": [
    "(b) Stars are assumed to form with a uniform composition. What elements is the Sun made of? Just\n",
    "after the Big Bang the Universe consisted almost purely of hydrogen and helium. Where do all\n",
    "the heavier elements come from?"
   ]
  },
  {
   "cell_type": "markdown",
   "metadata": {},
   "source": [
    "**Answer**: The sun is made mostly of H (0.7), He (0.28) and other metals (0.02). Process from which other elements may originate are: Cosmic rays, CNO fragmentation, helium burning, the CNO cycle (which produces different elements when the temperature $T$ is higher), silicium burning and s-, r- and p-process. Overall, nuclear synthesis is thus responsible for the existence of elements heavier than hydrogen."
   ]
  },
  {
   "cell_type": "markdown",
   "metadata": {},
   "source": [
    "(c) Stars are assumed to be spherically symmetric. Why are stars spherically symmetric to a good\n",
    "approximation? How would rotation affect the structure and evolution of a star? The Sun rotates\n",
    "around its axis every 27 days. Calculate the ratio of is the centrifugal acceleration a over the\n",
    "gravitational acceleration g for a mass element on the surface of the Sun. Does rotation influence\n",
    "the structure of the Sun?"
   ]
  },
  {
   "cell_type": "markdown",
   "metadata": {},
   "source": [
    "**Answer**: Spherical symmetry for stars is a good approximation, because they are almost spherical, this is observable. Rotation generally means that the star would have a larger radius at the equator w.r.t. the poles since there is a centrifugal force present. This is the case for all rotating spherical objects in space, even for rocky planets."
   ]
  },
  {
   "cell_type": "code",
   "execution_count": 35,
   "metadata": {},
   "outputs": [
    {
     "name": "stdout",
     "output_type": "stream",
     "text": [
      "Gravitational acceleration: 273.7685179436413\n",
      "Centrifugal acceleration: 0.00505156640789982.\n"
     ]
    }
   ],
   "source": [
    "t = 27 * day \n",
    "v = 2 * np.pi * R_sun / t\n",
    "print(f'Gravitational acceleration: {G*M_sun/R_sun**2}')\n",
    "print(f'Centrifugal acceleration: {v**2/R_sun}.')"
   ]
  },
  {
   "cell_type": "markdown",
   "metadata": {},
   "source": [
    "From these results it is concluded that the centrifugal acceleration is neglectable w.r.t. the gravitational acceleration."
   ]
  },
  {
   "cell_type": "markdown",
   "metadata": {},
   "source": [
    "# 1.3 Mass-luminosity and mass-radius relation"
   ]
  },
  {
   "cell_type": "markdown",
   "metadata": {},
   "source": [
    "(d) Which stars live longer, high mass stars (which have more fuel) or low mass stars? Derive an\n",
    "expression for the lifetime of a star as a function of its mass. Hints: Stars spend almost all their life on the main sequence burning hydrogen until they run out of fuel. First try to estimate the life time as function of the mass (amount of fuel) and the luminosity (rate at which the fuel is burned)."
   ]
  },
  {
   "cell_type": "markdown",
   "metadata": {},
   "source": [
    "**Answer**: Low mass stars live longer because they burn through their fuel in a lower rate than high mass stars."
   ]
  },
  {
   "cell_type": "markdown",
   "metadata": {},
   "source": [
    "# 1.4 - The ages of star clusters"
   ]
  },
  {
   "cell_type": "markdown",
   "metadata": {},
   "source": [
    "<img src=\"figs/1_4.png\" alt=\"hoi\" style=\"width: 600px;\"/>"
   ]
  },
  {
   "cell_type": "markdown",
   "metadata": {},
   "source": [
    "The stars in a star cluster are formed more or less simultaneously by fragmentation of a large molecular\n",
    "gas cloud."
   ]
  },
  {
   "cell_type": "markdown",
   "metadata": {},
   "source": [
    "(a) In Fig. 1.4 the H-R diagrams are plotted of the stars in three different clusters. Which cluster is\n",
    "the youngest?"
   ]
  },
  {
   "cell_type": "markdown",
   "metadata": {},
   "source": [
    "**Answer**: The most right one since all the stars are still on the MS."
   ]
  },
  {
   "cell_type": "markdown",
   "metadata": {},
   "source": [
    "(b) Think of a method to estimate the age of the clusters, discuss with your fellow students. Estimate the ages and compare with the results of your fellow students."
   ]
  },
  {
   "cell_type": "markdown",
   "metadata": {},
   "source": [
    "**Answer**: The cluster age equals the MS lifetime of the turnoff stars. By measuring the mass of these stars, we can the age."
   ]
  },
  {
   "cell_type": "markdown",
   "metadata": {},
   "source": [
    "(c) Can you give an error range on your age estimates?"
   ]
  },
  {
   "cell_type": "markdown",
   "metadata": {},
   "source": [
    "**Answer**: $ 0 < \\tau < 13 \\text{ billion years} $"
   ]
  },
  {
   "cell_type": "markdown",
   "metadata": {},
   "source": [
    "# 2.5 - Three important timescales in stellar evolution"
   ]
  },
  {
   "cell_type": "markdown",
   "metadata": {},
   "source": [
    "### (a) The nuclear timescale."
   ]
  },
  {
   "cell_type": "markdown",
   "metadata": {},
   "source": [
    "i. Calculate the total mass of hydrogen available for fusion over the lifetime of the Sun, if 70%\n",
    "of its mass was hydrogen when the Sun was formed, and only 13% of all hydrogen is in the\n",
    "layers where the temperature is high enough for fusion."
   ]
  },
  {
   "cell_type": "code",
   "execution_count": 38,
   "metadata": {},
   "outputs": [
    {
     "name": "stdout",
     "output_type": "stream",
     "text": [
      "M_H: 1.80999e+29\n"
     ]
    }
   ],
   "source": [
    "M_H = 0.7 * 0.13 * M_sun\n",
    "print(f'M_H: {M_H}')"
   ]
  },
  {
   "cell_type": "markdown",
   "metadata": {},
   "source": [
    "ii. Calculate the fractional amount of mass converted into energy by hydrogen fusion. (Refer to\n",
    "Table 1 for the mass of a proton and of a helium nucleus.)"
   ]
  },
  {
   "cell_type": "code",
   "execution_count": 44,
   "metadata": {},
   "outputs": [
    {
     "name": "stdout",
     "output_type": "stream",
     "text": [
      "eta: 0.0068999\n"
     ]
    }
   ],
   "source": [
    "eta = (4*m_p - m_alpha) / (4*m_u)\n",
    "print(f'eta: {eta:.7f}')"
   ]
  },
  {
   "cell_type": "markdown",
   "metadata": {},
   "source": [
    "iii. Derive an expression for the nuclear timescale in solar units, i.e. expressed in terms of R/R⊙,\n",
    "M/M⊙ and L/L⊙."
   ]
  },
  {
   "cell_type": "code",
   "execution_count": 69,
   "metadata": {},
   "outputs": [
    {
     "name": "stdout",
     "output_type": "stream",
     "text": [
      "tau_nuc: 9.29e+09 equals approximately order 10\n"
     ]
    }
   ],
   "source": [
    "phi = 0.007\n",
    "M = M_sun\n",
    "L = L_sun\n",
    "tau_nuc = eta * M_H * c**2 / L / yr\n",
    "\n",
    "print(f'tau_nuc: {tau_nuc:.2e} equals approximately order 10')"
   ]
  },
  {
   "cell_type": "markdown",
   "metadata": {},
   "source": [
    "iv. Use the mass-radius and mass-luminosity relations for main-sequence stars to express the nuclear timescale of main-sequence stars as a function of the mass of the star only."
   ]
  },
  {
   "cell_type": "markdown",
   "metadata": {},
   "source": [
    "v. Describe in your own words the meaning of the nuclear timescale"
   ]
  },
  {
   "cell_type": "markdown",
   "metadata": {},
   "source": [
    "## (b) The thermal timescale."
   ]
  },
  {
   "cell_type": "markdown",
   "metadata": {},
   "source": [
    "i-iii. Answer question (a) iii, iv and v for the thermal timescale and calculate the age of the Sun\n",
    "according to Kelvin."
   ]
  },
  {
   "cell_type": "code",
   "execution_count": 78,
   "metadata": {},
   "outputs": [
    {
     "name": "stdout",
     "output_type": "stream",
     "text": [
      "tau_kh: 1.57e+07\n"
     ]
    }
   ],
   "source": [
    "tau_kh = (1/(2*L_sun)) * (G*M_sun**2/R_sun) / yr\n",
    "print(f'tau_kh: {tau_kh:.2e}')"
   ]
  },
  {
   "cell_type": "markdown",
   "metadata": {},
   "source": [
    "iv. Why are most stars observed to be main-sequence stars and why is the Hertzsprung-gap\n",
    "called a gap?"
   ]
  },
  {
   "cell_type": "markdown",
   "metadata": {},
   "source": [
    "## (c) The dynamical timescale."
   ]
  },
  {
   "cell_type": "markdown",
   "metadata": {},
   "source": [
    "i-iii. Answer question (a) iii, iv and v for the dynamical timescale"
   ]
  },
  {
   "cell_type": "code",
   "execution_count": 81,
   "metadata": {},
   "outputs": [
    {
     "name": "stdout",
     "output_type": "stream",
     "text": [
      "tau_dyn: 1.595e+03\n"
     ]
    }
   ],
   "source": [
    "tau_dyn = np.sqrt((R_sun**3)/(G*M_sun))\n",
    "print(f'tau_dyn: {tau_dyn:.3e}')"
   ]
  },
  {
   "cell_type": "markdown",
   "metadata": {},
   "source": [
    "iv. In stellar evolution models one often assumes that stars evolve quasi-statically, i.e. that the\n",
    "star remains in hydrostatic equilibrium throughout. Why can we make this assumption?"
   ]
  },
  {
   "cell_type": "markdown",
   "metadata": {},
   "source": [
    "v. Rapid changes that are sometimes observed in stars may indicate that dynamical processes are\n",
    "taking place. From the timescales of such changes - usually oscillations with a characteristic\n",
    "period - we may roughly estimate the average density of the Star. The sun has been observed\n",
    "to oscillate with a period of minutes, white dwarfs with periods of a few tens of seconds.\n",
    "Estimate the average density for the Sun and for white dwarfs."
   ]
  },
  {
   "cell_type": "markdown",
   "metadata": {},
   "source": [
    "## (d) Comparison."
   ]
  },
  {
   "cell_type": "markdown",
   "metadata": {},
   "source": [
    "i. Summarize your results for the questions above by computing the nuclear, thermal and dynamical timescales for a 1, 10 and 25 M⊙ main-sequence star. Put your answers in tabular\n",
    "form."
   ]
  },
  {
   "cell_type": "markdown",
   "metadata": {},
   "source": [
    "ii. For each of the following evolutionary stages indicate on which timescale they occur: premain sequence contraction, supernova explosion, core hydrogen burning, core helium burning."
   ]
  },
  {
   "cell_type": "markdown",
   "metadata": {},
   "source": [
    "iii. When the Sun becomes a red giant (RG), its radius will increase to 200R⊙ and its luminosity\n",
    "to 3000L⊙. Estimate τdyn and τKH for such a RG."
   ]
  },
  {
   "cell_type": "markdown",
   "metadata": {},
   "source": [
    "iv. How large would such a RG have to become for τdyn > τKH? Assume both R and L increase\n",
    "at constant effective temperature."
   ]
  },
  {
   "cell_type": "markdown",
   "metadata": {},
   "source": [
    "<img src=\"figs/2_5.jpeg\" alt=\"hoi\" style=\"width: 600px;\"/>"
   ]
  },
  {
   "cell_type": "markdown",
   "metadata": {},
   "source": [
    "# 3.1 - Conceptual questions."
   ]
  },
  {
   "cell_type": "markdown",
   "metadata": {},
   "source": [
    "(e) In the central region of a star we find free electrons and ions. Why do the electrons become degenerate first? Why do the ions never become degenerate in practice?"
   ]
  },
  {
   "cell_type": "markdown",
   "metadata": {},
   "source": [
    "**Answer**: Because of the relatively huge ($\\sim 2000$) mass difference."
   ]
  },
  {
   "cell_type": "markdown",
   "metadata": {},
   "source": [
    "# 3.3 - The $\\rho$ - $T$ plane"
   ]
  },
  {
   "cell_type": "markdown",
   "metadata": {},
   "source": [
    "Consider a gas of ionized hydrogen. In the $\\rho$ - $T$ plane compute the approximate boundary lines between the regions where:"
   ]
  },
  {
   "cell_type": "markdown",
   "metadata": {},
   "source": [
    "(a) radiation pressure dominates"
   ]
  },
  {
   "cell_type": "markdown",
   "metadata": {},
   "source": [
    "(b) the electrons behave like a classical ideal gas"
   ]
  },
  {
   "cell_type": "markdown",
   "metadata": {},
   "source": [
    "(c) the electrons behave like a degenerate gas"
   ]
  },
  {
   "cell_type": "markdown",
   "metadata": {},
   "source": [
    "(d) the electrons are relativistically degenerate"
   ]
  },
  {
   "cell_type": "code",
   "execution_count": 25,
   "metadata": {},
   "outputs": [],
   "source": [
    "# Radiation pressure.\n",
    "def P_rad(T):\n",
    "    return 1/3 * a * T**4\n",
    "\n",
    "# Ideal gas.\n",
    "def P_ig(T,rho,mu):\n",
    "    return (1 / mu) * (rho / m_u) * k_b * T\n",
    "\n",
    "# Degenerate, non-relativistic.\n",
    "def P_NR(rho):\n",
    "    return K_NR * (rho / m_e)**(5/3)\n",
    "\n",
    "# Degenerate, relativistic.\n",
    "def P_ER(rho):\n",
    "    return K_ER * (rho / m_e)**(4/3)"
   ]
  },
  {
   "cell_type": "markdown",
   "metadata": {},
   "source": [
    "### The 4 formula's above need to be set equal to eachother in order to compute boundary lines."
   ]
  },
  {
   "cell_type": "markdown",
   "metadata": {},
   "source": [
    "Non-relativistic gas and extremely relativistic gas."
   ]
  },
  {
   "cell_type": "markdown",
   "metadata": {},
   "source": [
    "<img src=\"figs/3.3_1.jpeg\" alt=\"hoi\" style=\"width: 600px;\"/>"
   ]
  },
  {
   "cell_type": "markdown",
   "metadata": {},
   "source": [
    "Ideal gas and extremely relativistic gas."
   ]
  },
  {
   "cell_type": "markdown",
   "metadata": {},
   "source": [
    "<img src=\"figs/3.3_2.jpeg\" alt=\"hoi\" style=\"width: 600px;\"/>"
   ]
  },
  {
   "cell_type": "markdown",
   "metadata": {},
   "source": [
    "Radiation pressure and ideal gas"
   ]
  },
  {
   "cell_type": "markdown",
   "metadata": {},
   "source": [
    "<img src=\"figs/3.3_3.jpeg\" alt=\"hoi\" style=\"width: 600px;\"/>"
   ]
  },
  {
   "cell_type": "markdown",
   "metadata": {},
   "source": [
    "Ideal gas and non-relativistic gas"
   ]
  },
  {
   "cell_type": "markdown",
   "metadata": {},
   "source": [
    "<img src=\"figs/3.3_4.jpeg\" alt=\"hoi\" style=\"width: 600px;\"/>"
   ]
  },
  {
   "cell_type": "code",
   "execution_count": 27,
   "metadata": {},
   "outputs": [],
   "source": [
    "# Mean molecular weight functions.\n",
    "\n",
    "# mu_e\n",
    "def func_mu_e(X):\n",
    "    return 2 / (1+X)\n",
    "\n",
    "# mu\n",
    "def func_mu(X,Y,Z):\n",
    "    value = 2*X + (3/4)*Y + (1/2)*Z\n",
    "    return 1/value"
   ]
  },
  {
   "cell_type": "code",
   "execution_count": 55,
   "metadata": {},
   "outputs": [],
   "source": [
    "# Tempature as function of density functions.\n",
    "def rad_ig(rho,mu):\n",
    "    return 3.2e7 * mu**(-1/3) * rho**(1/3)\n",
    "\n",
    "def ig_NR(rho,mu,mu_e):\n",
    "    return 1.21e5 * mu * mu_e**(-5/3) * rho**(2/3)\n",
    "\n",
    "def NR_ER(rho,mu_e):\n",
    "    return 9.7e5 * mu_e\n",
    "\n",
    "def ig_ER(rho,mu,mu_e):\n",
    "    return 1.50e7 * mu * mu_e * rho**(1/3)"
   ]
  },
  {
   "cell_type": "code",
   "execution_count": 119,
   "metadata": {},
   "outputs": [],
   "source": [
    "# Mean molecular weights\n",
    "X = 0.7\n",
    "Y = 0.28\n",
    "Z = 0.02\n",
    "\n",
    "mu_e = func_mu_e(X)\n",
    "mu = func_mu(X,Y,Z)"
   ]
  },
  {
   "cell_type": "code",
   "execution_count": 57,
   "metadata": {},
   "outputs": [],
   "source": [
    "# Variables\n",
    "log_rho = np.linspace(-10,10,1000)\n",
    "rho = 10**log_rho"
   ]
  },
  {
   "cell_type": "code",
   "execution_count": 76,
   "metadata": {},
   "outputs": [],
   "source": [
    "# Boundary lines\n",
    "T_rad_ig = rad_ig(rho,mu)\n",
    "T_ig_NR = ig_NR(rho,mu,mu_e)\n",
    "T_NR_ER = NR_ER(rho,mu_e)\n",
    "T_ig_ER = ig_ER(rho,mu,mu_e)\n",
    "\n",
    "T_NR_ER = np.linspace(T_NR_ER,T_NR_ER,len(rho)) # Because vertical boundary line."
   ]
  },
  {
   "cell_type": "code",
   "execution_count": 145,
   "metadata": {},
   "outputs": [
    {
     "data": {
      "image/png": "[encoded data removed]",
      "text/plain": [
       "<Figure size 1152x864 with 1 Axes>"
      ]
     },
     "metadata": {},
     "output_type": "display_data"
    }
   ],
   "source": [
    "# Boundaries for in the plot (manually set).\n",
    "b1 = 940\n",
    "b2 = 840\n",
    "b3 = 840\n",
    "\n",
    "# Plotting.\n",
    "plt.figure(figsize=(16,12))\n",
    "plt.plot(log_rho,np.log10(T_rad_ig),'--',label='Radiation | Ideal gas')\n",
    "plt.plot(log_rho[0:b3],np.log10(T_ig_NR[0:b3]),'--',label='Ideal gas | NR degenerate')\n",
    "plt.plot(np.log10(T_NR_ER[0:b1]),log_rho[0:b1],'--',label='NR degenerate | ER degenerate')\n",
    "plt.plot(log_rho[b2:-1],np.log10(T_ig_ER[b2:-1]),'--',label='Ideal gas | ER degenerate')\n",
    "\n",
    "plt.text(-7,8,s='Radiation',fontsize=20)\n",
    "plt.text(-5.5,4.5,s='Ideal gas',fontsize=20)\n",
    "plt.text(4.7,6,s='Degenerate',fontsize=20)\n",
    "plt.text(2.5,4,s='NR',fontsize=20)\n",
    "plt.text(7.5,4,s='ER',fontsize=20)\n",
    "\n",
    "plt.title(r'The equation of state for a gas of free particle in the $\\log T$, $\\log \\rho$ plane.',fontsize=22)\n",
    "plt.xlabel(r'$\\log \\rho$',fontsize=16)\n",
    "plt.ylabel(r'$\\log T$',fontsize=17)\n",
    "plt.legend()\n",
    "plt.xlim(-10,10)\n",
    "plt.ylim(3,10)\n",
    "plt.show()\n",
    "plt.close()"
   ]
  },
  {
   "cell_type": "markdown",
   "metadata": {},
   "source": [
    "# 10.1 - Conceptual questions"
   ]
  },
  {
   "cell_type": "markdown",
   "metadata": {},
   "source": [
    "(a) Why does the luminosity of a star increase on the main sequence? Why do low-mass stars, like the Sun, expand less during the main sequence than higher-mass stars?"
   ]
  },
  {
   "cell_type": "markdown",
   "metadata": {},
   "source": [
    "**Answer**: Answered in class 10."
   ]
  },
  {
   "cell_type": "markdown",
   "metadata": {},
   "source": [
    "(b) Explain what happens during the ‘hook’ at the end of the main sequence of stars more massive than the Sun."
   ]
  },
  {
   "cell_type": "markdown",
   "metadata": {},
   "source": [
    "**Answer**: More massive stars expand more. More massive stars the temperature dependence of the nuclear reactions is much larger, as the burn H in the CNO cycle. Therefore, their $T_C$ is allowed to change less and $P_C$ needs to drop more to correct for an increasing $\\mu$. Thus, more massive stars expand more."
   ]
  },
  {
   "cell_type": "markdown",
   "metadata": {},
   "source": [
    "(c) What is convective overshooting? Think of at least three effects of overshooting on the evolution of a star."
   ]
  },
  {
   "cell_type": "markdown",
   "metadata": {},
   "source": [
    "**Answer**: Covnective overshooting is the effect where a bubble which reaches the end of a convective region and $\\nabla_{rad} < \\nabla_\\text{ad}$ again, it decelerates, but still travels a distance beyond that boundary. This causes a larger part of the star to be mixed and allows energy to be transported further. The former point allows a larger amount of H to be burned by stars with convective cores while stars with convective envelopes will have more reaction products in their atmospheres. The former allows a a star to remain on the MS longer, while the lattter increases opacity.\n",
    "\n",
    "Also, for stars with a convective core, $\\mu$ increases in a larger portion of the star so the increase of $L$ and $R$ during the MS is larger. Finally, a larger amount of fuel is burned, allowing more of the reaction products to be burned during later phases of evolution, increasing the $L$."
   ]
  },
  {
   "cell_type": "markdown",
   "metadata": {},
   "source": [
    "(d) Explain the existence of a Hertzsprung gap in the HRD for high-mass stars. Why is there no\n",
    "Hertzsprung gap for low-mass stars?"
   ]
  },
  {
   "cell_type": "markdown",
   "metadata": {},
   "source": [
    "**Answer**: Answered in class 10."
   ]
  },
  {
   "cell_type": "markdown",
   "metadata": {},
   "source": [
    "(e) What do we mean by the mirror principle?"
   ]
  },
  {
   "cell_type": "markdown",
   "metadata": {},
   "source": [
    "**Answer**: Answered in class 10."
   ]
  },
  {
   "cell_type": "markdown",
   "metadata": {},
   "source": [
    "(f) Why does the envelope become convective on the red giant branch? What is the link with the\n",
    "Hayashi line?"
   ]
  },
  {
   "cell_type": "markdown",
   "metadata": {},
   "source": [
    "**Answer**: Answered in the class 10."
   ]
  },
  {
   "cell_type": "markdown",
   "metadata": {},
   "source": []
  },
  {
   "cell_type": "markdown",
   "metadata": {},
   "source": []
  },
  {
   "cell_type": "markdown",
   "metadata": {},
   "source": []
  },
  {
   "cell_type": "markdown",
   "metadata": {},
   "source": []
  },
  {
   "cell_type": "markdown",
   "metadata": {},
   "source": []
  },
  {
   "cell_type": "markdown",
   "metadata": {},
   "source": []
  },
  {
   "cell_type": "markdown",
   "metadata": {},
   "source": []
  },
  {
   "cell_type": "markdown",
   "metadata": {},
   "source": []
  },
  {
   "cell_type": "markdown",
   "metadata": {},
   "source": []
  },
  {
   "cell_type": "markdown",
   "metadata": {},
   "source": []
  },
  {
   "cell_type": "markdown",
   "metadata": {},
   "source": []
  },
  {
   "cell_type": "markdown",
   "metadata": {},
   "source": []
  },
  {
   "cell_type": "markdown",
   "metadata": {},
   "source": []
  },
  {
   "cell_type": "markdown",
   "metadata": {},
   "source": []
  },
  {
   "cell_type": "markdown",
   "metadata": {},
   "source": []
  },
  {
   "cell_type": "markdown",
   "metadata": {},
   "source": []
  },
  {
   "cell_type": "markdown",
   "metadata": {},
   "source": []
  },
  {
   "cell_type": "markdown",
   "metadata": {},
   "source": []
  },
  {
   "cell_type": "markdown",
   "metadata": {},
   "source": []
  },
  {
   "cell_type": "markdown",
   "metadata": {},
   "source": []
  },
  {
   "cell_type": "markdown",
   "metadata": {},
   "source": []
  },
  {
   "cell_type": "markdown",
   "metadata": {},
   "source": []
  },
  {
   "cell_type": "markdown",
   "metadata": {},
   "source": []
  },
  {
   "cell_type": "markdown",
   "metadata": {},
   "source": []
  },
  {
   "cell_type": "markdown",
   "metadata": {},
   "source": []
  },
  {
   "cell_type": "markdown",
   "metadata": {},
   "source": []
  },
  {
   "cell_type": "markdown",
   "metadata": {},
   "source": []
  },
  {
   "cell_type": "markdown",
   "metadata": {},
   "source": []
  },
  {
   "cell_type": "markdown",
   "metadata": {},
   "source": []
  },
  {
   "cell_type": "markdown",
   "metadata": {},
   "source": []
  },
  {
   "cell_type": "markdown",
   "metadata": {},
   "source": []
  },
  {
   "cell_type": "markdown",
   "metadata": {},
   "source": []
  },
  {
   "cell_type": "markdown",
   "metadata": {},
   "source": []
  },
  {
   "cell_type": "markdown",
   "metadata": {},
   "source": []
  },
  {
   "cell_type": "markdown",
   "metadata": {},
   "source": []
  },
  {
   "cell_type": "markdown",
   "metadata": {},
   "source": []
  },
  {
   "cell_type": "markdown",
   "metadata": {},
   "source": []
  },
  {
   "cell_type": "markdown",
   "metadata": {},
   "source": []
  },
  {
   "cell_type": "markdown",
   "metadata": {},
   "source": []
  },
  {
   "cell_type": "markdown",
   "metadata": {},
   "source": []
  },
  {
   "cell_type": "markdown",
   "metadata": {},
   "source": []
  },
  {
   "cell_type": "markdown",
   "metadata": {},
   "source": []
  },
  {
   "cell_type": "markdown",
   "metadata": {},
   "source": []
  },
  {
   "cell_type": "markdown",
   "metadata": {},
   "source": []
  },
  {
   "cell_type": "markdown",
   "metadata": {},
   "source": []
  },
  {
   "cell_type": "markdown",
   "metadata": {},
   "source": []
  },
  {
   "cell_type": "markdown",
   "metadata": {},
   "source": []
  },
  {
   "cell_type": "markdown",
   "metadata": {},
   "source": []
  },
  {
   "cell_type": "markdown",
   "metadata": {},
   "source": []
  },
  {
   "cell_type": "markdown",
   "metadata": {},
   "source": []
  },
  {
   "cell_type": "markdown",
   "metadata": {},
   "source": []
  }
 ],
 "metadata": {
  "kernelspec": {
   "display_name": "Python 3",
   "language": "python",
   "name": "python3"
  },
  "language_info": {
   "codemirror_mode": {
    "name": "ipython",
    "version": 3
   },
   "file_extension": ".py",
   "mimetype": "text/x-python",
   "name": "python",
   "nbconvert_exporter": "python",
   "pygments_lexer": "ipython3",
   "version": "3.6.5"
  }
 },
 "nbformat": 4,
 "nbformat_minor": 2
}
