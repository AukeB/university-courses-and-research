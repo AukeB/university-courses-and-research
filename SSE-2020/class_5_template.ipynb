{
 "cells": [
  {
   "cell_type": "markdown",
   "metadata": {},
   "source": [
    "# Stellar Structure and Evolution 2020"
   ]
  },
  {
   "cell_type": "markdown",
   "metadata": {},
   "source": [
    "## Practical exercises - class 5"
   ]
  },
  {
   "cell_type": "markdown",
   "metadata": {},
   "source": [
    "# 1. Conceptual questions"
   ]
  },
  {
   "cell_type": "markdown",
   "metadata": {},
   "source": [
    "(a) Why does convection lead to a net heat flux upwards, even though there is no net mass flux (upwards and downwards bubbles carry equal amounts of mass)?"
   ]
  },
  {
   "cell_type": "markdown",
   "metadata": {},
   "source": [
    "**Answer**:"
   ]
  },
  {
   "cell_type": "markdown",
   "metadata": {},
   "source": [
    "(b) Explain the Schwarzschild criterion in simple physical terms (using Archimedes law) by drawing a schematic picture. Consider both cases $\\nabla_\\text{rad} > \\nabla_\\text{ad}$ and $\\nabla_\\text{rad} < \\nabla_\\text{ad}$. Which case leads to convection and why? "
   ]
  },
  {
   "cell_type": "markdown",
   "metadata": {},
   "source": [
    "**Answer**:"
   ]
  },
  {
   "cell_type": "markdown",
   "metadata": {},
   "source": [
    "(c) What is meant by the superadiabaticity of a convective region? How is it related to the convective energy flux (qualitatively)? Why is it very small in the interior of a star, but can be large near the surface? "
   ]
  },
  {
   "cell_type": "markdown",
   "metadata": {},
   "source": [
    "**Answer**:"
   ]
  },
  {
   "cell_type": "markdown",
   "metadata": {},
   "source": [
    "(d) Low-mass stars, like the Sun, have convective envelopes. The fraction of the mass that is convective increases with decreasing mass. A 0.1 M star is completely convective. Can you qualitatively explain why? "
   ]
  },
  {
   "cell_type": "markdown",
   "metadata": {},
   "source": [
    "**Answer**:"
   ]
  },
  {
   "cell_type": "markdown",
   "metadata": {},
   "source": [
    "(e) Explain which are the simplifications "
   ]
  },
  {
   "cell_type": "markdown",
   "metadata": {},
   "source": [
    "**Answer**:"
   ]
  },
  {
   "cell_type": "markdown",
   "metadata": {},
   "source": [
    "# 2. Convection in stars"
   ]
  },
  {
   "cell_type": "markdown",
   "metadata": {},
   "source": [
    "(a) Determine if the energy transport is convective or radiative at two different locations ($ r = 0.242\n",
    "R_\\text{sun} $ and $ r = 0.67 R_\\text{sun}$) in a $ 5 M_\\text{sun} $ main sequence star. Use data of a $5M_\\text{sun}$ model in the table below. You may neglect the radiation pressure and assume that the mean molecular weight is $0.7$."
   ]
  },
  {
   "cell_type": "markdown",
   "metadata": {},
   "source": [
    "![](figs/5_1.png)"
   ]
  },
  {
   "cell_type": "markdown",
   "metadata": {},
   "source": [
    "**Answer**:"
   ]
  },
  {
   "cell_type": "markdown",
   "metadata": {},
   "source": [
    "(b) Estimate the velocity of convective cells inside the Sun. Explain the assumptions made to reach the value. "
   ]
  },
  {
   "cell_type": "markdown",
   "metadata": {},
   "source": [
    "**Answer**:"
   ]
  },
  {
   "cell_type": "markdown",
   "metadata": {},
   "source": [
    "(c) Using the value obtained in (b), calculate the timescale on which a region of radial size d = qR is mixed (the timescale will be found in terms with q). "
   ]
  },
  {
   "cell_type": "markdown",
   "metadata": {},
   "source": [
    "**Answer**:"
   ]
  },
  {
   "cell_type": "markdown",
   "metadata": {},
   "source": [
    "# 3. Nuclear reactions"
   ]
  },
  {
   "cell_type": "markdown",
   "metadata": {},
   "source": [
    "(a) The net result of hydrogen burning can be written as: \n",
    "\n",
    "$$ 4\\text{H} --> \\text{He} + 2e^\\text{+} + 2\\nu $$\n",
    "\n",
    "Estimate the percentage of the initial mass that is transformed into energy in that reaction. Calculate the energy in eV obtained from hydrogen burning. Explain every step taken in the calculation."
   ]
  },
  {
   "cell_type": "markdown",
   "metadata": {},
   "source": [
    "**Answer**:"
   ]
  },
  {
   "cell_type": "markdown",
   "metadata": {},
   "source": [
    "(b) Using the result of (a), estimate the total time in years that the Sun will spend in the MS (assume that the Sun is made of pure H). Explain every step and assumption made in the calculation"
   ]
  },
  {
   "cell_type": "markdown",
   "metadata": {},
   "source": [
    "**Answer**:"
   ]
  }
 ],
 "metadata": {
  "kernelspec": {
   "display_name": "Python 3",
   "language": "python",
   "name": "python3"
  },
  "language_info": {
   "codemirror_mode": {
    "name": "ipython",
    "version": 3
   },
   "file_extension": ".py",
   "mimetype": "text/x-python",
   "name": "python",
   "nbconvert_exporter": "python",
   "pygments_lexer": "ipython3",
   "version": "3.6.5"
  }
 },
 "nbformat": 4,
 "nbformat_minor": 2
}
