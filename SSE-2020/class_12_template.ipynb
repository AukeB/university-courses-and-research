{
 "cells": [
  {
   "cell_type": "markdown",
   "metadata": {},
   "source": [
    "# Stellar Structure and Evolution 2020"
   ]
  },
  {
   "cell_type": "markdown",
   "metadata": {},
   "source": [
    "## Practical exercises - class 12"
   ]
  },
  {
   "cell_type": "markdown",
   "metadata": {},
   "source": [
    "# 1. Mass loss of massive stars during the MS."
   ]
  },
  {
   "cell_type": "markdown",
   "metadata": {},
   "source": [
    "The mass-luminosity relation for massive stars on the MS is approximately\n",
    "\n",
    "$$ \\log \\frac{L}{L_\\odot} \\approx 0.781 + 2.760 \\log \\frac{M_\\text{ini}}{M_\\odot} $$\n",
    "\n",
    "Where $M_\\text{ini}$ is the initial stellar mass. The mass loss rate of massive stars can roughly be approximated by\n",
    "\n",
    "$$ \\log \\dot{M} \\approx -12.76 + 1.3 \\log \\frac{L}{L_\\odot} $$\n",
    "\n",
    "Finally, the duration of the MS phase in years is\n",
    "\n",
    "$$ \\log \\tau_{MS} \\approx 7.719 - 0.655 \\log \\frac{M_\\text{ini}}{M_\\odot} $$"
   ]
  },
  {
   "cell_type": "markdown",
   "metadata": {},
   "source": [
    "(a)  Calculate the fraction of mass that is lost by massive stars with $M_\\text{ini}$ =25, 40, 60, 85 and 120 $M_\\odot$ during the main sequence phase."
   ]
  },
  {
   "cell_type": "markdown",
   "metadata": {},
   "source": [
    "**Answer**:"
   ]
  },
  {
   "cell_type": "markdown",
   "metadata": {},
   "source": [
    "(b)  A star with an initial mass of 85 $M_\\odot$ on the zero age main sequence has a convective core that contains 83ti of the mass. Calculate the time at which products of nuclear burning will appear at the surface. "
   ]
  },
  {
   "cell_type": "markdown",
   "metadata": {},
   "source": [
    "# 1. Burning stages"
   ]
  },
  {
   "cell_type": "markdown",
   "metadata": {},
   "source": [
    "(a) Explain why the timescales of the burning stages from C-burning onward are very short compared to the H- and He-burning phases. "
   ]
  },
  {
   "cell_type": "markdown",
   "metadata": {},
   "source": [
    "**Answer**:"
   ]
  }
 ],
 "metadata": {
  "kernelspec": {
   "display_name": "Python 3",
   "language": "python",
   "name": "python3"
  },
  "language_info": {
   "codemirror_mode": {
    "name": "ipython",
    "version": 3
   },
   "file_extension": ".py",
   "mimetype": "text/x-python",
   "name": "python",
   "nbconvert_exporter": "python",
   "pygments_lexer": "ipython3",
   "version": "3.6.5"
  }
 },
 "nbformat": 4,
 "nbformat_minor": 2
}
