{
 "cells": [
  {
   "cell_type": "markdown",
   "metadata": {},
   "source": [
    "# Stellar Structure and Evolution 2020"
   ]
  },
  {
   "cell_type": "markdown",
   "metadata": {},
   "source": [
    "## Practical exercises - class 9"
   ]
  },
  {
   "cell_type": "markdown",
   "metadata": {},
   "source": [
    "# 1. Pre-main sequence stars - ZAMS"
   ]
  },
  {
   "cell_type": "markdown",
   "metadata": {},
   "source": [
    "(a) What is the Hayashi line? Why is it a line, in other words: why is there a whole range of possible luminosities for a star of a certain mass on the HL?"
   ]
  },
  {
   "cell_type": "markdown",
   "metadata": {},
   "source": [
    "**Answer**:"
   ]
  },
  {
   "cell_type": "markdown",
   "metadata": {},
   "source": [
    "(b) Why do no stars exist with a temperature cooler than that of the HL? What happens if a star would cross over to the cool side of the HL? "
   ]
  },
  {
   "cell_type": "markdown",
   "metadata": {},
   "source": [
    "**Answer**:"
   ]
  },
  {
   "cell_type": "markdown",
   "metadata": {},
   "source": [
    "(c) Why is there a mass-luminosity relation for ZAMS stars? (In other words, why is there a unique luminosity for a star of a certain mass?) "
   ]
  },
  {
   "cell_type": "markdown",
   "metadata": {},
   "source": [
    "**Answer**:"
   ]
  },
  {
   "cell_type": "markdown",
   "metadata": {},
   "source": [
    "(d) What determines the shape of the ZAMS is the HR diagram? "
   ]
  },
  {
   "cell_type": "markdown",
   "metadata": {},
   "source": [
    "**Answer**:"
   ]
  },
  {
   "cell_type": "markdown",
   "metadata": {},
   "source": [
    "(e) Use the homology relations for the luminosity and temperature of a star to derive how the central temperature in a star scales with mass, and find the dependence of $T_c$ on $M$ for the pp-chain and for the CNO-cycle. To make the result quantitative, use the fact that in the Sun with $ T \\approx 1.3 \\cdot 10^7 \\text{ K}$ the pp-chain dominates, and that the CNO-cycle dominates for masses $M > 1.3 M_{\\text{Sun}}$ (Why does the pp-chain dominate at low mass and the CNO-cycle at high mass?) "
   ]
  },
  {
   "cell_type": "markdown",
   "metadata": {},
   "source": [
    "**Answer**:"
   ]
  },
  {
   "cell_type": "markdown",
   "metadata": {},
   "source": [
    "(f) Find the relation between $L$ and $M$ and the slope of the main sequence, assuming an opacity following Kramers law and that the energy generation rate per unit mass is , where $ \\epsilon_{nuc} \\propto \\rho T^\\nu $, where $\\nu=4$"
   ]
  },
  {
   "cell_type": "markdown",
   "metadata": {},
   "source": [
    "**Answer**:"
   ]
  }
 ],
 "metadata": {
  "kernelspec": {
   "display_name": "Python 3",
   "language": "python",
   "name": "python3"
  },
  "language_info": {
   "codemirror_mode": {
    "name": "ipython",
    "version": 3
   },
   "file_extension": ".py",
   "mimetype": "text/x-python",
   "name": "python",
   "nbconvert_exporter": "python",
   "pygments_lexer": "ipython3",
   "version": "3.6.5"
  }
 },
 "nbformat": 4,
 "nbformat_minor": 2
}
