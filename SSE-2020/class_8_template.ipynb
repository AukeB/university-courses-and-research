{
 "cells": [
  {
   "cell_type": "markdown",
   "metadata": {},
   "source": [
    "# Stellar Structure and Evolution 2020"
   ]
  },
  {
   "cell_type": "markdown",
   "metadata": {},
   "source": [
    "## Practical exercises - class 8"
   ]
  },
  {
   "cell_type": "markdown",
   "metadata": {},
   "source": [
    "# 1. Homology Relations - Temperature, pressure and density at the center."
   ]
  },
  {
   "cell_type": "markdown",
   "metadata": {},
   "source": [
    "(a) Compare the $L-M$ relation derived form observational data with the $L-M$ relation derived from homology. What could cause the difference? (Which assumptions may not be valid?) "
   ]
  },
  {
   "cell_type": "markdown",
   "metadata": {},
   "source": [
    "**Answer**:"
   ]
  },
  {
   "cell_type": "markdown",
   "metadata": {},
   "source": [
    "(b) Show that, if we replace the assumption of a constant opacity with a Kramers opacity law $(\\kappa \\propto \\rho T^{-7/3}$, the mass-luminosity-radius relation becomes:\n",
    "\n",
    "$$ L \\propto \\frac{\\mu^7.5 M^5.5}{R^0.5} $$"
   ]
  },
  {
   "cell_type": "markdown",
   "metadata": {},
   "source": [
    "**Answer**:"
   ]
  },
  {
   "cell_type": "markdown",
   "metadata": {},
   "source": [
    "(c) Use the homology relations for $P$ and $\\rho$ to derive:\n",
    "\n",
    "$$ P_c = CGM^{2/3} \\rho_c^{4/3} $$"
   ]
  },
  {
   "cell_type": "markdown",
   "metadata": {},
   "source": [
    "**Answer**:"
   ]
  },
  {
   "cell_type": "markdown",
   "metadata": {},
   "source": [
    "(d) To see what happens qualitatively to a contracting star of given mass $M$ , the total gas pressure can be approximated roughly by:\n",
    "\n",
    "$$ P \\approx P_{id} + P_{deg} = \\frac{R}{\\mu} \\rho T + K \\Big( \\frac{\\rho}{\\mu_e} \\Big)^\\gamma $$"
   ]
  },
  {
   "cell_type": "markdown",
   "metadata": {},
   "source": [
    "**Answer**:"
   ]
  },
  {
   "cell_type": "markdown",
   "metadata": {},
   "source": [
    "(d-i) Combine this equation, for the case of NR degeneracy, with the central pressure of a contracting star in hydrostatic equilibrium (eq. 8.1 from the notes, assuming $ C \\sim 0 $) in order to find\n",
    "how $T$ at the center depends on the density at the center. "
   ]
  },
  {
   "cell_type": "markdown",
   "metadata": {},
   "source": [
    "**Answer**:"
   ]
  },
  {
   "cell_type": "markdown",
   "metadata": {},
   "source": [
    "(d-ii) Derive an expression for the maximum central temperature reached by a star of mass $M$ . "
   ]
  },
  {
   "cell_type": "markdown",
   "metadata": {},
   "source": [
    "**Answer**:"
   ]
  },
  {
   "cell_type": "markdown",
   "metadata": {},
   "source": [
    "(e) Consider a star that consists completely of helium. Compute an estimate for the minimum mass for which such a star can ignite helium, as follows. "
   ]
  },
  {
   "cell_type": "markdown",
   "metadata": {},
   "source": [
    "**Answer**:"
   ]
  },
  {
   "cell_type": "markdown",
   "metadata": {},
   "source": [
    "(e-i) Assume that helium ignites at $T_c = $ 1e8 K. "
   ]
  },
  {
   "cell_type": "markdown",
   "metadata": {},
   "source": [
    "**Answer**:"
   ]
  },
  {
   "cell_type": "markdown",
   "metadata": {},
   "source": [
    "(e-ii) Assume that the critical mass can be determined by the condition that the ideal gas pressure and the electron degeneracy pressure are equally important in the star at the moment of ignition. "
   ]
  },
  {
   "cell_type": "markdown",
   "metadata": {},
   "source": [
    "**Answer**:"
   ]
  },
  {
   "cell_type": "markdown",
   "metadata": {},
   "source": [
    "(e-iii) Use the homology relations for the pressure and the density. Assume that \n",
    "\n",
    "$ P_{\\text{c,Sun}} = 10^{17} \\text{ g cm}^{-1}\\text{s}^{-2} \\text{ and } \\rho_{\\text{c,Sun}} = 60 \\text{ g cm}^{-3} $"
   ]
  },
  {
   "cell_type": "markdown",
   "metadata": {},
   "source": [
    "**Answer**:"
   ]
  }
 ],
 "metadata": {
  "kernelspec": {
   "display_name": "Python 3",
   "language": "python",
   "name": "python3"
  },
  "language_info": {
   "codemirror_mode": {
    "name": "ipython",
    "version": 3
   },
   "file_extension": ".py",
   "mimetype": "text/x-python",
   "name": "python",
   "nbconvert_exporter": "python",
   "pygments_lexer": "ipython3",
   "version": "3.6.5"
  }
 },
 "nbformat": 4,
 "nbformat_minor": 2
}
