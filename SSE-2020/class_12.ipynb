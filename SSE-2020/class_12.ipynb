{
 "cells": [
  {
   "cell_type": "markdown",
   "metadata": {},
   "source": [
    "# Stellar Structure and Evolution 2020"
   ]
  },
  {
   "cell_type": "markdown",
   "metadata": {},
   "source": [
    "## Practical exercises - class 12"
   ]
  },
  {
   "cell_type": "code",
   "execution_count": 54,
   "metadata": {},
   "outputs": [],
   "source": [
    "%run tools.ipynb # Import frequently used constants/functions."
   ]
  },
  {
   "cell_type": "markdown",
   "metadata": {},
   "source": [
    "# 1. Mass loss of massive stars during the MS."
   ]
  },
  {
   "cell_type": "markdown",
   "metadata": {},
   "source": [
    "The mass-luminosity relation for massive stars on the MS is approximately\n",
    "\n",
    "$$ \\log \\frac{L}{L_\\odot} \\approx 0.781 + 2.760 \\log \\frac{M_\\text{ini}}{M_\\odot} $$\n",
    "\n",
    "Where $M_\\text{ini}$ is the initial stellar mass. The mass loss rate of massive stars can roughly be approximated by\n",
    "\n",
    "$$ \\log \\dot{M} \\approx -12.76 + 1.3 \\log \\frac{L}{L_\\odot} $$\n",
    "\n",
    "Finally, the duration of the MS phase in years is\n",
    "\n",
    "$$ \\log \\tau_{MS} \\approx 7.719 - 0.655 \\log \\frac{M_\\text{ini}}{M_\\odot} $$"
   ]
  },
  {
   "cell_type": "markdown",
   "metadata": {},
   "source": [
    "(a)  Calculate the fraction of mass that is lost by massive stars with $M_\\text{ini}$ =25, 40, 60, 85 and 120 $M_\\odot$ during the main sequence phase."
   ]
  },
  {
   "cell_type": "markdown",
   "metadata": {},
   "source": [
    "**Answer**:"
   ]
  },
  {
   "cell_type": "code",
   "execution_count": 55,
   "metadata": {},
   "outputs": [],
   "source": [
    "def mass_lum_relation(M):\n",
    "    return 0.781 + 2.760 * np.log10(M/M_sun)\n",
    "\n",
    "def mass_loss_rate(log_L_divided_L_sun):\n",
    "    return -12.76 + 1.3 * log_L_divided_L_sun\n",
    "\n",
    "def ms_duration(M):\n",
    "    return 7.719 - 0.655 * np.log10(M/M_sun)"
   ]
  },
  {
   "cell_type": "code",
   "execution_count": 56,
   "metadata": {},
   "outputs": [],
   "source": [
    "# Initialize mass.\n",
    "M_ini = np.array([25, 40, 60, 85, 120]) * M_sun\n",
    "\n",
    "# Compute luminosity.\n",
    "log_L_divided_L_sun = mass_lum_relation(M_ini)\n",
    "L_divided_L_sun = 10**log_L_divided_L_sun\n",
    "L = L_divided_L_sun * L_sun\n",
    "\n",
    "# Compute mass loss\n",
    "log_mass_loss = mass_loss_rate(log_L_divided_L_sun)\n",
    "mass_loss = 10**log_mass_loss\n",
    "\n",
    "# Compute MS duration.\n",
    "log_tau_ms = ms_duration(M_ini)\n",
    "tau_ms = 10**log_tau_ms\n",
    "\n",
    "mass_fraction = mass_loss * tau_ms / (M_ini * M_sun) * 100"
   ]
  },
  {
   "cell_type": "code",
   "execution_count": 57,
   "metadata": {},
   "outputs": [
    {
     "name": "stdout",
     "output_type": "stream",
     "text": [
      "M_ini: [ 25.  40.  60.  85. 120.]\n",
      "\n",
      "log_L_divided_L_sun: [4.63931442 5.20268558 5.68869745 6.10619623 6.51954024]\n",
      "L_divided_L_sun: [  43582.72931634  159472.41682456  488312.0608228  1277015.69509936\n",
      " 3307807.58777431]\n",
      "L: [1.66834688e+31 6.10460412e+31 1.86925857e+32 4.88841608e+32\n",
      " 1.26622874e+33]\n",
      "\n",
      "log_mass_loss: [-6.72889125 -5.99650875 -5.36469331 -4.82194489 -4.28459769]\n",
      "mass_loss: [1.86684711e-07 1.00807130e-06 4.31823911e-06 1.50679824e-05\n",
      " 5.19280855e-05]\n",
      "\n",
      "log_tau_ms: [6.80334929 6.66965071 6.55431093 6.4552306  6.35713628]\n",
      "tau_ms: [6358421.21288326 4673591.02557868 3583529.06283841 2852532.5161224\n",
      " 2275811.48006026]\n",
      "\n",
      "Units tau_ms are in years. Units mass loss are in solar mass per year:\n",
      "\n",
      "Mass fraction lost:\n",
      "4.75%\n",
      "11.78%\n",
      "25.79%\n",
      "50.57%\n",
      "98.48%\n"
     ]
    }
   ],
   "source": [
    "print(f'M_ini: {M_ini/M_sun}\\n')\n",
    "\n",
    "print(f'log_L_divided_L_sun: {log_L_divided_L_sun}')\n",
    "print(f'L_divided_L_sun: {L_divided_L_sun}')\n",
    "print(f'L: {L}\\n')\n",
    "\n",
    "print(f'log_mass_loss: {log_mass_loss}')\n",
    "print(f'mass_loss: {mass_loss}\\n')\n",
    "\n",
    "print(f'log_tau_ms: {log_tau_ms}')\n",
    "print(f'tau_ms: {tau_ms}\\n')\n",
    "\n",
    "print('Units tau_ms are in years. Units mass loss are in solar mass per year:\\n')\n",
    "\n",
    "print('Mass fraction lost:')\n",
    "\n",
    "for i in range(len(mass_fraction)):\n",
    "    print(f'{mass_fraction[i]:.2f}%')      "
   ]
  },
  {
   "cell_type": "code",
   "execution_count": 58,
   "metadata": {},
   "outputs": [
    {
     "name": "stdout",
     "output_type": "stream",
     "text": [
      "[4.97250e+31 7.95600e+31 1.19340e+32 1.69065e+32 2.38680e+32]\n"
     ]
    }
   ],
   "source": [
    "print(M_ini)"
   ]
  },
  {
   "cell_type": "markdown",
   "metadata": {},
   "source": [
    "(b)  A star with an initial mass of 85 $M_\\odot$ on the zero age main sequence has a convective core that contains 83% of the mass. Calculate the time at which products of nuclear burning will appear at the surface. "
   ]
  },
  {
   "cell_type": "markdown",
   "metadata": {},
   "source": [
    "**Answer**: We can say that the products will appear at the surface when the mass that is lost is about 17 percent of the initial mass. So, this is basically exercise (a) but now the other way around."
   ]
  },
  {
   "cell_type": "code",
   "execution_count": 83,
   "metadata": {},
   "outputs": [
    {
     "name": "stdout",
     "output_type": "stream",
     "text": [
      "Time:\n",
      "958987.05 yr\n"
     ]
    }
   ],
   "source": [
    "mass_loss_percentage = 17\n",
    "\n",
    "time = mass_loss_percentage / mass_fraction[3] * tau_ms[3]\n",
    "\n",
    "print('Time:')\n",
    "print(f'{time:.2f} yr')"
   ]
  },
  {
   "cell_type": "markdown",
   "metadata": {},
   "source": [
    "# 1. Burning stages"
   ]
  },
  {
   "cell_type": "markdown",
   "metadata": {},
   "source": [
    "(a) Explain why the timescales of the burning stages from C-burning onward are very short compared to the H- and He-burning phases. "
   ]
  },
  {
   "cell_type": "markdown",
   "metadata": {},
   "source": [
    "**Answer**: Because C-burning and ontward occur at much higher temperatures. This means a  higher cross-section and a higher nuclear reaction rate, which means the fuel will be gone earlier w.r.t H- and He-burning and therefore the nuclear timescale will be shorter."
   ]
  }
 ],
 "metadata": {
  "kernelspec": {
   "display_name": "Python 3",
   "language": "python",
   "name": "python3"
  },
  "language_info": {
   "codemirror_mode": {
    "name": "ipython",
    "version": 3
   },
   "file_extension": ".py",
   "mimetype": "text/x-python",
   "name": "python",
   "nbconvert_exporter": "python",
   "pygments_lexer": "ipython3",
   "version": "3.6.5"
  }
 },
 "nbformat": 4,
 "nbformat_minor": 2
}
