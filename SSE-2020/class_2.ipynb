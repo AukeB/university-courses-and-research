{
 "cells": [
  {
   "cell_type": "markdown",
   "metadata": {},
   "source": [
    "# Stellar Structure and Evolution 2020"
   ]
  },
  {
   "cell_type": "markdown",
   "metadata": {},
   "source": [
    "## Practical Exercises"
   ]
  },
  {
   "cell_type": "markdown",
   "metadata": {},
   "source": [
    "### Class 2"
   ]
  },
  {
   "cell_type": "code",
   "execution_count": 2,
   "metadata": {},
   "outputs": [],
   "source": [
    "%run tools.ipynb # Import frequently used constants/functions."
   ]
  },
  {
   "cell_type": "markdown",
   "metadata": {},
   "source": [
    "# 1 - Conceptual questions"
   ]
  },
  {
   "cell_type": "markdown",
   "metadata": {},
   "source": [
    "(a) What do we mean by local thermodynamic equilibrium (LTE)? Why is this a good assumption for stellar interiors? What is the difference between LTE and thermal equilibrium? "
   ]
  },
  {
   "cell_type": "markdown",
   "metadata": {},
   "source": [
    "**Answer**: Since the core temparture of a star is much higher than the surface temperature, the star cannot be in global TE, but it is in LTE, local thermodynamic equilibrium. Local means at distance much smaller than $R_\\odot$, but significantly larger than te mean free path $l_\\text{ph}$. The temperature gradient in this small region is zero, however, it is not exactly zero, ofcourse there is an extremely small temperature gradient, which is enough to let the energy flow outwards."
   ]
  },
  {
   "cell_type": "markdown",
   "metadata": {},
   "source": [
    "(b) In what type of stars does degeneracy become important? Is it important in main-sequence stars? Is it more important in high mass or low mass MS stars? "
   ]
  },
  {
   "cell_type": "markdown",
   "metadata": {},
   "source": [
    "**Answer**: Degeneracy pressure only starts to play a role at low temperatures, so for low mass stars. Furthermore, as MS stars produce energy in their core, the temperature there is most of the time too high for degeneracy pressure to start play a role. For low mass stars it can play a role."
   ]
  },
  {
   "cell_type": "markdown",
   "metadata": {},
   "source": [
    "(c) Explain qualitatively why for degenerate maher, the pressure increases with the density. "
   ]
  },
  {
   "cell_type": "markdown",
   "metadata": {},
   "source": [
    "**Answer**: Because of the Pauli principle. If the density is higher, more paricles are in a volume, so higher states of momentum need to be assumed by particles, so the pressure increases."
   ]
  },
  {
   "cell_type": "markdown",
   "metadata": {},
   "source": [
    "(d) Why do electrons become relativistic when they are compressed into a smaller volume? Why does the pressure increase less steeply with the density in this case? "
   ]
  },
  {
   "cell_type": "markdown",
   "metadata": {},
   "source": [
    "**Answer**: Again, the Pauli principle. It increases less steeply in the relativistic case because of the $gamma$ factor: $p = \\gamma m_0 v$"
   ]
  },
  {
   "cell_type": "markdown",
   "metadata": {},
   "source": [
    "# 2 - Mean molecular weight"
   ]
  },
  {
   "cell_type": "markdown",
   "metadata": {},
   "source": [
    "Derive a general expression for the mean molecular weight of an ionized gas, as a function of composition X, Y, Z. Assume that, for elements heavier than H, nuclei are composed of equal number of protons and neutrons, so that the nuclear charge Zi is half of the mass number Ai. "
   ]
  },
  {
   "cell_type": "markdown",
   "metadata": {},
   "source": [
    "<img src=\"figs/2_2.jpeg\" alt=\"hoi\" style=\"width: 600px;\"/>"
   ]
  },
  {
   "cell_type": "markdown",
   "metadata": {},
   "source": [
    "# 3 - The pressure of a gas of free particles"
   ]
  },
  {
   "cell_type": "markdown",
   "metadata": {},
   "source": [
    "Show that for a gas of free, non-relativistic particles $ P = 2/3 U $, where $U$ is the internal energy density. Show that in the extremely relativistic limit $P = 1/3 U $"
   ]
  },
  {
   "cell_type": "markdown",
   "metadata": {},
   "source": [
    "<img src=\"figs/2_3.jpeg\" alt=\"hoi\" style=\"width: 600px;\"/>"
   ]
  },
  {
   "cell_type": "markdown",
   "metadata": {},
   "source": [
    "# 4 -  Equations of state "
   ]
  },
  {
   "cell_type": "markdown",
   "metadata": {},
   "source": [
    "(a) Calculate the ratio of gas to radiation pressure at the center of the Sun. "
   ]
  },
  {
   "cell_type": "markdown",
   "metadata": {},
   "source": [
    "**Answer**:"
   ]
  },
  {
   "cell_type": "markdown",
   "metadata": {},
   "source": [
    "(b) Calculate the pressure of the electrons $P_e$ at the center of the Sun, first using the normal gas\n",
    "law and then assuming the electrons are degenerate. If Pe(degen) > Pe(normal gas), then the electrons in fact are degenerate. Based on your results, do you think that the electrons are the center are degenerate or not?"
   ]
  },
  {
   "cell_type": "markdown",
   "metadata": {},
   "source": [
    "**Answer**:"
   ]
  },
  {
   "cell_type": "markdown",
   "metadata": {},
   "source": [
    "(c) Under the assumption of an ideal gas equation of state, show that the mass-averaged temperature, \n",
    "\n",
    "$$ \\langle T \\rangle = \\frac{1}{M} \\int_0^M T dm $$\n",
    "\n",
    "is given by\n",
    "\n",
    "$$ \\langle T \\rangle = \\frac{1}{2} \\frac{\\mu m_h}{k_b} \\frac{GM}{R} $$\n",
    "\n",
    "hint: find $ \\langle T \\rangle $ as a function of the gravitational energy then use the viral theorem. "
   ]
  },
  {
   "cell_type": "markdown",
   "metadata": {},
   "source": [
    "**Answer**:"
   ]
  },
  {
   "cell_type": "markdown",
   "metadata": {},
   "source": [
    "# 5 - Degeneracy pressure"
   ]
  },
  {
   "cell_type": "markdown",
   "metadata": {},
   "source": [
    "(a) Explain the concept of degeneracy pressure. Give two examples where degeneracy is important in stellar interiors and explain why does it happen."
   ]
  },
  {
   "cell_type": "markdown",
   "metadata": {},
   "source": [
    "**Answer**: Degeneracy pressure is related to the Pauli exclusion principle. This principle states the following: \"Two or more identical fermions cannot occupy the same quantum state in the same quantum system simultaneously.\" Electrons, which are fermions with two spin states, i.e. $g_e = 2$, have therefore a maximum number density allowed by quantum mechanics which depend on the momentum $p$. The limitation imposed by the Pauli exclusion principle means taht electrons can exert a higher pressure than predicted by classical physics; electrons are forced to assume quantum sates iwth higher $p$, because the quantum states with lower $p$ are already occupied. Because of the higher momenta, there is a higher pressure. This is called *degeneracy pressure*. The pressure becomes independent of temperature.\n",
    "\n",
    "As a star contracts, the density may becomes so high that the electrons become degenerate and exert a much higher pressure than they would if they behaved classically. This pressure can hold the star up against gravity, regardless of the temperature. It can remain in this state forever even when it cools down, this is the case for White dwarfs. Degeneracy of neutrons becomes important when *neutron stars* are considered."
   ]
  },
  {
   "cell_type": "markdown",
   "metadata": {},
   "source": [
    "(b) Calculate the pressure of the electrons $P_e$ at the center of a white dwarf star. Assume the central density is 10 times the mean density, and the mass is 1.4 solar masses, the radius is 1e-2\n",
    "solar radii, the composition is pure He ($μ_e = 2$), and the central temperature is 5e6 K."
   ]
  },
  {
   "cell_type": "code",
   "execution_count": 8,
   "metadata": {},
   "outputs": [],
   "source": [
    "# Setup.\n",
    "M = 1.4 * M_sun\n",
    "R = 1e-2 * R_sun\n",
    "mu_e = 2\n",
    "T_c = 5e6\n",
    "rho_mean = M / (4/3 * np.pi * R**3)\n",
    "rho_c = 10 * rho_mean"
   ]
  },
  {
   "cell_type": "code",
   "execution_count": 9,
   "metadata": {},
   "outputs": [],
   "source": [
    "def P_e(rho):\n",
    "    return K_NR * (rho/mu_e)**(5/3)"
   ]
  },
  {
   "cell_type": "code",
   "execution_count": 10,
   "metadata": {},
   "outputs": [],
   "source": [
    "pressure_electron = P_e(rho_c)"
   ]
  },
  {
   "cell_type": "code",
   "execution_count": 12,
   "metadata": {},
   "outputs": [
    {
     "name": "stdout",
     "output_type": "stream",
     "text": [
      "pressure_electron: 4.54e+23\n"
     ]
    }
   ],
   "source": [
    "print(f'pressure_electron: {pressure_electron:.2e}')"
   ]
  }
 ],
 "metadata": {
  "kernelspec": {
   "display_name": "Python 3",
   "language": "python",
   "name": "python3"
  },
  "language_info": {
   "codemirror_mode": {
    "name": "ipython",
    "version": 3
   },
   "file_extension": ".py",
   "mimetype": "text/x-python",
   "name": "python",
   "nbconvert_exporter": "python",
   "pygments_lexer": "ipython3",
   "version": "3.6.5"
  }
 },
 "nbformat": 4,
 "nbformat_minor": 2
}
