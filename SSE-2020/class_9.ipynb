{
 "cells": [
  {
   "cell_type": "markdown",
   "metadata": {},
   "source": [
    "# Stellar Structure and Evolution 2020"
   ]
  },
  {
   "cell_type": "markdown",
   "metadata": {},
   "source": [
    "## Practical exercises - class 9"
   ]
  },
  {
   "cell_type": "markdown",
   "metadata": {},
   "source": [
    "# 1. Pre-main sequence stars - ZAMS"
   ]
  },
  {
   "cell_type": "markdown",
   "metadata": {},
   "source": [
    "(a) What is the Hayashi line? Why is it a line, in other words: why is there a whole range of possible luminosities for a star of a certain mass on the HL?"
   ]
  },
  {
   "cell_type": "markdown",
   "metadata": {},
   "source": [
    "**Answer**: The Hayashi line is an almost vertical line in the HR-diagram where stars are fully convective ($T_{eff}$ is constant). Pre-main sequence stars start their evolution from this line, but the Hayashi line is not exclusive to pre-main sequence stars, it is all for all kinds of stars, as long as they are fully convective. The region to the right of Hayashi line in the HDR is a forbidden region for stars in HE; $T_{eff}$ is lower there. The region to the left cannot be fully temperature and must have some portion of their interior in radiative equilibrium.\n",
    "\n",
    "That fact that it is almost a vertical line means that the star evolves in such a way that the luminosity changes (decreases for pre-MS stars), while the effective temperature stays constant. A star being fully convective can have a large range of luminosities, while having a constant effective temperature. This is the case because such stars can be said to be adiabatic, meaning that the temperature gradient is equal to $\\nabla_\\text{ad}$. An arbitrarily high energy flux can be carried by such a temperature gradient and therefore the luminosity of the star is independent of its structure, hence the vertical line."
   ]
  },
  {
   "cell_type": "markdown",
   "metadata": {},
   "source": [
    "(b) Why do no stars exist with a temperature cooler than that of the HL? What happens if a star would cross over to the cool side of the HL? "
   ]
  },
  {
   "cell_type": "markdown",
   "metadata": {},
   "source": [
    "**Answer**: The region to the right of Hayashi line in the HDR is a forbidden region for stars in HE; $T_{eff}$ is lower there. This would mean $\\nabla > \\nabla_\\text{ad}$ and the star must have a superadiabatic temperature gradient. This gives rise to a very large convective energy flux, which trasports heat outwards very rapidly, which has as a consequence that the temperature decreases, until $\\nabla$ equals $\\nabla_\\text{ad}$ again. So stars with a small deviation to the right will automatically be restructured back to the HL."
   ]
  },
  {
   "cell_type": "markdown",
   "metadata": {},
   "source": [
    "(c) Why is there a mass-luminosity relation for ZAMS stars? (In other words, why is there a unique luminosity for a star of a certain mass?) "
   ]
  },
  {
   "cell_type": "markdown",
   "metadata": {},
   "source": [
    "**Answer**: For ZAMS stars H-burning has just ignited. H-burning occurs in these stars at the moment a certain core temperature and pressure threshold has been surpassed. This threshold is the same for the stars with the same mass, therefore there is a relation between the mass and the luminosity of a ZAMS star. More massive stars have higher core temperatures, therefore higher nuclear reaction rate and a higher luminosity"
   ]
  },
  {
   "cell_type": "markdown",
   "metadata": {},
   "source": [
    "(d) What determines the shape of the ZAMS in the HR diagram?"
   ]
  },
  {
   "cell_type": "markdown",
   "metadata": {},
   "source": [
    "**Answer**: The mass of the star. More massive means higher graviational contraction force, higher temperature and higher pressure. Higher tempereature means higher opacity and higher nuclear reaction rate, which means higher luminosity."
   ]
  },
  {
   "cell_type": "markdown",
   "metadata": {},
   "source": [
    "(e) Use the homology relations for the luminosity and temperature of a star to derive how the central temperature in a star scales with mass, and find the dependence of $T_c$ on $M$ for the pp-chain and for the CNO-cycle. To make the result quantitative, use the fact that in the Sun with $ T \\approx 1.3 \\cdot 10^7 \\text{ K}$ the pp-chain dominates, and that the CNO-cycle dominates for masses $M > 1.3 M_{\\text{Sun}}$ (Why does the pp-chain dominate at low mass and the CNO-cycle at high mass?) "
   ]
  },
  {
   "cell_type": "markdown",
   "metadata": {},
   "source": [
    "**Answer**:"
   ]
  },
  {
   "cell_type": "markdown",
   "metadata": {},
   "source": [
    "<img src=\"figs/9_1.jpeg\" alt=\"hoi\" style=\"width: 600px;\"/>"
   ]
  },
  {
   "cell_type": "markdown",
   "metadata": {},
   "source": [
    "CNO cycle dominates at higher high mass because core temperature is higher and then there are more nuclear reactions happeningin in the CNO cycle compared to pp-chain. CNO-cycle has a higher coulomb barrier to break."
   ]
  },
  {
   "cell_type": "markdown",
   "metadata": {},
   "source": [
    "(f) Find the relation between $L$ and $M$ and the slope of the main sequence, assuming an opacity following Kramers law and that the energy generation rate per unit mass $ \\epsilon_{nuc} \\propto \\rho T^\\nu $, where $\\nu=4$"
   ]
  },
  {
   "cell_type": "markdown",
   "metadata": {},
   "source": [
    "**Answer**: "
   ]
  }
 ],
 "metadata": {
  "kernelspec": {
   "display_name": "Python 3",
   "language": "python",
   "name": "python3"
  },
  "language_info": {
   "codemirror_mode": {
    "name": "ipython",
    "version": 3
   },
   "file_extension": ".py",
   "mimetype": "text/x-python",
   "name": "python",
   "nbconvert_exporter": "python",
   "pygments_lexer": "ipython3",
   "version": "3.6.5"
  }
 },
 "nbformat": 4,
 "nbformat_minor": 2
}
