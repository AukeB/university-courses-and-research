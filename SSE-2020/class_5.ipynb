{
 "cells": [
  {
   "cell_type": "markdown",
   "metadata": {},
   "source": [
    "# Stellar Structure and Evolution 2020"
   ]
  },
  {
   "cell_type": "markdown",
   "metadata": {},
   "source": [
    "## Practical exercises - class 5"
   ]
  },
  {
   "cell_type": "code",
   "execution_count": 24,
   "metadata": {},
   "outputs": [],
   "source": [
    "%run tools.ipynb # Import frequently used constants/functions."
   ]
  },
  {
   "cell_type": "markdown",
   "metadata": {},
   "source": [
    "# 1. Conceptual questions"
   ]
  },
  {
   "cell_type": "markdown",
   "metadata": {},
   "source": [
    "(a) Why does convection lead to a net heat flux upwards, even though there is no net mass flux (upwards and downwards bubbles carry equal amounts of mass)?"
   ]
  },
  {
   "cell_type": "markdown",
   "metadata": {},
   "source": [
    "**Answer**: Convection arises when the temperature gradient has reached a certain value. The temperature at the top is lower than at the bottom, so the bubbles rise. When the bubbles have a pressure equal to their surrounding they disappear. This process transports energy/heat from deeper to upper zones, hence the heat flux."
   ]
  },
  {
   "cell_type": "markdown",
   "metadata": {},
   "source": [
    "(b) Explain the Schwarzschild criterion in simple physical terms (using Archimedes law) by drawing a schematic picture. Consider both cases $\\nabla_\\text{rad} > \\nabla_\\text{ad}$ and $\\nabla_\\text{rad} < \\nabla_\\text{ad}$. Which case leads to convection and why? "
   ]
  },
  {
   "cell_type": "markdown",
   "metadata": {},
   "source": [
    "**Answer**:T"
   ]
  },
  {
   "cell_type": "markdown",
   "metadata": {},
   "source": [
    "(c) What is meant by the superadiabaticity of a convective region? How is it related to the convective energy flux (qualitatively)? Why is it very small in the interior of a star, but can be large near the surface? "
   ]
  },
  {
   "cell_type": "markdown",
   "metadata": {},
   "source": [
    "**Answer**:"
   ]
  },
  {
   "cell_type": "markdown",
   "metadata": {},
   "source": [
    "(d) Low-mass stars, like the Sun, have convective envelopes. The fraction of the mass that is convective increases with decreasing mass. A 0.1 M star is completely convective. Can you qualitatively explain why? "
   ]
  },
  {
   "cell_type": "markdown",
   "metadata": {},
   "source": [
    "**Answer**:"
   ]
  },
  {
   "cell_type": "markdown",
   "metadata": {},
   "source": [
    "(e) Explain which are the simplifications "
   ]
  },
  {
   "cell_type": "markdown",
   "metadata": {},
   "source": [
    "**Answer**:"
   ]
  },
  {
   "cell_type": "markdown",
   "metadata": {},
   "source": [
    "# 2. Convection in stars"
   ]
  },
  {
   "cell_type": "markdown",
   "metadata": {},
   "source": [
    "(a) Determine if the energy transport is convective or radiative at two different locations ($ r = 0.242\n",
    "R_\\text{sun} $ and $ r = 0.67 R_\\text{sun}$) in a $ 5 M_\\text{sun} $ main sequence star. Use data of a $5M_\\text{sun}$ model in the table below. You may neglect the radiation pressure and assume that the mean molecular weight is $0.7$."
   ]
  },
  {
   "cell_type": "code",
   "execution_count": 4,
   "metadata": {},
   "outputs": [
    {
     "name": "stdout",
     "output_type": "stream",
     "text": [
      "1.989e+30\n"
     ]
    }
   ],
   "source": [
    "print(M_sun)"
   ]
  },
  {
   "cell_type": "markdown",
   "metadata": {},
   "source": [
    "![](figs/5_1.png)"
   ]
  },
  {
   "cell_type": "code",
   "execution_count": 6,
   "metadata": {},
   "outputs": [],
   "source": [
    "# Variables\n",
    "M = 5 * M_sun\n",
    "mu = 0.7\n",
    "\n",
    "r1 = 0.242 * R_sun\n",
    "r2 = 0.670 * R_sun\n",
    "\n",
    "m1 = 0.199 * M_sun\n",
    "m2 = 2.487 * M_sun\n",
    "\n",
    "l1 = 3.40e2 * L_sun\n",
    "l2 = 5.28e2 * L_sun\n",
    "\n",
    "T1 = 2.52e7\n",
    "T2 = 1.45e7\n",
    "\n",
    "rho1 = density_cgs2SI(18.77)\n",
    "rho2 = density_cgs2SI(6.91)\n",
    "\n",
    "kappa1 = opacity_cgs2SI(0.435)\n",
    "kappa2 = opacity_cgs2SI(0.585)\n",
    "\n",
    "# Values because of ideal gas.\n",
    "gamma_ad = 5/3\n",
    "chi_T = 1\n",
    "chi_rho = 1\n",
    "beta = 1"
   ]
  },
  {
   "cell_type": "code",
   "execution_count": 7,
   "metadata": {},
   "outputs": [],
   "source": [
    "def pres(T,mu,rho): # Ideal gas.\n",
    "    return 1 / mu * rho / m_u * k_b * T\n",
    "\n",
    "def grad_rad(P,T,kappa,l,m):\n",
    "    return 3 / (16 * np.pi * a * c * G) * P / T**4 * kappa * l / m\n",
    "\n",
    "def grad_ad(gamma_ad,chi_rho,chi_T):\n",
    "    return (gamma_ad - chi_rho) / (gamma_ad * chi_T)"
   ]
  },
  {
   "cell_type": "code",
   "execution_count": 8,
   "metadata": {},
   "outputs": [
    {
     "name": "stdout",
     "output_type": "stream",
     "text": [
      "Adiabatic gradient: 0.4\n",
      "Situation 1: radiative gradient: 0.7856692225867342\n",
      "Situation 2: radiative gradient: 0.2537172741224181\n",
      "Situation 1: Convection occurs: True\n",
      "Situation 2: Convection occurs: False\n"
     ]
    }
   ],
   "source": [
    "P1 = pres(T1,mu,rho1)\n",
    "P2 = pres(T2,mu,rho2)\n",
    "\n",
    "grad_rad1 = grad_rad(P1,T1,kappa1,l1,m1)\n",
    "grad_rad2 = grad_rad(P2,T2,kappa2,l2,m2)\n",
    "\n",
    "grad_ad_val = grad_ad(gamma_ad,chi_rho,chi_T)\n",
    "\n",
    "print(f'Adiabatic gradient: {grad_ad_val}')\n",
    "print(f'Situation 1: radiative gradient: {grad_rad1}')\n",
    "print(f'Situation 2: radiative gradient: {grad_rad2}')\n",
    "\n",
    "print(f'Situation 1: Convection occurs: {grad_rad1 > grad_ad_val}')\n",
    "print(f'Situation 2: Convection occurs: {grad_rad2 > grad_ad_val}')"
   ]
  },
  {
   "cell_type": "markdown",
   "metadata": {},
   "source": [
    "**Answer**:"
   ]
  },
  {
   "cell_type": "markdown",
   "metadata": {},
   "source": [
    "(b) Estimate the velocity of convective cells inside the Sun. Explain the assumptions made to reach the value. "
   ]
  },
  {
   "cell_type": "code",
   "execution_count": 52,
   "metadata": {},
   "outputs": [
    {
     "ename": "SyntaxError",
     "evalue": "unexpected EOF while parsing (<ipython-input-52-1d47b052a13a>, line 4)",
     "output_type": "error",
     "traceback": [
      "\u001b[0;36m  File \u001b[0;32m\"<ipython-input-52-1d47b052a13a>\"\u001b[0;36m, line \u001b[0;32m4\u001b[0m\n\u001b[0;31m    \u001b[0m\n\u001b[0m    ^\u001b[0m\n\u001b[0;31mSyntaxError\u001b[0m\u001b[0;31m:\u001b[0m unexpected EOF while parsing\n"
     ]
    }
   ],
   "source": [
    "H_p = P\n",
    "\n",
    "def vel_convec():\n",
    "    "
   ]
  },
  {
   "cell_type": "markdown",
   "metadata": {},
   "source": [
    "**Answer**:"
   ]
  },
  {
   "cell_type": "markdown",
   "metadata": {},
   "source": [
    "(c) Using the value obtained in (b), calculate the timescale on which a region of radial size d = qR is mixed (the timescale will be found in terms with q). "
   ]
  },
  {
   "cell_type": "markdown",
   "metadata": {},
   "source": [
    "**Answer**:"
   ]
  },
  {
   "cell_type": "markdown",
   "metadata": {},
   "source": [
    "# 3. Nuclear reactions"
   ]
  },
  {
   "cell_type": "markdown",
   "metadata": {},
   "source": [
    "(a) The net result of hydrogen burning can be written as: \n",
    "\n",
    "$$ 4\\text{H} \\rightarrow \\text{He} + 2e^\\text{+} + 2\\nu $$\n",
    "\n",
    "Estimate the percentage of the initial mass that is transformed into energy in that reaction. Calculate the energy in eV obtained from hydrogen burning. Explain every step taken in the calculation."
   ]
  },
  {
   "cell_type": "code",
   "execution_count": 76,
   "metadata": {},
   "outputs": [
    {
     "name": "stdout",
     "output_type": "stream",
     "text": [
      "Mass LHS: 4.031299470562282 u\n",
      "Mass RHS: 4.002602598491151 u\n",
      "\n",
      "Ratio: 1 : 0.0071185165678422525\n",
      "Percentage: 0.712 %\n",
      "\n",
      "Energy: 26.730967815084416 MeV\n"
     ]
    }
   ],
   "source": [
    "m_H = m_p + m_e\n",
    "m_lhs = 4 * m_H\n",
    "\n",
    "m_rhs = m_alpha + 2*m_e\n",
    "dif = m_lhs-m_rhs\n",
    "energy = dif * c**2 / (10**6 * eV)\n",
    "\n",
    "print(f'Mass LHS: {m_lhs/m_u} u\\nMass RHS: {m_rhs/m_u} u')\n",
    "print(f'\\nRatio: 1 : {(dif)/m_lhs}')\n",
    "print(f'Percentage: {dif/m_lhs*100:.3f} %')\n",
    "print(f'\\nEnergy: {energy} MeV')"
   ]
  },
  {
   "cell_type": "markdown",
   "metadata": {},
   "source": [
    "(b) Using the result of (a), estimate the total time in years that the Sun will spend in the MS (assume that the Sun is made of pure H). Explain every step and assumption made in the calculation"
   ]
  },
  {
   "cell_type": "code",
   "execution_count": 100,
   "metadata": {},
   "outputs": [
    {
     "name": "stdout",
     "output_type": "stream",
     "text": [
      "Number of Hydrogen atoms: 1.1885039308164913e+57\n",
      "Number of reactions needed: 2.9712598270412284e+56\n",
      "\n",
      "Luminosity of the sun: 3.828e+26\n",
      "Energy of one reaction in joule: 4.28277301930975e-12\n",
      "Ratio (Number of reactions per second): 8.938134201230573e+37\n",
      "\n",
      "Total time: 105.33914595354382 Myr\n"
     ]
    }
   ],
   "source": [
    "# Assume the total mass of the Sun is made of pure hydrogen atoms. How many atoms will this give?\n",
    "n_h_atoms = M_sun/(m_p+m_e)\n",
    "print(f'Number of Hydrogen atoms: {n_h_atoms}')\n",
    "\n",
    "# This will need this amount of reactions to convert all hydrogen.\n",
    "n_reactions = n_h_atoms / 4\n",
    "print(f'Number of reactions needed: {n_reactions}')\n",
    "\n",
    "# Luminostiy of the sun\n",
    "print(f'\\nLuminosity of the sun: {L_sun}')\n",
    "\n",
    "# Energy of one reaction released in Joule/s (W)\n",
    "energy_joule = energy * (10**6*eV)\n",
    "print(f'Energy of one reaction in joule: {energy_joule}')\n",
    "\n",
    "# Ratio\n",
    "ratio = L_sun / energy_joule\n",
    "print(f'Ratio (Number of reactions per second): {ratio}')\n",
    "\n",
    "# Total time\n",
    "total_time = n_reactions / ratio / yr / 1e9\n",
    "print(f'\\nTotal time: {total_time} Myr')"
   ]
  },
  {
   "cell_type": "markdown",
   "metadata": {},
   "source": [
    "**Assumptions**:\n",
    " - Pure hydrogen star\n",
    " - Homogeneous reaction rate throughout the 100 billion years.\n",
    " - Constant luminosity over time\n",
    " - The sun will not enter Helium or other burning phases"
   ]
  },
  {
   "cell_type": "markdown",
   "metadata": {},
   "source": [
    "The fact that it is known that the Sun will not live for 100 billion years but rather 10 times as short, tells us that not only Hydrogen burning will occur, that the Sun will not be in MS phases all its life and that other reaction chains will decrease our calculated lifetime."
   ]
  }
 ],
 "metadata": {
  "kernelspec": {
   "display_name": "Python 3",
   "language": "python",
   "name": "python3"
  },
  "language_info": {
   "codemirror_mode": {
    "name": "ipython",
    "version": 3
   },
   "file_extension": ".py",
   "mimetype": "text/x-python",
   "name": "python",
   "nbconvert_exporter": "python",
   "pygments_lexer": "ipython3",
   "version": "3.6.5"
  }
 },
 "nbformat": 4,
 "nbformat_minor": 2
}
