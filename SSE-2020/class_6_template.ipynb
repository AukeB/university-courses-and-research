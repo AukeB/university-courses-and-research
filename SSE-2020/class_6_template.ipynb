{
 "cells": [
  {
   "cell_type": "markdown",
   "metadata": {},
   "source": [
    "# Stellar Structure and Evolution 2020"
   ]
  },
  {
   "cell_type": "markdown",
   "metadata": {},
   "source": [
    "## Practical exercises - class 6"
   ]
  },
  {
   "cell_type": "markdown",
   "metadata": {},
   "source": [
    "# 1. Nuclear Reactions - Hydrogen Burning"
   ]
  },
  {
   "cell_type": "markdown",
   "metadata": {},
   "source": [
    "(a) Calculate the energy released per reaction in MeV (the Q -value) for the three reactions in the pp1 chain."
   ]
  },
  {
   "cell_type": "markdown",
   "metadata": {},
   "source": [
    "**Answer**:"
   ]
  },
  {
   "cell_type": "markdown",
   "metadata": {},
   "source": [
    "(b) What is the total effective Q -value for the conversion of four 1H nuclei into 4He by the pp1 chain? Note that in the first reaction (1H + 1H —> 2H + e+ + ) a neutrino is released with (on average) an energy of 0.263 MeV. "
   ]
  },
  {
   "cell_type": "markdown",
   "metadata": {},
   "source": [
    "**Answer**:"
   ]
  },
  {
   "cell_type": "markdown",
   "metadata": {},
   "source": [
    "(c) Will the answer you get in (a) be different for the pp2 chain, the pp3 chain or the CNO cycle? If so, why? If not, why not?"
   ]
  },
  {
   "cell_type": "markdown",
   "metadata": {},
   "source": [
    "**Answer**:"
   ]
  },
  {
   "cell_type": "markdown",
   "metadata": {},
   "source": [
    "# 2. Helium Burning"
   ]
  },
  {
   "cell_type": "markdown",
   "metadata": {},
   "source": [
    "(a) Calculate the energy released per gram for He burning by the 3 reaction and the 12C + reaction, if the final result is a mixture of 50ti carbon and 50ti oxygen (by mass fraction)."
   ]
  },
  {
   "cell_type": "markdown",
   "metadata": {},
   "source": [
    "**Answer**:"
   ]
  },
  {
   "cell_type": "markdown",
   "metadata": {},
   "source": [
    "(b) Compare the answer to that for H-burning. How is this related to the duration of the Heburning phase, compared to the main-sequence phase?"
   ]
  },
  {
   "cell_type": "markdown",
   "metadata": {},
   "source": [
    "**Answer**:"
   ]
  },
  {
   "cell_type": "markdown",
   "metadata": {},
   "source": [
    "# 3. Nuclear Reactions and the 3rd equation of stellar structure "
   ]
  },
  {
   "cell_type": "markdown",
   "metadata": {},
   "source": [
    "(a) Consider a H-burning star of mass 3Msun, with a luminosity L of 80Lsun, and an initial composition X=0.7 and Z=0.02. The nuclear energy is generated only in the central 10ti of the mass, and the energy generation rate per unit mass, $\\epsilon_\\text{nuc}$ , depends on the mass coordinate as\n",
    "\n",
    "$$ \\epsilon_\\text{nuc} = \\epsilon_c \\bigg( 1 - \\frac{m}{0.1 M} \\bigg) $$\n",
    "\n",
    "Calculate and draw the luminosity profile, l , as a function of the mass, m . Express $\\epsilon_\\text{nuc}$ in terms of the known quantities for the star. "
   ]
  },
  {
   "cell_type": "markdown",
   "metadata": {},
   "source": [
    "**Answer**:"
   ]
  },
  {
   "cell_type": "markdown",
   "metadata": {},
   "source": [
    "(b)  Assume that all the energy is transported by radiation. Calculate the H-abundance as a function of mass and time, $X = X (m,t)$. What is the central value for X after 100 Myr? Draw X as a function of m . (Hint: the energy generation per unit mass is. $ Q = 6.3 \\cdot 10^{18} \\text{ erg g}^{1} $"
   ]
  },
  {
   "cell_type": "markdown",
   "metadata": {},
   "source": [
    "**Answer**:"
   ]
  },
  {
   "cell_type": "markdown",
   "metadata": {},
   "source": [
    "# 4. Conceptual questions. General understanding of stellar evolution equations."
   ]
  },
  {
   "cell_type": "markdown",
   "metadata": {},
   "source": [
    "(a) The 5 differential equations of stellar structure describe, for a certain location in the star at mass coordinate m, the behaviour of and relations between radius coordinate r, the pressure P, the temperature T, the luminosity l and the mass fractions Xi of the various elements i. "
   ]
  },
  {
   "cell_type": "markdown",
   "metadata": {},
   "source": [
    "**Answer**:"
   ]
  },
  {
   "cell_type": "markdown",
   "metadata": {},
   "source": [
    "(b) Which of these equations describe the mechanical structure, which describe the thermalenergetic structure and which describe the composition?"
   ]
  },
  {
   "cell_type": "markdown",
   "metadata": {},
   "source": [
    "**Answer**:"
   ]
  },
  {
   "cell_type": "markdown",
   "metadata": {},
   "source": [
    "(c) What does $\\nabla$ represent? Which two cases do we distinguish? "
   ]
  },
  {
   "cell_type": "markdown",
   "metadata": {},
   "source": [
    "**Answer**:"
   ]
  },
  {
   "cell_type": "markdown",
   "metadata": {},
   "source": [
    "(d) How does the set of equations simplify when we assume hydrostatic equilibrium (HE)? If we assume HE, which equation introduces a time dependence? Which physical effect does this time dependence represent? "
   ]
  },
  {
   "cell_type": "markdown",
   "metadata": {},
   "source": [
    "**Answer**:"
   ]
  },
  {
   "cell_type": "markdown",
   "metadata": {},
   "source": [
    "(e) What do the terms $\\epsilon_\\text{nuc}$ and $T \\frac{\\partial s}{\\partial t}$ represent? "
   ]
  },
  {
   "cell_type": "markdown",
   "metadata": {},
   "source": [
    "**Answer**:"
   ]
  },
  {
   "cell_type": "markdown",
   "metadata": {},
   "source": [
    "(f) How does the set of equations simplify if we also assume thermal equilibrium (TE)? Which equation introduces a time dependence in TE?"
   ]
  },
  {
   "cell_type": "markdown",
   "metadata": {},
   "source": [
    "**Answer**:"
   ]
  }
 ],
 "metadata": {
  "kernelspec": {
   "display_name": "Python 3",
   "language": "python",
   "name": "python3"
  },
  "language_info": {
   "codemirror_mode": {
    "name": "ipython",
    "version": 3
   },
   "file_extension": ".py",
   "mimetype": "text/x-python",
   "name": "python",
   "nbconvert_exporter": "python",
   "pygments_lexer": "ipython3",
   "version": "3.6.5"
  }
 },
 "nbformat": 4,
 "nbformat_minor": 2
}
