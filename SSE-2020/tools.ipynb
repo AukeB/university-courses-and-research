{
 "cells": [
  {
   "cell_type": "code",
   "execution_count": 7,
   "metadata": {},
   "outputs": [],
   "source": [
    "# Imports\n",
    "import numpy as np\n",
    "import matplotlib.pyplot as plt"
   ]
  },
  {
   "cell_type": "code",
   "execution_count": 12,
   "metadata": {},
   "outputs": [],
   "source": [
    "# Physical constants.\n",
    "G = 6.67408e-11 # Gravitational constant, m3 kg-1 s-2\n",
    "c = 2.99792458e8 # Speed of light, m s-1\n",
    "h = 6.62607004e-34 # Planck constant, m2 kg s-1\n",
    "k_b = 1.38064852e-23 # Boltzmann constant, m2 kg s-2 K-1\n",
    "a = 8 * np.pi**5 * k_b**4 / (15 * h**3 * c**3) # Radiation density constant, J m-3 K-4\n",
    "sigma = 1 / 4 * a * c # Stefan-Boltzmann constant, J m-2 s-1 K -4\n",
    "m_u = 1.66053904e-27 # Atomic mass unit, kg\n",
    "N_A = 1 / m_u # Avogadro's number, kg-1\n",
    "R = k_b / m_u # Gas constant, m2 s-2 K-1\n",
    "eV = 1.602176565e-19 # Electron volt, J\n",
    "m_e = 9.109382e-31 # Electron mass, kg\n",
    "m_p = 1.6726216e-27 # Proton mass, kg\n",
    "m_n = 1.6749272e-27 # Neutron mass, kg\n",
    "m_alpha = 6.6446562e-27 # Alpha-particle mass, kg"
   ]
  },
  {
   "cell_type": "code",
   "execution_count": 9,
   "metadata": {},
   "outputs": [],
   "source": [
    "# Astronomical constants.\n",
    "R_sun = 6.96340e8 #m\n",
    "M_sun = 1.989e30 #kg\n",
    "L_sun = 3.828e26 #W\n",
    "T_eff_sun = 5.778e3 #K\n",
    "yr = 3.15576e7 #s\n",
    "AU = 1.49597871e11 #m\n",
    "pc = 3.085678e16 #m"
   ]
  },
  {
   "cell_type": "code",
   "execution_count": 10,
   "metadata": {},
   "outputs": [],
   "source": [
    "# Unit transformation functions.\n",
    "def density_cgs2SI(x):\n",
    "    return x * 10**3\n",
    "\n",
    "def opacity_cgs2SI(x):\n",
    "    return x * 10**-1"
   ]
  }
 ],
 "metadata": {
  "kernelspec": {
   "display_name": "Python 3",
   "language": "python",
   "name": "python3"
  },
  "language_info": {
   "codemirror_mode": {
    "name": "ipython",
    "version": 3
   },
   "file_extension": ".py",
   "mimetype": "text/x-python",
   "name": "python",
   "nbconvert_exporter": "python",
   "pygments_lexer": "ipython3",
   "version": "3.6.5"
  }
 },
 "nbformat": 4,
 "nbformat_minor": 2
}
