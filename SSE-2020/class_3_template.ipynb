{
 "cells": [
  {
   "cell_type": "markdown",
   "metadata": {},
   "source": [
    "# Stellar Structure and Evolution 2020"
   ]
  },
  {
   "cell_type": "markdown",
   "metadata": {},
   "source": [
    "## Practical Exercises"
   ]
  },
  {
   "cell_type": "markdown",
   "metadata": {},
   "source": [
    "### Class 3"
   ]
  },
  {
   "cell_type": "markdown",
   "metadata": {},
   "source": [
    "1. The Lane-Emden equation"
   ]
  },
  {
   "cell_type": "markdown",
   "metadata": {},
   "source": [
    "Solve the Lane-Emden equation analytically for the cases n = 0 and n = 1. "
   ]
  },
  {
   "cell_type": "markdown",
   "metadata": {},
   "source": [
    "**Answer**:"
   ]
  },
  {
   "cell_type": "markdown",
   "metadata": {},
   "source": [
    "2. Polytropic models"
   ]
  },
  {
   "cell_type": "markdown",
   "metadata": {},
   "source": [
    "a) Explain what a polytropic model is. Thinking on the differential equations of stellar evolution, explain why polytropes are useful for understanding stellar interiors. Give one example of a polytrope that is used to model stellar structures."
   ]
  },
  {
   "cell_type": "markdown",
   "metadata": {},
   "source": [
    "**Answer**:"
   ]
  },
  {
   "cell_type": "markdown",
   "metadata": {},
   "source": [
    "(b) Derive $K$ and $n$ for the equation of state of an ideal gas at a fixed temperature. "
   ]
  },
  {
   "cell_type": "markdown",
   "metadata": {},
   "source": [
    "**Answer**:"
   ]
  },
  {
   "cell_type": "markdown",
   "metadata": {},
   "source": [
    "(c) Using the Lane-Emden equation, show that the mass distribution in a polytropic star (in general) is given by:\n",
    "\n",
    "$$ m(z) = \\int_0^{\\alpha z} 4 \\pi r^2 \\rho dr = -4 \\pi \\alpha^3 \\rho_c z^2 \\frac{dw}{dz} $$\n",
    "\n",
    "and show that this yields to the following equation for the total mass of a polytrope:\n",
    "\n",
    "$$ M = 4 \\pi \\alpha^3 \\rho_c \\Theta_n = 4 \\pi \\bigg[ \\frac{(n+1)K}{4 \\pi G} \\bigg]^\\frac{3}{2} \\rho_c^{\\frac{3-n}{2n}} \\Theta_n $$\n",
    "\n",
    "where we defined $\\Theta_n$ as\n",
    "\n",
    "$$ \\Theta_n = \\Big( -z^2 \\frac{dw}{dz} \\Big)_{z=z_n} $$"
   ]
  },
  {
   "cell_type": "markdown",
   "metadata": {},
   "source": [
    "**Answer**:"
   ]
  },
  {
   "cell_type": "markdown",
   "metadata": {},
   "source": [
    "(d) Derive the expressions for the central density and the central pressure as function of mass and radius of polytopes in general (for a given K and n). "
   ]
  },
  {
   "cell_type": "markdown",
   "metadata": {},
   "source": [
    "**Answer**:"
   ]
  },
  {
   "cell_type": "markdown",
   "metadata": {},
   "source": [
    "(e) Calculate points (c) and (d) for the polytope found in (b). "
   ]
  },
  {
   "cell_type": "markdown",
   "metadata": {},
   "source": [
    "**Answer**:"
   ]
  },
  {
   "cell_type": "markdown",
   "metadata": {},
   "source": [
    "3. Polytropic models applied to white dwarfs"
   ]
  },
  {
   "cell_type": "markdown",
   "metadata": {},
   "source": [
    "(a) Considering the equation of state for a degenerate, non-relativistic electron gas, derive how the central density depends on the mass of the white dwarf. "
   ]
  },
  {
   "cell_type": "markdown",
   "metadata": {},
   "source": [
    "**Answer**:"
   ]
  },
  {
   "cell_type": "markdown",
   "metadata": {},
   "source": [
    "(b) Derive the mass-radius relationship for these stars. "
   ]
  },
  {
   "cell_type": "markdown",
   "metadata": {},
   "source": [
    "**Answer**:"
   ]
  },
  {
   "cell_type": "markdown",
   "metadata": {},
   "source": [
    "(c) Show that the derivation of a $R = R(M)$ relation for the extreme relativistic case leads to a unique mass, the so-called Chandrasekhar mass. Calculate its value. "
   ]
  },
  {
   "cell_type": "markdown",
   "metadata": {},
   "source": [
    "**Answer**:"
   ]
  },
  {
   "cell_type": "markdown",
   "metadata": {},
   "source": [
    "(d) Evaluate the limiting mass for a neutron star, the Oppenheimer-Volkoff limit. Indicate the values of $\\mu_e$ and of the particle mass that you use (do some research about it). "
   ]
  },
  {
   "cell_type": "markdown",
   "metadata": {},
   "source": [
    "**Answer**:"
   ]
  },
  {
   "cell_type": "markdown",
   "metadata": {},
   "source": [
    "(e) What happens when $n=1$? Derive the unique radius in this case. "
   ]
  },
  {
   "cell_type": "markdown",
   "metadata": {},
   "source": [
    "**Answer**:"
   ]
  },
  {
   "cell_type": "markdown",
   "metadata": {},
   "source": [
    "4. Polytropic models: Eddington's standard model"
   ]
  },
  {
   "cell_type": "markdown",
   "metadata": {},
   "source": [
    "(a) The structure of the sun can be approximated by a polytrope of index 3, also known as the Eddington model. Show that the gravitational potential $\\phi_r$ for this model can be written as\n",
    "\n",
    "$$ \\phi(r) = -4 \\frac{P(r)}{\\rho(r)} - C $$\n",
    "\n",
    "where $C$ is a positive constant independent of $r$. Also determine the value of $C$."
   ]
  },
  {
   "cell_type": "markdown",
   "metadata": {},
   "source": [
    "**Answer**:"
   ]
  },
  {
   "cell_type": "markdown",
   "metadata": {},
   "source": [
    "(b) The virial theorem states that\n",
    "\n",
    "$$ \\int_0^M \\frac{P}{\\rho} dm = - \\frac{1}{3} \\Omega(M) $$\n",
    "\n",
    "Using this with the result from point (a), determine the total gravitational potential energy for such a star"
   ]
  },
  {
   "cell_type": "markdown",
   "metadata": {},
   "source": [
    "**Answer**:"
   ]
  },
  {
   "cell_type": "markdown",
   "metadata": {},
   "source": [
    "(c) Show that for constant the virial theorem leads to\n",
    "\n",
    "$$ E_{tot} = \\frac{\\beta}{2} E_{gr} = - \\frac{\\beta}{2-\\beta} E_{int} $$\n",
    "\n",
    "for a classical, non-relativistic gas. What happens in the limits $\\beta$ —> 1 and $\\beta$ —> 0? "
   ]
  },
  {
   "cell_type": "markdown",
   "metadata": {},
   "source": [
    "**Answer**:"
   ]
  },
  {
   "cell_type": "markdown",
   "metadata": {},
   "source": [
    "(d) Use the results from above and the fact that the mass of an $n = 3$ polytrope is uniquely determined by $K$, to derive the relation $M = M(\\beta,\\mu). This is useful for numerically solving the amount of radiation pressure for a star with a given mass. "
   ]
  },
  {
   "cell_type": "markdown",
   "metadata": {},
   "source": [
    "**Answer**:"
   ]
  }
 ],
 "metadata": {
  "kernelspec": {
   "display_name": "Python 3",
   "language": "python",
   "name": "python3"
  },
  "language_info": {
   "codemirror_mode": {
    "name": "ipython",
    "version": 3
   },
   "file_extension": ".py",
   "mimetype": "text/x-python",
   "name": "python",
   "nbconvert_exporter": "python",
   "pygments_lexer": "ipython3",
   "version": "3.6.5"
  }
 },
 "nbformat": 4,
 "nbformat_minor": 2
}
